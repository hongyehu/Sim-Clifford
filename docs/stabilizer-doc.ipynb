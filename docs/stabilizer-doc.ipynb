{
 "cells": [
  {
   "cell_type": "code",
   "execution_count": 106,
   "metadata": {},
   "outputs": [
    {
     "name": "stdout",
     "output_type": "stream",
     "text": [
      "The autoreload extension is already loaded. To reload it, use:\n",
      "  %reload_ext autoreload\n"
     ]
    }
   ],
   "source": [
    "%load_ext autoreload\n",
    "%autoreload 2\n",
    "from context import *"
   ]
  },
  {
   "cell_type": "markdown",
   "metadata": {},
   "source": [
    "# Stablizer Formalism (`stabilizer`)"
   ]
  },
  {
   "cell_type": "markdown",
   "metadata": {},
   "source": [
    "## General Idea: State-Map Duality"
   ]
  },
  {
   "cell_type": "markdown",
   "metadata": {},
   "source": [
    "Every stabilizer state $\\rho$ is dual to a Clifford unitary $U$, such that the state can be generated from the zero state $|00\\cdots0\\rangle$ as\n",
    "$$\\rho = U|00\\cdots0\\rangle\\langle 00\\cdots0|U^\\dagger$$.\n",
    "Both $\\rho$ and $U$ describes a stabilizer code:\n",
    "* $\\rho$ is a projection operator that specifies the code subspace of the stabilizer code.\n",
    "* $U$ is the encoding Clifford unitary that encodes the logical + syndrome qubits to the physical qubits in the stabilizer code.\n",
    "\n",
    "The package `stabilizer` (based on `paulialg`) provides related functions to represent stabilizer states and Clifford maps. There are two classes defined in this package.\n",
    "\n",
    "* `stabilizer.CliffordMap`. Since the Clifford unitary $U$ maps Pauli operators to Pauli operators, it is sufficient to specify a Clifford unitary by how each single-qubit Pauli operator transforms under the unitary. Such transformation rules are stored in a table called the Clifford map.\n",
    "\n",
    "* `stabilizer.StabilizerState`. The stabilizer state is specified by a set of **stabilizers** and the corresponding **destabilizers**. Using the binary representation of Pauli operators, they can be stored in a table, called the stabilizer tableau. \n",
    "\n",
    "Since both classes need to store a table of Pauli operators, they are both realized as subclasses of `paulialg.PauliList`."
   ]
  },
  {
   "cell_type": "markdown",
   "metadata": {},
   "source": [
    "## Basic Usage"
   ]
  },
  {
   "cell_type": "markdown",
   "metadata": {},
   "source": [
    "### Constructors"
   ]
  },
  {
   "cell_type": "markdown",
   "metadata": {},
   "source": [
    "#### Construct Clifford Maps"
   ]
  },
  {
   "cell_type": "markdown",
   "metadata": {},
   "source": [
    "`identity_map(N)` constructs an identity Clifford map on $N$ qubits."
   ]
  },
  {
   "cell_type": "code",
   "execution_count": 2,
   "metadata": {},
   "outputs": [
    {
     "data": {
      "text/plain": [
       "CliffordMap(\n",
       "  X0-> +XIII\n",
       "  Z0-> +ZIII\n",
       "  X1-> +IXII\n",
       "  Z1-> +IZII\n",
       "  X2-> +IIXI\n",
       "  Z2-> +IIZI\n",
       "  X3-> +IIIX\n",
       "  Z3-> +IIIZ)"
      ]
     },
     "execution_count": 2,
     "metadata": {},
     "output_type": "execute_result"
    }
   ],
   "source": [
    "stabilizer.identity_map(4)"
   ]
  },
  {
   "cell_type": "markdown",
   "metadata": {},
   "source": [
    "`random_pauli_map(N)` samples a random Clifford map made of random single-qubit Clifford gates on $N$ qubits, i.e. $U=\\prod_i U_i\\in\\mathrm{Cl}(2)^N$. Each realization specifies a random local Pauli basis."
   ]
  },
  {
   "cell_type": "code",
   "execution_count": 3,
   "metadata": {},
   "outputs": [
    {
     "data": {
      "text/plain": [
       "CliffordMap(\n",
       "  X0-> +ZIII\n",
       "  Z0-> -XIII\n",
       "  X1-> +IYII\n",
       "  Z1-> -IZII\n",
       "  X2-> +IIYI\n",
       "  Z2-> -IIZI\n",
       "  X3-> +IIIZ\n",
       "  Z3-> +IIIY)"
      ]
     },
     "execution_count": 3,
     "metadata": {},
     "output_type": "execute_result"
    }
   ],
   "source": [
    "stabilizer.random_pauli_map(4)"
   ]
  },
  {
   "cell_type": "markdown",
   "metadata": {},
   "source": [
    "`random_clifford_map(N)` samples a globally random Clifford map on $N$ qubits, i.e. $U\\in\\mathrm{Cl}(2^N)$. Each realization specifies a random global stabilizer basis."
   ]
  },
  {
   "cell_type": "code",
   "execution_count": 4,
   "metadata": {},
   "outputs": [
    {
     "data": {
      "text/plain": [
       "CliffordMap(\n",
       "  X0-> -YXII\n",
       "  Z0-> -ZXII\n",
       "  X1-> +XZXY\n",
       "  Z1-> +XZZY\n",
       "  X2-> -IXIZ\n",
       "  Z2-> +XYYI\n",
       "  X3-> -XYIX\n",
       "  Z3-> -IIYZ)"
      ]
     },
     "execution_count": 4,
     "metadata": {},
     "output_type": "execute_result"
    }
   ],
   "source": [
    "stabilizer.random_clifford_map(4)"
   ]
  },
  {
   "cell_type": "markdown",
   "metadata": {},
   "source": [
    "`clifford_rotation_map(N)` constructs a Clifford map based for a Clifford rotation given its generator."
   ]
  },
  {
   "cell_type": "code",
   "execution_count": 5,
   "metadata": {},
   "outputs": [
    {
     "data": {
      "text/plain": [
       "CliffordMap(\n",
       "  X0-> +XIII\n",
       "  Z0-> +YXYZ\n",
       "  X1-> +IXII\n",
       "  Z1-> +XYYZ\n",
       "  X2-> +XXZZ\n",
       "  Z2-> -XXXZ\n",
       "  X3-> -XXYY\n",
       "  Z3-> +IIIZ)"
      ]
     },
     "execution_count": 5,
     "metadata": {},
     "output_type": "execute_result"
    }
   ],
   "source": [
    "stabilizer.clifford_rotation_map('-XXYZ')"
   ]
  },
  {
   "cell_type": "markdown",
   "metadata": {},
   "source": [
    "#### Construct Stabilizer States"
   ]
  },
  {
   "cell_type": "markdown",
   "metadata": {},
   "source": [
    "`maximally_mixed_state(N)` constructs a $N$-qubit maximally mixed state (by setting the density matrix to full rank).\n",
    "$$\\rho=2^{-N}\\mathbb{1}.$$"
   ]
  },
  {
   "cell_type": "code",
   "execution_count": 9,
   "metadata": {},
   "outputs": [
    {
     "data": {
      "text/plain": [
       "StabilizerState()"
      ]
     },
     "execution_count": 9,
     "metadata": {},
     "output_type": "execute_result"
    }
   ],
   "source": [
    "stabilizer.maximally_mixed_state(3)"
   ]
  },
  {
   "cell_type": "markdown",
   "metadata": {},
   "source": [
    "`zero_state(N)` constructs a $N$-qubit all-zero state \n",
    "$$\\rho=|0\\cdots0\\rangle\\langle 0\\cdots0|=\\prod_{i}\\frac{1+Z_i}{2}.$$"
   ]
  },
  {
   "cell_type": "code",
   "execution_count": 10,
   "metadata": {},
   "outputs": [
    {
     "data": {
      "text/plain": [
       "StabilizerState(\n",
       "   +ZIII\n",
       "   +IZII\n",
       "   +IIZI\n",
       "   +IIIZ)"
      ]
     },
     "execution_count": 10,
     "metadata": {},
     "output_type": "execute_result"
    }
   ],
   "source": [
    "stabilizer.zero_state(4)"
   ]
  },
  {
   "cell_type": "markdown",
   "metadata": {},
   "source": [
    "`one_state(N)` constructs a $N$-qubit all-one state \n",
    "$$\\rho=|1\\cdots1\\rangle\\langle 1\\cdots1|=\\prod_{i}\\frac{1-Z_i}{2}.$$"
   ]
  },
  {
   "cell_type": "code",
   "execution_count": 11,
   "metadata": {},
   "outputs": [
    {
     "data": {
      "text/plain": [
       "StabilizerState(\n",
       "   -ZIII\n",
       "   -IZII\n",
       "   -IIZI\n",
       "   -IIIZ)"
      ]
     },
     "execution_count": 11,
     "metadata": {},
     "output_type": "execute_result"
    }
   ],
   "source": [
    "stabilizer.one_state(4)"
   ]
  },
  {
   "cell_type": "markdown",
   "metadata": {},
   "source": [
    "`ghz_state(N)` constructs a $N$-qubit GHZ state\n",
    "$$\\rho = |\\Psi\\rangle\\langle\\Psi|, \\qquad \\text{with }|\\Psi\\rangle=\\frac{1}{\\sqrt{2}}(|0\\cdots0\\rangle+|1\\cdots1\\rangle).$$"
   ]
  },
  {
   "cell_type": "code",
   "execution_count": 12,
   "metadata": {},
   "outputs": [
    {
     "data": {
      "text/plain": [
       "StabilizerState(\n",
       "   +XXXX\n",
       "   +IIZZ\n",
       "   +IZZI\n",
       "   +ZZII)"
      ]
     },
     "execution_count": 12,
     "metadata": {},
     "output_type": "execute_result"
    }
   ],
   "source": [
    "stabilizer.ghz_state(4)"
   ]
  },
  {
   "cell_type": "markdown",
   "metadata": {},
   "source": [
    "`random_pauli_map(N)` samples a $N$ qubit random Pauli state.\n",
    "$$\\rho=U|0\\cdots0\\rangle\\langle 0\\cdots0|U^\\dagger,\\qquad\\text{with }U\\in \\mathrm{Cl}(2)^N.$$"
   ]
  },
  {
   "cell_type": "code",
   "execution_count": 13,
   "metadata": {},
   "outputs": [
    {
     "data": {
      "text/plain": [
       "StabilizerState(\n",
       "   +XIII\n",
       "   -IZII\n",
       "   -IIXI\n",
       "   -IIIX)"
      ]
     },
     "execution_count": 13,
     "metadata": {},
     "output_type": "execute_result"
    }
   ],
   "source": [
    "stabilizer.random_pauli_state(4)"
   ]
  },
  {
   "cell_type": "markdown",
   "metadata": {},
   "source": [
    "`random_clifford_map(N)` samples a $N$ qubit random Clifford (random stabilizer) state.\n",
    "$$\\rho=U|0\\cdots0\\rangle\\langle 0\\cdots0|U^\\dagger,\\qquad\\text{with }U\\in \\mathrm{Cl}(2^N).$$"
   ]
  },
  {
   "cell_type": "code",
   "execution_count": 14,
   "metadata": {},
   "outputs": [
    {
     "data": {
      "text/plain": [
       "StabilizerState(\n",
       "   +XIYX\n",
       "   -XZZY\n",
       "   +ZXXX\n",
       "   -YXIY)"
      ]
     },
     "execution_count": 14,
     "metadata": {},
     "output_type": "execute_result"
    }
   ],
   "source": [
    "stabilizer.random_clifford_state(4)"
   ]
  },
  {
   "cell_type": "markdown",
   "metadata": {},
   "source": [
    "`stabilizer_state(...)` is a universal constructor of stabilizer state by specifying all stabilizers."
   ]
  },
  {
   "cell_type": "code",
   "execution_count": 15,
   "metadata": {},
   "outputs": [
    {
     "data": {
      "text/plain": [
       "StabilizerState(\n",
       "   -YYI\n",
       "   +XXY)"
      ]
     },
     "execution_count": 15,
     "metadata": {},
     "output_type": "execute_result"
    }
   ],
   "source": [
    "stabilizer.stabilizer_state('XXY','-YYI')"
   ]
  },
  {
   "cell_type": "markdown",
   "metadata": {},
   "source": [
    "A hack to inspect the full stabilizer tableau is by converting `StabilizerState` to `PauliList` by"
   ]
  },
  {
   "cell_type": "code",
   "execution_count": 16,
   "metadata": {},
   "outputs": [
    {
     "data": {
      "text/plain": [
       " +ZZI\n",
       " -YYI\n",
       " +XXY\n",
       " +ZXZ\n",
       " +ZIZ\n",
       " +IIZ"
      ]
     },
     "execution_count": 16,
     "metadata": {},
     "output_type": "execute_result"
    }
   ],
   "source": [
    "stabilizer.stabilizer_state('XXY','-YYI')[:]"
   ]
  },
  {
   "cell_type": "markdown",
   "metadata": {},
   "source": [
    "User need to ensure that stabilizers commute with each other, otherwise an error will be raised."
   ]
  },
  {
   "cell_type": "code",
   "execution_count": 17,
   "metadata": {},
   "outputs": [
    {
     "ename": "ValueError",
     "evalue": "stabilizers must all commute with each other.",
     "output_type": "error",
     "traceback": [
      "\u001b[0;31m---------------------------------------------------------------------------\u001b[0m",
      "\u001b[0;31mValueError\u001b[0m                                Traceback (most recent call last)",
      "\u001b[0;32m<ipython-input-17-a9c6b77ad0d7>\u001b[0m in \u001b[0;36m<module>\u001b[0;34m\u001b[0m\n\u001b[0;32m----> 1\u001b[0;31m \u001b[0mstabilizer\u001b[0m\u001b[0;34m.\u001b[0m\u001b[0mstabilizer_state\u001b[0m\u001b[0;34m(\u001b[0m\u001b[0;34m'XXY'\u001b[0m\u001b[0;34m,\u001b[0m\u001b[0;34m'-YYI'\u001b[0m\u001b[0;34m,\u001b[0m\u001b[0;34m'IZZ'\u001b[0m\u001b[0;34m)\u001b[0m\u001b[0;34m\u001b[0m\u001b[0;34m\u001b[0m\u001b[0m\n\u001b[0m",
      "\u001b[0;32m~/Git_Code/PyClifford/base/stabilizer.py\u001b[0m in \u001b[0;36mstabilizer_state\u001b[0;34m(*stabilizers)\u001b[0m\n\u001b[1;32m    202\u001b[0m     \u001b[0;31m# validity check:\u001b[0m\u001b[0;34m\u001b[0m\u001b[0;34m\u001b[0m\u001b[0;34m\u001b[0m\u001b[0m\n\u001b[1;32m    203\u001b[0m     \u001b[0;32mif\u001b[0m \u001b[0;32mnot\u001b[0m \u001b[0;34m(\u001b[0m\u001b[0macq_mat\u001b[0m\u001b[0;34m(\u001b[0m\u001b[0mstabilizers\u001b[0m\u001b[0;34m.\u001b[0m\u001b[0mgs\u001b[0m\u001b[0;34m)\u001b[0m \u001b[0;34m==\u001b[0m \u001b[0;36m0\u001b[0m\u001b[0;34m)\u001b[0m\u001b[0;34m.\u001b[0m\u001b[0mall\u001b[0m\u001b[0;34m(\u001b[0m\u001b[0;34m)\u001b[0m\u001b[0;34m:\u001b[0m\u001b[0;34m\u001b[0m\u001b[0;34m\u001b[0m\u001b[0m\n\u001b[0;32m--> 204\u001b[0;31m         \u001b[0;32mraise\u001b[0m \u001b[0mValueError\u001b[0m\u001b[0;34m(\u001b[0m\u001b[0;34m'stabilizers must all commute with each other.'\u001b[0m\u001b[0;34m)\u001b[0m\u001b[0;34m\u001b[0m\u001b[0;34m\u001b[0m\u001b[0m\n\u001b[0m\u001b[1;32m    205\u001b[0m     \u001b[0mstate\u001b[0m \u001b[0;34m=\u001b[0m \u001b[0mmaximally_mixed_state\u001b[0m\u001b[0;34m(\u001b[0m\u001b[0mstabilizers\u001b[0m\u001b[0;34m.\u001b[0m\u001b[0mN\u001b[0m\u001b[0;34m)\u001b[0m\u001b[0;34m\u001b[0m\u001b[0;34m\u001b[0m\u001b[0m\n\u001b[1;32m    206\u001b[0m     \u001b[0mstate\u001b[0m\u001b[0;34m.\u001b[0m\u001b[0mgs\u001b[0m\u001b[0;34m,\u001b[0m \u001b[0mstate\u001b[0m\u001b[0;34m.\u001b[0m\u001b[0mr\u001b[0m \u001b[0;34m=\u001b[0m \u001b[0mstabilizer_project\u001b[0m\u001b[0;34m(\u001b[0m\u001b[0mstate\u001b[0m\u001b[0;34m.\u001b[0m\u001b[0mgs\u001b[0m\u001b[0;34m,\u001b[0m \u001b[0mstabilizers\u001b[0m\u001b[0;34m.\u001b[0m\u001b[0mgs\u001b[0m\u001b[0;34m,\u001b[0m \u001b[0mstate\u001b[0m\u001b[0;34m.\u001b[0m\u001b[0mr\u001b[0m\u001b[0;34m)\u001b[0m\u001b[0;34m\u001b[0m\u001b[0;34m\u001b[0m\u001b[0m\n",
      "\u001b[0;31mValueError\u001b[0m: stabilizers must all commute with each other."
     ]
    }
   ],
   "source": [
    "stabilizer.stabilizer_state('XXY','-YYI','IZZ')"
   ]
  },
  {
   "cell_type": "markdown",
   "metadata": {},
   "source": [
    "#### State-Map Conversion"
   ]
  },
  {
   "cell_type": "markdown",
   "metadata": {},
   "source": [
    "Stabilizer states and Clifford maps can be mapped to each other."
   ]
  },
  {
   "cell_type": "code",
   "execution_count": 18,
   "metadata": {},
   "outputs": [
    {
     "data": {
      "text/plain": [
       "StabilizerState(\n",
       "   -YYI\n",
       "   +XXY)"
      ]
     },
     "execution_count": 18,
     "metadata": {},
     "output_type": "execute_result"
    }
   ],
   "source": [
    "rho = stabilizer.stabilizer_state('XXY','-YYI')\n",
    "rho"
   ]
  },
  {
   "cell_type": "code",
   "execution_count": 19,
   "metadata": {},
   "outputs": [
    {
     "data": {
      "text/plain": [
       "CliffordMap(\n",
       "  X0-> +ZXZ\n",
       "  Z0-> +ZZI\n",
       "  X1-> +ZIZ\n",
       "  Z1-> -YYI\n",
       "  X2-> +IIZ\n",
       "  Z2-> +XXY)"
      ]
     },
     "execution_count": 19,
     "metadata": {},
     "output_type": "execute_result"
    }
   ],
   "source": [
    "rho.to_map()"
   ]
  },
  {
   "cell_type": "code",
   "execution_count": 20,
   "metadata": {},
   "outputs": [
    {
     "data": {
      "text/plain": [
       "StabilizerState(\n",
       "   +ZZI\n",
       "   -YYI\n",
       "   +XXY)"
      ]
     },
     "execution_count": 20,
     "metadata": {},
     "output_type": "execute_result"
    }
   ],
   "source": [
    "rho.to_map().to_state()"
   ]
  },
  {
   "cell_type": "markdown",
   "metadata": {},
   "source": [
    "* `.to_map()` and `.to_state()` will make new copies of Pauli string data in the memory.\n",
    "* the information about the rank of the density matrix is lost in the Clifford map, so the back conversion will result in a zero rank stabilizer state."
   ]
  },
  {
   "cell_type": "markdown",
   "metadata": {},
   "source": [
    "## Clifford Map Methods"
   ]
  },
  {
   "cell_type": "markdown",
   "metadata": {},
   "source": [
    "### Map Embedding"
   ]
  },
  {
   "cell_type": "markdown",
   "metadata": {},
   "source": [
    "`.embed(small_map, mask)` provides the method to embed a smaller Clifford map on a subset of qubits to the current Clifford map. This is a **in-place** operation. The Clifford map object that provide this method will get modified under the embedding.\n",
    "\n",
    "**Parameters:**\n",
    "* `small_map` is a `CliffordMap` object supported on a subset of qubits.\n",
    "* `mask` is a boolean array specifying the subset of qubits."
   ]
  },
  {
   "cell_type": "code",
   "execution_count": 21,
   "metadata": {},
   "outputs": [
    {
     "data": {
      "text/plain": [
       "CliffordMap(\n",
       "  X0-> +XIIIII\n",
       "  Z0-> +ZIIIII\n",
       "  X1-> +IXIIII\n",
       "  Z1-> +IZIIII\n",
       "  X2-> +IIXIII\n",
       "  Z2-> +IIZIII\n",
       "  X3-> +IIIXII\n",
       "  Z3-> +IIIZII\n",
       "  X4-> +IIIIXI\n",
       "  Z4-> +IIIIZI\n",
       "  X5-> +IIIIIX\n",
       "  Z5-> +IIIIIZ)"
      ]
     },
     "execution_count": 21,
     "metadata": {},
     "output_type": "execute_result"
    }
   ],
   "source": [
    "cmap = stabilizer.identity_map(6)\n",
    "cmap"
   ]
  },
  {
   "cell_type": "code",
   "execution_count": 14,
   "metadata": {},
   "outputs": [
    {
     "data": {
      "text/plain": [
       "CliffordMap(\n",
       "  X0-> -XIIXII\n",
       "  Z0-> -IIIZII\n",
       "  X1-> +IXIIII\n",
       "  Z1-> +IZIIII\n",
       "  X2-> +IIXIII\n",
       "  Z2-> +IIZIII\n",
       "  X3-> +ZIIZYI\n",
       "  Z3-> -YIIZII\n",
       "  X4-> +IIIIYI\n",
       "  Z4-> -YIIZZI\n",
       "  X5-> +IIIIIX\n",
       "  Z5-> +IIIIIZ)"
      ]
     },
     "execution_count": 14,
     "metadata": {},
     "output_type": "execute_result"
    }
   ],
   "source": [
    "cmap.embed(random_clifford_map(3), numpy.array([True,False,False,True,True,False]))"
   ]
  },
  {
   "cell_type": "markdown",
   "metadata": {},
   "source": [
    "#### Map Composition"
   ]
  },
  {
   "cell_type": "markdown",
   "metadata": {},
   "source": [
    "`.compose(other)` returns the composition of the current Clifford map with another Clifford map. This will return a new Clifford map without modifying either of the input maps. The Clifford map object which initiates this method will be the preceeding map in the composition. \n",
    "\n",
    "**Parameters:**\n",
    "* `other` - another `CliffordMap`."
   ]
  },
  {
   "cell_type": "markdown",
   "metadata": {},
   "source": [
    "Example: composition of a Clifford rotation with its inverse rotation will be an identity map."
   ]
  },
  {
   "cell_type": "code",
   "execution_count": 18,
   "metadata": {},
   "outputs": [
    {
     "data": {
      "text/plain": [
       "CliffordMap(\n",
       "  X0-> +XII\n",
       "  Z0-> +ZII\n",
       "  X1-> +IXI\n",
       "  Z1-> +IZI\n",
       "  X2-> +IIX\n",
       "  Z2-> +IIZ)"
      ]
     },
     "execution_count": 18,
     "metadata": {},
     "output_type": "execute_result"
    }
   ],
   "source": [
    "clifford_rotation_map('-XXY').compose(clifford_rotation_map('+XXY'))"
   ]
  },
  {
   "cell_type": "markdown",
   "metadata": {},
   "source": [
    "#### Map Inversion"
   ]
  },
  {
   "cell_type": "markdown",
   "metadata": {},
   "source": [
    "`.inverse()` returns the inverse of the current Clifford map. This will return a new Clifford map withoutt modifying the original map. The inverse map is such that its composition with the original map must be identity"
   ]
  },
  {
   "cell_type": "code",
   "execution_count": 26,
   "metadata": {},
   "outputs": [
    {
     "data": {
      "text/plain": [
       "CliffordMap(\n",
       "  X0-> -Z\n",
       "  Z0-> +X)"
      ]
     },
     "execution_count": 26,
     "metadata": {},
     "output_type": "execute_result"
    }
   ],
   "source": [
    "cmap = clifford_rotation_map('Y')\n",
    "cmap"
   ]
  },
  {
   "cell_type": "code",
   "execution_count": 27,
   "metadata": {},
   "outputs": [
    {
     "data": {
      "text/plain": [
       "CliffordMap(\n",
       "  X0-> +Z\n",
       "  Z0-> -X)"
      ]
     },
     "execution_count": 27,
     "metadata": {},
     "output_type": "execute_result"
    }
   ],
   "source": [
    "cmap.inverse()"
   ]
  },
  {
   "cell_type": "markdown",
   "metadata": {},
   "source": [
    "Test on random maps."
   ]
  },
  {
   "cell_type": "code",
   "execution_count": 22,
   "metadata": {},
   "outputs": [
    {
     "data": {
      "text/plain": [
       "CliffordMap(\n",
       "  X0-> +XIII\n",
       "  Z0-> +ZIII\n",
       "  X1-> +IXII\n",
       "  Z1-> +IZII\n",
       "  X2-> +IIXI\n",
       "  Z2-> +IIZI\n",
       "  X3-> +IIIX\n",
       "  Z3-> +IIIZ)"
      ]
     },
     "execution_count": 22,
     "metadata": {},
     "output_type": "execute_result"
    }
   ],
   "source": [
    "cmap = random_clifford_map(4)\n",
    "cmap.inverse().compose(cmap)"
   ]
  },
  {
   "cell_type": "code",
   "execution_count": 23,
   "metadata": {},
   "outputs": [
    {
     "data": {
      "text/plain": [
       "CliffordMap(\n",
       "  X0-> +XIII\n",
       "  Z0-> +ZIII\n",
       "  X1-> +IXII\n",
       "  Z1-> +IZII\n",
       "  X2-> +IIXI\n",
       "  Z2-> +IIZI\n",
       "  X3-> +IIIX\n",
       "  Z3-> +IIIZ)"
      ]
     },
     "execution_count": 23,
     "metadata": {},
     "output_type": "execute_result"
    }
   ],
   "source": [
    "cmap.compose(cmap.inverse()) "
   ]
  },
  {
   "cell_type": "markdown",
   "metadata": {},
   "source": [
    "Both left and right composition are identity."
   ]
  },
  {
   "cell_type": "markdown",
   "metadata": {},
   "source": [
    "## Stabilizer State Methods"
   ]
  },
  {
   "cell_type": "markdown",
   "metadata": {},
   "source": [
    "### - Initialization via stabilizer tableau:\n",
    "\n",
    "A stabilizer state can be initialized via: `StabilzierState(gs,ps)`, and the rank \"self.r=0\" by default.\n",
    "    \n",
    "One can change the rank by `self.set_r(r)`"
   ]
  },
  {
   "cell_type": "markdown",
   "metadata": {},
   "source": [
    "For example, let's generate a random stabilzier tableau and list of phases"
   ]
  },
  {
   "cell_type": "code",
   "execution_count": 36,
   "metadata": {},
   "outputs": [],
   "source": [
    "a_random_state =stabilizer.random_clifford_map(2).to_state()"
   ]
  },
  {
   "cell_type": "markdown",
   "metadata": {},
   "source": [
    "The stabilzier tableau is:"
   ]
  },
  {
   "cell_type": "code",
   "execution_count": 37,
   "metadata": {},
   "outputs": [
    {
     "data": {
      "text/plain": [
       "array([[1, 1, 0, 1],\n",
       "       [0, 1, 1, 0],\n",
       "       [0, 0, 1, 0],\n",
       "       [1, 0, 1, 0]])"
      ]
     },
     "execution_count": 37,
     "metadata": {},
     "output_type": "execute_result"
    }
   ],
   "source": [
    "a_random_state.gs"
   ]
  },
  {
   "cell_type": "markdown",
   "metadata": {},
   "source": [
    "The phases are:"
   ]
  },
  {
   "cell_type": "code",
   "execution_count": 38,
   "metadata": {},
   "outputs": [
    {
     "data": {
      "text/plain": [
       "array([2, 0, 0, 2])"
      ]
     },
     "execution_count": 38,
     "metadata": {},
     "output_type": "execute_result"
    }
   ],
   "source": [
    "a_random_state.ps"
   ]
  },
  {
   "cell_type": "markdown",
   "metadata": {},
   "source": [
    "We can create a stabilizer state:"
   ]
  },
  {
   "cell_type": "code",
   "execution_count": 46,
   "metadata": {},
   "outputs": [
    {
     "name": "stdout",
     "output_type": "stream",
     "text": [
      "StabilizerState(\n",
      "   -YZ\n",
      "   +ZX)\n",
      "rank:  0\n"
     ]
    }
   ],
   "source": [
    "new_state = stabilizer.StabilizerState(gs=a_random_state.gs,ps=a_random_state.ps)\n",
    "print(new_state)\n",
    "print('rank: ',new_state.r)"
   ]
  },
  {
   "cell_type": "markdown",
   "metadata": {},
   "source": [
    "We can also change the rank:"
   ]
  },
  {
   "cell_type": "code",
   "execution_count": 47,
   "metadata": {},
   "outputs": [
    {
     "name": "stdout",
     "output_type": "stream",
     "text": [
      "rank:  1\n"
     ]
    }
   ],
   "source": [
    "new_state.set_r(1)\n",
    "print('rank: ',new_state.r)"
   ]
  },
  {
   "cell_type": "markdown",
   "metadata": {},
   "source": [
    "### - Get active stabilziers"
   ]
  },
  {
   "cell_type": "markdown",
   "metadata": {},
   "source": [
    "One can get the activate stabilizers by getting the attribute `stabilizers`. And the activte stabilizers will be returned as `PauliList`."
   ]
  },
  {
   "cell_type": "code",
   "execution_count": 55,
   "metadata": {},
   "outputs": [],
   "source": [
    "state = stabilizer.ghz_state(4)"
   ]
  },
  {
   "cell_type": "code",
   "execution_count": 56,
   "metadata": {},
   "outputs": [
    {
     "data": {
      "text/plain": [
       "StabilizerState(\n",
       "   +IIZZ\n",
       "   +IZZI\n",
       "   +ZZII)"
      ]
     },
     "execution_count": 56,
     "metadata": {},
     "output_type": "execute_result"
    }
   ],
   "source": [
    "state.set_r(1)"
   ]
  },
  {
   "cell_type": "code",
   "execution_count": 59,
   "metadata": {},
   "outputs": [
    {
     "name": "stdout",
     "output_type": "stream",
     "text": [
      "<class 'base.paulialg.PauliList'>  +IIZZ\n",
      " +IZZI\n",
      " +ZZII\n"
     ]
    }
   ],
   "source": [
    "print(type(state.stabilizers),state.stabilizers)"
   ]
  },
  {
   "cell_type": "code",
   "execution_count": 60,
   "metadata": {},
   "outputs": [
    {
     "name": "stdout",
     "output_type": "stream",
     "text": [
      "[[0 0 0 0 0 1 0 1]\n",
      " [0 0 0 1 0 1 0 0]\n",
      " [0 1 0 1 0 0 0 0]]\n",
      "[0 0 0]\n"
     ]
    }
   ],
   "source": [
    "print(state.stabilizers.gs)\n",
    "print(state.stabilizers.ps)"
   ]
  },
  {
   "cell_type": "markdown",
   "metadata": {},
   "source": [
    "### - Meaurement"
   ]
  },
  {
   "cell_type": "markdown",
   "metadata": {},
   "source": [
    "One can preform a sequential measurement on the stabilizer state by calling `.measure(obs)` method.\n",
    "\n",
    "`obs` is PauliList or StabilizerState (only active stabilizers measured), and the Pauli operators are measured sequentially. \n",
    "\n",
    "The output of this function is: `readout` and `log2prob` of the readout. And the convension for readout is:\n",
    "\n",
    "<font color='red'>0 $\\rightarrow$ eigenvalue 1; 1 $\\rightarrow$ eigenvalue -1</font>\n",
    "\n",
    "After measurement, the state will be changed."
   ]
  },
  {
   "cell_type": "code",
   "execution_count": 69,
   "metadata": {},
   "outputs": [
    {
     "name": "stdout",
     "output_type": "stream",
     "text": [
      "StabilizerState(\n",
      "   +XX\n",
      "   +ZZ)\n"
     ]
    }
   ],
   "source": [
    "state = stabilizer.ghz_state(2)\n",
    "print(state)"
   ]
  },
  {
   "cell_type": "code",
   "execution_count": 70,
   "metadata": {},
   "outputs": [],
   "source": [
    "obs = paulialg.paulis('-YY','XI')"
   ]
  },
  {
   "cell_type": "code",
   "execution_count": 71,
   "metadata": {},
   "outputs": [
    {
     "name": "stdout",
     "output_type": "stream",
     "text": [
      "readout:  [0 1]\n",
      "probability:  0.5\n"
     ]
    }
   ],
   "source": [
    "readout, log2prob = state.measure(obs)\n",
    "print(\"readout: \", readout)\n",
    "print(\"probability: \", 2**(prob))"
   ]
  },
  {
   "cell_type": "code",
   "execution_count": 72,
   "metadata": {},
   "outputs": [
    {
     "name": "stdout",
     "output_type": "stream",
     "text": [
      "State after measurement:  StabilizerState(\n",
      "   +XX\n",
      "   -XI)\n"
     ]
    }
   ],
   "source": [
    "print(\"State after measurement: \", state)"
   ]
  },
  {
   "cell_type": "markdown",
   "metadata": {},
   "source": [
    "### -Expectation"
   ]
  },
  {
   "cell_type": "markdown",
   "metadata": {},
   "source": [
    "One can calculate the expectation value of a list of Pauli operator by `.expect(obs)` method.\n",
    "\n",
    "`obs` can be a `PauliList` or `StabilizerState`\n",
    "\n",
    "The output of this function will a `List` containing the trace between stabilzier state and each Pauli operators."
   ]
  },
  {
   "cell_type": "code",
   "execution_count": 92,
   "metadata": {},
   "outputs": [
    {
     "name": "stdout",
     "output_type": "stream",
     "text": [
      "StabilizerState(\n",
      "   +XX\n",
      "   +ZZ)\n"
     ]
    }
   ],
   "source": [
    "state = stabilizer.ghz_state(2)\n",
    "print(state)\n",
    "obs = paulialg.paulis(['ZZ','XI'])"
   ]
  },
  {
   "cell_type": "code",
   "execution_count": 93,
   "metadata": {},
   "outputs": [
    {
     "data": {
      "text/plain": [
       "array([1, 0])"
      ]
     },
     "execution_count": 93,
     "metadata": {},
     "output_type": "execute_result"
    }
   ],
   "source": [
    "state.expect(obs)"
   ]
  },
  {
   "cell_type": "markdown",
   "metadata": {},
   "source": [
    "### -Entropy"
   ]
  },
  {
   "cell_type": "markdown",
   "metadata": {},
   "source": [
    "`StabilizerState.entropy(A)` will calculate the entanglement entropy of region *A*\n",
    "\n",
    "*A* is an array of regions, i.e. [1,1,0,0]. \n",
    "\n",
    "This function will return entanglement entropy (bits) in $\\text{log}_2$ basis."
   ]
  },
  {
   "cell_type": "code",
   "execution_count": 97,
   "metadata": {},
   "outputs": [
    {
     "name": "stdout",
     "output_type": "stream",
     "text": [
      "Entropy:  1\n"
     ]
    }
   ],
   "source": [
    "state = stabilizer.ghz_state(4)\n",
    "print('Entropy: ', state.entropy(numpy.array([1,0,1,0])))"
   ]
  },
  {
   "cell_type": "markdown",
   "metadata": {},
   "source": [
    "### -Sample stabilizer from stabilizer group"
   ]
  },
  {
   "cell_type": "markdown",
   "metadata": {},
   "source": [
    "`StabilizerState.sample(L)` method will sample `L(integer)` number of Pauli strings that is in the stabilizer group defined by `StabilizerState`"
   ]
  },
  {
   "cell_type": "code",
   "execution_count": 98,
   "metadata": {},
   "outputs": [
    {
     "data": {
      "text/plain": [
       " +ZZZZ\n",
       " -YYXX\n",
       " -YXXY\n",
       " -XXYY\n",
       " +ZZZZ\n",
       " -YXXY\n",
       " +ZZII\n",
       " -XXYY\n",
       " -XYXY\n",
       " -XYXY"
      ]
     },
     "execution_count": 98,
     "metadata": {},
     "output_type": "execute_result"
    }
   ],
   "source": [
    "state = stabilizer.ghz_state(4)\n",
    "state.sample(10)"
   ]
  },
  {
   "cell_type": "markdown",
   "metadata": {},
   "source": [
    "### -Generate full stabilizer group element"
   ]
  },
  {
   "cell_type": "markdown",
   "metadata": {},
   "source": [
    "`StabilizerState.stabilizer_group()` method will return all the elements defined by the stabilizer group (active generators) of `StabilizerState`"
   ]
  },
  {
   "cell_type": "code",
   "execution_count": 101,
   "metadata": {},
   "outputs": [
    {
     "data": {
      "text/plain": [
       " +IIII\n",
       " +ZZII\n",
       " +IZZI\n",
       " +ZIZI"
      ]
     },
     "execution_count": 101,
     "metadata": {},
     "output_type": "execute_result"
    }
   ],
   "source": [
    "state = stabilizer.ghz_state(4)\n",
    "state.set_r(2)\n",
    "state.stabilizer_group()"
   ]
  },
  {
   "cell_type": "code",
   "execution_count": 102,
   "metadata": {},
   "outputs": [
    {
     "data": {
      "text/plain": [
       " +IIII\n",
       " +ZZII\n",
       " +IZZI\n",
       " +ZIZI\n",
       " +IIZZ\n",
       " +ZZZZ\n",
       " +IZIZ\n",
       " +ZIIZ\n",
       " +XXXX\n",
       " -YYXX\n",
       " -XYYX\n",
       " -YXYX\n",
       " -XXYY\n",
       " +YYYY\n",
       " -XYXY\n",
       " -YXXY"
      ]
     },
     "execution_count": 102,
     "metadata": {},
     "output_type": "execute_result"
    }
   ],
   "source": [
    "state = stabilizer.ghz_state(4)\n",
    "state.set_r(0)\n",
    "state.stabilizer_group()"
   ]
  },
  {
   "cell_type": "code",
   "execution_count": null,
   "metadata": {},
   "outputs": [],
   "source": []
  },
  {
   "cell_type": "code",
   "execution_count": null,
   "metadata": {},
   "outputs": [],
   "source": []
  },
  {
   "cell_type": "markdown",
   "metadata": {},
   "source": [
    "# Development"
   ]
  },
  {
   "cell_type": "code",
   "execution_count": 108,
   "metadata": {},
   "outputs": [
    {
     "data": {
      "text/latex": [
       "Quantum object: dims = [[2, 2], [2, 2]], shape = (4, 4), type = oper, isherm = True\\begin{equation*}\\left(\\begin{array}{*{11}c}0.0 & 0.0 & 0.0 & 1.0\\\\0.0 & 0.0 & 1.0 & 0.0\\\\0.0 & 1.0 & 0.0 & 0.0\\\\1.0 & 0.0 & 0.0 & 0.0\\\\\\end{array}\\right)\\end{equation*}"
      ],
      "text/plain": [
       "Quantum object: dims = [[2, 2], [2, 2]], shape = (4, 4), type = oper, isherm = True\n",
       "Qobj data =\n",
       "[[0. 0. 0. 1.]\n",
       " [0. 0. 1. 0.]\n",
       " [0. 1. 0. 0.]\n",
       " [1. 0. 0. 0.]]"
      ]
     },
     "execution_count": 108,
     "metadata": {},
     "output_type": "execute_result"
    }
   ],
   "source": [
    "paulialg.pauli('XX').convert()"
   ]
  },
  {
   "cell_type": "code",
   "execution_count": null,
   "metadata": {},
   "outputs": [],
   "source": []
  },
  {
   "cell_type": "code",
   "execution_count": null,
   "metadata": {},
   "outputs": [],
   "source": []
  },
  {
   "cell_type": "code",
   "execution_count": null,
   "metadata": {},
   "outputs": [],
   "source": []
  },
  {
   "cell_type": "code",
   "execution_count": null,
   "metadata": {},
   "outputs": [],
   "source": []
  },
  {
   "cell_type": "code",
   "execution_count": null,
   "metadata": {},
   "outputs": [],
   "source": []
  },
  {
   "cell_type": "code",
   "execution_count": null,
   "metadata": {},
   "outputs": [],
   "source": []
  },
  {
   "cell_type": "code",
   "execution_count": null,
   "metadata": {},
   "outputs": [],
   "source": []
  },
  {
   "cell_type": "code",
   "execution_count": null,
   "metadata": {},
   "outputs": [],
   "source": []
  },
  {
   "cell_type": "code",
   "execution_count": null,
   "metadata": {},
   "outputs": [],
   "source": []
  },
  {
   "cell_type": "code",
   "execution_count": null,
   "metadata": {},
   "outputs": [],
   "source": []
  },
  {
   "cell_type": "code",
   "execution_count": null,
   "metadata": {},
   "outputs": [],
   "source": []
  },
  {
   "cell_type": "code",
   "execution_count": null,
   "metadata": {},
   "outputs": [],
   "source": []
  },
  {
   "cell_type": "markdown",
   "metadata": {},
   "source": [
    "<font color='red'>The following is out of date</font>"
   ]
  },
  {
   "cell_type": "markdown",
   "metadata": {},
   "source": [
    "### Stabilizer State Methods"
   ]
  },
  {
   "cell_type": "markdown",
   "metadata": {},
   "source": [
    "#### Measurement"
   ]
  },
  {
   "cell_type": "markdown",
   "metadata": {},
   "source": [
    "`.measure(obs)` measure the stabilizer state on a set of commuting observables.\n",
    "\n",
    "**Parameters:**\n",
    "* `obs` - Observables to measure. The following types are supported:\n",
    "    * `PauliList` - a list of Pauli operators (user must ensure that operators in the list are commuting, otherwise they can not measured simutaneously).\n",
    "    * `StabilizerState` - stabilizers of a stabilizer state is always commuting, which can be treated as commuting observables for measurement.\n",
    "    \n",
    "**Returns:**\n",
    "* `out` - measuremnt outcome, can only be $0$, $\\pm1$ for independent Pauli observables on stabilizer state.\n",
    "* `log2prob` - the log2 of the probability of realizing this particular outcome."
   ]
  },
  {
   "cell_type": "markdown",
   "metadata": {},
   "source": [
    "<span style=\"color:red\">The following documents is out of date</span>."
   ]
  },
  {
   "cell_type": "markdown",
   "metadata": {},
   "source": [
    "## StabilizerState"
   ]
  },
  {
   "cell_type": "markdown",
   "metadata": {},
   "source": [
    "`StabilizerState(N, r=None, S=None, b=None)` represents a stablizer state for an $[N,r]$ stablizer code (i.e. $N$ physical qubits encoding $r$ logical qubits).\n",
    "\n",
    "**Parameters**\n",
    "- `N`: number of physical qubits.\n",
    "- `r`: number of logical qubits.\n",
    "- `S`: stabilizer tableau.\n",
    "- `b`: sign indicator."
   ]
  },
  {
   "cell_type": "markdown",
   "metadata": {},
   "source": [
    "Example: A 5-qubit state with 2 logical qubits (being the first 2 physical qubits). The state is stablized by 3 stabilizers (acting on the last 3 qubits)."
   ]
  },
  {
   "cell_type": "code",
   "execution_count": 5,
   "metadata": {},
   "outputs": [
    {
     "data": {
      "text/plain": [
       "StabilizerState(\n",
       " +IIZII\n",
       " +IIIZI\n",
       " +IIIIZ)"
      ]
     },
     "execution_count": 5,
     "metadata": {},
     "output_type": "execute_result"
    }
   ],
   "source": [
    "vaeqst.StabilizerState(5, r=2)"
   ]
  },
  {
   "cell_type": "markdown",
   "metadata": {},
   "source": [
    "### Representations"
   ]
  },
  {
   "cell_type": "markdown",
   "metadata": {},
   "source": [
    "#### Density Matrix"
   ]
  },
  {
   "cell_type": "markdown",
   "metadata": {},
   "source": [
    "A $[N,r]$ stabilizer state is describe by the **density matrix** of the following form:\n",
    "$$\\rho = \\frac{1}{2^r}\\prod_{k=1}^{N-r}\\frac{1+(-)^{b_k}S_k}{2}.$$\n",
    "* Each stabilizer $S_k$ is a (non-trivial) Pauli operator defined on totally $N$ qubits. The stabilizers commute with each other $[S_k,S_{k'}]=0$. They generate an Abelian subgroup $\\mathcal{S}=\\{\\prod_{k=1}^{N-r} S_k^{a_k}|a_k=0,1\\}$ of the $N$-qubit Pauli group, called the *stabilizer group*.\n",
    "* Each sign indicator $b_k=0,1$ is a binary variable specifying the eigen space of the stabilizer.\n",
    "* There are totally $N-r$ stabilizers for a $[N,r]$ stablizer code (of code rate: $r/N$). The simultaneous eigenspace of all stabilizers constitutes the *code subspace*. \n",
    "* The code subspace is $2^r$ dimensional (which is also the rank of the density matrix $\\rho$). The stabilizer state $\\rho$ is always defined to be the maximally mixed state in the code subspace, such that $\\rho$ is also the **projection operator** that projects any state into the code subspace."
   ]
  },
  {
   "cell_type": "markdown",
   "metadata": {},
   "source": [
    "#### Binary Representation of Pauli Operators"
   ]
  },
  {
   "cell_type": "markdown",
   "metadata": {},
   "source": [
    "Any Pauli operator can be specified by two one-hot (binary) vectors $x$ and $z$ ($x_i,z_i=0,1$ for $i=1,\\cdots,N$):\n",
    "$$\\sigma_{(x,z)}=\\mathrm{i}^{x\\cdot z}\\prod_{i=1}^{N}X_i^{x_i}\\prod_{i=1}^{N}Z_i^{z_i}.$$\n",
    "* The binary vector $x$ (or $z$) specifies the qubits where the $X$ (or $Z$) operator acts ($Y$ operator acts at where $X$ and $Z$ act simultaneously).\n",
    "* **Multiplication** of two Pauli operators\n",
    "$$\\sigma_{(x,z)}\\sigma_{(x',z')}=\\mathrm{i}^{p(x,z;x',z')}\\sigma_{(x+x',z+z')\\%2},$$\n",
    "where the power $p$ of $\\mathrm{i}$ in the prefactor is given by\n",
    "$$p(x,z;x',z')=\\sum_{i=1}^{N}\\left(z_ix'_i-x_iz'_i + 2(z_i+z'_i)\\left\\lfloor\\frac{x_i+x'_i}{2}\\right\\rfloor+2(x_i+x'_i)\\left\\lfloor\\frac{z_i+z'_i}{2}\\right\\rfloor\\right)\\mod 4.$$\n",
    "* **Commutation relation**: two Pauli operator either commute to anticommute.\n",
    "$$\\sigma_{(x,z)}\\sigma_{(x',z')}=(-)^{c(x,z;x',z')}\\sigma_{(x',z')}\\sigma_{(x,z)},$$\n",
    "where the *anticommutation indicator* $c$ has a simpler form\n",
    "$$c(x,z;x',z')=\\frac{p(x,z;x',z')-p(x',z';x,z)}{2}=\\sum_{i=1}^{N}\\left(z_ix'_i-x_iz'_i\\right)\\mod 2.$$\n",
    "\n",
    "The binary vectors $x$ and $z$ can be interweaved into a $2N$-component vector $g=(x_0,z_0,x_1,z_1,\\cdots)$, which forms the binary representation of a Pauli operator $\\sigma_g$."
   ]
  },
  {
   "cell_type": "markdown",
   "metadata": {},
   "source": [
    "#### Stabilizer Tableau"
   ]
  },
  {
   "cell_type": "markdown",
   "metadata": {},
   "source": [
    "Each stabilizer state is internally stored in the form of a **stabilizer tableau** $S$, together with the **sign indicator** $b$. For a $[N,r]$ stabilizer state, its stabilizer tableau is a $2N\\times 2N$ matrix of the following structure"
   ]
  },
  {
   "cell_type": "markdown",
   "metadata": {},
   "source": [
    "<img src=\"fig_tableau.png\" alt=\"stabilizer tableau.\" style=\"width: 320px;\"/>"
   ]
  },
  {
   "cell_type": "markdown",
   "metadata": {},
   "source": [
    "* Each row is a binary representation $(x,z)$ of a Pauli oparator $\\sigma_{(x,z)}$.\n",
    "* Totally $2N$ Pauli operators grouped into $N$ stabilizers and $N$ destabilizers, such that for $i,j=0,\\cdots,2N-1$:\n",
    "$$\\sigma_{g_{i}}\\sigma_{g_{j}}=(-)^{\\delta_{i+N,j}-\\delta_{j+N,i}}\\sigma_{g_{j}}\\sigma_{g_{i}},$$\n",
    "i.e. the $i$th stabilizer only anticommute with the $i$th destabilizer and they commute with all the other operators in the tableau.\n",
    "* The rows $r:N$ correspond to the $N-r$ active stabilizers $S_k$, which stabilize the code subspace (impleted as projection operators). The rows $0:r$ corresponds to the $r$ standby (inactive) stabilizers that does not realy stabilizer the code subspace (but they will act as logical operators in the code subspace).\n",
    "* The rows $N+r:2N$ correspond to the $N-r$ active destabilizers that anticommute with the active stabilizers. The rows $N:N+r$ correspond to the $r$ standby destabilizers taht anticommute with the standby stabilizers.\n",
    "\n",
    "Although the stabilizer state is only specified by the active stabilizers, the other operators in the stabilizer tableau are still important in order to complete the operator basis. Such that the tableau can specify an unitary operator in the Clifford group that generate the state. The algorithm must mantain the algebraic structure betwen all stabilizers and destabilizers while updating the tableau."
   ]
  },
  {
   "cell_type": "markdown",
   "metadata": {},
   "source": [
    "Example: stabilizer tableau is given by `StabilizerState.S`"
   ]
  },
  {
   "cell_type": "code",
   "execution_count": 6,
   "metadata": {},
   "outputs": [
    {
     "data": {
      "text/plain": [
       "array([[0, 1, 0, 0, 0, 0, 0, 0, 0, 0],\n",
       "       [0, 0, 0, 1, 0, 0, 0, 0, 0, 0],\n",
       "       [0, 0, 0, 0, 0, 1, 0, 0, 0, 0],\n",
       "       [0, 0, 0, 0, 0, 0, 0, 1, 0, 0],\n",
       "       [0, 0, 0, 0, 0, 0, 0, 0, 0, 1],\n",
       "       [1, 0, 0, 0, 0, 0, 0, 0, 0, 0],\n",
       "       [0, 0, 1, 0, 0, 0, 0, 0, 0, 0],\n",
       "       [0, 0, 0, 0, 1, 0, 0, 0, 0, 0],\n",
       "       [0, 0, 0, 0, 0, 0, 1, 0, 0, 0],\n",
       "       [0, 0, 0, 0, 0, 0, 0, 0, 1, 0]])"
      ]
     },
     "execution_count": 6,
     "metadata": {},
     "output_type": "execute_result"
    }
   ],
   "source": [
    "rho = vaeqst.StabilizerState(5, r=2)\n",
    "rho.S"
   ]
  },
  {
   "cell_type": "markdown",
   "metadata": {},
   "source": [
    "The sign indicator is a $N$ vector, which only keeps the sign of the stabilizers. Because the sign of destabilizers are not used in any where."
   ]
  },
  {
   "cell_type": "code",
   "execution_count": 7,
   "metadata": {},
   "outputs": [
    {
     "data": {
      "text/plain": [
       "array([0, 0, 0, 0, 0])"
      ]
     },
     "execution_count": 7,
     "metadata": {},
     "output_type": "execute_result"
    }
   ],
   "source": [
    "rho.b"
   ]
  },
  {
   "cell_type": "markdown",
   "metadata": {},
   "source": [
    "### Methods"
   ]
  },
  {
   "cell_type": "markdown",
   "metadata": {},
   "source": [
    "#### Copy"
   ]
  },
  {
   "cell_type": "markdown",
   "metadata": {},
   "source": [
    "`StabilizerState.copy()` returns a copy of the state, such that the original state will not be touch by modification on the copy state. It is useful to copy the state for measurement (as measurement changes the state).\n",
    "\n",
    "Example:"
   ]
  },
  {
   "cell_type": "code",
   "execution_count": 25,
   "metadata": {},
   "outputs": [
    {
     "data": {
      "text/plain": [
       "(StabilizerState(\n",
       "  +IIZII\n",
       "  +IIIZI\n",
       "  +IIIIZ), StabilizerState(\n",
       "  +IIIZI\n",
       "  +IIIIZ))"
      ]
     },
     "execution_count": 25,
     "metadata": {},
     "output_type": "execute_result"
    }
   ],
   "source": [
    "rho0 = vaeqst.StabilizerState(5, r=2)\n",
    "rho1 = rho0.copy()\n",
    "rho1.r = 3\n",
    "rho0, rho1"
   ]
  },
  {
   "cell_type": "markdown",
   "metadata": {},
   "source": [
    "#### Measurement"
   ]
  },
  {
   "cell_type": "markdown",
   "metadata": {},
   "source": [
    "The stabilizer state can serve both as a density matrix and as a measurement operator.\n",
    "* When it serves as a density matrix, $(-)^{b_k}S_k$ are the stabilizers that stabilize the state.\n",
    "* When it serves as a measurment operator, $(-)^{h_k}G_k$ are the commuting observables to be measured in parallel.\n",
    "\n",
    "`StabilizerState.measure(other)` provides the method to measure on a stabilizer state a set of observables specified by another stabilizer state.\n",
    "\n",
    "**Parameters:**\n",
    "* `other`: stabilizer state representing the measurement operator.\n",
    "\n",
    "**Returns:**\n",
    "* `out`: the measurement outcome (vector containing outcome of each observable).\n",
    "* `log2prob`: the log2 probability to obtain this outcome.\n",
    "\n",
    "**Side Effect:**\n",
    "The state itself will be updated to the post measurement state."
   ]
  },
  {
   "cell_type": "markdown",
   "metadata": {},
   "source": [
    "**Algorithm Outline**:\n",
    "\n",
    "We scan over every observable $G_k$ in the measurement operator. For each observable, we continue to scan over all operators in the stabilizer tableau. If the observable $G_k$ anticommute with\n",
    "1. at least one active stabilizer (the first of them being $S_p$) $\\to$ $G_k$ is an *error* operator that take the state out of the code subspace $\\to$ the measurement will collapse the state to one of the two possible measurement outcomes $G_{k}=\\pm 1$ with equal probability, and the state will be *updated*.\n",
    "2. at least one standby stabilizer or destabilizer (the first of them being $S_p$)$\\to$ $G_k$ is a *logical* operator that will further stabilize the code subspace $\\to$ the measurement will activate a new pair of stabilizer and destabilizer, and the state will be *extended*.\n",
    "3. otherwise, $\\to$ $G_k$ is a *trivial* operator in the code subspace $\\to$ the measurement is classical, and the state is untouched.\n",
    "\n",
    "|    | `update`? | `extend`? |\n",
    "|----|-----------|-----------|\n",
    "| 1. | `True`    | `False`   |\n",
    "| 2. | `True`    | `True`    |\n",
    "| 3. | `False`   | `False`   |\n",
    "\n",
    "* *update*: \n",
    "    * $G_k$ must replace $S_p$ to be the active stabilizer. But to mantain its algebraic relatiion with the destabilizer, the original $S_p$ can be promoted to become the corresponding destabilizer. Such that $S_\\tilde{p}\\leftarrow S_p$, $S_p \\leftarrow G_k$ ($\\tilde{p}$ denotes the dual row of $p$)\n",
    "    * The sign of $G_k$ is randomly asigned with half-to-half probability.\n",
    "\n",
    "* *extend*:\n",
    "    * The number of logical qubit will be reduced by one $r\\leftarrow r-1$.\n",
    "    * To include new stabilizer-destabilizer pair to the system, apart from the steps in the update algorithm, we also need to bring the new stabilizer $S_p$ to row-$r$ and the new destabilizer $S_{\\tilde{p}}$ to row-$(N+r)$. \n",
    "    \n",
    "If update (including extension) did not happen after scanning through all the stabilizers and standby destabilizers, then we know that the measurement is classical ($G_k$ is trivial in code subspace, it must belong to the stabilizer group). So we continue to scan over the remaining active destabilizer. For each active destabilizer $S_j$ that anticommute with $G_k$, it indicates that $G_k$ contains the component of the corresponding active stabilizer $S_{\\tilde{j}}$, which should then be collected. Finally the measuremnt outcome $x_k=0,1$ is such that the following equation holds\n",
    "$$(-)^{h_k+x_k}G_k=\\prod_{\\tilde{j}}(-)^{b_{\\tilde{j}}}S_{\\tilde{j}}.$$"
   ]
  },
  {
   "cell_type": "markdown",
   "metadata": {},
   "source": [
    "Example:"
   ]
  },
  {
   "cell_type": "code",
   "execution_count": 8,
   "metadata": {},
   "outputs": [
    {
     "name": "stdout",
     "output_type": "stream",
     "text": [
      "starting from:\n",
      " StabilizerState(\n",
      " +ZZIII\n",
      " +IZZII\n",
      " +IIZZI\n",
      " +IIIZZ\n",
      " +XXXXX)\n",
      "to measure:\n",
      " StabilizerState(\n",
      " +XIIII\n",
      " -IZIII\n",
      " +IIXII\n",
      " +IIIXI\n",
      " -IIIIX)\n",
      "obtain outcome:\n",
      " [1 0 1 0 1] \n",
      "with probability 2^(-5)\n",
      "end up with:\n",
      " StabilizerState(\n",
      " -XIIII\n",
      " -IIXII\n",
      " +IIIXI\n",
      " +IIIIX\n",
      " -IZIII)\n"
     ]
    }
   ],
   "source": [
    "rho = vaeqst.GHZState(5)\n",
    "print('starting from:\\n', rho)\n",
    "obs = vaeqst.RandomPauliState(5)\n",
    "print('to measure:\\n', obs)\n",
    "out, log2prob = rho.measure(obs)\n",
    "print('obtain outcome:\\n', out, '\\nwith probability 2^({})'.format(log2prob))\n",
    "print('end up with:\\n', rho)"
   ]
  },
  {
   "cell_type": "markdown",
   "metadata": {},
   "source": [
    "#### Expectation"
   ]
  },
  {
   "cell_type": "markdown",
   "metadata": {},
   "source": [
    "`StabilizerState.expect(other)` provides the method to compute the expectation value of observables on a stabilizer state.\n",
    "$$ e_k = (-)^{h_k} \\mathrm{Tr} \\rho G_k$$\n",
    "\n",
    "**Parameters:**\n",
    "* `other`: stabilizer state representing the measurement operator.\n",
    "\n",
    "**Returns:**\n",
    "* `expect`: a vector of expectation values $e_k$.\n",
    "\n",
    "This method will not modify the stabilizer state."
   ]
  },
  {
   "cell_type": "markdown",
   "metadata": {},
   "source": [
    "Example:"
   ]
  },
  {
   "cell_type": "code",
   "execution_count": 2,
   "metadata": {},
   "outputs": [
    {
     "name": "stdout",
     "output_type": "stream",
     "text": [
      "base state:\n",
      " StabilizerState(\n",
      " +ZZIII\n",
      " +IZZII\n",
      " +IIZZI\n",
      " +IIIZZ\n",
      " +XXXXX)\n",
      "measurement:\n",
      " StabilizerState(\n",
      " -IYYZX\n",
      " -IXYXX\n",
      " -ZXZXY\n",
      " +ZYYZX\n",
      " -ZYZXX)\n",
      "expectation values:\n",
      " [0 0 0 0 0]\n"
     ]
    }
   ],
   "source": [
    "rho = vaeqst.GHZState(5)\n",
    "print('base state:\\n', rho)\n",
    "obs = vaeqst.RandomCliffordState(5)\n",
    "print('measurement:\\n', obs)\n",
    "print('expectation values:\\n', rho.expect(obs))"
   ]
  },
  {
   "cell_type": "markdown",
   "metadata": {},
   "source": [
    "The expectation values of Pauli operators on stabilizer states are either $0$ or $\\pm1$. The expectation value will be $\\pm1$ only if the corresponding observable is in the stabilizer group."
   ]
  },
  {
   "cell_type": "markdown",
   "metadata": {},
   "source": [
    "#### Fidelity"
   ]
  },
  {
   "cell_type": "markdown",
   "metadata": {},
   "source": [
    "`StabilizerState.fidelity(other)` provides the method to compute the fidelity between the base state $\\rho$ and another state $\\rho'$.\n",
    "\n",
    "**Parameters:**\n",
    "* `other`: another stabilizer state $\\rho'$ to compare.\n",
    "\n",
    "**Returns:**\n",
    "* `F`: fidelity $F(\\rho,\\rho')=\\left(\\mathrm{Tr}\\sqrt{\\sqrt{\\rho}\\rho'\\sqrt{\\rho}}\\right)^2$."
   ]
  },
  {
   "cell_type": "markdown",
   "metadata": {},
   "source": [
    "**Algorithm Outline:**\n",
    "\n",
    "If both $\\rho$ and $\\rho'$ are stabilizer states,\n",
    "$$\\rho=\\frac{1}{2^{r}}\\prod_{j=1}^{N-r}\\frac{1+(-)^{b_j}S_j}{2},\\quad\\rho'=\\frac{1}{2^{r'}}\\prod_{k=1}^{N-r'}\\frac{1+(-)^{h_k}G_{k}}{2}.$$\n",
    "The stabilizers in $\\rho'$ can be classified into three cases on the stabilizer code defined by $\\rho$. If $G_k$ anticommute with\n",
    "1. an active stabilizer in $\\rho$: $G_k$ is an *error* operator, denoted by $k\\in \\mathcal{E}$;\n",
    "2. a standby stabilizer or destabilizer in $\\rho$: $G_k$ is an *logical* operator, denoted by $k\\in \\mathcal{L}$;\n",
    "3. other wise, $G_k$ is a *trivial* operator (in the code subspace), denoted by $k\\in \\mathcal{I}$.\n",
    "\n",
    "The Fidelity is given by [arXiv:quant-ph/0505036](https://arxiv.org/abs/quant-ph/0505036)\n",
    "$$F(\\rho,\\rho')=2^{r-r'-2|\\mathcal{L}|-|\\mathcal{E}|}\\prod_{k\\in\\mathcal{I}}\\frac{1+e_k}{2},$$\n",
    "where $e_k$ is the expectation value of $(-)^{h_k}G_k$ on $\\rho$. The product $o=\\prod_{k\\in\\mathcal{I}}\\frac{1+e_k}{2}$ defines the overlap indicator $o=0$ if $\\rho$ and $\\rho'$ are orthogonal, otherwise $o=1$."
   ]
  },
  {
   "cell_type": "markdown",
   "metadata": {},
   "source": [
    "Example: verify that fidelity is symmetric."
   ]
  },
  {
   "cell_type": "code",
   "execution_count": 20,
   "metadata": {},
   "outputs": [
    {
     "data": {
      "text/plain": [
       "(0.000244140625, 0.000244140625)"
      ]
     },
     "execution_count": 20,
     "metadata": {},
     "output_type": "execute_result"
    }
   ],
   "source": [
    "rho = vaeqst.GHZState(5)\n",
    "sig = vaeqst.RandomCliffordState(5)\n",
    "rho.fidelity(sig), sig.fidelity(rho)"
   ]
  },
  {
   "cell_type": "markdown",
   "metadata": {},
   "source": [
    "Fidelity of a state with itself is always 1, even if the state is mixed."
   ]
  },
  {
   "cell_type": "code",
   "execution_count": 24,
   "metadata": {},
   "outputs": [
    {
     "data": {
      "text/plain": [
       "1"
      ]
     },
     "execution_count": 24,
     "metadata": {},
     "output_type": "execute_result"
    }
   ],
   "source": [
    "rho = vaeqst.StabilizerState(5, r=2)\n",
    "rho.fidelity(rho)"
   ]
  },
  {
   "cell_type": "markdown",
   "metadata": {},
   "source": [
    "#### Entanglement Entropy"
   ]
  },
  {
   "cell_type": "markdown",
   "metadata": {},
   "source": [
    "`StabilizerState.entropy(A)` calculate the entanglement entropy of the stabilizer state in region $A$.\n",
    "\n",
    "**Parameters:**\n",
    "* `A`: a one-hot array of size $N$ specifying the entanglement region. $A_i=1$ if $i\\in A$ otherwise $A_i=0$.\n",
    "\n",
    "**Returns:**\n",
    "* Entanglement entropy $S_\\rho(A)$ in unit of bit (in log2 base).\n",
    "\n",
    "Example:"
   ]
  },
  {
   "cell_type": "code",
   "execution_count": 11,
   "metadata": {},
   "outputs": [
    {
     "data": {
      "text/plain": [
       "2.0"
      ]
     },
     "execution_count": 11,
     "metadata": {},
     "output_type": "execute_result"
    }
   ],
   "source": [
    "A = numpy.array([0,1,0,1,0])\n",
    "vaeqst.RandomCliffordState(5).entropy(A)"
   ]
  },
  {
   "cell_type": "markdown",
   "metadata": {},
   "source": [
    "#### Tokenize"
   ]
  },
  {
   "cell_type": "markdown",
   "metadata": {},
   "source": [
    "`StabilizerState.tokenize()` tokenize the stabilizer basis. This could be useful for machine learning task. The tokens can be encoded by language processing techniques.\n",
    "\n",
    "**Rules:**\n",
    "* 0 = I\n",
    "* 1 = X\n",
    "* 2 = Y\n",
    "* 3 = Z\n",
    "* 4 = +\n",
    "* 5 = -\n",
    "* 6 = (+/-)\n",
    "\n",
    "\n",
    "Example:"
   ]
  },
  {
   "cell_type": "code",
   "execution_count": 20,
   "metadata": {},
   "outputs": [
    {
     "name": "stdout",
     "output_type": "stream",
     "text": [
      "state:\n",
      " StabilizerState(\n",
      " +ZIXZI\n",
      " -YIIYX\n",
      " -YZXXZ\n",
      " +XIYIZ\n",
      " +ZYIZX)\n"
     ]
    },
    {
     "data": {
      "text/plain": [
       "array([[3, 0, 1, 3, 0, 4],\n",
       "       [2, 0, 0, 2, 1, 5],\n",
       "       [2, 3, 1, 1, 3, 5],\n",
       "       [1, 0, 2, 0, 3, 4],\n",
       "       [3, 2, 0, 3, 1, 4]])"
      ]
     },
     "execution_count": 20,
     "metadata": {},
     "output_type": "execute_result"
    }
   ],
   "source": [
    "rho = vaeqst.RandomCliffordState(5)\n",
    "print('state:\\n',rho)\n",
    "rho.tokenize()"
   ]
  },
  {
   "cell_type": "markdown",
   "metadata": {},
   "source": [
    "#### Sample"
   ]
  },
  {
   "cell_type": "markdown",
   "metadata": {},
   "source": [
    "`Stabilizer.sample(L)` sample $L$ stabilizers from the stabilizer group, return in the token form.\n",
    "\n",
    "Example:"
   ]
  },
  {
   "cell_type": "code",
   "execution_count": 21,
   "metadata": {},
   "outputs": [
    {
     "data": {
      "text/plain": [
       "array([[0, 3, 1, 3, 2, 5],\n",
       "       [3, 2, 3, 2, 3, 5],\n",
       "       [2, 3, 1, 1, 3, 5]])"
      ]
     },
     "execution_count": 21,
     "metadata": {},
     "output_type": "execute_result"
    }
   ],
   "source": [
    "rho.sample(3)"
   ]
  },
  {
   "cell_type": "markdown",
   "metadata": {},
   "source": [
    "## RandomCliffordState"
   ]
  },
  {
   "cell_type": "markdown",
   "metadata": {},
   "source": [
    "`RandomClifordState(N, r=None)` is a subclass of `StabilizerState`. It represents a random stabilizer state generated by unitary transformations sampled uniformly in the global Clifford group.\n",
    "\n",
    "**Parameters**\n",
    "- `N`: number of physical qubits.\n",
    "- `r`: number of logical qubits.\n",
    "\n",
    "Example:"
   ]
  },
  {
   "cell_type": "code",
   "execution_count": 38,
   "metadata": {},
   "outputs": [
    {
     "data": {
      "text/plain": [
       "StabilizerState(\n",
       " +ZIIIYIYYXZIXYIZZYYIY\n",
       " +XXYZYZXZXIIXZXXYXYYX\n",
       " +IXIYIIYXYXZXYYZIZZXX\n",
       " +IXIYXYXIXIXXYYIZIYII\n",
       " -IZXXYYIYXYXYIIXZXYXI\n",
       " -ZYIZYIZZXXXZIZYIIYIX\n",
       " -ZIYYZIZZIIIYXIXIIYII\n",
       " -IZIIZIZXYZXIZZIIZIYY\n",
       " +ZYYIZZYXIYZIXYYXZXIY\n",
       " -IZIXXYIZXXZXYZZYYZYZ\n",
       " +ZZYXZZXZXIYZYZXYZYIX\n",
       " +IZYZZYYIXIZYIIYXIZYX\n",
       " -IXZZZZZXIYYZYXXZZXXI\n",
       " +YYZZXZIYYIZXIYYZXXII\n",
       " +IYZZZZXZYIZIIIYIZYII\n",
       " +IIZZYYZYYYYIXIIZYIYI\n",
       " -YXZZIXZXIIZIZIIIYXIZ\n",
       " +IZIXYZZZXXIXIZYIYYXY\n",
       " -ZZZIZXIIXYZXXZIZYYIZ\n",
       " -IIIYXIZIZZXXIZYIZZII)"
      ]
     },
     "execution_count": 38,
     "metadata": {},
     "output_type": "execute_result"
    }
   ],
   "source": [
    "vaeqst.RandomCliffordState(20)"
   ]
  },
  {
   "cell_type": "markdown",
   "metadata": {},
   "source": [
    "### Random Stabilizer Algorithm"
   ]
  },
  {
   "cell_type": "markdown",
   "metadata": {},
   "source": [
    "The algorithm generates a random stabilizer tableau, corresponding to a uniformly sampled element in the global Clifford group. The problem can be solved iteratively. \n",
    "* Let $(\\mathcal{S}_{N-1}, \\mathcal{D}_{N-1})$ be the sets of stabilizers and destabilizers (paired up) of $(N-1)$ qubits.\n",
    "* The sets can be expanded to $N$ qubits by\n",
    "$$\\mathcal{S}_{N}:\\left\\{\\begin{array}{ll}\n",
    "S_0=U (Z\\otimes I^{\\otimes (N-1)}) U^\\dagger & \\\\\n",
    "S_{i+1}=U (I\\otimes S'_{i}) U^\\dagger & \\text{for }S_i\\in \\mathcal{S}_{N-1}\n",
    "\\end{array}\\right.$$\n",
    "$$\\mathcal{D}_{N}:\\left\\{\\begin{array}{ll}\n",
    "D_0=U (\\left\\{\\begin{array}{c}X\\\\Y\\end{array}\\right\\}\\otimes I^{\\otimes (N-1)}) U^\\dagger & \\\\\n",
    "D_{i+1}=U (I\\otimes D'_{i}) U^\\dagger & \\text{for }D_i\\in \\mathcal{D}_{N-1}\n",
    "\\end{array}\\right.$$\n",
    "where $U$ is a random Clifford rotation on $N$ qubits.\n",
    "* $U$ can be generated by first sample a random pair of stabilizer $S_0$ and destablizer $D_0$, and then find the Clifford rotion to diagonalize them to the first qubit."
   ]
  },
  {
   "cell_type": "markdown",
   "metadata": {},
   "source": [
    "#### Random Stabilizer-Destabilizer Pair"
   ]
  },
  {
   "cell_type": "markdown",
   "metadata": {},
   "source": [
    "Using binary representation of Pauli operators,\n",
    "* Generate a random non-trivial stabilizer $S_0$ by sampling a binary array of $2N$ components, excluding the all-0 case. (If all-0 array is sampled, reject it and resample, until the vector is not all zero).\n",
    "* Generate a random destabilizer $D_0$ by \n",
    "    * first sampling a binary array of $2N$ components,\n",
    "    * if $D_0$ anticommute with $S_0$: we are done,\n",
    "    * if $D_0$ commute with $S_0$: pick the first nontrivial qubit on which $S_0$ acts, modify the corresponding $D_0$ operator on that qubit to flip the commutation relation. The modification is given by the following table.\n",
    "    \n",
    "| S\\D  | I 00 | X 10 | Y 11 | Z 01 |\n",
    "|------|------|------|------|------|\n",
    "| X 10 | Z 01 | Y 11 | X 10 | I 00 |\n",
    "| Y 11 | X 10 | I 00 | Z 01 | Y 11 |\n",
    "| Z 01 | Y 11 | Z 01 | I 00 | X 10 |\n",
    "\n",
    "The rule is:\n",
    "$$x_i^{(D)} \\to x_i^{(D)} + z_i^{(S)}, \\quad z_i^{(D)}\\to z_i^{(D)} + x_i^{(S)} + z_i^{(S)}$$"
   ]
  },
  {
   "cell_type": "markdown",
   "metadata": {},
   "source": [
    "#### Find Clifford Rotation"
   ]
  },
  {
   "cell_type": "markdown",
   "metadata": {},
   "source": [
    "To diagonalize $S_0\\to Z_0$ and $D_0\\to X_0\\text{ or }Y_0$.\n",
    "* First diagonalize $S_0$ by\n",
    "    * If $S_0$ commute with $Z_0$,\n",
    "        * If $S_0=I_0\\otimes A$, take the first non-trivial qubit of $A$, permute it cyclically among $X,Y,Z$ to create $B$, then\n",
    "        $$X_0\\otimes B: S_0\\to X_0\\otimes AB$$\n",
    "        * If $S_0=Z_0\\otimes A$:\n",
    "        $$X_0\\otimes A:S_0\\to Y_0\\otimes I$$\n",
    "        * Now $S_0$ has been transformed to anticommute with $Z_0$.\n",
    "    * If $S_0$ anticommute with $Z_0$:\n",
    "       $$S_0Z_0: S_0\\to Z_0\\otimes I$$\n",
    "* Now $S_0=Z_0\\otimes I$, $D_0$ must have been transformed to the form $D_0=\\begin{array}{c}X_0\\\\ Y_0\\end{array}\\otimes C$.\n",
    "* Then diagonalize $D_0$ by:\n",
    "$$Z_0\\otimes C: Z_0\\otimes I\\to Z_0\\otimes I, D_0\\to \\begin{array}{c}X_0\\\\ Y_0\\end{array}\\otimes I.$$\n",
    "\n",
    "Collect the Clifford roations along the way and apply them in reverse order to scramble the stabilizers in $(\\mathcal{S}_{N-1}, \\mathcal{D}_{N-1})$ to the $N$ qubit system."
   ]
  },
  {
   "cell_type": "markdown",
   "metadata": {},
   "source": [
    "## RandomPauliState"
   ]
  },
  {
   "cell_type": "markdown",
   "metadata": {},
   "source": [
    "`RandomPauliState(N, r=None)` is a subclass of `StabilizerState`. It represents a random stabilizer state generated by unitary transformations sampled uniformly in the local (onsite) Clifford group.\n",
    "\n",
    "**Parameters**\n",
    "- `N`: number of physical qubits.\n",
    "- `r`: number of logical qubits.\n",
    "\n",
    "Example:"
   ]
  },
  {
   "cell_type": "code",
   "execution_count": 39,
   "metadata": {},
   "outputs": [
    {
     "data": {
      "text/plain": [
       "StabilizerState(\n",
       " +YIIIIIIIIIIIIIIIIIII\n",
       " +IZIIIIIIIIIIIIIIIIII\n",
       " -IIZIIIIIIIIIIIIIIIII\n",
       " -IIIYIIIIIIIIIIIIIIII\n",
       " -IIIIZIIIIIIIIIIIIIII\n",
       " -IIIIIYIIIIIIIIIIIIII\n",
       " -IIIIIIXIIIIIIIIIIIII\n",
       " -IIIIIIIZIIIIIIIIIIII\n",
       " +IIIIIIIIXIIIIIIIIIII\n",
       " +IIIIIIIIIZIIIIIIIIII\n",
       " -IIIIIIIIIIXIIIIIIIII\n",
       " +IIIIIIIIIIIXIIIIIIII\n",
       " -IIIIIIIIIIIIYIIIIIII\n",
       " +IIIIIIIIIIIIIZIIIIII\n",
       " -IIIIIIIIIIIIIIYIIIII\n",
       " +IIIIIIIIIIIIIIIZIIII\n",
       " -IIIIIIIIIIIIIIIIYIII\n",
       " +IIIIIIIIIIIIIIIIIYII\n",
       " -IIIIIIIIIIIIIIIIIIXI\n",
       " +IIIIIIIIIIIIIIIIIIIY)"
      ]
     },
     "execution_count": 39,
     "metadata": {},
     "output_type": "execute_result"
    }
   ],
   "source": [
    "vaeqst.RandomPauliState(20)"
   ]
  },
  {
   "cell_type": "markdown",
   "metadata": {},
   "source": [
    "## GHZState"
   ]
  },
  {
   "cell_type": "markdown",
   "metadata": {},
   "source": [
    "`GHZState(N)` is a subclass of `StabilizerState`. It represents a GHZ state $\\rho=|\\Psi\\rangle\\langle\\Psi|$, with $|\\Psi\\rangle=\\frac{1}{\\sqrt{2}}(|00\\cdots 0\\rangle+|11\\cdots 1\\rangle)$.\n",
    "\n",
    "**Parameters**\n",
    "- `N`: number of physical qubits.\n",
    "\n",
    "Example:"
   ]
  },
  {
   "cell_type": "code",
   "execution_count": 40,
   "metadata": {},
   "outputs": [
    {
     "data": {
      "text/plain": [
       "StabilizerState(\n",
       " +ZZIIIIIIIIIIIIIIIIII\n",
       " +IZZIIIIIIIIIIIIIIIII\n",
       " +IIZZIIIIIIIIIIIIIIII\n",
       " +IIIZZIIIIIIIIIIIIIII\n",
       " +IIIIZZIIIIIIIIIIIIII\n",
       " +IIIIIZZIIIIIIIIIIIII\n",
       " +IIIIIIZZIIIIIIIIIIII\n",
       " +IIIIIIIZZIIIIIIIIIII\n",
       " +IIIIIIIIZZIIIIIIIIII\n",
       " +IIIIIIIIIZZIIIIIIIII\n",
       " +IIIIIIIIIIZZIIIIIIII\n",
       " +IIIIIIIIIIIZZIIIIIII\n",
       " +IIIIIIIIIIIIZZIIIIII\n",
       " +IIIIIIIIIIIIIZZIIIII\n",
       " +IIIIIIIIIIIIIIZZIIII\n",
       " +IIIIIIIIIIIIIIIZZIII\n",
       " +IIIIIIIIIIIIIIIIZZII\n",
       " +IIIIIIIIIIIIIIIIIZZI\n",
       " +IIIIIIIIIIIIIIIIIIZZ\n",
       " +XXXXXXXXXXXXXXXXXXXX)"
      ]
     },
     "execution_count": 40,
     "metadata": {},
     "output_type": "execute_result"
    }
   ],
   "source": [
    "vaeqst.GHZState(20)"
   ]
  },
  {
   "cell_type": "code",
   "execution_count": 23,
   "metadata": {},
   "outputs": [
    {
     "data": {
      "text/plain": [
       "StabilizerState(\n",
       "   +XXXX\n",
       "   +IIZZ\n",
       "   +IZZI\n",
       "   +ZZII)"
      ]
     },
     "execution_count": 23,
     "metadata": {},
     "output_type": "execute_result"
    }
   ],
   "source": [
    "stabilizer.ghz_state(4)"
   ]
  },
  {
   "cell_type": "code",
   "execution_count": 81,
   "metadata": {},
   "outputs": [
    {
     "data": {
      "text/plain": [
       "-iY"
      ]
     },
     "execution_count": 81,
     "metadata": {},
     "output_type": "execute_result"
    }
   ],
   "source": [
    "paulialg.pauli('X')@paulialg.pauli('Z')"
   ]
  },
  {
   "cell_type": "code",
   "execution_count": 83,
   "metadata": {},
   "outputs": [
    {
     "data": {
      "text/plain": [
       "array([1, 1])"
      ]
     },
     "execution_count": 83,
     "metadata": {},
     "output_type": "execute_result"
    }
   ],
   "source": [
    "(paulialg.pauli('X')@paulialg.pauli('Z')).g"
   ]
  },
  {
   "cell_type": "code",
   "execution_count": 84,
   "metadata": {},
   "outputs": [
    {
     "data": {
      "text/plain": [
       "3"
      ]
     },
     "execution_count": 84,
     "metadata": {},
     "output_type": "execute_result"
    }
   ],
   "source": [
    "(paulialg.pauli('X')@paulialg.pauli('Z')).p"
   ]
  },
  {
   "cell_type": "code",
   "execution_count": null,
   "metadata": {},
   "outputs": [],
   "source": []
  }
 ],
 "metadata": {
  "kernelspec": {
   "display_name": "Python 3",
   "language": "python",
   "name": "python3"
  },
  "language_info": {
   "codemirror_mode": {
    "name": "ipython",
    "version": 3
   },
   "file_extension": ".py",
   "mimetype": "text/x-python",
   "name": "python",
   "nbconvert_exporter": "python",
   "pygments_lexer": "ipython3",
   "version": "3.9.2"
  }
 },
 "nbformat": 4,
 "nbformat_minor": 4
}
