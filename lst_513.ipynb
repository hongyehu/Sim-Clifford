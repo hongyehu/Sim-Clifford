{
 "cells": [
  {
   "cell_type": "markdown",
   "id": "8d8d2169",
   "metadata": {},
   "source": [
    "# Logical shadow tomography: $[[5, 1, 3]]$ code example"
   ]
  },
  {
   "cell_type": "markdown",
   "id": "9848c954",
   "metadata": {},
   "source": [
    "## Setup"
   ]
  },
  {
   "cell_type": "code",
   "execution_count": 1,
   "id": "b6d83891-7801-4737-ae8c-bbc3a46df087",
   "metadata": {},
   "outputs": [],
   "source": [
    "from joblib import Parallel, delayed\n",
    "\n",
    "import matplotlib.pyplot as plt\n",
    "import numpy as np\n",
    "from numba import njit\n",
    "\n",
    "from base.stabilizer import random_clifford_state, stabilizer_state, stoc_depolarize_map\n",
    "from base.utils import stabilizer_projection_full"
   ]
  },
  {
   "cell_type": "code",
   "execution_count": 2,
   "id": "46b46a06",
   "metadata": {},
   "outputs": [],
   "source": [
    "plt.rcParams.update({\"font.family\": \"serif\", \"font.size\": 16})"
   ]
  },
  {
   "cell_type": "markdown",
   "id": "572b23d8-9c08-4b58-8e85-eb2d9896059c",
   "metadata": {},
   "source": [
    "## Experiment"
   ]
  },
  {
   "cell_type": "code",
   "execution_count": 3,
   "id": "cedd19ce",
   "metadata": {
    "tags": [
     "parameters"
    ]
   },
   "outputs": [],
   "source": [
    "\"\"\"Set experimental parameters.\"\"\"\n",
    "num_trajectories: int = 100_000  # Number of trajectories to sample from.\n",
    "\n",
    "pmin: float = 0.0  # Minimum depolarizing noise rate.\n",
    "pmax: float = 0.5  # Maximum depolarizing noise rate.\n",
    "step: float = 0.05  # Step for depolarizing noise rates. Values are `np.arange(pmin, pmax + step, step)`.\n",
    "\n",
    "njobs: int = 2  # Number of parallel workers to use when sampling trajectories."
   ]
  },
  {
   "cell_type": "code",
   "execution_count": 7,
   "id": "269f49ba",
   "metadata": {},
   "outputs": [],
   "source": [
    "pvalues = np.arange(pmin, pmax + step, step)\n",
    "N: int = 5"
   ]
  },
  {
   "cell_type": "code",
   "execution_count": 8,
   "id": "ce16a55e",
   "metadata": {},
   "outputs": [],
   "source": [
    "def sample_trajectory(p: float):\n",
    "    # Initial stabilizer state. TODO: This could be sped up by computing once \n",
    "    #  then making a copy here.\n",
    "    state = stabilizer_state(\"ZZZZZ\", \"XZZXI\", \"IXZZX\", \"XIXZZ\", \"ZXIXZ\")\n",
    "    gs0 = state.gs.copy()\n",
    "    ps0 = state.ps.copy()\n",
    "\n",
    "    # Apply single-qubit depolarizing noise.\n",
    "    state = stoc_depolarize_map(state, p)\n",
    "\n",
    "    # Do shadow tomography.\n",
    "    obs = random_clifford_state(N)\n",
    "    state.measure(obs)\n",
    "\n",
    "    gs, ps, _, tmp_PsigmaP = stabilizer_projection_full(\n",
    "        state.gs, state.ps, gs0[: N - 1].copy(), ps0[: N - 1].copy(), 0\n",
    "    )\n",
    "    _, _, _, tmp = stabilizer_projection_full(gs, ps, gs0[:N], ps0[:N], 0)\n",
    "    \n",
    "    return tmp_PsigmaP * tmp, tmp_PsigmaP"
   ]
  },
  {
   "cell_type": "code",
   "execution_count": 9,
   "id": "1c66920f-9645-41ec-b7c6-043ecee36513",
   "metadata": {},
   "outputs": [
    {
     "name": "stdout",
     "output_type": "stream",
     "text": [
      "Status: On noise rate p = 0.500\r"
     ]
    }
   ],
   "source": [
    "\"\"\"Run the experiment.\"\"\"\n",
    "fid_list = np.ones_like(pvalues)\n",
    "\n",
    "for (i, p) in enumerate(pvalues):\n",
    "    # Status update.\n",
    "    print(f\"Status: On noise rate p = {p:.3f}\", end=\"\\r\")\n",
    "\n",
    "    values = Parallel(n_jobs=njobs)(\n",
    "        delayed(sample_trajectory)(p) for _ in range(num_trajectories)\n",
    "    )\n",
    "    num, denom = np.sum(values, axis=0)\n",
    "\n",
    "    # Compute final fidelity.\n",
    "    fid = ((2 ** N + 1) * (num / num_trajectories) - 1) / ((denom / num_trajectories) * (2 ** N + 1) - 2)\n",
    "    fid_list[i] = fid"
   ]
  },
  {
   "cell_type": "code",
   "execution_count": 10,
   "id": "f01a632f",
   "metadata": {},
   "outputs": [],
   "source": [
    "def FL(p):\n",
    "    N = (8 * p ** 2 - 9 * p + 3) * (2 * p - 3) ** 3\n",
    "    D = 240 * p ** 4 - 720 * p ** 3 + 810 * p ** 2 - 405 * p + 81\n",
    "    return -N / D"
   ]
  },
  {
   "cell_type": "code",
   "execution_count": 11,
   "id": "c29cdb22-fe1d-4ee5-af51-c1308103b866",
   "metadata": {},
   "outputs": [
    {
     "data": {
      "image/png": "[encoded data removed]",
      "text/plain": [
       "<Figure size 432x288 with 1 Axes>"
      ]
     },
     "metadata": {
      "needs_background": "light"
     },
     "output_type": "display_data"
    }
   ],
   "source": [
    "plt.plot(pvalues, 1 - fid_list, \"^\", markersize=8, label=\"LST\")\n",
    "plt.plot(pvalues, 2 * pvalues / 3, \"-.\", c=\"k\", label=\"Physical\")\n",
    "plt.plot(\n",
    "    np.linspace(0, 0.5, 50), 1 - FL(np.linspace(0, 0.5, 50)), c=\"C3\", label=\"Analytical\"\n",
    ")\n",
    "\n",
    "plt.xlabel(\"$p$\")\n",
    "plt.ylabel(\"$1 - F$\")\n",
    "plt.legend();"
   ]
  },
  {
   "cell_type": "markdown",
   "id": "21bc22f7",
   "metadata": {},
   "source": []
  }
 ],
 "metadata": {
  "celltoolbar": "Tags",
  "kernelspec": {
   "display_name": "envlst",
   "language": "python",
   "name": "envlst"
  },
  "language_info": {
   "codemirror_mode": {
    "name": "ipython",
    "version": 3
   },
   "file_extension": ".py",
   "mimetype": "text/x-python",
   "name": "python",
   "nbconvert_exporter": "python",
   "pygments_lexer": "ipython3",
   "version": "3.7.8"
  }
 },
 "nbformat": 4,
 "nbformat_minor": 5
}
