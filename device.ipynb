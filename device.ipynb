{
 "cells": [
  {
   "cell_type": "code",
   "execution_count": 1,
   "metadata": {},
   "outputs": [],
   "source": [
    "import numpy\n",
    "from context import vaeqst"
   ]
  },
  {
   "cell_type": "markdown",
   "metadata": {},
   "source": [
    "# Quantum Device"
   ]
  },
  {
   "cell_type": "markdown",
   "metadata": {},
   "source": [
    "## QuantumDevice"
   ]
  },
  {
   "cell_type": "markdown",
   "metadata": {},
   "source": [
    "`QuantumDevice(state, circuit)` is a high-level interface to simulate the data acquisition protocol on a stabilizer state $\\rho$ via a random Clifford circuit $U$.\n",
    "\n",
    "**Parameters:**\n",
    "* `state` - a `StabilizerState` representing the base state $\\rho$.\n",
    "* `circuit` - a `RandomCliffordCircuit` representing the unitary channel $U$ in the measurement protocol."
   ]
  },
  {
   "cell_type": "markdown",
   "metadata": {},
   "source": [
    "### Methods"
   ]
  },
  {
   "cell_type": "markdown",
   "metadata": {},
   "source": [
    "#### measure"
   ]
  },
  {
   "cell_type": "markdown",
   "metadata": {},
   "source": [
    "`QuantumDevice.measure(nsample)` provides a generator to serve $n_\\text{sample}$ of classical snapshot states from the posterior POVM $\\mathcal{E}_{\\sigma|\\rho}$.\n",
    "\n",
    "* Forward protocol (physical):\n",
    "    * Get a copy of $\\rho$.\n",
    "    * Evolve the state by the unitary circuit $\\rho\\to \\rho'=U\\rho U^\\dagger$.\n",
    "    * Measure in the computational basis $\\rho'\\to|b\\rangle\\langle b|$.\n",
    "    * Collect the snapshot state $\\hat{\\sigma}=U^\\dagger |b\\rangle\\langle b| U$.\n",
    "    \n",
    "* Backward protocol (computational):\n",
    "    * Start from the all-up state $M_0=|\\vec{0}\\rangle\\langle \\vec{0}|=\\prod_i\\frac{1+Z_i}{2}$.\n",
    "    * Transform backward through the unitary channel $M_0\\to M= U^\\dagger M_0 U=\\prod_i\\frac{1+Z'_i}{2}$ to the measurement basis.\n",
    "    * Get a copy of $\\rho$, measure observables $Z'_i$ , obtain measurement outcome $b_i$.\n",
    "    * Collect the post measurement state $\\hat{\\sigma}=\\prod_{i}\\frac{1+(-)^{b_i}Z'_i}{2}=\\prod_{i}\\frac{1+g_i}{2}$ (by redefining $g_i=(-)^{b_i}Z'_i$).\n",
    "    \n",
    "Both protocols collect the classical snapshot $\\hat{\\sigma}$ correctly. The backward protocol is implement in the computation."
   ]
  },
  {
   "cell_type": "markdown",
   "metadata": {},
   "source": [
    "Example:"
   ]
  },
  {
   "cell_type": "code",
   "execution_count": 15,
   "metadata": {},
   "outputs": [
    {
     "data": {
      "text/plain": [
       "QuantumDevice(\n",
       "    StabilizerState(\n",
       "     +ZZIIII\n",
       "     +IZZIII\n",
       "     +IIZZII\n",
       "     +IIIZZI\n",
       "     +IIIIZZ\n",
       "     +XXXXXX),\n",
       "    |[0,1,2,3,4,5]|)"
      ]
     },
     "execution_count": 15,
     "metadata": {},
     "output_type": "execute_result"
    }
   ],
   "source": [
    "qdvc = vaeqst.QuantumDevice(vaeqst.GHZState(6), vaeqst.GlobalRCC(6))\n",
    "qdvc"
   ]
  },
  {
   "cell_type": "code",
   "execution_count": 18,
   "metadata": {},
   "outputs": [
    {
     "name": "stdout",
     "output_type": "stream",
     "text": [
      "StabilizerState(\n",
      " +ZXZXXZ\n",
      " -XIIXYI\n",
      " -ZIIYIY\n",
      " +YZYIXX\n",
      " +IYZYZY\n",
      " +YIXIZX)\n",
      "expectation:  [0 0 0 0 0 0]\n",
      "StabilizerState(\n",
      " +ZZIIII\n",
      " +ZZXIYI\n",
      " +YXYZZY\n",
      " -ZZIZYZ\n",
      " +IZZIXX\n",
      " +IZZYZZ)\n",
      "expectation:  [1 0 0 0 0 0]\n",
      "StabilizerState(\n",
      " +IYXYIY\n",
      " +YYZIZZ\n",
      " -YYXIYI\n",
      " -IXZZIX\n",
      " +ZIZIIX\n",
      " -YXXYXX)\n",
      "expectation:  [0 0 0 0 0 1]\n",
      "StabilizerState(\n",
      " +IYIIYI\n",
      " -YXZYZZ\n",
      " +IIZYYY\n",
      " -YXZIZZ\n",
      " -ZZXIXI\n",
      " -ZZZIZZ)\n",
      "expectation:  [0 0 0 0 0 0]\n",
      "StabilizerState(\n",
      " +IXZZXI\n",
      " +XZIZYZ\n",
      " +XIIYYX\n",
      " +ZZZIZI\n",
      " +XXIZIY\n",
      " +XXXXXX)\n",
      "expectation:  [0 0 0 1 0 1]\n"
     ]
    }
   ],
   "source": [
    "for snapshot in qdvc.measure(5):\n",
    "    print(snapshot)\n",
    "    print('expectation: ',qdvc.state.expect(snapshot))"
   ]
  },
  {
   "cell_type": "markdown",
   "metadata": {},
   "source": [
    "### Fidelity Estimate"
   ]
  },
  {
   "cell_type": "markdown",
   "metadata": {},
   "source": [
    "Reconstruction map for\n",
    "* global Clifford measurement,\n",
    "$$\\tilde{\\rho}=\\mathcal{M}^{-1}[\\sigma] = (2^N+1)\\sigma-\\mathbb{1}=\\mathbb{E}_{\\mathcal{E}_{\\sigma|\\rho}}(1+2^{-N})\\prod_i(g_i+\\mathbb{1})-\\mathbb{1}$$\n",
    "* local Clifford measurement,\n",
    "$$\\tilde{\\rho}=\\mathcal{M}^{-1}[\\sigma] = \\prod_i((2+1)\\sigma_i-\\mathbb{1}_i) = \\mathbb{E}_{\\mathcal{E}_{\\sigma|\\rho}}\\prod_i\\frac{3g_i+\\mathbb{1}}{2}.$$\n",
    "\n",
    "\n"
   ]
  },
  {
   "cell_type": "markdown",
   "metadata": {},
   "source": [
    "\n",
    "$$F=\\langle\\rho\\rangle=\\mathbb{E}_{\\mathcal{E}_{\\sigma|\\rho}}(1+2^{-N})\\prod_i(1+\\langle g_i\\rangle)-1.$$"
   ]
  },
  {
   "cell_type": "code",
   "execution_count": 23,
   "metadata": {},
   "outputs": [
    {
     "data": {
      "text/plain": [
       "1.0520000000000018"
      ]
     },
     "execution_count": 23,
     "metadata": {},
     "output_type": "execute_result"
    }
   ],
   "source": [
    "N = 50\n",
    "nsample = 1000\n",
    "qdvc = vaeqst.QuantumDevice(vaeqst.GHZState(N), vaeqst.GlobalRCC(N))\n",
    "numpy.mean([(1+2**(-qdvc.N))*numpy.prod(1+qdvc.state.expect(snapshot))-1 for snapshot in qdvc.measure(nsample)])"
   ]
  }
 ],
 "metadata": {
  "kernelspec": {
   "display_name": "Python 3",
   "language": "python",
   "name": "python3"
  },
  "language_info": {
   "codemirror_mode": {
    "name": "ipython",
    "version": 3
   },
   "file_extension": ".py",
   "mimetype": "text/x-python",
   "name": "python",
   "nbconvert_exporter": "python",
   "pygments_lexer": "ipython3",
   "version": "3.7.4"
  }
 },
 "nbformat": 4,
 "nbformat_minor": 4
}
