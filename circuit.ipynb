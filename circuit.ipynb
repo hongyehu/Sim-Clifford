{
 "cells": [
  {
   "cell_type": "code",
   "execution_count": 1,
   "metadata": {},
   "outputs": [],
   "source": [
    "import numpy\n",
    "from context import vaeqst"
   ]
  },
  {
   "cell_type": "code",
   "execution_count": 1,
   "metadata": {},
   "outputs": [],
   "source": [
    "import numpy\n",
    "from context import base"
   ]
  },
  {
   "cell_type": "code",
   "execution_count": 2,
   "metadata": {},
   "outputs": [
    {
     "ename": "AttributeError",
     "evalue": "module 'base' has no attribute 'RandomCliffordGate'",
     "output_type": "error",
     "traceback": [
      "\u001b[0;31m---------------------------------------------------------------------------\u001b[0m",
      "\u001b[0;31mAttributeError\u001b[0m                            Traceback (most recent call last)",
      "\u001b[0;32m<ipython-input-2-740c170deee7>\u001b[0m in \u001b[0;36m<module>\u001b[0;34m\u001b[0m\n\u001b[0;32m----> 1\u001b[0;31m \u001b[0mbase\u001b[0m\u001b[0;34m.\u001b[0m\u001b[0mRandomCliffordGate\u001b[0m\u001b[0;34m(\u001b[0m\u001b[0;36m0\u001b[0m\u001b[0;34m,\u001b[0m\u001b[0;36m1\u001b[0m\u001b[0;34m)\u001b[0m\u001b[0;34m\u001b[0m\u001b[0;34m\u001b[0m\u001b[0m\n\u001b[0m",
      "\u001b[0;31mAttributeError\u001b[0m: module 'base' has no attribute 'RandomCliffordGate'"
     ]
    }
   ],
   "source": [
    "base.RandomCliffordGate(0,1)"
   ]
  },
  {
   "cell_type": "markdown",
   "metadata": {},
   "source": [
    "# Random Clifford Circuit"
   ]
  },
  {
   "cell_type": "markdown",
   "metadata": {},
   "source": [
    "## RandomCliffordGate"
   ]
  },
  {
   "cell_type": "markdown",
   "metadata": {},
   "source": [
    "`RandomClifordGate(*qubits)` represents a random Clifford gate acting on a set of qubits. There is no further parameter to specify, as it is not any particular gate, but a placeholder for a generic random Clifford gate.\n",
    "\n",
    "**Parameters**\n",
    "- `*qubits`: indices of the set of qubits on which the gate acts on.\n",
    "\n",
    "Example:"
   ]
  },
  {
   "cell_type": "code",
   "execution_count": 3,
   "metadata": {},
   "outputs": [
    {
     "data": {
      "text/plain": [
       "[0,1]"
      ]
     },
     "execution_count": 3,
     "metadata": {},
     "output_type": "execute_result"
    }
   ],
   "source": [
    "gate = vaeqst.RandomCliffordGate(0,1)\n",
    "gate"
   ]
  },
  {
   "cell_type": "markdown",
   "metadata": {},
   "source": [
    "`RandomCliffordGate.random_clifford_map()` evokes a random sampling of the Clifford unitary, return in the form of operator mapping table $M$ and the corresponding sign indicator $h$. Such that under the mapping, any Pauli operator $\\sigma_g$  specified by the binary representation $g$ (and localized within the gate support) gets mapped to\n",
    "$$\\sigma_g \\to \\prod_{i=1}^{2n} (-)^{h_i}\\sigma_{M_i}^{g_i}.$$\n",
    "The binary representation is in the $g=(x_0,z_0,x_1,z_1,\\cdots)$ basis."
   ]
  },
  {
   "cell_type": "code",
   "execution_count": 4,
   "metadata": {},
   "outputs": [
    {
     "data": {
      "text/plain": [
       "(array([[1, 1, 1, 1],\n",
       "        [0, 0, 1, 0],\n",
       "        [1, 0, 1, 0],\n",
       "        [0, 1, 1, 0]]), array([0, 1, 0, 1]))"
      ]
     },
     "execution_count": 4,
     "metadata": {},
     "output_type": "execute_result"
    }
   ],
   "source": [
    "gate.random_clifford_map()"
   ]
  },
  {
   "cell_type": "markdown",
   "metadata": {},
   "source": [
    "## RandomCliffordLayer"
   ]
  },
  {
   "cell_type": "markdown",
   "metadata": {},
   "source": [
    "`RandomCliffordLayer(*gates)` represents a layer of random Clifford gates. \n",
    "\n",
    "**Parameters:**\n",
    "* `*gates`: quantum gates contained in the layer.\n",
    "\n",
    "The gates in the same layer should not overlap with each other (all gates need to commute). To ensure this, we do not manually add gates to the layer, but using the higher level function `.gate()` provided by `RandomCliffordCircuit` (see discussion later).\n",
    "\n",
    "Example:"
   ]
  },
  {
   "cell_type": "code",
   "execution_count": 2,
   "metadata": {},
   "outputs": [
    {
     "data": {
      "text/plain": [
       "|[0,1][3,5]|"
      ]
     },
     "execution_count": 2,
     "metadata": {},
     "output_type": "execute_result"
    }
   ],
   "source": [
    "layer = vaeqst.RandomCliffordLayer(vaeqst.RandomCliffordGate(0,1),vaeqst.RandomCliffordGate(3,5))\n",
    "layer"
   ]
  },
  {
   "cell_type": "markdown",
   "metadata": {},
   "source": [
    "It hosts a list of gates:"
   ]
  },
  {
   "cell_type": "code",
   "execution_count": 6,
   "metadata": {},
   "outputs": [
    {
     "data": {
      "text/plain": [
       "[[0,1], [3,5]]"
      ]
     },
     "execution_count": 6,
     "metadata": {},
     "output_type": "execute_result"
    }
   ],
   "source": [
    "layer.gates"
   ]
  },
  {
   "cell_type": "markdown",
   "metadata": {},
   "source": [
    "Given the total number of qubits $N$, the layer can sample the Clifford unitary (as product of each gate) $U=\\prod_{a}U_a$, and represent it as a single operator mapping (because gates do not overlap, so they maps operators in different supports independently)."
   ]
  },
  {
   "cell_type": "code",
   "execution_count": 5,
   "metadata": {},
   "outputs": [
    {
     "data": {
      "text/plain": [
       "(array([[0, 1, 0, 0, 0, 0, 0, 0, 0, 0, 0, 0],\n",
       "        [1, 1, 0, 1, 0, 0, 0, 0, 0, 0, 0, 0],\n",
       "        [0, 1, 1, 0, 0, 0, 0, 0, 0, 0, 0, 0],\n",
       "        [0, 0, 0, 1, 0, 0, 0, 0, 0, 0, 0, 0],\n",
       "        [0, 0, 0, 0, 1, 0, 0, 0, 0, 0, 0, 0],\n",
       "        [0, 0, 0, 0, 0, 1, 0, 0, 0, 0, 0, 0],\n",
       "        [0, 0, 0, 0, 0, 0, 0, 1, 0, 0, 0, 0],\n",
       "        [0, 0, 0, 0, 0, 0, 1, 1, 0, 0, 1, 1],\n",
       "        [0, 0, 0, 0, 0, 0, 0, 0, 1, 0, 0, 0],\n",
       "        [0, 0, 0, 0, 0, 0, 0, 0, 0, 1, 0, 0],\n",
       "        [0, 0, 0, 0, 0, 0, 0, 1, 0, 0, 1, 0],\n",
       "        [0, 0, 0, 0, 0, 0, 0, 0, 0, 0, 1, 1]]),\n",
       " array([0, 0, 1, 1, 0, 0, 1, 1, 0, 0, 1, 0]))"
      ]
     },
     "execution_count": 5,
     "metadata": {},
     "output_type": "execute_result"
    }
   ],
   "source": [
    "layer.random_clifford_map(6)"
   ]
  },
  {
   "cell_type": "markdown",
   "metadata": {},
   "source": [
    "## RandomCliffordCircuit"
   ]
  },
  {
   "cell_type": "markdown",
   "metadata": {},
   "source": [
    "`RandomCliffordCircuit()` represents a quantum circuit of random Clifford gates."
   ]
  },
  {
   "cell_type": "markdown",
   "metadata": {},
   "source": [
    "### Methods"
   ]
  },
  {
   "cell_type": "markdown",
   "metadata": {},
   "source": [
    "#### Construct the  Circuit\n",
    "\n",
    "Example: create a random Clifford circuit."
   ]
  },
  {
   "cell_type": "code",
   "execution_count": 2,
   "metadata": {},
   "outputs": [],
   "source": [
    "circ = vaeqst.RandomCliffordCircuit()"
   ]
  },
  {
   "cell_type": "markdown",
   "metadata": {},
   "source": [
    "Use `.gate(*qubits)` to add random Clifford gates to the circuit."
   ]
  },
  {
   "cell_type": "code",
   "execution_count": 3,
   "metadata": {},
   "outputs": [
    {
     "data": {
      "text/plain": [
       "|[3,4]|\n",
       "|[1,4][0,2]|\n",
       "|[0,1][2,4][3,5]|"
      ]
     },
     "execution_count": 3,
     "metadata": {},
     "output_type": "execute_result"
    }
   ],
   "source": [
    "circ.gate(0,1)\n",
    "circ.gate(2,4)\n",
    "circ.gate(1,4)\n",
    "circ.gate(0,2)\n",
    "circ.gate(3,5)\n",
    "circ.gate(3,4)\n",
    "circ"
   ]
  },
  {
   "cell_type": "markdown",
   "metadata": {},
   "source": [
    "Gates will automatically arranged into layers. Each new gate added to the circuit will commute through the layers if it is not blocked by the existing gates."
   ]
  },
  {
   "cell_type": "markdown",
   "metadata": {},
   "source": [
    "If the number of qubits `.N` is not explicitly defined, it will be dynamically infered from the circuit width, as the largest qubit index of all gates + 1."
   ]
  },
  {
   "cell_type": "code",
   "execution_count": 4,
   "metadata": {},
   "outputs": [
    {
     "data": {
      "text/plain": [
       "6"
      ]
     },
     "execution_count": 4,
     "metadata": {},
     "output_type": "execute_result"
    }
   ],
   "source": [
    "circ.N"
   ]
  },
  {
   "cell_type": "markdown",
   "metadata": {},
   "source": [
    "#### Navigate in the Circuit"
   ]
  },
  {
   "cell_type": "markdown",
   "metadata": {},
   "source": [
    "`.layers_forward()` and `.layers_backward()` provides two generators to iterate over layers in forward and backward order resepctively."
   ]
  },
  {
   "cell_type": "code",
   "execution_count": 4,
   "metadata": {},
   "outputs": [
    {
     "data": {
      "text/plain": [
       "[|[0,1][2,4][3,5]|, |[1,4][0,2]|, |[3,4]|]"
      ]
     },
     "execution_count": 4,
     "metadata": {},
     "output_type": "execute_result"
    }
   ],
   "source": [
    "list(circ.layers_forward())"
   ]
  },
  {
   "cell_type": "code",
   "execution_count": 5,
   "metadata": {},
   "outputs": [
    {
     "data": {
      "text/plain": [
       "[|[3,4]|, |[1,4][0,2]|, |[0,1][2,4][3,5]|]"
      ]
     },
     "execution_count": 5,
     "metadata": {},
     "output_type": "execute_result"
    }
   ],
   "source": [
    "list(circ.layers_backward())"
   ]
  },
  {
   "cell_type": "markdown",
   "metadata": {},
   "source": [
    "`.first_layer` and `.last_layer` points to the first and the last layers."
   ]
  },
  {
   "cell_type": "code",
   "execution_count": 5,
   "metadata": {},
   "outputs": [
    {
     "data": {
      "text/plain": [
       "|[0,1][2,4][3,5]|"
      ]
     },
     "execution_count": 5,
     "metadata": {},
     "output_type": "execute_result"
    }
   ],
   "source": [
    "circ.first_layer"
   ]
  },
  {
   "cell_type": "code",
   "execution_count": 6,
   "metadata": {},
   "outputs": [
    {
     "data": {
      "text/plain": [
       "|[3,4]|"
      ]
     },
     "execution_count": 6,
     "metadata": {},
     "output_type": "execute_result"
    }
   ],
   "source": [
    "circ.last_layer"
   ]
  },
  {
   "cell_type": "markdown",
   "metadata": {},
   "source": [
    "Use `.next_layer` and `.prev_layer` to move forward and backward."
   ]
  },
  {
   "cell_type": "code",
   "execution_count": 7,
   "metadata": {},
   "outputs": [
    {
     "data": {
      "text/plain": [
       "(|[1,4][0,2]|, |[1,4][0,2]|)"
      ]
     },
     "execution_count": 7,
     "metadata": {},
     "output_type": "execute_result"
    }
   ],
   "source": [
    "circ.first_layer.next_layer, circ.last_layer.prev_layer"
   ]
  },
  {
   "cell_type": "markdown",
   "metadata": {},
   "source": [
    "Locate a gate in the circuit."
   ]
  },
  {
   "cell_type": "code",
   "execution_count": 8,
   "metadata": {},
   "outputs": [
    {
     "data": {
      "text/plain": [
       "[3,4]"
      ]
     },
     "execution_count": 8,
     "metadata": {},
     "output_type": "execute_result"
    }
   ],
   "source": [
    "circ.first_layer.next_layer.next_layer.gates[0]"
   ]
  },
  {
   "cell_type": "markdown",
   "metadata": {},
   "source": [
    "#### Apply Circuit to State"
   ]
  },
  {
   "cell_type": "markdown",
   "metadata": {},
   "source": [
    "`.forward(state)` and `.backward(state)` applies the circuit to transform the state forward / backward. \n",
    "* Each call will sample a new random realization of the random Clifford circuit.\n",
    "* The transformation will create a new state, the original state remains untouched."
   ]
  },
  {
   "cell_type": "code",
   "execution_count": 6,
   "metadata": {},
   "outputs": [
    {
     "data": {
      "text/plain": [
       "StabilizerState(\n",
       " +ZIIIII\n",
       " +IZIIII\n",
       " +IIZIII\n",
       " +IIIZII\n",
       " +IIIIZI\n",
       " +IIIIIZ)"
      ]
     },
     "execution_count": 6,
     "metadata": {},
     "output_type": "execute_result"
    }
   ],
   "source": [
    "rho = vaeqst.StabilizerState(6, r=0)\n",
    "rho"
   ]
  },
  {
   "cell_type": "code",
   "execution_count": 7,
   "metadata": {},
   "outputs": [
    {
     "data": {
      "text/plain": [
       "StabilizerState(\n",
       " -XIXIII\n",
       " -IYIIII\n",
       " +ZYYZXI\n",
       " -IIIZIY\n",
       " -ZIYIII\n",
       " -IIIYYX)"
      ]
     },
     "execution_count": 7,
     "metadata": {},
     "output_type": "execute_result"
    }
   ],
   "source": [
    "circ.forward(rho)"
   ]
  },
  {
   "cell_type": "code",
   "execution_count": 8,
   "metadata": {},
   "outputs": [
    {
     "data": {
      "text/plain": [
       "StabilizerState(\n",
       " -ZXIIII\n",
       " +IIYIZI\n",
       " -IIZIYI\n",
       " +XZYIZZ\n",
       " +IIIIIZ\n",
       " -IIIXIZ)"
      ]
     },
     "execution_count": 8,
     "metadata": {},
     "output_type": "execute_result"
    }
   ],
   "source": [
    "circ.backward(rho)"
   ]
  },
  {
   "cell_type": "markdown",
   "metadata": {},
   "source": [
    "#### POVM"
   ]
  },
  {
   "cell_type": "markdown",
   "metadata": {},
   "source": [
    "`.povm(nsample)` provides a generator to sample $n_\\text{sample}$ from the prior POVM based on the circuit by back evolution."
   ]
  },
  {
   "cell_type": "code",
   "execution_count": 15,
   "metadata": {},
   "outputs": [
    {
     "data": {
      "text/plain": [
       "[StabilizerState(\n",
       "  +IIZIYI\n",
       "  +YZYIZI\n",
       "  +ZYIIII\n",
       "  +IIYZZX\n",
       "  +YXZXII\n",
       "  +IIIIIX), StabilizerState(\n",
       "  +ZYIIII\n",
       "  +YXYIZI\n",
       "  +IIIIZI\n",
       "  +XXZIZI\n",
       "  -IIIZIZ\n",
       "  +IIIZII), StabilizerState(\n",
       "  -YXYIZI\n",
       "  -XYZIYI\n",
       "  +IYZIII\n",
       "  +IIIZIX\n",
       "  -IIZIYI\n",
       "  -IIIZII)]"
      ]
     },
     "execution_count": 15,
     "metadata": {},
     "output_type": "execute_result"
    }
   ],
   "source": [
    "list(circ.povm(3))"
   ]
  },
  {
   "cell_type": "markdown",
   "metadata": {},
   "source": [
    "## BrickWallRCC"
   ]
  },
  {
   "cell_type": "markdown",
   "metadata": {},
   "source": [
    "`BrickWallRCC(N, depth)` is a subclass of `RandomCliffordCircuit`. It represents the circuit with 2-qubit gates arranged following a brick wall pattern."
   ]
  },
  {
   "cell_type": "code",
   "execution_count": 68,
   "metadata": {},
   "outputs": [
    {
     "data": {
      "text/plain": [
       "|[1,2][3,4][5,6][8,7][9,10][11,12][13,14][0,15]|\n",
       "|[0,1][2,3][4,5][6,7][8,9][10,11][12,13][14,15]|"
      ]
     },
     "execution_count": 68,
     "metadata": {},
     "output_type": "execute_result"
    }
   ],
   "source": [
    "circ = vaeqst.BrickWallRCC(16,2)\n",
    "circ"
   ]
  },
  {
   "cell_type": "markdown",
   "metadata": {},
   "source": [
    "Create an inital state as a computational basis state."
   ]
  },
  {
   "cell_type": "code",
   "execution_count": 69,
   "metadata": {},
   "outputs": [
    {
     "data": {
      "text/plain": [
       "StabilizerState(\n",
       " +ZIIIIIIIIIIIIIII\n",
       " +IZIIIIIIIIIIIIII\n",
       " +IIZIIIIIIIIIIIII\n",
       " +IIIZIIIIIIIIIIII\n",
       " +IIIIZIIIIIIIIIII\n",
       " +IIIIIZIIIIIIIIII\n",
       " +IIIIIIZIIIIIIIII\n",
       " +IIIIIIIZIIIIIIII\n",
       " +IIIIIIIIZIIIIIII\n",
       " +IIIIIIIIIZIIIIII\n",
       " +IIIIIIIIIIZIIIII\n",
       " +IIIIIIIIIIIZIIII\n",
       " +IIIIIIIIIIIIZIII\n",
       " +IIIIIIIIIIIIIZII\n",
       " +IIIIIIIIIIIIIIZI\n",
       " +IIIIIIIIIIIIIIIZ)"
      ]
     },
     "execution_count": 69,
     "metadata": {},
     "output_type": "execute_result"
    }
   ],
   "source": [
    "rho = vaeqst.StabilizerState(16, r=0)\n",
    "rho"
   ]
  },
  {
   "cell_type": "markdown",
   "metadata": {},
   "source": [
    "Backward evolve the state to obtain the measurement operator."
   ]
  },
  {
   "cell_type": "code",
   "execution_count": 71,
   "metadata": {},
   "outputs": [
    {
     "data": {
      "text/plain": [
       "StabilizerState(\n",
       " -XZIIIIIIIIIIIIII\n",
       " -IIXIIIIIIIIIIIII\n",
       " -ZXIIIIIIIIIIIIII\n",
       " +IIXZXZIIIIIIIIII\n",
       " +IIXZIIIIIIIIIIII\n",
       " -IIIIXIXIIIIIIIII\n",
       " -IIIIIIXIIIIIIIII\n",
       " -IIIIIIIIIYIIIIII\n",
       " -IIIIIIXZIYIIIIII\n",
       " -IIIIIIIIYIZIIIII\n",
       " -IIIIIIIIIIZIIIII\n",
       " -IIIIIIIIIIIYXIII\n",
       " +IIIIIIIIIIZXZYII\n",
       " -IIIIIIIIIIIIXXII\n",
       " +IIIIIIIIIIIIIIYI\n",
       " -IIIIIIIIIIIIIIIY)"
      ]
     },
     "execution_count": 71,
     "metadata": {},
     "output_type": "execute_result"
    }
   ],
   "source": [
    "circ.backward(rho)"
   ]
  },
  {
   "cell_type": "markdown",
   "metadata": {},
   "source": [
    "## OnSiteRCC"
   ]
  },
  {
   "cell_type": "markdown",
   "metadata": {},
   "source": [
    "`OnSiteRCC(N)` is a subclass of `RandomCliffordCircuit`. It represents the circuit of a single layer of on-site Clifford gates. It can be used to generate random Pauli states."
   ]
  },
  {
   "cell_type": "code",
   "execution_count": 6,
   "metadata": {},
   "outputs": [
    {
     "data": {
      "text/plain": [
       "|[0][1][2][3][4][5][6][7][8][9][10][11][12][13][14][15]|"
      ]
     },
     "execution_count": 6,
     "metadata": {},
     "output_type": "execute_result"
    }
   ],
   "source": [
    "circ = vaeqst.OnSiteRCC(16)\n",
    "circ"
   ]
  },
  {
   "cell_type": "code",
   "execution_count": 8,
   "metadata": {},
   "outputs": [
    {
     "data": {
      "text/plain": [
       "StabilizerState(\n",
       " +XIIIIIIIIIIIIIII\n",
       " +IXIIIIIIIIIIIIII\n",
       " +IIZIIIIIIIIIIIII\n",
       " -IIIZIIIIIIIIIIII\n",
       " +IIIIYIIIIIIIIIII\n",
       " -IIIIIYIIIIIIIIII\n",
       " -IIIIIIYIIIIIIIII\n",
       " -IIIIIIIYIIIIIIII\n",
       " +IIIIIIIIXIIIIIII\n",
       " -IIIIIIIIIYIIIIII\n",
       " -IIIIIIIIIIXIIIII\n",
       " -IIIIIIIIIIIZIIII\n",
       " -IIIIIIIIIIIIYIII\n",
       " +IIIIIIIIIIIIIYII\n",
       " +IIIIIIIIIIIIIIYI\n",
       " -IIIIIIIIIIIIIIIY)"
      ]
     },
     "execution_count": 8,
     "metadata": {},
     "output_type": "execute_result"
    }
   ],
   "source": [
    "rho = vaeqst.StabilizerState(16, r=0)\n",
    "circ.backward(rho)"
   ]
  },
  {
   "cell_type": "markdown",
   "metadata": {},
   "source": [
    "## GlobalRCC"
   ]
  },
  {
   "cell_type": "markdown",
   "metadata": {},
   "source": [
    "`GlobalRCC(N)` is a subclass of `RandomCliffordCircuit`. It represents the circuit consists of a global Clifford gate. It can be used to generate Clifford states."
   ]
  },
  {
   "cell_type": "code",
   "execution_count": 9,
   "metadata": {},
   "outputs": [
    {
     "data": {
      "text/plain": [
       "|[0,1,2,3,4,5,6,7,8,9,10,11,12,13,14,15]|"
      ]
     },
     "execution_count": 9,
     "metadata": {},
     "output_type": "execute_result"
    }
   ],
   "source": [
    "circ = vaeqst.GlobalRCC(16)\n",
    "circ"
   ]
  },
  {
   "cell_type": "code",
   "execution_count": 10,
   "metadata": {},
   "outputs": [
    {
     "data": {
      "text/plain": [
       "StabilizerState(\n",
       " +ZZZIXIZXYZXXIYYY\n",
       " -ZYXIYZZIYYXZIYXI\n",
       " -XZXIZIXZXZXIZZYZ\n",
       " +XIXXXZZZIIYIYIYI\n",
       " +ZYZXXYZIXIIXXYYY\n",
       " +IZIIYYYXXXZZXIII\n",
       " -ZXIZZZYYYYZZIXYI\n",
       " -IXIYIIYZYYYZYYYY\n",
       " +IZIYXZYIYYXZZIYZ\n",
       " +IIZZIXZYZZZYXZYZ\n",
       " -YZXIIZXXIYZYXXXY\n",
       " -ZIXYZZIIXYIYXYYZ\n",
       " -IYZXXIYXYXYIIZXY\n",
       " -ZIYZZXXIIZXYXZYX\n",
       " +YXYIZYYZIIXYZIZY\n",
       " -YYYYYIZXYZZIIYIX)"
      ]
     },
     "execution_count": 10,
     "metadata": {},
     "output_type": "execute_result"
    }
   ],
   "source": [
    "rho = vaeqst.StabilizerState(16, r=0)\n",
    "circ.backward(rho)"
   ]
  },
  {
   "cell_type": "code",
   "execution_count": null,
   "metadata": {},
   "outputs": [],
   "source": []
  }
 ],
 "metadata": {
  "kernelspec": {
   "display_name": "Python 3",
   "language": "python",
   "name": "python3"
  },
  "language_info": {
   "codemirror_mode": {
    "name": "ipython",
    "version": 3
   },
   "file_extension": ".py",
   "mimetype": "text/x-python",
   "name": "python",
   "nbconvert_exporter": "python",
   "pygments_lexer": "ipython3",
   "version": "3.9.2"
  }
 },
 "nbformat": 4,
 "nbformat_minor": 4
}
