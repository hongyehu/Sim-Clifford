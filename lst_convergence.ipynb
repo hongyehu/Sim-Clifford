{
 "cells": [
  {
   "cell_type": "markdown",
   "id": "8d8d2169",
   "metadata": {},
   "source": [
    "# Logical shadow tomography: Convergence in number of samples"
   ]
  },
  {
   "cell_type": "markdown",
   "id": "9848c954",
   "metadata": {},
   "source": [
    "## Setup"
   ]
  },
  {
   "cell_type": "code",
   "execution_count": null,
   "id": "b6d83891-7801-4737-ae8c-bbc3a46df087",
   "metadata": {},
   "outputs": [],
   "source": [
    "from joblib import Parallel, delayed\n",
    "\n",
    "import matplotlib.pyplot as plt\n",
    "import numpy as np\n",
    "\n",
    "from base.stabilizer import random_clifford_state, stabilizer_state, stoc_depolarize_map\n",
    "from base.utils import stabilizer_projection_full"
   ]
  },
  {
   "cell_type": "code",
   "execution_count": null,
   "id": "46b46a06",
   "metadata": {},
   "outputs": [],
   "source": [
    "plt.rcParams.update({\"font.family\": \"serif\", \"font.size\": 16})"
   ]
  },
  {
   "cell_type": "markdown",
   "id": "572b23d8-9c08-4b58-8e85-eb2d9896059c",
   "metadata": {},
   "source": [
    "## Experiment"
   ]
  },
  {
   "cell_type": "code",
   "execution_count": null,
   "id": "cedd19ce",
   "metadata": {
    "tags": [
     "parameters"
    ]
   },
   "outputs": [],
   "source": [
    "\"\"\"Set experimental parameters.\"\"\"\n",
    "nmin: int = 5  # Minimum number of physical qubits to use in code.\n",
    "nmax: int = 15  # Maximum number of physical qubits to use in code.\n",
    "step: int = 5  # Step between qubit values.\n",
    "\n",
    "max_num_trajectories: int = 50_000  # Maximum number of trajectories to sample from.\n",
    "\n",
    "p: float = 0.01  # Depolarizing noise rate.\n",
    "\n",
    "njobs: int = 2  # Number of parallel workers to use when sampling trajectories."
   ]
  },
  {
   "cell_type": "code",
   "execution_count": null,
   "id": "a06b16aa",
   "metadata": {},
   "outputs": [],
   "source": [
    "nvalues = np.arange(nmin, nmax + step, step)"
   ]
  },
  {
   "cell_type": "code",
   "execution_count": null,
   "id": "74206fb3",
   "metadata": {},
   "outputs": [],
   "source": [
    "# Codes from http://www.codetables.de/.\n",
    "# TODO: Generate random codes for any n instead of hardcoding.\n",
    "codes = {\n",
    "    5: [\"ZZZZZ\", \"XZZXI\", \"IXZZX\", \"XIXZZ\", \"ZXIXZ\"],\n",
    "    10: [\n",
    "        \"XZIZIXIZZI\",\n",
    "        \"-IYIZZYIIZZ\",\n",
    "        \"-IIYZZYIXII\",\n",
    "        \"-IZZYIYZIIZ\",\n",
    "        \"-IZIIXYZYII\",\n",
    "        \"IZZIZZXXZZ\",\n",
    "        \"IIZZZZZIXZ\",\n",
    "        \"IZZZZIIZZX\",\n",
    "        \"ZZZZZZIIII\",\n",
    "    ],\n",
    "    15: [\n",
    "        \"XZIZIXIZZIIIIII\",\n",
    "        \"-IYIZZYIIZZIIIII\",\n",
    "        \"IZXIZXIIIZZIIII\",\n",
    "        \"-IZZYIYZIIZIIIII\",\n",
    "        \"IIZZXXZZIZZIIII\",\n",
    "        \"-IIZZIIYZZIYIIII\",\n",
    "        \"-IZIZZZZYIZYIIII\",\n",
    "        \"IIIZIZIZXZXIIII\",\n",
    "        \"IZIZIIZIZXXIIII\",\n",
    "        \"IIIIIIIIIIIXIII\",\n",
    "        \"IIIIIIIIIIIIXII\",\n",
    "        \"IIIIIIIIIIIIIXI\",\n",
    "        \"IIIIIIIIIIIIIIX\",\n",
    "        \"ZZZZZZIIIIIIIII\",\n",
    "    ],\n",
    "}"
   ]
  },
  {
   "cell_type": "code",
   "execution_count": null,
   "id": "ce16a55e",
   "metadata": {},
   "outputs": [],
   "source": [
    "def sample_trajectory(p: float):\n",
    "    # Initial stabilizer state.\n",
    "    state = stabilizer_state(*stabilizers)\n",
    "    gs0 = state.gs.copy()\n",
    "    ps0 = state.ps.copy()\n",
    "\n",
    "    # Apply single-qubit depolarizing noise.\n",
    "    state = stoc_depolarize_map(state, p)\n",
    "\n",
    "    # Do shadow tomography.\n",
    "    obs = random_clifford_state(N)\n",
    "    state.measure(obs)\n",
    "\n",
    "    gs, ps, _, tmp_PsigmaP = stabilizer_projection_full(\n",
    "        state.gs, state.ps, gs0[: N - 1].copy(), ps0[: N - 1].copy(), 0\n",
    "    )\n",
    "    _, _, _, tmp = stabilizer_projection_full(gs, ps, gs0[:N], ps0[:N], 0)\n",
    "\n",
    "    return tmp_PsigmaP * tmp, tmp_PsigmaP"
   ]
  },
  {
   "cell_type": "code",
   "execution_count": null,
   "id": "1c66920f-9645-41ec-b7c6-043ecee36513",
   "metadata": {},
   "outputs": [],
   "source": [
    "\"\"\"Run the experiment.\"\"\"\n",
    "all_n_values = []\n",
    "all_fidelities = []\n",
    "for N in nvalues:\n",
    "    print(f\"Status: On n = {N}\", end=\"\\r\")\n",
    "\n",
    "    try:\n",
    "        stabilizers = codes.get(N)\n",
    "    except KeyError:\n",
    "        raise ValueError(\n",
    "            f\"Unsupported value for `N`. I only know codes for these N values: {list(codes.keys())}.\"\n",
    "        )\n",
    "\n",
    "    all_values = Parallel(n_jobs=njobs)(\n",
    "        delayed(sample_trajectory)(p) for _ in range(max_num_trajectories)\n",
    "    )\n",
    "    all_n_values.append(all_values)"
   ]
  },
  {
   "cell_type": "code",
   "execution_count": null,
   "id": "83fa8f6e",
   "metadata": {},
   "outputs": [],
   "source": [
    "nsamples_values = np.linspace(1_000, max_num_trajectories, 100, dtype=int)\n",
    "\n",
    "for (n, all_values) in zip(nvalues, all_n_values):\n",
    "    fidelities = []\n",
    "    for nsamples in nsamples_values:\n",
    "        num, denom = np.sum(all_values[:nsamples], axis=0)\n",
    "        fid = ((2 ** n + 1) * (num / nsamples) - 1) / (\n",
    "            (denom / nsamples) * (2 ** n + 1) - 2\n",
    "        )\n",
    "        fidelities.append(fid)\n",
    "\n",
    "    all_fidelities.append(fidelities)"
   ]
  },
  {
   "cell_type": "code",
   "execution_count": null,
   "id": "1d8ff4a4",
   "metadata": {},
   "outputs": [],
   "source": [
    "plt.figure(figsize=(9, 5))\n",
    "\n",
    "for N, fids in zip(nvalues, all_fidelities):\n",
    "    plt.plot(nsamples_values, fids, \"--.\", label=f\"$[[n, k, d]] = [[{N}, 1, d]]$\")\n",
    "\n",
    "plt.xlabel(\"Number of samples\")\n",
    "plt.ylabel(\"Fidelity\")\n",
    "plt.legend();"
   ]
  },
  {
   "cell_type": "markdown",
   "id": "21bc22f7",
   "metadata": {},
   "source": []
  }
 ],
 "metadata": {
  "celltoolbar": "Tags",
  "kernelspec": {
   "display_name": "envlst",
   "language": "python",
   "name": "envlst"
  },
  "language_info": {
   "codemirror_mode": {
    "name": "ipython",
    "version": 3
   },
   "file_extension": ".py",
   "mimetype": "text/x-python",
   "name": "python",
   "nbconvert_exporter": "python",
   "pygments_lexer": "ipython3",
   "version": "3.7.8"
  }
 },
 "nbformat": 4,
 "nbformat_minor": 5
}
