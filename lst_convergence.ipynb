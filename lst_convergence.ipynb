{
 "cells": [
  {
   "cell_type": "markdown",
   "metadata": {},
   "source": [
    "# Logical shadow tomography: Convergence in number of samples"
   ]
  },
  {
   "cell_type": "markdown",
   "metadata": {},
   "source": [
    "## Setup"
   ]
  },
  {
   "cell_type": "code",
   "execution_count": 1,
   "metadata": {},
   "outputs": [],
   "source": [
    "from io import StringIO\n",
    "from joblib import Parallel, delayed\n",
    "from typing import Iterable, List\n",
    "import urllib.request\n",
    "\n",
    "import matplotlib.pyplot as plt\n",
    "import numpy as np\n",
    "\n",
    "from base.stabilizer import random_clifford_state, stabilizer_state, stoc_depolarize_map\n",
    "from base.utils import stabilizer_projection_full"
   ]
  },
  {
   "cell_type": "code",
   "execution_count": 2,
   "metadata": {},
   "outputs": [],
   "source": [
    "plt.rcParams.update({\"font.family\": \"serif\", \"font.size\": 14})"
   ]
  },
  {
   "cell_type": "markdown",
   "metadata": {},
   "source": [
    "## Helper functions"
   ]
  },
  {
   "cell_type": "code",
   "execution_count": 3,
   "metadata": {},
   "outputs": [],
   "source": [
    "def symplectic_to_string(symplectic_pauli: Iterable[int]) -> str:\n",
    "    assert len(symplectic_pauli) % 2 == 0\n",
    "    n = len(symplectic_pauli) // 2\n",
    "    xs = symplectic_pauli[:n]\n",
    "    zs = symplectic_pauli[n:]\n",
    "\n",
    "    phase_exponent: int = 0\n",
    "    pauli: str = \"\"\n",
    "    for (x, z) in zip(xs, zs):\n",
    "        if x and z:\n",
    "            pauli += \"Y\"\n",
    "            phase_exponent += 1\n",
    "        elif x and not z:\n",
    "            pauli += \"X\"\n",
    "        elif not x and z:\n",
    "            pauli += \"Z\"\n",
    "        elif not x and not z:\n",
    "            pauli += \"I\"\n",
    "        else:\n",
    "            raise Exception(f\"x = {x}, z = {z}.\")\n",
    "\n",
    "    if phase_exponent % 4 == 0:\n",
    "        phase = \"\"\n",
    "    elif phase_exponent % 2 == 0:\n",
    "        phase = \"-\"\n",
    "    else:\n",
    "        raise Exception(f\"phase_exponent = {phase_exponent}.\")\n",
    "    return phase + pauli\n",
    "\n",
    "\n",
    "def check_matrix_to_stabilizers(check_matrix: Iterable[Iterable[int]]) -> List[str]:\n",
    "    return [symplectic_to_string(row) for row in check_matrix]"
   ]
  },
  {
   "cell_type": "code",
   "execution_count": 4,
   "metadata": {},
   "outputs": [],
   "source": [
    "\"\"\"Tests.\"\"\"\n",
    "assert symplectic_to_string([1, 0]) == \"X\"\n",
    "assert symplectic_to_string([0, 1]) == \"Z\"\n",
    "\n",
    "assert symplectic_to_string([1, 0, 0, 0]) == \"XI\"\n",
    "assert symplectic_to_string([0, 1, 0, 0]) == \"IX\"\n",
    "assert symplectic_to_string([0, 0, 1, 0]) == \"ZI\"\n",
    "assert symplectic_to_string([0, 0, 0, 1]) == \"IZ\"\n",
    "assert symplectic_to_string([1, 1, 0, 0]) == \"XX\"\n",
    "assert symplectic_to_string([0, 0, 1, 1]) == \"ZZ\"\n",
    "assert symplectic_to_string([1, 0, 0, 1]) == \"XZ\"\n",
    "assert symplectic_to_string([0, 1, 1, 0]) == \"ZX\"\n",
    "assert symplectic_to_string([1, 1, 1, 1]) == \"-YY\""
   ]
  },
  {
   "cell_type": "markdown",
   "metadata": {},
   "source": [
    "## Codes"
   ]
  },
  {
   "cell_type": "code",
   "execution_count": 5,
   "metadata": {},
   "outputs": [],
   "source": [
    "def get_code_from_codetables(nqubits: int) -> List[str]:\n",
    "    \"\"\"Returns stabilizers for an [[nqubits, 1]] code by grabbing and parsing data from http://www.codetables.de/.\n",
    "\n",
    "    Args:\n",
    "        nqubits: Number of physical qubits in the code.\n",
    "    \"\"\"\n",
    "    fp = urllib.request.urlopen(\n",
    "        f\"http://www.codetables.de/QECC.php?q=4&n={nqubits}&k=1\"\n",
    "    )\n",
    "    mybytes = fp.read()\n",
    "    mystr = mybytes.decode(\"utf8\")\n",
    "    fp.close()\n",
    "\n",
    "    lines = mystr.splitlines()\n",
    "    _KEY = \"    stabilizer matrix:\"\n",
    "\n",
    "    start = lines.index(_KEY) + 2\n",
    "    end = start + nqubits - 1\n",
    "\n",
    "    check_matrix_data = [\n",
    "        line.strip().lstrip(\"[\").rstrip(\"]\").replace(\"|\", \" \")\n",
    "        for line in lines[start:end]\n",
    "    ]\n",
    "    check_matrix = np.genfromtxt(StringIO(\"\\n\".join(check_matrix_data)), delimiter=\" \")\n",
    "    return check_matrix_to_stabilizers(check_matrix)"
   ]
  },
  {
   "cell_type": "markdown",
   "metadata": {},
   "source": [
    "## Experiment"
   ]
  },
  {
   "cell_type": "code",
   "execution_count": 6,
   "metadata": {
    "tags": [
     "parameters"
    ]
   },
   "outputs": [],
   "source": [
    "\"\"\"Set experimental parameters.\"\"\"\n",
    "nmin: int = 10  # Minimum number of physical qubits to use in code.\n",
    "nmax: int = 60  # Maximum number of physical qubits to use in code.\n",
    "step: int = 10  # Step between qubit values.\n",
    "\n",
    "max_num_trajectories: int = 100_000  # Maximum number of trajectories to sample from.\n",
    "ntrials: int = 50  # Number of trials used to estimate variance.\n",
    "\n",
    "p: float = 0.01  # Depolarizing noise rate.\n",
    "\n",
    "njobs: int = 2  # Number of parallel workers to use when sampling trajectories."
   ]
  },
  {
   "cell_type": "code",
   "execution_count": 7,
   "metadata": {},
   "outputs": [
    {
     "name": "stdout",
     "output_type": "stream",
     "text": [
      "Using nvalues: [10, 20, 30, 40, 60]\n"
     ]
    }
   ],
   "source": [
    "\"\"\"Get codes from provided nqubit values.\"\"\"\n",
    "nvalues = np.arange(nmin, nmax + step, step)\n",
    "\n",
    "codes = {}\n",
    "for n in nvalues:\n",
    "    try:\n",
    "        codes[n] = get_code_from_codetables(n)\n",
    "    except Exception:\n",
    "        continue\n",
    "\n",
    "nvalues = list(codes.keys())\n",
    "print(\"Using nvalues:\", nvalues)"
   ]
  },
  {
   "cell_type": "code",
   "execution_count": 8,
   "metadata": {},
   "outputs": [],
   "source": [
    "def sample_trajectory(p: float):\n",
    "    # Initial stabilizer state.\n",
    "    state = stabilizer_state(*stabilizers)\n",
    "    gs0 = state.gs.copy()\n",
    "    ps0 = state.ps.copy()\n",
    "\n",
    "    # Apply single-qubit depolarizing noise.\n",
    "    state = stoc_depolarize_map(state, p)\n",
    "\n",
    "    # Do shadow tomography.\n",
    "    obs = random_clifford_state(N)\n",
    "    state.measure(obs)\n",
    "\n",
    "    gs, ps, _, tmp_PsigmaP = stabilizer_projection_full(\n",
    "        state.gs, state.ps, gs0[: N - 1].copy(), ps0[: N - 1].copy(), 0\n",
    "    )\n",
    "    _, _, _, tmp = stabilizer_projection_full(gs, ps, gs0[:N], ps0[:N], 0)\n",
    "\n",
    "    return tmp_PsigmaP * tmp, tmp_PsigmaP"
   ]
  },
  {
   "cell_type": "code",
   "execution_count": 9,
   "metadata": {},
   "outputs": [
    {
     "name": "stdout",
     "output_type": "stream",
     "text": [
      "Status: On trial 1\n",
      "Status: On n = 10\n",
      "Status: On n = 20\n",
      "Status: On n = 30\n",
      "Status: On n = 40\n",
      "Status: On n = 60\n",
      "Status: On trial 2\n",
      "Status: On n = 10\n",
      "Status: On n = 20\n",
      "Status: On n = 30\n",
      "Status: On n = 40\n",
      "Status: On n = 60\n",
      "Status: On trial 3\n",
      "Status: On n = 10\n",
      "Status: On n = 20\n",
      "Status: On n = 30\n",
      "Status: On n = 40\n",
      "Status: On n = 60\n",
      "Status: On trial 4\n",
      "Status: On n = 10\n",
      "Status: On n = 20\n",
      "Status: On n = 30\n",
      "Status: On n = 40\n",
      "Status: On n = 60\n",
      "Status: On trial 5\n",
      "Status: On n = 10\n",
      "Status: On n = 20\n",
      "Status: On n = 30\n",
      "Status: On n = 40\n",
      "Status: On n = 60\n",
      "Status: On trial 6\n",
      "Status: On n = 10\n",
      "Status: On n = 20\n",
      "Status: On n = 30\n",
      "Status: On n = 40\n",
      "Status: On n = 60\n",
      "Status: On trial 7\n",
      "Status: On n = 10\n",
      "Status: On n = 20\n",
      "Status: On n = 30\n",
      "Status: On n = 40\n",
      "Status: On n = 60\n",
      "Status: On trial 8\n",
      "Status: On n = 10\n",
      "Status: On n = 20\n",
      "Status: On n = 30\n",
      "Status: On n = 40\n",
      "Status: On n = 60\n",
      "Status: On trial 9\n",
      "Status: On n = 10\n",
      "Status: On n = 20\n",
      "Status: On n = 30\n",
      "Status: On n = 40\n",
      "Status: On n = 60\n",
      "Status: On trial 10\n",
      "Status: On n = 10\n",
      "Status: On n = 20\n",
      "Status: On n = 30\n",
      "Status: On n = 40\n",
      "Status: On n = 60\n",
      "Status: On trial 11\n",
      "Status: On n = 10\n",
      "Status: On n = 20\n",
      "Status: On n = 30\n",
      "Status: On n = 40\n",
      "Status: On n = 60\n",
      "Status: On trial 12\n",
      "Status: On n = 10\n",
      "Status: On n = 20\n",
      "Status: On n = 30\n",
      "Status: On n = 40\n",
      "Status: On n = 60\n",
      "Status: On trial 13\n",
      "Status: On n = 10\n",
      "Status: On n = 20\n",
      "Status: On n = 30\n",
      "Status: On n = 40\n",
      "Status: On n = 60\n",
      "Status: On trial 14\n",
      "Status: On n = 10\n",
      "Status: On n = 20\n",
      "Status: On n = 30\n",
      "Status: On n = 40\n",
      "Status: On n = 60\n",
      "Status: On trial 15\n",
      "Status: On n = 10\n",
      "Status: On n = 20\n",
      "Status: On n = 30\n",
      "Status: On n = 40\n",
      "Status: On n = 60\n",
      "Status: On trial 16\n",
      "Status: On n = 10\n",
      "Status: On n = 20\n",
      "Status: On n = 30\n",
      "Status: On n = 40\n",
      "Status: On n = 60\n",
      "Status: On trial 17\n",
      "Status: On n = 10\n",
      "Status: On n = 20\n",
      "Status: On n = 30\n",
      "Status: On n = 40\n",
      "Status: On n = 60\n",
      "Status: On trial 18\n",
      "Status: On n = 10\n",
      "Status: On n = 20\n",
      "Status: On n = 30\n",
      "Status: On n = 40\n",
      "Status: On n = 60\n",
      "Status: On trial 19\n",
      "Status: On n = 10\n",
      "Status: On n = 20\n",
      "Status: On n = 30\n",
      "Status: On n = 40\n",
      "Status: On n = 60\n",
      "Status: On trial 20\n",
      "Status: On n = 10\n",
      "Status: On n = 20\n",
      "Status: On n = 30\n",
      "Status: On n = 40\n",
      "Status: On n = 60\n",
      "Status: On trial 21\n",
      "Status: On n = 10\n",
      "Status: On n = 20\n",
      "Status: On n = 30\n",
      "Status: On n = 40\n",
      "Status: On n = 60\n",
      "Status: On trial 22\n",
      "Status: On n = 10\n",
      "Status: On n = 20\n",
      "Status: On n = 30\n",
      "Status: On n = 40\n",
      "Status: On n = 60\n",
      "Status: On trial 23\n",
      "Status: On n = 10\n",
      "Status: On n = 20\n",
      "Status: On n = 30\n",
      "Status: On n = 40\n",
      "Status: On n = 60\n",
      "Status: On trial 24\n",
      "Status: On n = 10\n",
      "Status: On n = 20\n",
      "Status: On n = 30\n",
      "Status: On n = 40\n",
      "Status: On n = 60\n",
      "Status: On trial 25\n",
      "Status: On n = 10\n",
      "Status: On n = 20\n",
      "Status: On n = 30\n",
      "Status: On n = 40\n",
      "Status: On n = 60\n",
      "Status: On trial 26\n",
      "Status: On n = 10\n",
      "Status: On n = 20\n",
      "Status: On n = 30\n",
      "Status: On n = 40\n",
      "Status: On n = 60\n",
      "Status: On trial 27\n",
      "Status: On n = 10\n",
      "Status: On n = 20\n",
      "Status: On n = 30\n",
      "Status: On n = 40\n",
      "Status: On n = 60\n",
      "Status: On trial 28\n",
      "Status: On n = 10\n",
      "Status: On n = 20\n",
      "Status: On n = 30\n",
      "Status: On n = 40\n",
      "Status: On n = 60\n",
      "Status: On trial 29\n",
      "Status: On n = 10\n",
      "Status: On n = 20\n",
      "Status: On n = 30\n",
      "Status: On n = 40\n",
      "Status: On n = 60\n",
      "Status: On trial 30\n",
      "Status: On n = 10\n",
      "Status: On n = 20\n",
      "Status: On n = 30\n",
      "Status: On n = 40\n",
      "Status: On n = 60\n",
      "Status: On trial 31\n",
      "Status: On n = 10\n",
      "Status: On n = 20\n",
      "Status: On n = 30\n",
      "Status: On n = 40\n",
      "Status: On n = 60\n",
      "Status: On trial 32\n",
      "Status: On n = 10\n",
      "Status: On n = 20\n",
      "Status: On n = 30\n",
      "Status: On n = 40\n",
      "Status: On n = 60\n",
      "Status: On trial 33\n",
      "Status: On n = 10\n",
      "Status: On n = 20\n",
      "Status: On n = 30\n",
      "Status: On n = 40\n",
      "Status: On n = 60\n",
      "Status: On trial 34\n",
      "Status: On n = 10\n",
      "Status: On n = 20\n",
      "Status: On n = 30\n",
      "Status: On n = 40\n",
      "Status: On n = 60\n",
      "Status: On trial 35\n",
      "Status: On n = 10\n",
      "Status: On n = 20\n",
      "Status: On n = 30\n",
      "Status: On n = 40\n",
      "Status: On n = 60\n",
      "Status: On trial 36\n",
      "Status: On n = 10\n",
      "Status: On n = 20\n",
      "Status: On n = 30\n",
      "Status: On n = 40\n",
      "Status: On n = 60\n",
      "Status: On trial 37\n",
      "Status: On n = 10\n",
      "Status: On n = 20\n",
      "Status: On n = 30\n",
      "Status: On n = 40\n",
      "Status: On n = 60\n",
      "Status: On trial 38\n",
      "Status: On n = 10\n",
      "Status: On n = 20\n",
      "Status: On n = 30\n",
      "Status: On n = 40\n",
      "Status: On n = 60\n",
      "Status: On trial 39\n",
      "Status: On n = 10\n",
      "Status: On n = 20\n",
      "Status: On n = 30\n",
      "Status: On n = 40\n",
      "Status: On n = 60\n",
      "Status: On trial 40\n",
      "Status: On n = 10\n",
      "Status: On n = 20\n",
      "Status: On n = 30\n",
      "Status: On n = 40\n",
      "Status: On n = 60\n",
      "Status: On trial 41\n",
      "Status: On n = 10\n",
      "Status: On n = 20\n",
      "Status: On n = 30\n",
      "Status: On n = 40\n",
      "Status: On n = 60\n",
      "Status: On trial 42\n",
      "Status: On n = 10\n",
      "Status: On n = 20\n",
      "Status: On n = 30\n",
      "Status: On n = 40\n",
      "Status: On n = 60\n",
      "Status: On trial 43\n",
      "Status: On n = 10\n",
      "Status: On n = 20\n",
      "Status: On n = 30\n",
      "Status: On n = 40\n",
      "Status: On n = 60\n",
      "Status: On trial 44\n",
      "Status: On n = 10\n",
      "Status: On n = 20\n",
      "Status: On n = 30\n",
      "Status: On n = 40\n",
      "Status: On n = 60\n",
      "Status: On trial 45\n",
      "Status: On n = 10\n",
      "Status: On n = 20\n",
      "Status: On n = 30\n",
      "Status: On n = 40\n",
      "Status: On n = 60\n",
      "Status: On trial 46\n",
      "Status: On n = 10\n",
      "Status: On n = 20\n",
      "Status: On n = 30\n",
      "Status: On n = 40\n",
      "Status: On n = 60\n",
      "Status: On trial 47\n",
      "Status: On n = 10\n",
      "Status: On n = 20\n",
      "Status: On n = 30\n",
      "Status: On n = 40\n",
      "Status: On n = 60\n",
      "Status: On trial 48\n",
      "Status: On n = 10\n",
      "Status: On n = 20\n",
      "Status: On n = 30\n",
      "Status: On n = 40\n",
      "Status: On n = 60\n",
      "Status: On trial 49\n",
      "Status: On n = 10\n",
      "Status: On n = 20\n",
      "Status: On n = 30\n",
      "Status: On n = 40\n",
      "Status: On n = 60\n",
      "Status: On trial 50\n",
      "Status: On n = 10\n",
      "Status: On n = 20\n",
      "Status: On n = 30\n",
      "Status: On n = 40\n",
      "Status: On n = 60\n"
     ]
    }
   ],
   "source": [
    "\"\"\"Run the experiment.\"\"\"\n",
    "all_values = []\n",
    "\n",
    "for trial in range(ntrials):\n",
    "    print(f\"Status: On trial {trial + 1}\")\n",
    "    all_n_values = []\n",
    "    for N, stabilizers in codes.items():\n",
    "        print(f\"Status: On n = {N}\")\n",
    "\n",
    "        # Note: Variable `stabilizers` is used implicitly by `sample_trajectory`.\n",
    "        results = Parallel(n_jobs=njobs)(\n",
    "            delayed(sample_trajectory)(p) for _ in range(max_num_trajectories)\n",
    "        )\n",
    "        all_n_values.append(results)\n",
    "    all_values.append(all_n_values)"
   ]
  },
  {
   "cell_type": "code",
   "execution_count": 10,
   "metadata": {},
   "outputs": [],
   "source": [
    "nsamples_values = np.linspace(100, max_num_trajectories, 200, dtype=int)\n",
    "\n",
    "fids = []\n",
    "for all_n_values in all_values:\n",
    "    all_fidelities = []\n",
    "    for (n, all_values) in zip(nvalues, all_n_values):\n",
    "        fidelities = []\n",
    "        for nsamples in nsamples_values:\n",
    "            num, denom = np.sum(all_values[:nsamples], axis=0)\n",
    "            fid = ((2 ** n + 1) * (num / nsamples) - 1) / (\n",
    "                (denom / nsamples) * (2 ** n + 1) - 2\n",
    "            )\n",
    "            fidelities.append(fid)\n",
    "        all_fidelities.append(fidelities)\n",
    "    fids.append(all_fidelities)"
   ]
  },
  {
   "cell_type": "code",
   "execution_count": 46,
   "metadata": {},
   "outputs": [],
   "source": [
    "means = np.mean(fids, axis=0)\n",
    "stds = np.std(fids, ddof=1, axis=0)"
   ]
  },
  {
   "cell_type": "code",
   "execution_count": 47,
   "metadata": {
    "scrolled": false
   },
   "outputs": [
    {
     "data": {
      "image/png": "[encoded data removed]",
      "text/plain": [
       "<Figure size 648x360 with 1 Axes>"
      ]
     },
     "metadata": {
      "needs_background": "light"
     },
     "output_type": "display_data"
    }
   ],
   "source": [
    "plt.figure(figsize=(9, 5))\n",
    "\n",
    "colors = (\"red\", \"orange\", \"green\", \"blue\", \"salmon\", \"grey\")\n",
    "alpha = 0.2\n",
    "\n",
    "for N, ys, errs, color in zip(nvalues[:], means[:], stds[:], colors):\n",
    "    plt.plot(nsamples_values, ys, \"--o\", color=color, mec=\"black\", label=f\"$[[n, k]] = [[{N}, 1]]$\")\n",
    "    if N == nvalues[-1]:\n",
    "        plt.fill_between(nsamples_values, ys, ys + errs, alpha=alpha, color=color)\n",
    "        plt.fill_between(nsamples_values, ys, ys - errs, alpha=alpha, color=color)\n",
    "\n",
    "plt.xlabel(\"Number of samples\")\n",
    "plt.ylabel(\"Fidelity\")\n",
    "plt.xscale(\"log\")\n",
    "plt.legend();"
   ]
  },
  {
   "cell_type": "code",
   "execution_count": 48,
   "metadata": {},
   "outputs": [
    {
     "data": {
      "text/plain": [
       "[10, 20, 30, 40, 60]"
      ]
     },
     "execution_count": 48,
     "metadata": {},
     "output_type": "execute_result"
    }
   ],
   "source": [
    "nvalues"
   ]
  },
  {
   "cell_type": "code",
   "execution_count": 49,
   "metadata": {},
   "outputs": [
    {
     "data": {
      "text/plain": [
       "array([0.00366693, 0.00375309, 0.00373188, 0.0045064 , 0.00608658])"
      ]
     },
     "execution_count": 49,
     "metadata": {},
     "output_type": "execute_result"
    }
   ],
   "source": [
    "stds[:, -1]"
   ]
  },
  {
   "cell_type": "code",
   "execution_count": 50,
   "metadata": {},
   "outputs": [
    {
     "data": {
      "image/png": "[encoded data removed]",
      "text/plain": [
       "<Figure size 432x288 with 1 Axes>"
      ]
     },
     "metadata": {
      "needs_background": "light"
     },
     "output_type": "display_data"
    }
   ],
   "source": [
    "start = 0\n",
    "stop = -1\n",
    "step = 45\n",
    "\n",
    "for err, nsamp in zip(stds.T[start:stop:step], nsamples_values[start:stop:step]):\n",
    "    plt.plot(nvalues, err, \"--8\", ms=10, label=f\"{nsamp} samples\")\n",
    "\n",
    "plt.xlabel(\"$n$\")\n",
    "plt.ylabel(\"$\\sigma$\")\n",
    "plt.yscale(\"log\")\n",
    "plt.legend();"
   ]
  },
  {
   "cell_type": "markdown",
   "metadata": {},
   "source": []
  }
 ],
 "metadata": {
  "celltoolbar": "Tags",
  "kernelspec": {
   "display_name": "envlst",
   "language": "python",
   "name": "envlst"
  },
  "language_info": {
   "codemirror_mode": {
    "name": "ipython",
    "version": 3
   },
   "file_extension": ".py",
   "mimetype": "text/x-python",
   "name": "python",
   "nbconvert_exporter": "python",
   "pygments_lexer": "ipython3",
   "version": "3.7.8"
  }
 },
 "nbformat": 4,
 "nbformat_minor": 5
}
