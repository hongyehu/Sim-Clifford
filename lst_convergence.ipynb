{
 "cells": [
  {
   "cell_type": "markdown",
   "id": "8d8d2169",
   "metadata": {},
   "source": [
    "# Logical shadow tomography: Convergence in number of samples"
   ]
  },
  {
   "cell_type": "markdown",
   "id": "9848c954",
   "metadata": {},
   "source": [
    "## Setup"
   ]
  },
  {
   "cell_type": "code",
   "execution_count": null,
   "id": "b6d83891-7801-4737-ae8c-bbc3a46df087",
   "metadata": {},
   "outputs": [],
   "source": [
    "from io import StringIO\n",
    "from joblib import Parallel, delayed\n",
    "from typing import Iterable, List\n",
    "import urllib.request\n",
    "\n",
    "import matplotlib.pyplot as plt\n",
    "import numpy as np\n",
    "\n",
    "from base.stabilizer import random_clifford_state, stabilizer_state, stoc_depolarize_map\n",
    "from base.utils import stabilizer_projection_full"
   ]
  },
  {
   "cell_type": "code",
   "execution_count": null,
   "id": "46b46a06",
   "metadata": {},
   "outputs": [],
   "source": [
    "plt.rcParams.update({\"font.family\": \"serif\", \"font.size\": 14})"
   ]
  },
  {
   "cell_type": "markdown",
   "id": "c0ba9ac0",
   "metadata": {},
   "source": [
    "## Helper functions"
   ]
  },
  {
   "cell_type": "code",
   "execution_count": null,
   "id": "66dcc02f",
   "metadata": {},
   "outputs": [],
   "source": [
    "def symplectic_to_string(symplectic_pauli: Iterable[int]) -> str:\n",
    "    assert len(symplectic_pauli) % 2 == 0\n",
    "    n = len(symplectic_pauli) // 2\n",
    "    xs = symplectic_pauli[:n]\n",
    "    zs = symplectic_pauli[n:]\n",
    "\n",
    "    phase_exponent: int = 0\n",
    "    pauli: str = \"\"\n",
    "    for (x, z) in zip(xs, zs):\n",
    "        if x and z:\n",
    "            pauli += \"Y\"\n",
    "            phase_exponent += 1\n",
    "        elif x and not z:\n",
    "            pauli += \"X\"\n",
    "        elif not x and z:\n",
    "            pauli += \"Z\"\n",
    "        elif not x and not z:\n",
    "            pauli += \"I\"\n",
    "        else:\n",
    "            raise Exception(f\"x = {x}, z = {z}.\")\n",
    "\n",
    "    if phase_exponent % 4 == 0:\n",
    "        phase = \"\"\n",
    "    elif phase_exponent % 2 == 0:\n",
    "        phase = \"-\"\n",
    "    else:\n",
    "        raise Exception(f\"phase_exponent = {phase_exponent}.\")\n",
    "    return phase + pauli\n",
    "\n",
    "\n",
    "def check_matrix_to_stabilizers(check_matrix: Iterable[Iterable[int]]) -> List[str]:\n",
    "    return [symplectic_to_string(row) for row in check_matrix]"
   ]
  },
  {
   "cell_type": "code",
   "execution_count": null,
   "id": "0a23bb1d",
   "metadata": {},
   "outputs": [],
   "source": [
    "\"\"\"Tests.\"\"\"\n",
    "assert symplectic_to_string([1, 0]) == \"X\"\n",
    "assert symplectic_to_string([0, 1]) == \"Z\"\n",
    "\n",
    "assert symplectic_to_string([1, 0, 0, 0]) == \"XI\"\n",
    "assert symplectic_to_string([0, 1, 0, 0]) == \"IX\"\n",
    "assert symplectic_to_string([0, 0, 1, 0]) == \"ZI\"\n",
    "assert symplectic_to_string([0, 0, 0, 1]) == \"IZ\"\n",
    "assert symplectic_to_string([1, 1, 0, 0]) == \"XX\"\n",
    "assert symplectic_to_string([0, 0, 1, 1]) == \"ZZ\"\n",
    "assert symplectic_to_string([1, 0, 0, 1]) == \"XZ\"\n",
    "assert symplectic_to_string([0, 1, 1, 0]) == \"ZX\"\n",
    "assert symplectic_to_string([1, 1, 1, 1]) == \"-YY\""
   ]
  },
  {
   "cell_type": "markdown",
   "id": "ba6e2b50",
   "metadata": {},
   "source": [
    "## Codes"
   ]
  },
  {
   "cell_type": "code",
   "execution_count": null,
   "id": "33a5c829",
   "metadata": {},
   "outputs": [],
   "source": [
    "def get_code_from_codetables(nqubits: int) -> List[str]:\n",
    "    \"\"\"Returns stabilizers for an [[nqubits, 1]] code by grabbing and parsing data from http://www.codetables.de/.\n",
    "\n",
    "    Args:\n",
    "        nqubits: Number of physical qubits in the code.\n",
    "    \"\"\"\n",
    "    fp = urllib.request.urlopen(\n",
    "        f\"http://www.codetables.de/QECC.php?q=4&n={nqubits}&k=1\"\n",
    "    )\n",
    "    mybytes = fp.read()\n",
    "    mystr = mybytes.decode(\"utf8\")\n",
    "    fp.close()\n",
    "\n",
    "    lines = mystr.splitlines()\n",
    "    _KEY = \"    stabilizer matrix:\"\n",
    "\n",
    "    start = lines.index(_KEY) + 2\n",
    "    end = start + nqubits - 1\n",
    "\n",
    "    check_matrix_data = [\n",
    "        line.strip().lstrip(\"[\").rstrip(\"]\").replace(\"|\", \" \")\n",
    "        for line in lines[start:end]\n",
    "    ]\n",
    "    check_matrix = np.genfromtxt(StringIO(\"\\n\".join(check_matrix_data)), delimiter=\" \")\n",
    "    return check_matrix_to_stabilizers(check_matrix)"
   ]
  },
  {
   "cell_type": "markdown",
   "id": "572b23d8-9c08-4b58-8e85-eb2d9896059c",
   "metadata": {},
   "source": [
    "## Experiment"
   ]
  },
  {
   "cell_type": "code",
   "execution_count": null,
   "id": "cedd19ce",
   "metadata": {
    "tags": [
     "parameters"
    ]
   },
   "outputs": [],
   "source": [
    "\"\"\"Set experimental parameters.\"\"\"\n",
    "nmin: int = 10  # Minimum number of physical qubits to use in code.\n",
    "nmax: int = 70  # Maximum number of physical qubits to use in code.\n",
    "step: int = 10  # Step between qubit values.\n",
    "\n",
    "max_num_trajectories: int = 100_000  # Maximum number of trajectories to sample from.\n",
    "\n",
    "p: float = 0.01  # Depolarizing noise rate.\n",
    "\n",
    "njobs: int = 2  # Number of parallel workers to use when sampling trajectories."
   ]
  },
  {
   "cell_type": "code",
   "execution_count": null,
   "id": "a06b16aa",
   "metadata": {},
   "outputs": [],
   "source": [
    "\"\"\"Get codes from provided nqubit values.\"\"\"\n",
    "nvalues = np.arange(nmin, nmax + step, step)\n",
    "\n",
    "codes = {}\n",
    "for n in nvalues:\n",
    "    try:\n",
    "        codes[n] = get_code_from_codetables(n)\n",
    "    except Exception:\n",
    "        continue\n",
    "\n",
    "nvalues = list(codes.keys())\n",
    "print(\"Using nvalues:\", nvalues)"
   ]
  },
  {
   "cell_type": "code",
   "execution_count": null,
   "id": "ce16a55e",
   "metadata": {},
   "outputs": [],
   "source": [
    "def sample_trajectory(p: float):\n",
    "    # Initial stabilizer state.\n",
    "    state = stabilizer_state(*stabilizers)\n",
    "    gs0 = state.gs.copy()\n",
    "    ps0 = state.ps.copy()\n",
    "\n",
    "    # Apply single-qubit depolarizing noise.\n",
    "    state = stoc_depolarize_map(state, p)\n",
    "\n",
    "    # Do shadow tomography.\n",
    "    obs = random_clifford_state(N)\n",
    "    state.measure(obs)\n",
    "\n",
    "    gs, ps, _, tmp_PsigmaP = stabilizer_projection_full(\n",
    "        state.gs, state.ps, gs0[: N - 1].copy(), ps0[: N - 1].copy(), 0\n",
    "    )\n",
    "    _, _, _, tmp = stabilizer_projection_full(gs, ps, gs0[:N], ps0[:N], 0)\n",
    "\n",
    "    return tmp_PsigmaP * tmp, tmp_PsigmaP"
   ]
  },
  {
   "cell_type": "code",
   "execution_count": null,
   "id": "1c66920f-9645-41ec-b7c6-043ecee36513",
   "metadata": {},
   "outputs": [],
   "source": [
    "\"\"\"Run the experiment.\"\"\"\n",
    "all_n_values = []\n",
    "for N, stabilizers in codes.items():\n",
    "    print(f\"Status: On n = {N}\", end=\"\\r\")\n",
    "\n",
    "    # Note: Variable `stabilizers` is used implicitly by `sample_trajectory`.\n",
    "    all_values = Parallel(n_jobs=njobs)(\n",
    "        delayed(sample_trajectory)(p) for _ in range(max_num_trajectories)\n",
    "    )\n",
    "    all_n_values.append(all_values)"
   ]
  },
  {
   "cell_type": "code",
   "execution_count": null,
   "id": "83fa8f6e",
   "metadata": {},
   "outputs": [],
   "source": [
    "nsamples_values = np.linspace(100, max_num_trajectories, 200, dtype=int)\n",
    "\n",
    "all_fidelities = []\n",
    "for (n, all_values) in zip(nvalues, all_n_values):\n",
    "    fidelities = []\n",
    "    for nsamples in nsamples_values:\n",
    "        num, denom = np.sum(all_values[:nsamples], axis=0)\n",
    "        fid = ((2 ** n + 1) * (num / nsamples) - 1) / (\n",
    "            (denom / nsamples) * (2 ** n + 1) - 2\n",
    "        )\n",
    "        fidelities.append(fid)\n",
    "    all_fidelities.append(fidelities)"
   ]
  },
  {
   "cell_type": "code",
   "execution_count": null,
   "id": "1d8ff4a4",
   "metadata": {
    "scrolled": true
   },
   "outputs": [],
   "source": [
    "plt.figure(figsize=(9, 5))\n",
    "\n",
    "for N, fids in zip(nvalues[:], all_fidelities[:]):\n",
    "    plt.plot(nsamples_values, fids, \"--.\", label=f\"$[[n, k]] = [[{N}, 1]]$\")\n",
    "\n",
    "plt.xlabel(\"Number of samples\")\n",
    "plt.ylabel(\"Fidelity\")\n",
    "plt.xscale(\"log\")\n",
    "plt.legend();"
   ]
  },
  {
   "cell_type": "markdown",
   "id": "21bc22f7",
   "metadata": {},
   "source": []
  }
 ],
 "metadata": {
  "celltoolbar": "Tags",
  "kernelspec": {
   "display_name": "envlst",
   "language": "python",
   "name": "envlst"
  },
  "language_info": {
   "codemirror_mode": {
    "name": "ipython",
    "version": 3
   },
   "file_extension": ".py",
   "mimetype": "text/x-python",
   "name": "python",
   "nbconvert_exporter": "python",
   "pygments_lexer": "ipython3",
   "version": "3.7.8"
  }
 },
 "nbformat": 4,
 "nbformat_minor": 5
}
