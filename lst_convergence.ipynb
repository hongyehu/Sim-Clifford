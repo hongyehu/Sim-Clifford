{
 "cells": [
  {
   "cell_type": "markdown",
   "id": "8d8d2169",
   "metadata": {},
   "source": [
    "# Logical shadow tomography: Convergence in number of samples"
   ]
  },
  {
   "cell_type": "markdown",
   "id": "9848c954",
   "metadata": {},
   "source": [
    "## Setup"
   ]
  },
  {
   "cell_type": "code",
   "execution_count": 62,
   "id": "b6d83891-7801-4737-ae8c-bbc3a46df087",
   "metadata": {},
   "outputs": [],
   "source": [
    "from io import StringIO\n",
    "from joblib import Parallel, delayed\n",
    "from typing import Iterable, List\n",
    "import urllib.request\n",
    "\n",
    "import matplotlib.pyplot as plt\n",
    "import numpy as np\n",
    "\n",
    "from base.stabilizer import random_clifford_state, stabilizer_state, stoc_depolarize_map\n",
    "from base.utils import stabilizer_projection_full"
   ]
  },
  {
   "cell_type": "code",
   "execution_count": 63,
   "id": "46b46a06",
   "metadata": {},
   "outputs": [],
   "source": [
    "plt.rcParams.update({\"font.family\": \"serif\", \"font.size\": 14})"
   ]
  },
  {
   "cell_type": "markdown",
   "id": "dc4f098b",
   "metadata": {},
   "source": [
    "## Helper functions"
   ]
  },
  {
   "cell_type": "code",
   "execution_count": 64,
   "id": "09ba962e",
   "metadata": {},
   "outputs": [],
   "source": [
    "def symplectic_to_string(symplectic_pauli: Iterable[int]) -> str:\n",
    "    assert len(symplectic_pauli) % 2 == 0\n",
    "    n = len(symplectic_pauli) // 2\n",
    "    xs = symplectic_pauli[:n]\n",
    "    zs = symplectic_pauli[n:]\n",
    "    \n",
    "    phase_exponent: int = 0\n",
    "    pauli: str = \"\"\n",
    "    for (x, z) in zip(xs, zs):\n",
    "        if x and z:\n",
    "            pauli += \"Y\"\n",
    "            phase_exponent += 1\n",
    "        elif x and not z:\n",
    "            pauli += \"X\"\n",
    "        elif not x and z:\n",
    "            pauli += \"Z\"\n",
    "        elif not x and not z:\n",
    "            pauli += \"I\"\n",
    "        else:\n",
    "            raise Exception(f\"x = {x}, z = {z}.\")\n",
    "    \n",
    "    if phase_exponent % 4 == 0:\n",
    "        phase = \"\"\n",
    "    elif phase_exponent % 2 == 0:\n",
    "        phase = \"-\"\n",
    "    else:\n",
    "        raise Exception(f\"phase_exponent = {phase_exponent}.\")\n",
    "    return phase + pauli\n",
    "\n",
    "\n",
    "def check_matrix_to_stabilizers(check_matrix: Iterable[Iterable[int]]) -> List[str]:\n",
    "    return [symplectic_to_string(row) for row in check_matrix]"
   ]
  },
  {
   "cell_type": "code",
   "execution_count": 65,
   "id": "54c72149",
   "metadata": {},
   "outputs": [],
   "source": [
    "\"\"\"Tests.\"\"\"\n",
    "assert symplectic_to_string([1, 0]) == \"X\"\n",
    "assert symplectic_to_string([0, 1]) == \"Z\"\n",
    "\n",
    "assert symplectic_to_string([1, 0, 0, 0]) == \"XI\"\n",
    "assert symplectic_to_string([0, 1, 0, 0]) == \"IX\"\n",
    "assert symplectic_to_string([0, 0, 1, 0]) == \"ZI\"\n",
    "assert symplectic_to_string([0, 0, 0, 1]) == \"IZ\"\n",
    "assert symplectic_to_string([1, 1, 0, 0]) == \"XX\"\n",
    "assert symplectic_to_string([0, 0, 1, 1]) == \"ZZ\"\n",
    "assert symplectic_to_string([1, 0, 0, 1]) == \"XZ\"\n",
    "assert symplectic_to_string([0, 1, 1, 0]) == \"ZX\"\n",
    "assert symplectic_to_string([1, 1, 1, 1]) == \"-YY\""
   ]
  },
  {
   "cell_type": "markdown",
   "id": "cb2c144d",
   "metadata": {},
   "source": [
    "## Codes"
   ]
  },
  {
   "cell_type": "code",
   "execution_count": 5,
   "id": "16d119ad",
   "metadata": {},
   "outputs": [],
   "source": [
    "# Codes from http://www.codetables.de/.\n",
    "# TODO: Generate random codes for any n instead of hardcoding.\n",
    "code_data_n20 = \"\"\"1 0 0 0 0 0 0 0 0 0 0 0 0 0 0 0 1 0 0 0 1 1 0 1 1 1 0 1 0 1 0 1 1 1 0 1 1 0 0 0\n",
    "0 1 0 0 0 0 0 0 0 0 0 0 0 0 0 0 1 0 0 0 0 0 1 1 0 0 1 1 1 1 1 1 0 0 1 1 0 0 0 0\n",
    "0 0 1 0 0 0 0 0 0 0 0 0 0 0 0 0 1 0 0 0 1 1 0 0 0 1 0 0 1 0 1 0 0 1 0 0 0 0 0 0\n",
    "0 0 0 1 0 0 0 0 0 0 0 0 0 0 0 0 1 0 0 0 1 0 1 1 1 1 1 1 0 0 0 0 1 1 1 1 1 0 0 0\n",
    "0 0 0 0 1 0 0 0 0 0 0 0 0 0 0 0 1 0 0 0 0 0 0 0 0 0 1 0 1 1 0 1 1 0 1 0 0 0 0 0\n",
    "0 0 0 0 0 1 0 0 0 0 0 0 0 0 0 0 1 0 0 0 1 1 0 1 1 1 0 0 0 0 1 1 0 0 0 0 1 0 0 0\n",
    "0 0 0 0 0 0 1 0 0 0 0 0 0 0 0 0 1 0 0 0 0 0 1 1 0 0 1 1 0 1 0 0 0 1 0 1 1 0 0 0\n",
    "0 0 0 0 0 0 0 1 0 0 0 0 0 0 0 0 1 0 0 0 0 1 0 0 0 1 0 0 1 1 1 1 1 1 1 1 0 0 0 0\n",
    "0 0 0 0 0 0 0 0 1 0 0 0 0 0 0 0 1 0 0 0 1 1 1 1 1 1 1 1 0 0 1 0 0 0 1 0 0 0 0 0\n",
    "0 0 0 0 0 0 0 0 0 1 0 0 0 0 0 0 1 0 0 0 1 0 1 0 0 0 1 0 1 1 0 0 1 1 0 0 1 0 0 0\n",
    "0 0 0 0 0 0 0 0 0 0 1 0 0 0 0 0 1 0 0 0 0 0 0 0 1 1 0 0 0 0 1 1 1 0 1 1 1 0 0 0\n",
    "0 0 0 0 0 0 0 0 0 0 0 1 0 0 0 0 1 0 0 0 0 1 0 1 1 0 1 1 0 1 0 0 0 0 0 0 0 0 0 0\n",
    "0 0 0 0 0 0 0 0 0 0 0 0 1 0 0 0 1 0 0 0 1 1 1 1 0 0 0 0 1 1 1 1 1 1 0 1 1 0 0 0\n",
    "0 0 0 0 0 0 0 0 0 0 0 0 0 1 0 0 1 0 0 0 0 0 1 0 0 1 0 1 0 0 1 0 0 0 1 1 0 0 0 0\n",
    "0 0 0 0 0 0 0 0 0 0 0 0 0 0 1 0 1 0 0 0 1 1 0 0 1 1 1 1 1 1 0 0 1 1 0 0 0 0 0 0\n",
    "0 0 0 0 0 0 0 0 0 0 0 0 0 0 0 1 1 0 0 0 1 0 1 1 1 0 1 0 1 0 1 1 1 0 1 1 1 0 0 0\n",
    "0 0 0 0 0 0 0 0 0 0 0 0 0 0 0 0 0 1 0 0 0 0 0 0 0 0 0 0 0 0 0 0 0 0 0 0 0 0 0 0\n",
    "0 0 0 0 0 0 0 0 0 0 0 0 0 0 0 0 0 0 1 0 0 0 0 0 0 0 0 0 0 0 0 0 0 0 0 0 0 0 0 0\n",
    "0 0 0 0 0 0 0 0 0 0 0 0 0 0 0 0 0 0 0 1 0 0 0 0 0 0 0 0 0 0 0 0 0 0 0 0 0 0 0 0\"\"\"\n",
    "check_matrix_n20 = np.genfromtxt(StringIO(code_data_n20), delimiter=\" \")\n",
    "\n",
    "\n",
    "code_data_n25 = \"\"\"1 0 0 0 0 0 0 0 0 0 0 0 0 0 0 0 0 0 1 1 0 0 0 1 1 0 0 1 0 1 0 0 0 0 0 1 0 1 1 0 0 0 1 1 0 1 0 0 0 0\n",
    "0 1 0 0 1 0 0 0 0 0 0 0 0 0 0 0 0 0 0 0 0 0 0 0 0 1 0 0 1 1 0 0 0 0 0 0 0 0 0 0 0 0 0 0 0 0 0 0 0 0\n",
    "0 0 1 0 1 0 0 0 0 0 0 0 0 0 0 0 0 0 1 1 0 0 0 1 1 0 0 0 1 1 0 0 0 0 0 1 0 1 1 0 0 0 1 1 0 1 0 0 0 0\n",
    "0 0 0 1 1 0 0 0 0 0 0 0 0 0 0 0 0 0 1 1 0 0 0 1 1 1 0 0 0 0 0 0 0 0 0 1 0 1 1 0 0 0 1 1 0 1 0 0 0 0\n",
    "0 0 0 0 0 1 0 0 0 0 0 0 0 0 0 0 0 0 0 0 0 0 0 1 1 1 0 1 1 0 0 0 1 0 1 1 0 1 1 0 0 0 0 0 0 0 0 1 1 0\n",
    "0 0 0 0 0 0 1 0 0 1 0 0 0 0 0 0 0 0 0 0 0 0 0 0 0 0 0 0 0 0 0 0 1 0 1 1 0 1 1 0 1 0 1 1 0 1 0 1 1 0\n",
    "0 0 0 0 0 0 0 1 0 1 0 0 0 0 0 0 0 0 0 0 0 0 0 1 1 1 0 1 1 0 0 0 0 1 1 1 0 1 1 0 0 0 0 0 0 0 0 1 1 0\n",
    "0 0 0 0 0 0 0 0 1 1 0 0 0 0 0 0 0 0 0 0 0 0 0 1 1 1 0 1 1 0 0 0 1 1 0 0 0 0 0 0 1 0 1 1 0 1 0 0 0 0\n",
    "0 0 0 0 0 0 0 0 0 0 1 0 0 0 0 0 0 0 1 1 0 0 0 0 0 1 0 1 1 0 0 0 0 0 0 1 0 0 1 1 1 0 0 0 0 1 0 1 1 0\n",
    "0 0 0 0 0 0 0 0 0 0 0 1 0 0 1 0 0 0 0 0 0 0 0 0 0 0 0 0 0 0 0 0 0 0 0 1 0 0 1 1 0 0 0 0 0 0 0 0 0 0\n",
    "0 0 0 0 0 0 0 0 0 0 0 0 1 0 1 0 0 0 1 1 0 0 0 0 0 1 0 1 1 0 0 0 0 0 0 1 0 1 0 1 1 0 0 0 0 1 0 1 1 0\n",
    "0 0 0 0 0 0 0 0 0 0 0 0 0 1 1 0 0 0 1 1 0 0 0 0 0 1 0 1 1 0 0 0 0 0 0 0 0 1 1 0 1 0 0 0 0 1 0 1 1 0\n",
    "0 0 0 0 0 0 0 0 0 0 0 0 0 0 0 1 0 0 1 1 0 0 0 0 0 0 0 0 0 0 0 0 0 0 0 0 0 0 0 0 1 0 1 0 1 0 0 0 0 0\n",
    "0 0 0 0 0 0 0 0 0 0 0 0 0 0 0 0 1 0 0 1 0 0 0 0 0 0 0 0 0 0 0 0 0 0 0 0 0 0 0 0 1 0 0 1 1 0 0 0 0 0\n",
    "0 0 0 0 0 0 0 0 0 0 0 0 0 0 0 0 0 1 1 0 0 0 0 0 0 0 0 0 0 0 0 0 0 0 0 0 0 0 0 0 1 0 0 1 1 0 0 0 0 0\n",
    "0 0 0 0 0 0 0 0 0 0 0 0 0 0 0 0 0 0 0 0 1 0 0 1 1 0 0 0 0 0 0 0 0 0 0 0 0 0 0 0 0 0 0 0 0 1 0 1 0 1\n",
    "0 0 0 0 0 0 0 0 0 0 0 0 0 0 0 0 0 0 0 0 0 1 0 0 1 0 0 0 0 0 0 0 0 0 0 0 0 0 0 0 0 0 0 0 0 1 0 0 1 1\n",
    "0 0 0 0 0 0 0 0 0 0 0 0 0 0 0 0 0 0 0 0 0 0 1 1 0 0 0 0 0 0 0 0 0 0 0 0 0 0 0 0 0 0 0 0 0 1 0 0 1 1\n",
    "0 0 0 0 0 0 0 0 0 0 0 0 0 0 0 0 0 0 0 0 0 0 0 0 0 0 1 1 1 1 0 0 0 0 0 0 0 0 0 0 0 0 0 0 0 0 0 0 0 0\n",
    "0 0 0 0 0 0 0 0 0 0 0 0 0 0 0 0 0 0 0 0 0 0 0 0 0 0 0 0 0 0 1 0 1 1 0 1 0 1 1 0 1 0 1 1 0 1 0 1 1 0\n",
    "0 0 0 0 0 0 0 0 0 0 0 0 0 0 0 0 0 0 0 0 0 0 0 0 0 0 0 0 0 0 0 1 1 1 1 0 0 0 0 0 0 0 0 0 0 0 0 0 0 0\n",
    "0 0 0 0 0 0 0 0 0 0 0 0 0 0 0 0 0 0 0 0 0 0 0 0 0 0 0 0 0 0 0 0 0 0 0 0 1 1 1 1 0 0 0 0 0 0 0 0 0 0\n",
    "0 0 0 0 0 0 0 0 0 0 0 0 0 0 0 0 0 0 0 0 0 0 0 0 0 0 0 0 0 0 0 0 0 0 0 0 0 0 0 0 0 1 1 1 1 0 0 0 0 0\n",
    "0 0 0 0 0 0 0 0 0 0 0 0 0 0 0 0 0 0 0 0 0 0 0 0 0 0 0 0 0 0 0 0 0 0 0 0 0 0 0 0 0 0 0 0 0 0 1 1 1 1\"\"\"\n",
    "check_matrix_n25 = np.genfromtxt(StringIO(code_data_n25), delimiter=\" \")\n",
    "\n",
    "code_data_n30 = \"\"\"1 0 0 0 0 0 0 0 0 0 0 0 0 0 0 0 0 0 0 0 0 0 0 0 0 0 0 0 1 0 0 1 0 1 0 0 0 1 1 1 0 0 1 1 0 1 1 0 0 1 1 1 0 0 0 1 0 1 0 0\n",
    "0 1 0 0 0 0 0 0 0 0 0 0 0 0 0 0 0 0 0 0 0 0 0 0 0 0 0 0 1 0 0 1 1 1 1 0 0 1 0 0 1 0 1 0 1 1 0 1 0 1 0 0 1 0 0 1 1 1 1 0\n",
    "0 0 1 0 0 0 0 0 0 0 0 0 0 0 0 0 0 0 0 0 0 0 0 0 0 0 0 0 1 0 1 1 1 0 1 1 0 1 0 1 0 1 1 0 0 0 0 0 1 1 0 1 0 1 0 1 1 0 1 0\n",
    "0 0 0 1 0 0 0 0 0 0 0 0 0 0 0 0 0 0 0 0 0 0 0 0 0 0 0 0 1 0 1 0 1 0 0 1 1 1 0 1 1 0 0 0 0 1 1 0 0 0 0 1 1 0 1 1 1 0 0 0\n",
    "0 0 0 0 1 0 0 0 0 0 0 0 0 0 0 0 0 0 0 0 0 0 0 0 0 0 0 0 1 0 0 0 0 0 0 0 1 0 0 1 1 1 1 1 0 1 0 1 0 1 1 1 1 1 0 0 1 0 0 0\n",
    "0 0 0 0 0 1 0 0 0 0 0 0 0 0 0 0 0 0 0 0 0 0 0 0 0 0 0 0 1 0 0 1 0 1 0 0 0 0 1 1 1 1 0 0 1 1 0 0 1 1 0 0 1 1 1 1 0 0 0 0\n",
    "0 0 0 0 0 0 1 0 0 0 0 0 0 0 0 0 0 0 0 0 0 0 0 0 0 0 0 0 1 0 0 1 1 1 1 0 0 1 1 0 1 1 0 1 0 0 0 0 0 0 0 1 0 1 1 0 1 1 0 0\n",
    "0 0 0 0 0 0 0 1 0 0 0 0 0 0 0 0 0 0 0 0 0 0 0 0 0 0 0 0 1 0 0 1 1 0 1 1 0 1 0 0 0 1 0 1 1 1 1 0 0 1 1 1 1 0 1 0 0 0 1 0\n",
    "0 0 0 0 0 0 0 0 1 0 0 0 0 0 0 0 0 0 0 0 0 0 0 0 0 0 0 0 1 0 1 1 1 0 0 1 1 1 0 1 0 0 0 1 1 0 0 1 0 1 0 0 1 1 0 0 0 1 0 0\n",
    "0 0 0 0 0 0 0 0 0 1 0 0 0 0 0 0 0 0 0 0 0 0 0 0 0 0 0 0 1 0 0 0 1 0 0 0 1 0 0 1 1 0 1 1 1 0 1 0 1 1 0 1 0 1 1 1 0 1 1 0\n",
    "0 0 0 0 0 0 0 0 0 0 1 0 0 0 0 0 0 0 0 0 0 0 0 0 0 0 0 0 1 0 1 1 0 0 0 0 0 0 1 1 1 1 1 0 1 0 1 1 0 0 0 1 1 0 1 0 1 1 1 0\n",
    "0 0 0 0 0 0 0 0 0 0 0 1 0 0 0 0 0 0 0 0 0 0 0 0 0 0 0 0 1 0 1 0 1 1 0 0 0 1 1 0 1 1 0 0 0 0 1 1 1 1 1 1 1 1 0 0 0 0 1 0\n",
    "0 0 0 0 0 0 0 0 0 0 0 0 1 0 0 0 0 0 0 0 0 0 0 0 0 0 0 0 1 0 1 0 0 0 1 0 0 1 0 0 0 1 0 1 0 1 1 1 1 0 0 0 1 1 1 1 0 1 0 0\n",
    "0 0 0 0 0 0 0 0 0 0 0 0 0 1 0 0 0 0 0 0 0 0 0 0 0 0 0 0 1 0 0 0 0 1 0 1 0 1 0 1 0 0 0 1 1 1 0 1 1 0 1 1 0 1 1 0 1 1 1 0\n",
    "0 0 0 0 0 0 0 0 0 0 0 0 0 0 1 0 0 0 0 0 0 0 0 0 0 0 0 0 1 0 1 1 0 1 1 0 1 1 0 1 1 0 1 1 1 0 0 0 1 0 1 0 1 0 1 0 0 0 1 0\n",
    "0 0 0 0 0 0 0 0 0 0 0 0 0 0 0 1 0 0 0 0 0 0 0 0 0 0 0 0 1 0 1 0 1 1 1 1 0 0 0 1 1 1 1 0 1 0 1 0 0 0 1 0 0 1 0 0 0 1 0 0\n",
    "0 0 0 0 0 0 0 0 0 0 0 0 0 0 0 0 1 0 0 0 0 0 0 0 0 0 0 0 1 0 0 0 0 0 1 1 1 1 1 1 1 1 0 0 0 0 1 1 0 1 1 0 0 0 1 1 0 1 1 0\n",
    "0 0 0 0 0 0 0 0 0 0 0 0 0 0 0 0 0 1 0 0 0 0 0 0 0 0 0 0 1 0 1 1 0 1 0 1 1 0 0 0 1 1 0 1 0 1 1 1 1 1 0 0 0 0 0 0 1 1 1 0\n",
    "0 0 0 0 0 0 0 0 0 0 0 0 0 0 0 0 0 0 1 0 0 0 0 0 0 0 0 0 1 0 1 0 1 1 1 0 1 0 1 1 0 1 0 1 1 1 0 1 1 0 0 1 0 0 0 1 0 0 1 0\n",
    "0 0 0 0 0 0 0 0 0 0 0 0 0 0 0 0 0 0 0 1 0 0 0 0 0 0 0 0 1 0 1 0 0 0 1 1 0 0 1 0 1 0 0 1 1 0 0 0 1 0 1 1 1 0 0 1 1 1 0 0\n",
    "0 0 0 0 0 0 0 0 0 0 0 0 0 0 0 0 0 0 0 0 1 0 0 0 0 0 0 0 1 0 0 0 0 1 0 1 1 1 1 0 0 1 1 1 1 0 1 0 0 0 1 0 1 1 0 1 1 0 1 0\n",
    "0 0 0 0 0 0 0 0 0 0 0 0 0 0 0 0 0 0 0 0 0 1 0 0 0 0 0 0 1 0 1 1 0 1 1 0 1 0 0 0 0 0 0 0 1 0 1 1 0 1 1 0 0 1 1 1 1 0 0 0\n",
    "0 0 0 0 0 0 0 0 0 0 0 0 0 0 0 0 0 0 0 0 0 0 1 0 0 0 0 0 1 0 0 0 1 1 1 1 0 0 1 1 0 0 1 1 0 0 1 1 1 1 0 0 0 0 1 0 1 0 0 0\n",
    "0 0 0 0 0 0 0 0 0 0 0 0 0 0 0 0 0 0 0 0 0 0 0 1 0 0 0 0 1 0 0 1 0 0 1 1 1 1 1 0 1 0 1 0 1 1 1 1 1 0 0 1 0 0 0 0 0 0 0 0\n",
    "0 0 0 0 0 0 0 0 0 0 0 0 0 0 0 0 0 0 0 0 0 0 0 0 1 0 0 0 1 0 0 1 1 1 0 1 1 0 0 0 0 1 1 0 0 0 0 1 1 0 1 1 1 0 0 1 0 1 0 0\n",
    "0 0 0 0 0 0 0 0 0 0 0 0 0 0 0 0 0 0 0 0 0 0 0 0 0 1 0 0 1 0 0 1 1 0 1 0 1 0 1 1 0 0 0 0 0 1 1 0 1 0 1 0 1 1 0 1 1 1 1 0\n",
    "0 0 0 0 0 0 0 0 0 0 0 0 0 0 0 0 0 0 0 0 0 0 0 0 0 0 1 0 1 0 1 1 1 0 0 1 0 0 1 0 1 0 1 1 0 1 0 1 0 0 1 0 0 1 1 1 1 0 1 0\n",
    "0 0 0 0 0 0 0 0 0 0 0 0 0 0 0 0 0 0 0 0 0 0 0 0 0 0 0 1 1 0 1 0 1 0 0 0 1 1 1 0 0 1 1 0 1 1 0 0 1 1 1 0 0 0 1 0 1 0 0 0\n",
    "0 0 0 0 0 0 0 0 0 0 0 0 0 0 0 0 0 0 0 0 0 0 0 0 0 0 0 0 0 1 0 0 0 0 0 0 0 0 0 0 0 0 0 0 0 0 0 0 0 0 0 0 0 0 0 0 0 0 0 0\"\"\"\n",
    "check_matrix_n30 = np.genfromtxt(StringIO(code_data_n30), delimiter=\" \")\n",
    "\n",
    "\n",
    "code_data_n40 = \"\"\"1 0 0 0 0 0 0 0 0 0 0 0 0 0 0 0 0 0 0 0 0 0 0 0 0 0 0 0 1 0 0 0 0 0 0 0 0 0 0 0 0 1 0 1 0 0 0 1 1 1 0 0 1 1 0 1 1 0 0 1 1 1 0 0 0 1 0 1 0 0 0 0 0 0 0 0 0 0 0 0\n",
    "0 1 0 0 0 0 0 0 0 0 0 0 0 0 0 0 0 0 0 0 0 0 0 0 0 0 0 0 1 0 0 0 0 0 0 0 0 0 0 0 0 1 1 1 1 0 0 1 0 0 1 0 1 0 1 1 0 1 0 1 0 0 1 0 0 1 1 1 1 0 0 0 0 0 0 0 0 0 0 0\n",
    "0 0 1 0 0 0 0 0 0 0 0 0 0 0 0 0 0 0 0 0 0 0 0 0 0 0 0 0 1 0 0 0 0 0 0 0 0 0 0 0 1 1 1 0 1 1 0 1 0 1 0 1 1 0 0 0 0 0 1 1 0 1 0 1 0 1 1 0 1 0 0 0 0 0 0 0 0 0 0 0\n",
    "0 0 0 1 0 0 0 0 0 0 0 0 0 0 0 0 0 0 0 0 0 0 0 0 0 0 0 0 1 0 0 0 0 0 0 0 0 0 0 0 1 0 1 0 0 1 1 1 0 1 1 0 0 0 0 1 1 0 0 0 0 1 1 0 1 1 1 0 0 0 0 0 0 0 0 0 0 0 0 0\n",
    "0 0 0 0 1 0 0 0 0 0 0 0 0 0 0 0 0 0 0 0 0 0 0 0 0 0 0 0 1 0 0 0 0 0 0 0 0 0 0 0 0 0 0 0 0 0 1 0 0 1 1 1 1 1 0 1 0 1 0 1 1 1 1 1 0 0 1 0 0 0 0 0 0 0 0 0 0 0 0 0\n",
    "0 0 0 0 0 1 0 0 0 0 0 0 0 0 0 0 0 0 0 0 0 0 0 0 0 0 0 0 1 0 0 0 0 0 0 0 0 0 0 0 0 1 0 1 0 0 0 0 1 1 1 1 0 0 1 1 0 0 1 1 0 0 1 1 1 1 0 0 0 0 0 0 0 0 0 0 0 0 0 0\n",
    "0 0 0 0 0 0 1 0 0 0 0 0 0 0 0 0 0 0 0 0 0 0 0 0 0 0 0 0 1 0 0 0 0 0 0 0 0 0 0 0 0 1 1 1 1 0 0 1 1 0 1 1 0 1 0 0 0 0 0 0 0 1 0 1 1 0 1 1 0 0 0 0 0 0 0 0 0 0 0 0\n",
    "0 0 0 0 0 0 0 1 0 0 0 0 0 0 0 0 0 0 0 0 0 0 0 0 0 0 0 0 1 0 0 0 0 0 0 0 0 0 0 0 0 1 1 0 1 1 0 1 0 0 0 1 0 1 1 1 1 0 0 1 1 1 1 0 1 0 0 0 1 0 0 0 0 0 0 0 0 0 0 0\n",
    "0 0 0 0 0 0 0 0 1 0 0 0 0 0 0 0 0 0 0 0 0 0 0 0 0 0 0 0 1 0 0 0 0 0 0 0 0 0 0 0 1 1 1 0 0 1 1 1 0 1 0 0 0 1 1 0 0 1 0 1 0 0 1 1 0 0 0 1 0 0 0 0 0 0 0 0 0 0 0 0\n",
    "0 0 0 0 0 0 0 0 0 1 0 0 0 0 0 0 0 0 0 0 0 0 0 0 0 0 0 0 1 0 0 0 0 0 0 0 0 0 0 0 0 0 1 0 0 0 1 0 0 1 1 0 1 1 1 0 1 0 1 1 0 1 0 1 1 1 0 1 1 0 0 0 0 0 0 0 0 0 0 0\n",
    "0 0 0 0 0 0 0 0 0 0 1 0 0 0 0 0 0 0 0 0 0 0 0 0 0 0 0 0 1 0 0 0 0 0 0 0 0 0 0 0 1 1 0 0 0 0 0 0 1 1 1 1 1 0 1 0 1 1 0 0 0 1 1 0 1 0 1 1 1 0 0 0 0 0 0 0 0 0 0 0\n",
    "0 0 0 0 0 0 0 0 0 0 0 1 0 0 0 0 0 0 0 0 0 0 0 0 0 0 0 0 1 0 0 0 0 0 0 0 0 0 0 0 1 0 1 1 0 0 0 1 1 0 1 1 0 0 0 0 1 1 1 1 1 1 1 1 0 0 0 0 1 0 0 0 0 0 0 0 0 0 0 0\n",
    "0 0 0 0 0 0 0 0 0 0 0 0 1 0 0 0 0 0 0 0 0 0 0 0 0 0 0 0 1 0 0 0 0 0 0 0 0 0 0 0 1 0 0 0 1 0 0 1 0 0 0 1 0 1 0 1 1 1 1 0 0 0 1 1 1 1 0 1 0 0 0 0 0 0 0 0 0 0 0 0\n",
    "0 0 0 0 0 0 0 0 0 0 0 0 0 1 0 0 0 0 0 0 0 0 0 0 0 0 0 0 1 0 0 0 0 0 0 0 0 0 0 0 0 0 0 1 0 1 0 1 0 1 0 0 0 1 1 1 0 1 1 0 1 1 0 1 1 0 1 1 1 0 0 0 0 0 0 0 0 0 0 0\n",
    "0 0 0 0 0 0 0 0 0 0 0 0 0 0 1 0 0 0 0 0 0 0 0 0 0 0 0 0 1 0 0 0 0 0 0 0 0 0 0 0 1 1 0 1 1 0 1 1 0 1 1 0 1 1 1 0 0 0 1 0 1 0 1 0 1 0 0 0 1 0 0 0 0 0 0 0 0 0 0 0\n",
    "0 0 0 0 0 0 0 0 0 0 0 0 0 0 0 1 0 0 0 0 0 0 0 0 0 0 0 0 1 0 0 0 0 0 0 0 0 0 0 0 1 0 1 1 1 1 0 0 0 1 1 1 1 0 1 0 1 0 0 0 1 0 0 1 0 0 0 1 0 0 0 0 0 0 0 0 0 0 0 0\n",
    "0 0 0 0 0 0 0 0 0 0 0 0 0 0 0 0 1 0 0 0 0 0 0 0 0 0 0 0 1 0 0 0 0 0 0 0 0 0 0 0 0 0 0 0 1 1 1 1 1 1 1 1 0 0 0 0 1 1 0 1 1 0 0 0 1 1 0 1 1 0 0 0 0 0 0 0 0 0 0 0\n",
    "0 0 0 0 0 0 0 0 0 0 0 0 0 0 0 0 0 1 0 0 0 0 0 0 0 0 0 0 1 0 0 0 0 0 0 0 0 0 0 0 1 1 0 1 0 1 1 0 0 0 1 1 0 1 0 1 1 1 1 1 0 0 0 0 0 0 1 1 1 0 0 0 0 0 0 0 0 0 0 0\n",
    "0 0 0 0 0 0 0 0 0 0 0 0 0 0 0 0 0 0 1 0 0 0 0 0 0 0 0 0 1 0 0 0 0 0 0 0 0 0 0 0 1 0 1 1 1 0 1 0 1 1 0 1 0 1 1 1 0 1 1 0 0 1 0 0 0 1 0 0 1 0 0 0 0 0 0 0 0 0 0 0\n",
    "0 0 0 0 0 0 0 0 0 0 0 0 0 0 0 0 0 0 0 1 0 0 0 0 0 0 0 0 1 0 0 0 0 0 0 0 0 0 0 0 1 0 0 0 1 1 0 0 1 0 1 0 0 1 1 0 0 0 1 0 1 1 1 0 0 1 1 1 0 0 0 0 0 0 0 0 0 0 0 0\n",
    "0 0 0 0 0 0 0 0 0 0 0 0 0 0 0 0 0 0 0 0 1 0 0 0 0 0 0 0 1 0 0 0 0 0 0 0 0 0 0 0 0 0 0 1 0 1 1 1 1 0 0 1 1 1 1 0 1 0 0 0 1 0 1 1 0 1 1 0 1 0 0 0 0 0 0 0 0 0 0 0\n",
    "0 0 0 0 0 0 0 0 0 0 0 0 0 0 0 0 0 0 0 0 0 1 0 0 0 0 0 0 1 0 0 0 0 0 0 0 0 0 0 0 1 1 0 1 1 0 1 0 0 0 0 0 0 0 1 0 1 1 0 1 1 0 0 1 1 1 1 0 0 0 0 0 0 0 0 0 0 0 0 0\n",
    "0 0 0 0 0 0 0 0 0 0 0 0 0 0 0 0 0 0 0 0 0 0 1 0 0 0 0 0 1 0 0 0 0 0 0 0 0 0 0 0 0 0 1 1 1 1 0 0 1 1 0 0 1 1 0 0 1 1 1 1 0 0 0 0 1 0 1 0 0 0 0 0 0 0 0 0 0 0 0 0\n",
    "0 0 0 0 0 0 0 0 0 0 0 0 0 0 0 0 0 0 0 0 0 0 0 1 0 0 0 0 1 0 0 0 0 0 0 0 0 0 0 0 0 1 0 0 1 1 1 1 1 0 1 0 1 0 1 1 1 1 1 0 0 1 0 0 0 0 0 0 0 0 0 0 0 0 0 0 0 0 0 0\n",
    "0 0 0 0 0 0 0 0 0 0 0 0 0 0 0 0 0 0 0 0 0 0 0 0 1 0 0 0 1 0 0 0 0 0 0 0 0 0 0 0 0 1 1 1 0 1 1 0 0 0 0 1 1 0 0 0 0 1 1 0 1 1 1 0 0 1 0 1 0 0 0 0 0 0 0 0 0 0 0 0\n",
    "0 0 0 0 0 0 0 0 0 0 0 0 0 0 0 0 0 0 0 0 0 0 0 0 0 1 0 0 1 0 0 0 0 0 0 0 0 0 0 0 0 1 1 0 1 0 1 0 1 1 0 0 0 0 0 1 1 0 1 0 1 0 1 1 0 1 1 1 1 0 0 0 0 0 0 0 0 0 0 0\n",
    "0 0 0 0 0 0 0 0 0 0 0 0 0 0 0 0 0 0 0 0 0 0 0 0 0 0 1 0 1 0 0 0 0 0 0 0 0 0 0 0 1 1 1 0 0 1 0 0 1 0 1 0 1 1 0 1 0 1 0 0 1 0 0 1 1 1 1 0 1 0 0 0 0 0 0 0 0 0 0 0\n",
    "0 0 0 0 0 0 0 0 0 0 0 0 0 0 0 0 0 0 0 0 0 0 0 0 0 0 0 1 1 0 0 0 0 0 0 0 0 0 0 0 1 0 1 0 0 0 1 1 1 0 0 1 1 0 1 1 0 0 1 1 1 0 0 0 1 0 1 0 0 0 0 0 0 0 0 0 0 0 0 0\n",
    "0 0 0 0 0 0 0 0 0 0 0 0 0 0 0 0 0 0 0 0 0 0 0 0 0 0 0 0 0 1 0 0 0 0 0 0 0 0 0 0 0 0 0 0 0 0 0 0 0 0 0 0 0 0 0 0 0 0 0 0 0 0 0 0 0 0 0 0 0 0 0 0 0 0 0 0 0 0 0 0\n",
    "0 0 0 0 0 0 0 0 0 0 0 0 0 0 0 0 0 0 0 0 0 0 0 0 0 0 0 0 0 0 1 0 0 0 0 0 0 0 0 0 0 0 0 0 0 0 0 0 0 0 0 0 0 0 0 0 0 0 0 0 0 0 0 0 0 0 0 0 0 0 0 0 0 0 0 0 0 0 0 0\n",
    "0 0 0 0 0 0 0 0 0 0 0 0 0 0 0 0 0 0 0 0 0 0 0 0 0 0 0 0 0 0 0 1 0 0 0 0 0 0 0 0 0 0 0 0 0 0 0 0 0 0 0 0 0 0 0 0 0 0 0 0 0 0 0 0 0 0 0 0 0 0 0 0 0 0 0 0 0 0 0 0\n",
    "0 0 0 0 0 0 0 0 0 0 0 0 0 0 0 0 0 0 0 0 0 0 0 0 0 0 0 0 0 0 0 0 1 0 0 0 0 0 0 0 0 0 0 0 0 0 0 0 0 0 0 0 0 0 0 0 0 0 0 0 0 0 0 0 0 0 0 0 0 0 0 0 0 0 0 0 0 0 0 0\n",
    "0 0 0 0 0 0 0 0 0 0 0 0 0 0 0 0 0 0 0 0 0 0 0 0 0 0 0 0 0 0 0 0 0 1 0 0 0 0 0 0 0 0 0 0 0 0 0 0 0 0 0 0 0 0 0 0 0 0 0 0 0 0 0 0 0 0 0 0 0 0 0 0 0 0 0 0 0 0 0 0\n",
    "0 0 0 0 0 0 0 0 0 0 0 0 0 0 0 0 0 0 0 0 0 0 0 0 0 0 0 0 0 0 0 0 0 0 1 0 0 0 0 0 0 0 0 0 0 0 0 0 0 0 0 0 0 0 0 0 0 0 0 0 0 0 0 0 0 0 0 0 0 0 0 0 0 0 0 0 0 0 0 0\n",
    "0 0 0 0 0 0 0 0 0 0 0 0 0 0 0 0 0 0 0 0 0 0 0 0 0 0 0 0 0 0 0 0 0 0 0 1 0 0 0 0 0 0 0 0 0 0 0 0 0 0 0 0 0 0 0 0 0 0 0 0 0 0 0 0 0 0 0 0 0 0 0 0 0 0 0 0 0 0 0 0\n",
    "0 0 0 0 0 0 0 0 0 0 0 0 0 0 0 0 0 0 0 0 0 0 0 0 0 0 0 0 0 0 0 0 0 0 0 0 1 0 0 0 0 0 0 0 0 0 0 0 0 0 0 0 0 0 0 0 0 0 0 0 0 0 0 0 0 0 0 0 0 0 0 0 0 0 0 0 0 0 0 0\n",
    "0 0 0 0 0 0 0 0 0 0 0 0 0 0 0 0 0 0 0 0 0 0 0 0 0 0 0 0 0 0 0 0 0 0 0 0 0 1 0 0 0 0 0 0 0 0 0 0 0 0 0 0 0 0 0 0 0 0 0 0 0 0 0 0 0 0 0 0 0 0 0 0 0 0 0 0 0 0 0 0\n",
    "0 0 0 0 0 0 0 0 0 0 0 0 0 0 0 0 0 0 0 0 0 0 0 0 0 0 0 0 0 0 0 0 0 0 0 0 0 0 1 0 0 0 0 0 0 0 0 0 0 0 0 0 0 0 0 0 0 0 0 0 0 0 0 0 0 0 0 0 0 0 0 0 0 0 0 0 0 0 0 0\n",
    "0 0 0 0 0 0 0 0 0 0 0 0 0 0 0 0 0 0 0 0 0 0 0 0 0 0 0 0 0 0 0 0 0 0 0 0 0 0 0 1 0 0 0 0 0 0 0 0 0 0 0 0 0 0 0 0 0 0 0 0 0 0 0 0 0 0 0 0 0 0 0 0 0 0 0 0 0 0 0 0\"\"\"\n",
    "check_matrix_n40 = np.genfromtxt(StringIO(code_data_n40), delimiter=\" \")"
   ]
  },
  {
   "cell_type": "code",
   "execution_count": 13,
   "id": "7cea2379",
   "metadata": {},
   "outputs": [],
   "source": [
    "code_data_n50 = \"\"\"1 0 0 0 0 0 0 0 0 0 0 0 0 0 0 0 0 0 0 0 0 0 0 0 0 0 0 0 0 0 0 0 0 0 0 0 0 0 0 0 0 0 0 1 0 0 0 0 0 0 0 1 0 0 0 1 1 0 0 1 0 1 0 1 1 1 1 0 1 0 0 1 1 1 0 1 0 1 1 1 1 0 1 0 1 0 0 1 1 0 0 0 1 1 1 1 1 0 0 0\n",
    "0 1 0 0 0 0 0 0 0 0 0 0 0 0 0 0 0 0 0 0 0 0 0 0 0 0 0 0 0 0 0 0 0 0 0 0 0 0 0 0 0 0 0 1 0 0 0 0 0 0 0 1 0 0 1 1 0 1 0 1 0 1 1 0 1 1 1 0 0 1 0 0 1 1 0 1 0 0 1 1 1 0 1 1 0 1 0 1 0 1 1 0 0 0 0 1 1 0 0 0\n",
    "0 0 1 0 0 0 0 0 0 0 0 0 0 0 0 0 0 0 0 0 0 0 0 0 0 0 0 0 0 0 0 0 0 0 0 0 0 0 0 0 0 0 0 1 0 0 0 0 0 0 0 1 0 0 1 0 0 0 1 1 0 1 1 1 0 1 1 0 0 0 1 0 0 1 0 1 0 0 0 1 1 0 1 1 1 0 1 1 0 0 0 1 0 1 1 0 1 0 0 0\n",
    "0 0 0 1 0 0 0 0 0 0 0 0 0 0 0 0 0 0 0 0 0 0 0 0 0 0 0 0 0 0 0 0 0 0 0 0 0 0 0 0 0 0 0 1 0 0 0 0 0 0 0 1 0 0 1 0 1 0 0 0 0 1 1 1 1 0 1 0 0 0 0 1 0 0 0 1 0 0 0 0 1 0 1 1 1 1 0 0 0 0 1 0 1 1 0 1 0 0 0 0\n",
    "0 0 0 0 1 0 0 0 0 0 0 0 0 0 0 0 0 0 0 0 0 0 0 0 0 0 0 0 0 0 0 0 0 0 0 0 0 0 0 0 0 0 0 0 0 0 0 0 0 0 1 0 0 0 0 0 0 0 1 1 0 1 1 1 1 1 0 1 1 1 1 1 0 1 1 1 1 1 1 1 1 0 0 0 0 0 0 1 0 1 1 1 0 1 0 0 1 0 0 0\n",
    "0 0 0 0 0 1 0 0 0 0 0 0 0 0 0 0 0 0 0 0 0 0 0 0 0 0 0 0 0 0 0 0 0 0 0 0 0 0 0 0 0 0 0 1 0 0 0 0 0 0 1 0 0 0 1 0 1 1 1 1 0 0 1 1 1 1 1 1 0 0 0 0 0 1 1 1 0 0 0 0 0 1 1 1 1 1 1 0 0 1 1 1 1 1 1 0 0 0 0 0\n",
    "0 0 0 0 0 0 1 0 0 0 0 0 0 0 0 0 0 0 0 0 0 0 0 0 0 0 0 0 0 0 0 0 0 0 0 0 0 0 0 0 0 0 0 0 0 0 0 0 0 0 0 1 1 0 0 0 0 0 0 0 1 1 0 1 1 1 1 1 0 1 1 1 1 1 1 0 1 1 1 1 1 1 1 0 0 0 0 0 0 1 0 1 1 1 0 1 0 0 0 0\n",
    "0 0 0 0 0 0 0 1 0 0 0 0 0 0 0 0 0 0 0 0 0 0 0 0 0 0 0 0 0 0 0 0 0 0 0 0 0 0 0 0 0 0 0 0 0 0 0 0 0 0 1 0 1 1 0 0 0 0 0 0 0 1 1 0 1 1 1 1 1 0 1 1 1 1 0 1 0 1 1 1 1 1 1 1 0 0 0 0 0 0 1 0 1 1 1 0 1 0 0 0\n",
    "0 0 0 0 0 0 0 0 1 0 0 0 0 0 0 0 0 0 0 0 0 0 0 0 0 0 0 0 0 0 0 0 0 0 0 0 0 0 0 0 0 0 0 1 0 0 0 0 0 0 1 0 0 1 0 0 1 1 1 0 1 0 1 1 0 1 1 0 0 0 1 0 0 0 1 0 0 1 0 0 0 1 0 0 0 1 1 0 1 1 0 1 0 0 1 1 0 0 0 0\n",
    "0 0 0 0 0 0 0 0 0 1 0 0 0 0 0 0 0 0 0 0 0 0 0 0 0 0 0 0 0 0 0 0 0 0 0 0 0 0 0 0 0 0 0 0 0 0 0 0 0 0 1 1 1 0 1 1 0 0 0 0 0 0 0 1 1 0 1 1 1 1 1 0 1 1 1 0 0 1 0 1 1 1 1 1 1 1 0 0 0 0 0 0 1 0 1 1 1 0 0 0\n",
    "0 0 0 0 0 0 0 0 0 0 1 0 0 0 0 0 0 0 0 0 0 0 0 0 0 0 0 0 0 0 0 0 0 0 0 0 0 0 0 0 0 0 0 1 0 0 0 0 0 0 1 0 1 1 1 1 0 1 1 0 1 0 0 0 1 1 0 0 0 0 0 0 1 0 1 1 1 1 0 1 0 1 0 0 0 0 0 0 1 1 0 0 0 0 0 1 1 0 0 0\n",
    "0 0 0 0 0 0 0 0 0 0 0 1 0 0 0 0 0 0 0 0 0 0 0 0 0 0 0 0 0 0 0 0 0 0 0 0 0 0 0 0 0 0 0 1 0 0 0 0 0 0 1 0 1 1 0 0 0 0 1 0 1 0 0 0 0 1 1 1 0 0 0 0 0 1 0 0 0 1 1 0 1 1 0 0 0 0 0 1 1 1 0 0 0 1 1 0 1 0 0 0\n",
    "0 0 0 0 0 0 0 0 0 0 0 0 1 0 0 0 0 0 0 0 0 0 0 0 0 0 0 0 0 0 0 0 0 0 0 0 0 0 0 0 0 0 0 1 0 0 0 0 0 0 0 0 1 1 0 1 1 0 0 0 1 0 0 0 0 0 1 0 1 0 0 0 0 0 0 1 1 0 1 1 0 0 0 0 0 0 0 1 0 1 0 0 0 1 0 1 0 0 0 0\n",
    "0 0 0 0 0 0 0 0 0 0 0 0 0 1 0 0 0 0 0 0 0 0 0 0 0 0 0 0 0 0 0 0 0 0 0 0 0 0 0 0 0 0 0 0 0 0 0 0 0 0 1 0 1 1 1 1 1 0 1 1 0 0 0 0 0 0 0 1 1 0 1 1 1 1 1 1 1 0 1 0 0 1 0 1 1 1 1 1 1 1 0 0 0 0 0 0 1 0 0 0\n",
    "0 0 0 0 0 0 0 0 0 0 0 0 0 0 1 0 0 0 0 0 0 0 0 0 0 0 0 0 0 0 0 0 0 0 0 0 0 0 0 0 0 0 0 1 0 0 0 0 0 0 1 0 0 1 0 1 0 0 1 1 0 0 0 0 0 0 0 1 0 0 1 0 0 0 1 1 0 0 1 0 1 0 0 1 0 0 0 1 0 0 1 0 0 1 0 0 0 0 0 0\n",
    "0 0 0 0 0 0 0 0 0 0 0 0 0 0 0 1 0 0 0 0 0 0 0 0 0 0 0 0 0 0 0 0 0 0 0 0 0 0 0 0 0 0 0 0 0 0 0 0 0 0 1 1 1 0 1 1 1 1 1 0 1 1 0 0 0 0 0 0 0 1 1 0 1 1 1 0 1 1 1 0 1 0 0 1 0 1 1 1 1 1 1 1 0 0 0 0 0 0 0 0\n",
    "0 0 0 0 0 0 0 0 0 0 0 0 0 0 0 0 1 0 0 0 0 0 0 0 0 0 0 0 0 0 0 0 0 0 0 0 0 0 0 0 0 0 0 0 0 0 0 0 0 0 1 1 1 1 0 1 1 1 1 1 0 1 1 0 0 0 0 0 0 0 1 1 0 1 0 1 0 1 1 1 0 1 0 0 1 0 1 1 1 1 1 1 1 0 0 0 0 0 0 0\n",
    "0 0 0 0 0 0 0 0 0 0 0 0 0 0 0 0 0 1 0 0 0 0 0 0 0 0 0 0 0 0 0 0 0 0 0 0 0 0 0 0 0 0 0 0 0 0 0 0 0 0 1 1 1 1 1 0 1 1 1 1 1 0 1 1 0 0 0 0 0 0 0 1 1 0 0 0 1 0 1 1 1 0 1 0 0 1 0 1 1 1 1 1 1 1 0 0 0 0 0 0\n",
    "0 0 0 0 0 0 0 0 0 0 0 0 0 0 0 0 0 0 1 0 0 0 0 0 0 0 0 0 0 0 0 0 0 0 0 0 0 0 0 0 0 0 0 0 0 0 0 0 0 0 0 1 1 1 1 1 0 1 1 1 1 1 0 1 1 0 0 0 0 0 0 0 1 1 0 0 0 1 0 1 1 1 0 1 0 0 1 0 1 1 1 1 1 1 1 0 0 0 0 0\n",
    "0 0 0 0 0 0 0 0 0 0 0 0 0 0 0 0 0 0 0 1 0 0 0 0 0 0 0 0 0 0 0 0 0 0 0 0 0 0 0 0 0 0 0 0 0 0 0 0 0 0 1 0 1 1 1 1 1 0 1 1 1 1 1 0 1 1 0 0 0 0 0 0 0 1 0 0 0 0 1 0 1 1 1 0 1 0 0 1 0 1 1 1 1 1 1 1 0 0 0 0\n",
    "0 0 0 0 0 0 0 0 0 0 0 0 0 0 0 0 0 0 0 0 1 0 0 0 0 0 0 0 0 0 0 0 0 0 0 0 0 0 0 0 0 0 0 0 0 0 0 0 0 0 1 1 0 1 1 1 1 1 0 1 1 1 1 1 0 1 1 0 0 0 0 0 0 0 0 0 0 0 0 1 0 1 1 1 0 1 0 0 1 0 1 1 1 1 1 1 1 0 0 0\n",
    "0 0 0 0 0 0 0 0 0 0 0 0 0 0 0 0 0 0 0 0 0 1 0 0 0 0 0 0 0 0 0 0 0 0 0 0 0 0 0 0 0 0 0 1 0 0 0 0 0 0 0 0 1 0 0 1 0 0 0 0 0 1 1 1 1 0 1 0 1 1 1 1 1 1 1 0 1 1 1 1 0 0 0 0 0 1 0 0 1 0 0 1 1 0 1 1 1 0 0 0\n",
    "0 0 0 0 0 0 0 0 0 0 0 0 0 0 0 0 0 0 0 0 0 0 1 0 0 0 0 0 0 0 0 0 0 0 0 0 0 0 0 0 0 0 0 1 0 0 0 0 0 0 0 1 1 1 1 1 0 0 0 1 1 1 1 1 1 1 0 0 0 1 1 1 1 1 0 0 1 1 1 1 1 1 1 0 0 0 1 1 1 1 1 0 1 0 1 1 1 0 0 0\n",
    "0 0 0 0 0 0 0 0 0 0 0 0 0 0 0 0 0 0 0 0 0 0 0 1 0 0 0 0 0 0 0 0 0 0 0 0 0 0 0 0 0 0 0 1 0 0 0 0 0 0 0 1 0 1 0 0 0 0 0 1 0 0 1 1 1 1 1 1 0 0 1 1 1 1 0 1 1 1 1 1 1 0 0 1 0 0 0 0 0 1 0 1 0 0 1 1 1 0 0 0\n",
    "0 0 0 0 0 0 0 0 0 0 0 0 0 0 0 0 0 0 0 0 0 0 0 0 1 0 0 0 0 0 0 0 0 0 0 0 0 0 0 0 0 0 0 0 0 0 0 0 0 0 1 1 1 1 1 0 1 0 0 1 0 1 1 1 0 1 0 0 0 0 0 0 1 1 1 0 0 0 1 1 0 1 1 1 1 1 0 1 1 1 1 1 0 1 1 0 0 0 0 0\n",
    "0 0 0 0 0 0 0 0 0 0 0 0 0 0 0 0 0 0 0 0 0 0 0 0 0 1 0 0 0 0 0 0 0 0 0 0 0 0 0 0 0 0 0 0 0 0 0 0 0 0 1 1 1 1 1 1 0 1 0 0 1 0 1 1 1 0 1 0 0 0 0 0 0 1 0 1 0 0 0 1 1 0 1 1 1 1 1 0 1 1 1 1 1 0 1 1 0 0 0 0\n",
    "0 0 0 0 0 0 0 0 0 0 0 0 0 0 0 0 0 0 0 0 0 0 0 0 0 0 1 0 0 0 0 0 0 0 0 0 0 0 0 0 0 0 0 0 0 0 0 0 0 0 1 1 1 1 1 1 1 0 1 0 0 1 0 1 1 1 0 1 0 0 0 0 0 0 0 0 1 0 0 0 1 1 0 1 1 1 1 1 0 1 1 1 1 1 0 1 1 0 0 0\n",
    "0 0 0 0 0 0 0 0 0 0 0 0 0 0 0 0 0 0 0 0 0 0 0 0 0 0 0 1 0 0 0 0 0 0 0 0 0 0 0 0 0 0 0 1 0 0 0 0 0 0 0 0 1 1 0 1 0 0 1 1 1 0 1 0 1 1 1 1 0 1 1 1 1 1 1 0 1 0 1 1 1 1 0 1 0 0 0 1 0 1 1 1 1 0 1 0 1 0 0 0\n",
    "0 0 0 0 0 0 0 0 0 0 0 0 0 0 0 0 0 0 0 0 0 0 0 0 0 0 0 0 1 0 0 0 0 0 0 0 0 0 0 0 0 0 0 1 0 0 0 0 0 0 0 1 1 1 0 1 0 0 0 0 0 0 0 1 0 1 1 0 1 0 1 1 1 1 0 0 1 1 0 1 1 0 0 0 1 0 0 1 0 0 0 1 1 0 1 1 0 0 0 0\n",
    "0 0 0 0 0 0 0 0 0 0 0 0 0 0 0 0 0 0 0 0 0 0 0 0 0 0 0 0 0 1 0 0 0 0 0 0 0 0 0 0 0 0 0 0 0 0 0 0 0 0 0 0 0 1 1 1 1 1 1 1 0 1 0 0 1 0 1 1 1 0 1 0 0 0 1 1 0 0 0 1 0 0 0 1 1 0 1 1 1 1 1 0 1 1 1 1 1 0 0 0\n",
    "0 0 0 0 0 0 0 0 0 0 0 0 0 0 0 0 0 0 0 0 0 0 0 0 0 0 0 0 0 0 1 0 0 0 0 0 0 0 0 0 0 0 0 1 0 0 0 0 0 0 0 1 0 0 0 1 0 0 0 1 0 0 1 0 0 1 0 0 0 0 1 0 1 1 1 1 0 1 1 1 0 0 1 1 0 0 1 1 0 0 1 1 0 0 1 1 1 0 0 0\n",
    "0 0 0 0 0 0 0 0 0 0 0 0 0 0 0 0 0 0 0 0 0 0 0 0 0 0 0 0 0 0 0 1 0 0 0 0 0 0 0 0 0 0 0 1 0 0 0 0 0 0 0 1 0 0 1 1 0 0 0 1 0 1 0 1 0 0 1 1 0 0 0 1 0 1 0 0 0 0 1 1 1 1 1 1 1 0 0 0 0 0 1 1 1 1 1 1 1 0 0 0\n",
    "0 0 0 0 0 0 0 0 0 0 0 0 0 0 0 0 0 0 0 0 0 0 0 0 0 0 0 0 0 0 0 0 1 0 0 0 0 0 0 0 0 0 0 1 0 0 0 0 0 0 0 1 0 0 1 0 0 0 0 1 0 1 1 0 1 0 0 0 1 0 0 0 1 0 0 1 1 0 0 1 1 0 0 1 1 1 0 1 1 0 1 1 1 0 0 1 1 0 0 0\n",
    "0 0 0 0 0 0 0 0 0 0 0 0 0 0 0 0 0 0 0 0 0 0 0 0 0 0 0 0 0 0 0 0 0 1 0 0 0 0 0 0 0 0 0 1 0 0 0 0 0 0 1 1 0 0 1 0 1 0 0 1 0 1 1 1 0 1 0 1 0 1 0 0 0 1 0 1 0 1 0 0 1 0 1 0 1 1 1 1 0 1 1 1 1 0 1 0 1 0 0 0\n",
    "0 0 0 0 0 0 0 0 0 0 0 0 0 0 0 0 0 0 0 0 0 0 0 0 0 0 0 0 0 0 0 0 0 0 1 0 0 0 0 0 0 0 0 1 0 0 0 0 0 0 0 0 0 0 1 0 1 1 0 1 0 1 1 1 1 0 1 1 1 0 1 0 0 0 0 1 0 0 1 0 0 0 1 1 0 1 1 0 0 0 0 1 1 0 1 1 0 0 0 0\n",
    "0 0 0 0 0 0 0 0 0 0 0 0 0 0 0 0 0 0 0 0 0 0 0 0 0 0 0 0 0 0 0 0 0 0 0 1 0 0 0 0 0 0 0 0 0 0 0 0 0 0 1 0 1 0 0 0 0 0 0 1 1 1 1 1 1 1 0 1 0 0 1 0 1 1 1 1 1 1 1 0 1 1 0 0 0 1 0 0 0 1 1 0 1 1 1 1 1 0 0 0\n",
    "0 0 0 0 0 0 0 0 0 0 0 0 0 0 0 0 0 0 0 0 0 0 0 0 0 0 0 0 0 0 0 0 0 0 0 0 1 0 0 0 0 0 0 1 0 0 0 0 0 0 1 0 0 1 1 0 1 1 1 0 0 1 1 1 1 1 1 1 0 1 1 0 1 0 1 1 0 0 0 0 1 1 0 1 1 1 0 0 1 1 1 1 0 0 1 1 1 0 0 0\n",
    "0 0 0 0 0 0 0 0 0 0 0 0 0 0 0 0 0 0 0 0 0 0 0 0 0 0 0 0 0 0 0 0 0 0 0 0 0 1 0 0 0 0 0 1 0 0 0 0 0 0 1 0 1 0 0 0 1 1 1 0 1 1 1 1 1 1 1 0 1 0 1 1 0 1 0 0 0 0 0 0 0 0 0 0 1 1 1 1 1 1 0 1 1 1 1 1 1 0 0 0\n",
    "0 0 0 0 0 0 0 0 0 0 0 0 0 0 0 0 0 0 0 0 0 0 0 0 0 0 0 0 0 0 0 0 0 0 0 0 0 0 1 0 0 0 0 1 0 0 0 0 0 0 0 0 1 1 1 1 1 1 1 0 1 0 1 1 1 1 1 0 0 1 0 1 1 0 0 1 1 0 0 0 0 1 1 0 0 1 1 0 0 1 0 0 1 0 0 1 1 0 0 0\n",
    "0 0 0 0 0 0 0 0 0 0 0 0 0 0 0 0 0 0 0 0 0 0 0 0 0 0 0 0 0 0 0 0 0 0 0 0 0 0 0 1 0 0 0 1 0 0 0 0 0 0 1 1 1 1 0 0 0 1 1 0 1 0 0 1 1 1 1 0 0 0 1 0 1 1 0 1 0 1 0 0 0 1 0 1 0 0 1 0 1 0 0 0 0 0 1 0 1 0 0 0\n",
    "0 0 0 0 0 0 0 0 0 0 0 0 0 0 0 0 0 0 0 0 0 0 0 0 0 0 0 0 0 0 0 0 0 0 0 0 0 0 0 0 1 0 0 1 0 0 0 0 0 0 0 0 0 1 0 1 1 0 1 0 1 0 0 0 1 1 1 0 0 0 0 1 0 1 0 1 0 0 1 0 0 1 0 0 1 0 0 0 1 1 1 0 0 1 1 1 0 0 0 0\n",
    "0 0 0 0 0 0 0 0 0 0 0 0 0 0 0 0 0 0 0 0 0 0 0 0 0 0 0 0 0 0 0 0 0 0 0 0 0 0 0 0 0 1 0 0 0 0 0 0 0 0 0 0 1 0 1 1 1 0 1 0 0 0 0 0 0 1 1 1 1 1 1 1 0 1 1 1 1 1 1 0 1 1 1 1 1 0 1 1 0 0 0 1 0 0 0 1 1 0 0 0\n",
    "0 0 0 0 0 0 0 0 0 0 0 0 0 0 0 0 0 0 0 0 0 0 0 0 0 0 0 0 0 0 0 0 0 0 0 0 0 0 0 0 0 0 1 1 0 0 0 0 0 0 1 1 0 1 1 1 0 0 1 1 1 0 0 0 0 0 1 0 0 0 0 0 0 1 1 1 0 0 0 0 1 1 0 0 0 0 1 1 0 1 0 0 1 1 0 0 1 0 0 0\n",
    "0 0 0 0 0 0 0 0 0 0 0 0 0 0 0 0 0 0 0 0 0 0 0 0 0 0 0 0 0 0 0 0 0 0 0 0 0 0 0 0 0 0 0 0 1 0 0 0 0 0 1 0 1 0 0 1 0 1 1 1 0 1 0 0 0 0 0 0 1 1 1 1 1 1 1 1 0 1 1 1 1 1 0 1 1 1 1 1 0 1 1 0 0 0 1 0 0 0 0 0\n",
    "0 0 0 0 0 0 0 0 0 0 0 0 0 0 0 0 0 0 0 0 0 0 0 0 0 0 0 0 0 0 0 0 0 0 0 0 0 0 0 0 0 0 0 0 0 1 0 0 0 0 1 1 0 1 0 0 1 0 1 1 1 0 1 0 0 0 0 0 0 1 1 1 1 1 0 1 1 0 1 1 1 1 1 0 1 1 1 1 1 0 1 1 0 0 0 1 0 0 0 0\n",
    "0 0 0 0 0 0 0 0 0 0 0 0 0 0 0 0 0 0 0 0 0 0 0 0 0 0 0 0 0 0 0 0 0 0 0 0 0 0 0 0 0 0 0 0 0 0 1 0 0 0 1 1 1 0 1 0 0 1 0 1 1 1 0 1 0 0 0 0 0 0 1 1 1 1 0 0 1 1 0 1 1 1 1 1 0 1 1 1 1 1 0 1 1 0 0 0 1 0 0 0\n",
    "0 0 0 0 0 0 0 0 0 0 0 0 0 0 0 0 0 0 0 0 0 0 0 0 0 0 0 0 0 0 0 0 0 0 0 0 0 0 0 0 0 0 0 0 0 0 0 1 0 0 0 0 0 0 0 0 0 0 0 0 0 0 0 0 0 0 0 0 0 0 0 0 0 0 0 0 0 0 0 0 0 0 0 0 0 0 0 0 0 0 0 0 0 0 0 0 0 0 0 0\n",
    "0 0 0 0 0 0 0 0 0 0 0 0 0 0 0 0 0 0 0 0 0 0 0 0 0 0 0 0 0 0 0 0 0 0 0 0 0 0 0 0 0 0 0 0 0 0 0 0 1 0 0 0 0 0 0 0 0 0 0 0 0 0 0 0 0 0 0 0 0 0 0 0 0 0 0 0 0 0 0 0 0 0 0 0 0 0 0 0 0 0 0 0 0 0 0 0 0 0 0 0\n",
    "0 0 0 0 0 0 0 0 0 0 0 0 0 0 0 0 0 0 0 0 0 0 0 0 0 0 0 0 0 0 0 0 0 0 0 0 0 0 0 0 0 0 0 0 0 0 0 0 0 1 0 0 0 0 0 0 0 0 0 0 0 0 0 0 0 0 0 0 0 0 0 0 0 0 0 0 0 0 0 0 0 0 0 0 0 0 0 0 0 0 0 0 0 0 0 0 0 0 0 0\"\"\"\n",
    "check_matrix_n50 = np.genfromtxt(StringIO(code_data_n50), delimiter=\" \")"
   ]
  },
  {
   "cell_type": "code",
   "execution_count": 36,
   "id": "f4b1577c",
   "metadata": {},
   "outputs": [],
   "source": [
    "N = 60"
   ]
  },
  {
   "cell_type": "code",
   "execution_count": 37,
   "id": "0d25f3b1",
   "metadata": {},
   "outputs": [],
   "source": [
    "\n",
    "\n",
    "fp = urllib.request.urlopen(f\"http://www.codetables.de/QECC.php?q=4&n={N}&k=1\")\n",
    "mybytes = fp.read()\n",
    "\n",
    "mystr = mybytes.decode(\"utf8\")\n",
    "fp.close()"
   ]
  },
  {
   "cell_type": "code",
   "execution_count": 38,
   "id": "2d0dd557",
   "metadata": {},
   "outputs": [],
   "source": [
    "lines = mystr.splitlines()"
   ]
  },
  {
   "cell_type": "code",
   "execution_count": 39,
   "id": "e5a90d00",
   "metadata": {},
   "outputs": [],
   "source": [
    "_KEY = \"    stabilizer matrix:\""
   ]
  },
  {
   "cell_type": "code",
   "execution_count": 44,
   "id": "32c9c423",
   "metadata": {},
   "outputs": [],
   "source": [
    "start = lines.index(_KEY) + 2\n",
    "end = start + N - 1"
   ]
  },
  {
   "cell_type": "code",
   "execution_count": 54,
   "id": "e734e4b3",
   "metadata": {},
   "outputs": [],
   "source": [
    "check_matrix_data = [\n",
    "    line.strip().lstrip(\"[\").rstrip(\"]\").replace(\"|\", \" \")\n",
    "    for line in lines[start: end]\n",
    "]"
   ]
  },
  {
   "cell_type": "code",
   "execution_count": 59,
   "id": "1a959530",
   "metadata": {},
   "outputs": [],
   "source": [
    "check_matrix = np.genfromtxt(StringIO(\"\\n\".join(check_matrix_data)), delimiter=\" \")"
   ]
  },
  {
   "cell_type": "code",
   "execution_count": null,
   "id": "afc85bba",
   "metadata": {},
   "outputs": [],
   "source": [
    "check_matrix_lines = []"
   ]
  },
  {
   "cell_type": "code",
   "execution_count": 66,
   "id": "c83da2b6",
   "metadata": {},
   "outputs": [],
   "source": [
    "def get_code_from_codetables(nqubits: int) -> List[str]:\n",
    "    \"\"\"Returns stabilizers for an [[nqubits, 1]] code by pa\"\"\"\n",
    "    fp = urllib.request.urlopen(f\"http://www.codetables.de/QECC.php?q=4&n={nqubits}&k=1\")\n",
    "    mybytes = fp.read()\n",
    "    mystr = mybytes.decode(\"utf8\")\n",
    "    fp.close()\n",
    "    \n",
    "    lines = mystr.splitlines()\n",
    "    _KEY = \"    stabilizer matrix:\"\n",
    "    \n",
    "    start = lines.index(_KEY) + 2\n",
    "    end = start + nqubits - 1\n",
    "    \n",
    "    check_matrix_data = [\n",
    "        line.strip().lstrip(\"[\").rstrip(\"]\").replace(\"|\", \" \")\n",
    "        for line in lines[start: end]\n",
    "    ]\n",
    "    check_matrix = np.genfromtxt(StringIO(\"\\n\".join(check_matrix_data)), delimiter=\" \")\n",
    "    return check_matrix_to_stabilizers(check_matrix)"
   ]
  },
  {
   "cell_type": "code",
   "execution_count": 72,
   "id": "641f913c",
   "metadata": {},
   "outputs": [
    {
     "data": {
      "text/plain": [
       "['XIIIIIIIIIIIIIIIIZZZZZZIZIIZIZIZZZZZZZIZIIZZZZIZIIIZZIIZIIZZIZZZZIZIZZIIZZZYYYYIZZIZXXIXIIIIIIIIIIII',\n",
       " 'IXIIIIIIIIIIIIIIIIZZZZZZIZIIZIZIZZZZZZZIZIIZZZZIZIIIZZIIZIIZZIZZZZIZIZZIIZZZYYYYIZZIZXXIXIIIIIIIIIII',\n",
       " 'IIXIIIIIIIIIIIIIIIIZZZZZZIZIIZIZIZZZZZZZIZIIZZZZIZIIIZZIIZIIZZIZZZZIZIZZIIZZZYYYYIZZIZXXIXIIIIIIIIII',\n",
       " 'IIIXIIIIIIIIIIIIIIIIZZZZZZIZIIZIZIZZZZZZZIZIIZZZZIZIIIZZIIZIIZZIZZZZIZIZZIIZZZYYYYIZZIZXXIXIIIIIIIII',\n",
       " '-IIIIXIIIIIIIIIIIIZZZZIIZIZZZZZIIZIZIIIZIZZZIZZZIZZIIZIIIZIZIIZIIZZIZIZZIIIZYXXXYXXYZYYIYXXIIIIIIIIII',\n",
       " '-IIIIIXIIIIIIIIIIIIZZZZIIZIZZZZZIIZIZIIIZIZZZIZZZIZZIIZIIIZIZIIZIIZZIZIZZIIIZYXXXYXXYZYYIYXXIIIIIIIII',\n",
       " '-IIIIIIXIIIIIIIIIIZZIIIIIZZIIZIZIZZIZIZIZZIIIIZZIZIZIZIZZIIIZZZZIZIIZZIIZIZZYXIZXYXXYZYYZIYXIIIIIIIII',\n",
       " '-IIIIIIIXIIIIIIIIIZIIZZZIZZZZIIIIZIIZIZZZZZZZZZZIIZIIZZIIZIZZZIIIZZZIIIIIIZIXIZYZYXXYZYYZZIYIIIIIIIII',\n",
       " '-IIIIIIIIXIIIIIIZZZIIIZIZIZZIIZZIIIIIIZZZZIIZZZZZZIZZIZZIZIZZZZZIZIIIIZIZIIIYIYXYIYYXZXYIZIIIIIIIIIII',\n",
       " '-IIIIIIIIIXIIIIIIZZZIIIZIZIZZIIZZIIIIIIZZZZIIZZZZZZIZZIZZIZIZZZZZIZIIIIZIZIIIYIYXYIYYXZXYIZIIIIIIIIII',\n",
       " '-IIIIIIIIIIXIIIIIIZZZIIIZIZIZZIIZZIIIIIIZZZZIIZZZZZZIZZIZZIZIZZZZZIZIIIIZIZIIIYIYXYIYYXZXYIZIIIIIIIII',\n",
       " 'IIIIIIIIIIIXIIIZZIZIIZIIIIZIIZZZIZZZIIIZZIZIZZZIIZZZZZZZIIIIIIZIZIIIZIIZIZZIZIYIYYXZYXXIXXIIIIIIIIII',\n",
       " 'IIIIIIIIIIIIXIIIZZIZIIZIIIIZIIZZZIZZZIIIZZIZIZZZIIZZZZZZZIIIIIIZIZIIIZIIZIZZIZIYIYYXZYXXIXXIIIIIIIII',\n",
       " 'IIIIIIIIIIIIIXIIIIIZIZZZZIIZZZIIIIZIIIIZIZIZIZZIZIIIIZZIZZZZIZZZIIIIZZZIZIZXXYXIXZYXIYYIXIXIIIIIIIII',\n",
       " '-IIIIIIIIIIIIIIXIIZZZIZIZIZIZZIZZZZZIZZIZZIIZIZZIIZIZZIZIIZIIZZIIIIZIZIZZZIZXZZIXZYZXIXYZIXIIIIIIIIII',\n",
       " '-IIIIIIIIIIIIIIIXIIZZZIZIZIZIZZIZZZZZIZZIZZIIZIZZIIZIZZIZIIZIIZZIIIIZIZIZZZIZXZZIXZYZXIXYZIXIIIIIIIII',\n",
       " 'IIIIIIIIIIIIIIIIXZZIIIZZZZIIIIZZIIIIIZZIIZIZZIIIZIIIZZZZZIZIIZIIZIZIIZZIIIIYXZXZZYZXYIIIYZIIIIIIIIII',\n",
       " 'IIIIIIIIIIIIIIIIIXZZIIIZZZZIIIIZZIIIIIZZIIZIZZIIIZIIIZZZZZIZIIZIIZIZIIZZIIIIYXZXZZYZXYIIIYZIIIIIIIII',\n",
       " 'IIIIIIIIIIIIIIIZZIXIIZIIIZZZZIZZIZZZIIIIZZIIZIZZZIZIZIZIIIZZZZIIIZZZIIIIIZIIZYXZXIIXZYYZIZYIIIIIIIII',\n",
       " '-IIIIIIIIIIIIIIIZIIZXIIIIIIZIIIZZZZZZIZIIIIIIIZIZIZIIIZIZZZZZZZIIZZIIZZIZIIIYXXIXIXZIIXYIZZZIIIIIIIII',\n",
       " '-IIIIIIIIIIIIIIIZIIIIYZIIZIIZZIZIIZIIZIZZIZIZZZZZIIZIZIZZIIZIZIZZIIZZZZZZIZIIXXXIXZYIIZXXIIZIIIIIIIII',\n",
       " '-IIIIIIIIIIIIIIIZIIIZZXZIZZIIIZZIZIIZIZIIZZZZIIZIIIIZZZIIIZIIIIIIZZIIIZZIIZZIZXXXIYIXIZZYXZIIIIIIIIII',\n",
       " '-IIIIIIIIIIIIIIIIZIIIZZXZIZZIIIZZIZIIZIZIIZZZZIIZIIIIZZZIIIZIIIIIIZZIIIZZIIZZIZXXXIYIXIZZYXZIIIIIIIII',\n",
       " '-IIIIIIIIIIIIIIIZZZIZZIZXIIZZZIZIIIIZIZIIIZZIIIIZIIIIZZZIZZIIIZIZIZZIZIIIIZIZIIZXXYZXIYIIZXXIIIIIIIII',\n",
       " 'IIIIIIIIIIIIIIIIZIIZIIZZYIIIZIIIZZZZIZZZIIIIZZIZZIIZZZZIIZIZIZIZIIIZZIIIZZIYXYYZYYYIIXYXIZXIIIIIIIII',\n",
       " 'IIIIIIIIIIIIIIIIIIZZIZZZIYIZIIIZZIIIIZZIZIZZZIZZZZIZIZZIIIIZZZIZIIZIIIIIZIIYIZIYIXYXXXXZXIZIIIIIIIII',\n",
       " '-IIIIIIIIIIIIIIIZZIIIIZZZIIYIIIZZIZZZIIZIIIIIIIIIIZZIIIZIZZIZZIZZZZIIZIIZZIIIXIZIYZYXXYXYZYIIIIIIIIII',\n",
       " '-IIIIIIIIIIIIIIIIZZIIIIZZZIIYIIIZZIZZZIIZIIIIIIIIIIZZIIIZIZZIZZIZZZZIIZIIZZIIIXIZIYZYXXYXYZYIIIIIIIII',\n",
       " '-IIIIIIIIIIIIIIIZZIIIIIZZZZIZXZZIZIIZIIIIZZZIIIIIZIIIZIIIIZIZIZIIIIIIIZZZIZIYXYZIIIXZZZXIXXZIIIIIIIII',\n",
       " 'IIIIIIIIIIIIIIIZIZIZZZIZIZZIIXIIZZZZZIIZIIZIZZIZZZIIZZIZZZZZZZZZIZIZZIZIIZZIXXYZIZZYZIZYIYXIIIIIIIII',\n",
       " '-IIIIIIIIIIIIIIIIZZIZIIIIIIZIIZXZZIIIIIIZZIZIZIZZZZZZZZZZZZIIZIIIIIIIIIIZZZIXYZZYIZZIZYIYYIYIIIIIIIII',\n",
       " 'IIIIIIIIIIIIIIIZZIIIZIZIIIIIZZIXZIIIZZIIZIZZIZIZIZZIZZZZIIIIIZZIZZZZIZIZZZIYIIXZXIIZXXYYYXIIIIIIIIII',\n",
       " 'IIIIIIIIIIIIIIIIZZIIIZIZIIIIIZZIXZIIIZZIIZIZZIZIZIZZIZZZZIIIIIZZIZZZZIZIZZZIYIIXZXIIZXXYYYXIIIIIIIII',\n",
       " 'IIIIIIIIIIIIIIIIIIIZZZIIIIIZIZZIZYIZZZZIIIIZIIIIIZIIIIZIZZZZIZZIIIIZIIIZZIIXYIYIYIXZXYXIYYYIIIIIIIII',\n",
       " 'IIIIIIIIIIIIIIIZZZZIZZIIIIIZIZIZIIYIIIZZIZZIZIIIZIZZIIIZZIIZZIIZZZZZZZIZZZZYIIYYZYZXYZYZIXYIIIIIIIII',\n",
       " 'IIIIIIIIIIIIIIIZIIIZIZIIIIIZIZIIZZIYZZIZZZIZIZIIZZIIZIIIIIZIZZZIIIIIZIZZZZIXZYYYXZXZIIZIZZXIIIIIIIII',\n",
       " '-IIIIIIIIIIIIIIIIZZZZIZIIZIIZZZZZZIIZXIZZZZIZIZZZIZZZZZIZIIZIIIIIZIZIZIIZIIIYZXIYXYZYYXIYIZZIIIIIIIII',\n",
       " 'IIIIIIIIIIIIIIIZZZZIIZZIZZIIIZIIIZZZZXIIZIZZIZZIIIZZIZZZIZIIIZIZIIIIZZIZIZIIXZXIYYXIYXXZYZZIIIIIIIII',\n",
       " '-IIIIIIIIIIIIIIIZIZZIZZZZZZZIZIIZZIIIZZXZIIIIIZZIZIIZIIZIIZZZIZZZZZIZZZZZIZZIZXZXIXXYIXXYZXZIIIIIIIII',\n",
       " '-IIIIIIIIIIIIIIIZIIZIZIZZIZZZZZZZIZZZIZZYZZIZZZZIZZIIIIIIZZZIZZZIZIZZIZZIIZZZZZXZXZYYYZXYYIXIIIIIIIII',\n",
       " 'IIIIIIIIIIIIIIIIZZZIZIZZIIZIZIZIIZIIIZZIYZIZIIZIIZZZZIIZIZIIIIIIZZZZIZZZZZIXXXXXIYZXZZZIYYIIIIIIIIII',\n",
       " 'IIIIIIIIIIIIIIIIIZZZIZIZZIIZIZIZIIZIIIZZIYZIZIIZIIZZZZIIZIZIIIIIIZZZZIZZZZZIXXXXXIYZXZZZIYYIIIIIIIII',\n",
       " 'IIIIIIIIIIIIIIIZZZIZZIIIZZIZIZIIZZIZZZIZZZXZIZIIIIIIZZZIZIZZIIZIZZIIZIIIZZIXXZZXYXZYYZZXZZYIIIIIIIII',\n",
       " 'IIIIIIIIIIIIIIIZIIIIZZZIIZZZIZIIIIZIIIZIZIIXZIZIZIIZIZZZZIZZZIZZZIIZIIIZIZIYIZXZYYYZZIZXXIZIIIIIIIII',\n",
       " '-IIIIIIIIIIIIIIIZIIIZZIZZZIZZIIIZZIZIIIIIIIIZYIIIZZIIIIZIIIIIZIIIZIIZIIIZIZZIXIZXZXXXZIIIXYIIIIIIIIII',\n",
       " '-IIIIIIIIIIIIIIIIZIIIZZIZZZIZZIIIZZIZIIIIIIIIZYIIIZZIIIIZIIIIIZIIIZIIZIIIZIZZIXIZXZXXXZIIIXYIIIIIIIII',\n",
       " 'IIIIIIIIIIIIIIIZZIZIIZIIZZZZIIZIIIZIIZIIIZZIIZYIZIZIIIIIIZZIIIIIZZIZIIIZIZZXYYZIIXIXIZZYIZXIIIIIIIII',\n",
       " '-IIIIIIIIIIIIIIIIZIZIZZIIZZZIZZIIZZZIZZZZIIIIZZZXIZIIZIIZIIIIIZZZZZIIIZIIIZIXZIIZZZXZIXZYYIZIIIIIIIII',\n",
       " 'IIIIIIIIIIIIIIIZZZIIZIZIZZZZZZIZZZIIIZZIZZIZZIZIYIZIZZIZIZIZIZZIZIZZZIZZZZZIYZIIZIIYZZXIYXIIIIIIIIII',\n",
       " 'IIIIIIIIIIIIIIIIZZZIIZIZIZZZZZZIZZZIIIZZIZZIZZIZIYIZIZZIZIZIZIZZIZIZZZIZZZZZIYZIIZIIYZZXIYXIIIIIIIII',\n",
       " 'IIIIIIIIIIIIIIIIIIIIZZIIIIZIZIZIZIIIZZIIZIIIZIZZZIYZIIZIIZZIIIZIIIIIIIZIIIIXXYIZZZZZXZZYXIYIIIIIIIII',\n",
       " 'IIIIIIIIIIIIIIIZZZZIIZIIIIIIZIZZIIIIZIZIIIZIIZIZIZIXZIIZZZIZIIZZZZZZIZIIIIZYIZIIIZIZYZZXYYIIIIIIIIII',\n",
       " 'IIIIIIIIIIIIIIIIZZZZIIZIIIIIIZIZZIIIIZIZIIIZIIZIZIZIXZIIZZZIZIIZZZZZZIZIIIIZYIZIIIZIZYZZXYYIIIIIIIII',\n",
       " '-IIIIIIIIIIIIIIIZZIIZZIZZIIIZZZIIZIIIZZZIZZZIZIIZZZIIIXZIZIIZIZZIIIIIZIIIIIZYYIYZZIZZXXYXZYYIIIIIIIII',\n",
       " 'IIIIIIIIIIIIIIIZIIZIZZZZZIIZIIIIIIIIZIZZIIIZIZIIIZZZIIXZZIZIZIIZZZZZIIIZIIZXZIYYIZZZYZXIXIYIIIIIIIII',\n",
       " 'IIIIIIIIIIIIIIIZIZZZIZIZZZIZIZZIIZIIZIIZZZZIZIZIZIZIZIIXIIZZIZZIIIIIZZIZZIZXIXYYXIIZYIZZIYIIIIIIIIII',\n",
       " 'IIIIIIIIIIIIIIIIZIZZZIZIZZZIZIZZIIZIIZIIZZZZIZIZIZIZIZIIXIIZZIZZIIIIIZZIZZIZXIXYYXIIZYIZZIYIIIIIIIII',\n",
       " 'IIIIIIIIIIIIIIIZZIZZZZZZIZZIZIZZZZIZZZZIIIIZZIZIIIZZZIZIZYZIZZZZIZZZIZZIIZIYYZYXXYYIXXYYZIIIIIIIIIII',\n",
       " 'IIIIIIIIIIIIIIIIZZIZZZZZZIZZIZIZZZZIZZZZIIIIZZIZIIIZZZIZIZYZIZZZZIZZZIZZIIZIYYZYXXYYIXXYYZIIIIIIIIII',\n",
       " 'IIIIIIIIIIIIIIIIIZZIZZZZZZIZZIZIZZZZIZZZZIIIIZZIZIIIZZZIZIZYZIZZZZIZZZIZZIIZIYYZYXXYYIXXYYZIIIIIIIII',\n",
       " 'IIIIIIIIIIIIIIIZZIZIZIZZIZZIIZZIZZIIZIZIZIIZZZZIZZIIZZZIZIIIYIIIZIZZIZZZIIIIIIYYZXYYYXIYXXYIIIIIIIII',\n",
       " '-IIIIIIIIIIIIIIIZIIZZIZZZZIZIZZIZIIZIZIIZIIZIZZZZZZZZIZZZZIZIIYZIZIZIZZZIZIZYXYYYXZYYZIXYYYXIIIIIIIII',\n",
       " '-IIIIIIIIIIIIIIIIZZZIIZIZIZIIIIZZIZZIZIIZZIZIZIZIZZZIIIZIZZZIIZXIZZZZZIZZZIZXIZIYXYZXZYIIYYYIIIIIIIII',\n",
       " 'IIIIIIIIIIIIIIIZZIIZIIIIZIZZZZZZZZZZZIIIZIZZIZIZZZZIIIIZZIIZIIIXZIIIZIIIZZZXIYXIXXXZIXYYIXYIIIIIIIII',\n",
       " '-IIIIIIIIIIIIIIIZIIZIZIZIIZIIIIIZZIZZIIIIIIZZZIZIIZZIIIIIIIZIZIZIYIZZIIIZIZIXIYIXZXYXYYXIYZXIIIIIIIII',\n",
       " '-IIIIIIIIIIIIIIIIZZZIZIZZZIZZIZIZIIZIIZIZIIZIIIIIIIZIZIIZIIZIIIZIZYZZIZIIIZIYZYIIYIXXIZYIIYZIIIIIIIII',\n",
       " 'IIIIIIIIIIIIIIIZZZZIZIIZIZIZIIIZIIZIIIZZZZIIZZIZZIIZZZIZIZIIIZIIIIYIIIZZZZZIXZYIIXZYXZZXIZYIIIIIIIII',\n",
       " '-IIIIIIIIIIIIIIIZIIIZIZZIZIZZIZZIZZIZZZIZZIIIIZZIIZIZZZZIIZIIIIIIZZZXIZIIZZIXXZXYZIYZZZZXXZZIIIIIIIII',\n",
       " 'IIIIIIIIIIIIIIIZIIIZIZZZZZIZIIIIZZIZZZZZZIIZZZZIZIZIIZZIZZZZIZIZIIZIYIZZZIZIYXZXYIZXZIZIXYZIIIIIIIII',\n",
       " 'IIIIIIIIIIIIIIIZIIIZIZZZIZZIIIZZZZIZZZZIZIIZIIZIZZIZZIZIZIZIZZZZZZIIZYIIIIIZZYXZXXZIXIIIIYYIIIIIIIII',\n",
       " '-IIIIIIIIIIIIIIIZIZZIZIIZZIZIZZZZZIZIIIZZIIZIZIIZZZZZZZIZZIZZIZIZIIIZIIYZIIZYYXIXIXYZXZIYIZYIIIIIIIII',\n",
       " '-IIIIIIIIIIIIIIIZIZIZIZZIZZIIZIIZZIIZZZIZZZZZIZIIIZZIZZZIIIZZZIIIIZZZZZIXZIZXZIZIYIYYYZZYYZZIIIIIIIII',\n",
       " 'IIIIIIIIIIIIIIIZIIZZIZZZZZZIZZZZIZZZZZZZZIZIIZZZZIZZZZZIZZIIZIIZIZZIIZZZYIIZYZIZIXZXYXZIYXZIIIIIIIII',\n",
       " '-IIIIIIIIIIIIIIIZIIIIIZZZIZZZZZIIIIIIZZZIZIIIZZZIIZIZIZZIZIZZIIIZZZZIZIZIIXIIIYZIZZYIXXXIIXXIIIIIIIII',\n",
       " 'IIIIIIIIIIIIIIIIZZZZZZIZIIZIZIZZZZZZZIZIIZZZZIZIIIZZIIZIIZZIZZZZIZIZZIIZZZYYYYIZZIZXXIXIIIXIIIIIIIII',\n",
       " 'IIIIIIIIIIIIIIIIIIIIIIIIIIIIIIIIIIIIIIIIIIIIIIIIIIIIIIIIIIIIIIIIIIIIIIIIIIIIIIIIIIIIIIIIIIIXIIIIIIII',\n",
       " 'IIIIIIIIIIIIIIIIIIIIIIIIIIIIIIIIIIIIIIIIIIIIIIIIIIIIIIIIIIIIIIIIIIIIIIIIIIIIIIIIIIIIIIIIIIIIXIIIIIII',\n",
       " 'IIIIIIIIIIIIIIIIIIIIIIIIIIIIIIIIIIIIIIIIIIIIIIIIIIIIIIIIIIIIIIIIIIIIIIIIIIIIIIIIIIIIIIIIIIIIIXIIIIII',\n",
       " 'IIIIIIIIIIIIIIIIIIIIIIIIIIIIIIIIIIIIIIIIIIIIIIIIIIIIIIIIIIIIIIIIIIIIIIIIIIIIIIIIIIIIIIIIIIIIIIXIIIII',\n",
       " 'IIIIIIIIIIIIIIIIIIIIIIIIIIIIIIIIIIIIIIIIIIIIIIIIIIIIIIIIIIIIIIIIIIIIIIIIIIIIIIIIIIIIIIIIIIIIIIIXIIII',\n",
       " 'IIIIIIIIIIIIIIIIIIIIIIIIIIIIIIIIIIIIIIIIIIIIIIIIIIIIIIIIIIIIIIIIIIIIIIIIIIIIIIIIIIIIIIIIIIIIIIIIXIII',\n",
       " 'IIIIIIIIIIIIIIIIIIIIIIIIIIIIIIIIIIIIIIIIIIIIIIIIIIIIIIIIIIIIIIIIIIIIIIIIIIIIIIIIIIIIIIIIIIIIIIIIIXII',\n",
       " 'IIIIIIIIIIIIIIIIIIIIIIIIIIIIIIIIIIIIIIIIIIIIIIIIIIIIIIIIIIIIIIIIIIIIIIIIIIIIIIIIIIIIIIIIIIIIIIIIIIXI',\n",
       " 'IIIIIIIIIIIIIIIIIIIIIIIIIIIIIIIIIIIIIIIIIIIIIIIIIIIIIIIIIIIIIIIIIIIIIIIIIIIIIIIIIIIIIIIIIIIIIIIIIIIX',\n",
       " 'ZIIIIIIIIIIIIIIZZIIZZZIIZIIIZIZZZIZZIIIZIZIZZZIZZIIIZIIZZZIZIZIZIZIZZIIZZZIIZIIIIZZZIZIZIZIIIIIIIIII',\n",
       " 'IZIIIIIIIIIIIIIIZZIIZZZIIZIIIZIZZZIZZIIIZIZIZZZIZZIIIZIIZZZIZIZIZIZIZZIIZZZIIZIIIIZZZIZIZIZIIIIIIIII',\n",
       " 'IIZIIIIIIIIIIIIZZZZZZIZZZIZIZIIZIZIZZZIZIIIIZIZIZZZIZIZZZIZIIIIIIIIIZZZZZIZZZIZIIZZIZIIIIIIIIIIIIIII',\n",
       " 'IIIZIIIIIIIIIIIIZZZZZZIZZZIZIZIIZIZIZZZIZIIIIZIZIZZZIZIZZZIZIIIIIIIIIZZZZZIZZZIZIIZZIZIIIIIIIIIIIIII',\n",
       " 'IIIIZIIIIIIIIIIIIZZZZZZIZZZIZIZIIZIZIZZZIZIIIIZIZIZZZIZIZZZIZIIIIIIIIIZZZZZIZZZIZIIZZIZIIIIIIIIIIIII',\n",
       " 'IIIIIZIIIIIIIIIIIIZZZZZZIZZZIZIZIIZIZIZZZIZIIIIZIZIZZZIZIZZZIZIIIIIIIIIZZZZZIZZZIZIIZZIZIIIIIIIIIIII',\n",
       " 'IIIIIIZIIIIIIIIIIIIZZZZZZIZZZIZIZIIZIZIZZZIZIIIIZIZIZZZIZIZZZIZIIIIIIIIIZZZZZIZZZIZIIZZIZIIIIIIIIIII',\n",
       " 'IIIIIIIZIIIIIIIIIIIIZZZZZZIZZZIZIZIIZIZIZZZIZIIIIZIZIZZZIZIZZZIZIIIIIIIIIZZZZZIZZZIZIIZZIZIIIIIIIIII',\n",
       " 'IIIIIIIIZIIIIIIIIIIIIZZZZZZIZZZIZIZIIZIZIZZZIZIIIIZIZIZZZIZIZZZIZIIIIIIIIIZZZZZIZZZIZIIZZIZIIIIIIIII',\n",
       " 'IIIIIIIIIZIIIIIZZIIZZZZZIZZZZZIIZZZIIIZZZZZIIZZZZIIZZZIIIIIIIIZIIIIZZIIZZZIZIZZZIIIIIIIZZIIIIIIIIIII',\n",
       " 'IIIIIIIIIIZIIIIIZZIIZZZZZIZZZZZIIZZZIIIZZZZZIIZZZZIIZZZIIIIIIIIZIIIIZZIIZZZIZIZZZIIIIIIIZZIIIIIIIIII',\n",
       " 'IIIIIIIIIIIZIIIIIZZIIZZZZZIZZZZZIIZZZIIIZZZZZIIZZZZIIZZZIIIIIIIIZIIIIZZIIZZZIZIZZZIIIIIIIZZIIIIIIIII',\n",
       " 'IIIIIIIIIIIIZIIZZIZIZZZZIZZIIZIIIIZIZZIZIIZIIIIZIZZZZIZIIZIZIZIZIIIZZIZIZZZZIIZIZIIZIZIZIZZIIIIIIIII',\n",
       " 'IIIIIIIIIIIIIZIZIZIIZIZZIIZZZIIZZIZIIZZZZZIIZZIZIIZZIZIIZZZZZZZZZZIZIZIIZIZZIIIZIIZZZZZZZZZIIIIIIIII',\n",
       " 'IIIIIIIIIIIIIIZZIIZZZIIZIIIZIZZZIZZIIIZIZIZZZIZZIIIZIIZZZIZIZIZIZIZZIIZZZIIZIIIIZZZIZIZIZIZIIIIIIIII']"
      ]
     },
     "execution_count": 72,
     "metadata": {},
     "output_type": "execute_result"
    }
   ],
   "source": [
    "get_code_from_codetables(100)"
   ]
  },
  {
   "cell_type": "code",
   "execution_count": 14,
   "id": "74206fb3",
   "metadata": {},
   "outputs": [
    {
     "ename": "Exception",
     "evalue": "phase_exponent = 1.",
     "output_type": "error",
     "traceback": [
      "\u001b[0;31m---------------------------------------------------------------------------\u001b[0m",
      "\u001b[0;31mException\u001b[0m                                 Traceback (most recent call last)",
      "\u001b[0;32m/tmp/ipykernel_4709/3766966634.py\u001b[0m in \u001b[0;36m<module>\u001b[0;34m\u001b[0m\n\u001b[1;32m     33\u001b[0m     \u001b[0;36m30\u001b[0m\u001b[0;34m:\u001b[0m \u001b[0mcheck_matrix_to_stabilizers\u001b[0m\u001b[0;34m(\u001b[0m\u001b[0mcheck_matrix_n30\u001b[0m\u001b[0;34m)\u001b[0m\u001b[0;34m,\u001b[0m\u001b[0;34m\u001b[0m\u001b[0;34m\u001b[0m\u001b[0m\n\u001b[1;32m     34\u001b[0m     \u001b[0;36m40\u001b[0m\u001b[0;34m:\u001b[0m \u001b[0mcheck_matrix_to_stabilizers\u001b[0m\u001b[0;34m(\u001b[0m\u001b[0mcheck_matrix_n40\u001b[0m\u001b[0;34m)\u001b[0m\u001b[0;34m,\u001b[0m\u001b[0;34m\u001b[0m\u001b[0;34m\u001b[0m\u001b[0m\n\u001b[0;32m---> 35\u001b[0;31m     \u001b[0;36m50\u001b[0m\u001b[0;34m:\u001b[0m \u001b[0mcheck_matrix_to_stabilizers\u001b[0m\u001b[0;34m(\u001b[0m\u001b[0mcheck_matrix_n50\u001b[0m\u001b[0;34m)\u001b[0m\u001b[0;34m,\u001b[0m\u001b[0;34m\u001b[0m\u001b[0;34m\u001b[0m\u001b[0m\n\u001b[0m\u001b[1;32m     36\u001b[0m }\n",
      "\u001b[0;32m/tmp/ipykernel_4709/2477471529.py\u001b[0m in \u001b[0;36mcheck_matrix_to_stabilizers\u001b[0;34m(check_matrix)\u001b[0m\n\u001b[1;32m     30\u001b[0m \u001b[0;34m\u001b[0m\u001b[0m\n\u001b[1;32m     31\u001b[0m \u001b[0;32mdef\u001b[0m \u001b[0mcheck_matrix_to_stabilizers\u001b[0m\u001b[0;34m(\u001b[0m\u001b[0mcheck_matrix\u001b[0m\u001b[0;34m:\u001b[0m \u001b[0mIterable\u001b[0m\u001b[0;34m[\u001b[0m\u001b[0mIterable\u001b[0m\u001b[0;34m[\u001b[0m\u001b[0mint\u001b[0m\u001b[0;34m]\u001b[0m\u001b[0;34m]\u001b[0m\u001b[0;34m)\u001b[0m \u001b[0;34m->\u001b[0m \u001b[0mList\u001b[0m\u001b[0;34m[\u001b[0m\u001b[0mstr\u001b[0m\u001b[0;34m]\u001b[0m\u001b[0;34m:\u001b[0m\u001b[0;34m\u001b[0m\u001b[0;34m\u001b[0m\u001b[0m\n\u001b[0;32m---> 32\u001b[0;31m     \u001b[0;32mreturn\u001b[0m \u001b[0;34m[\u001b[0m\u001b[0msymplectic_to_string\u001b[0m\u001b[0;34m(\u001b[0m\u001b[0mrow\u001b[0m\u001b[0;34m)\u001b[0m \u001b[0;32mfor\u001b[0m \u001b[0mrow\u001b[0m \u001b[0;32min\u001b[0m \u001b[0mcheck_matrix\u001b[0m\u001b[0;34m]\u001b[0m\u001b[0;34m\u001b[0m\u001b[0;34m\u001b[0m\u001b[0m\n\u001b[0m",
      "\u001b[0;32m/tmp/ipykernel_4709/2477471529.py\u001b[0m in \u001b[0;36m<listcomp>\u001b[0;34m(.0)\u001b[0m\n\u001b[1;32m     30\u001b[0m \u001b[0;34m\u001b[0m\u001b[0m\n\u001b[1;32m     31\u001b[0m \u001b[0;32mdef\u001b[0m \u001b[0mcheck_matrix_to_stabilizers\u001b[0m\u001b[0;34m(\u001b[0m\u001b[0mcheck_matrix\u001b[0m\u001b[0;34m:\u001b[0m \u001b[0mIterable\u001b[0m\u001b[0;34m[\u001b[0m\u001b[0mIterable\u001b[0m\u001b[0;34m[\u001b[0m\u001b[0mint\u001b[0m\u001b[0;34m]\u001b[0m\u001b[0;34m]\u001b[0m\u001b[0;34m)\u001b[0m \u001b[0;34m->\u001b[0m \u001b[0mList\u001b[0m\u001b[0;34m[\u001b[0m\u001b[0mstr\u001b[0m\u001b[0;34m]\u001b[0m\u001b[0;34m:\u001b[0m\u001b[0;34m\u001b[0m\u001b[0;34m\u001b[0m\u001b[0m\n\u001b[0;32m---> 32\u001b[0;31m     \u001b[0;32mreturn\u001b[0m \u001b[0;34m[\u001b[0m\u001b[0msymplectic_to_string\u001b[0m\u001b[0;34m(\u001b[0m\u001b[0mrow\u001b[0m\u001b[0;34m)\u001b[0m \u001b[0;32mfor\u001b[0m \u001b[0mrow\u001b[0m \u001b[0;32min\u001b[0m \u001b[0mcheck_matrix\u001b[0m\u001b[0;34m]\u001b[0m\u001b[0;34m\u001b[0m\u001b[0;34m\u001b[0m\u001b[0m\n\u001b[0m",
      "\u001b[0;32m/tmp/ipykernel_4709/2477471529.py\u001b[0m in \u001b[0;36msymplectic_to_string\u001b[0;34m(symplectic_pauli)\u001b[0m\n\u001b[1;32m     25\u001b[0m         \u001b[0mphase\u001b[0m \u001b[0;34m=\u001b[0m \u001b[0;34m\"-\"\u001b[0m\u001b[0;34m\u001b[0m\u001b[0;34m\u001b[0m\u001b[0m\n\u001b[1;32m     26\u001b[0m     \u001b[0;32melse\u001b[0m\u001b[0;34m:\u001b[0m\u001b[0;34m\u001b[0m\u001b[0;34m\u001b[0m\u001b[0m\n\u001b[0;32m---> 27\u001b[0;31m         \u001b[0;32mraise\u001b[0m \u001b[0mException\u001b[0m\u001b[0;34m(\u001b[0m\u001b[0;34mf\"phase_exponent = {phase_exponent}.\"\u001b[0m\u001b[0;34m)\u001b[0m\u001b[0;34m\u001b[0m\u001b[0;34m\u001b[0m\u001b[0m\n\u001b[0m\u001b[1;32m     28\u001b[0m     \u001b[0;32mreturn\u001b[0m \u001b[0mphase\u001b[0m \u001b[0;34m+\u001b[0m \u001b[0mpauli\u001b[0m\u001b[0;34m\u001b[0m\u001b[0;34m\u001b[0m\u001b[0m\n\u001b[1;32m     29\u001b[0m \u001b[0;34m\u001b[0m\u001b[0m\n",
      "\u001b[0;31mException\u001b[0m: phase_exponent = 1."
     ]
    }
   ],
   "source": [
    "\"\"\"Dictionary of available codes.\"\"\"\n",
    "codes = {\n",
    "    5: [\"ZZZZZ\", \"XZZXI\", \"IXZZX\", \"XIXZZ\", \"ZXIXZ\"],\n",
    "    10: [\n",
    "        \"XZIZIXIZZI\",\n",
    "        \"-IYIZZYIIZZ\",\n",
    "        \"-IIYZZYIXII\",\n",
    "        \"-IZZYIYZIIZ\",\n",
    "        \"-IZIIXYZYII\",\n",
    "        \"IZZIZZXXZZ\",\n",
    "        \"IIZZZZZIXZ\",\n",
    "        \"IZZZZIIZZX\",\n",
    "        \"ZZZZZZIIII\",\n",
    "    ],\n",
    "    15: [\n",
    "        \"XZIZIXIZZIIIIII\",\n",
    "        \"-IYIZZYIIZZIIIII\",\n",
    "        \"IZXIZXIIIZZIIII\",\n",
    "        \"-IZZYIYZIIZIIIII\",\n",
    "        \"IIZZXXZZIZZIIII\",\n",
    "        \"-IIZZIIYZZIYIIII\",\n",
    "        \"-IZIZZZZYIZYIIII\",\n",
    "        \"IIIZIZIZXZXIIII\",\n",
    "        \"IZIZIIZIZXXIIII\",\n",
    "        \"IIIIIIIIIIIXIII\",\n",
    "        \"IIIIIIIIIIIIXII\",\n",
    "        \"IIIIIIIIIIIIIXI\",\n",
    "        \"IIIIIIIIIIIIIIX\",\n",
    "        \"ZZZZZZIIIIIIIII\",\n",
    "    ],\n",
    "    20: check_matrix_to_stabilizers(check_matrix_n20),\n",
    "#     25: check_matrix_to_stabilizers(check_matrix_n25),  # TODO: Figure out phase issue.\n",
    "    30: check_matrix_to_stabilizers(check_matrix_n30),\n",
    "    40: check_matrix_to_stabilizers(check_matrix_n40),\n",
    "#     50: check_matrix_to_stabilizers(check_matrix_n50),  # TODO: Figure out phase issue.\n",
    "}"
   ]
  },
  {
   "cell_type": "markdown",
   "id": "572b23d8-9c08-4b58-8e85-eb2d9896059c",
   "metadata": {},
   "source": [
    "## Experiment"
   ]
  },
  {
   "cell_type": "code",
   "execution_count": 7,
   "id": "cedd19ce",
   "metadata": {
    "tags": [
     "parameters"
    ]
   },
   "outputs": [],
   "source": [
    "\"\"\"Set experimental parameters.\"\"\"\n",
    "nmin: int = 5  # Minimum number of physical qubits to use in code.\n",
    "nmax: int = 20  # Maximum number of physical qubits to use in code.\n",
    "step: int = 5  # Step between qubit values.\n",
    "\n",
    "max_num_trajectories: int = 100_000  # Maximum number of trajectories to sample from.\n",
    "\n",
    "p: float = 0.01  # Depolarizing noise rate.\n",
    "\n",
    "njobs: int = 2  # Number of parallel workers to use when sampling trajectories."
   ]
  },
  {
   "cell_type": "code",
   "execution_count": 8,
   "id": "a06b16aa",
   "metadata": {},
   "outputs": [],
   "source": [
    "# nvalues = np.arange(nmin, nmax + step, step)\n",
    "nvalues = list(codes.keys())"
   ]
  },
  {
   "cell_type": "code",
   "execution_count": 9,
   "id": "ce16a55e",
   "metadata": {},
   "outputs": [],
   "source": [
    "def sample_trajectory(p: float):\n",
    "    # Initial stabilizer state.\n",
    "    state = stabilizer_state(*stabilizers)\n",
    "    gs0 = state.gs.copy()\n",
    "    ps0 = state.ps.copy()\n",
    "\n",
    "    # Apply single-qubit depolarizing noise.\n",
    "    state = stoc_depolarize_map(state, p)\n",
    "\n",
    "    # Do shadow tomography.\n",
    "    obs = random_clifford_state(N)\n",
    "    state.measure(obs)\n",
    "\n",
    "    gs, ps, _, tmp_PsigmaP = stabilizer_projection_full(\n",
    "        state.gs, state.ps, gs0[: N - 1].copy(), ps0[: N - 1].copy(), 0\n",
    "    )\n",
    "    _, _, _, tmp = stabilizer_projection_full(gs, ps, gs0[:N], ps0[:N], 0)\n",
    "\n",
    "    return tmp_PsigmaP * tmp, tmp_PsigmaP"
   ]
  },
  {
   "cell_type": "code",
   "execution_count": 10,
   "id": "1c66920f-9645-41ec-b7c6-043ecee36513",
   "metadata": {},
   "outputs": [
    {
     "name": "stdout",
     "output_type": "stream",
     "text": [
      "Status: On n = 40\r"
     ]
    }
   ],
   "source": [
    "\"\"\"Run the experiment.\"\"\"\n",
    "all_n_values = []\n",
    "for N in nvalues:\n",
    "    print(f\"Status: On n = {N}\", end=\"\\r\")\n",
    "\n",
    "    try:\n",
    "        stabilizers = codes.get(N)\n",
    "    except KeyError:\n",
    "        raise ValueError(\n",
    "            f\"Unsupported value for `N`. I only know codes for these N values: {list(codes.keys())}.\"\n",
    "        )\n",
    "\n",
    "    all_values = Parallel(n_jobs=njobs)(\n",
    "        delayed(sample_trajectory)(p) for _ in range(max_num_trajectories)\n",
    "    )\n",
    "    all_n_values.append(all_values)"
   ]
  },
  {
   "cell_type": "code",
   "execution_count": 11,
   "id": "83fa8f6e",
   "metadata": {},
   "outputs": [],
   "source": [
    "nsamples_values = np.linspace(100, max_num_trajectories, 200, dtype=int)\n",
    "\n",
    "all_fidelities = []\n",
    "for (n, all_values) in zip(nvalues, all_n_values):\n",
    "    fidelities = []\n",
    "    for nsamples in nsamples_values:\n",
    "        num, denom = np.sum(all_values[:nsamples], axis=0)\n",
    "        fid = ((2 ** n + 1) * (num / nsamples) - 1) / (\n",
    "            (denom / nsamples) * (2 ** n + 1) - 2\n",
    "        )\n",
    "        fidelities.append(fid)\n",
    "    all_fidelities.append(fidelities)"
   ]
  },
  {
   "cell_type": "code",
   "execution_count": 12,
   "id": "1d8ff4a4",
   "metadata": {},
   "outputs": [
    {
     "data": {
      "image/png": "[encoded data removed]",
      "text/plain": [
       "<Figure size 648x360 with 1 Axes>"
      ]
     },
     "metadata": {
      "needs_background": "light"
     },
     "output_type": "display_data"
    }
   ],
   "source": [
    "plt.figure(figsize=(9, 5))\n",
    "\n",
    "for N, fids in zip(nvalues, all_fidelities):\n",
    "    plt.plot(nsamples_values, fids, \"--.\", label=f\"$[[n, k]] = [[{N}, 1]]$\")\n",
    "\n",
    "plt.xlabel(\"Number of samples\")\n",
    "plt.ylabel(\"Fidelity\")\n",
    "plt.xscale(\"log\")\n",
    "plt.legend();"
   ]
  },
  {
   "cell_type": "markdown",
   "id": "21bc22f7",
   "metadata": {},
   "source": []
  }
 ],
 "metadata": {
  "celltoolbar": "Tags",
  "kernelspec": {
   "display_name": "envlst",
   "language": "python",
   "name": "envlst"
  },
  "language_info": {
   "codemirror_mode": {
    "name": "ipython",
    "version": 3
   },
   "file_extension": ".py",
   "mimetype": "text/x-python",
   "name": "python",
   "nbconvert_exporter": "python",
   "pygments_lexer": "ipython3",
   "version": "3.7.8"
  }
 },
 "nbformat": 4,
 "nbformat_minor": 5
}
