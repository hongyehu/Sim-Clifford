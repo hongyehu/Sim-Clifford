{
 "cells": [
  {
   "cell_type": "markdown",
   "id": "8d8d2169",
   "metadata": {},
   "source": [
    "# Logical shadow tomography: $[[5, 1, 3]]$ code example"
   ]
  },
  {
   "cell_type": "markdown",
   "id": "9848c954",
   "metadata": {},
   "source": [
    "## Setup"
   ]
  },
  {
   "cell_type": "code",
   "execution_count": 1,
   "id": "b6d83891-7801-4737-ae8c-bbc3a46df087",
   "metadata": {},
   "outputs": [],
   "source": [
    "import functools\n",
    "from joblib import Parallel, delayed\n",
    "from typing import List, Tuple\n",
    "\n",
    "import matplotlib.pyplot as plt\n",
    "import numpy as np\n",
    "from numba import njit\n",
    "from tqdm.notebook import tnrange\n",
    "\n",
    "import qutip\n",
    "\n",
    "from base.stabilizer import random_clifford_state, stabilizer_state, StabilizerState, stoc_depolarize_map\n",
    "from base.utils import stabilizer_projection_full\n",
    "from convert import sample_from_mean, state2state as stabilizer_state_to_qutip_qobj, state2paulis, state2projector"
   ]
  },
  {
   "cell_type": "code",
   "execution_count": 2,
   "id": "46b46a06",
   "metadata": {},
   "outputs": [],
   "source": [
    "plt.rcParams.update({\"font.family\": \"serif\", \"font.size\": 16})"
   ]
  },
  {
   "cell_type": "markdown",
   "id": "b669a848",
   "metadata": {},
   "source": [
    "## Parameters"
   ]
  },
  {
   "cell_type": "code",
   "execution_count": 3,
   "id": "cedd19ce",
   "metadata": {
    "tags": [
     "parameters"
    ]
   },
   "outputs": [],
   "source": [
    "\"\"\"Set experimental parameters.\"\"\"\n",
    "num_trajectories: int = 40_000  # Number of trajectories to sample from.\n",
    "\n",
    "simulator: str = \"trajectory\"  # (Classical) simulator to use to draw samples. Options are \"density_matrix\" and \"trajectory\".\n",
    "    \n",
    "use_rho: bool = True           # Do LST with rho.\n",
    "use_rho_squared: bool = False  # Do LST with rho^2.\n",
    "\n",
    "pmin: float = 0.00  # Minimum depolarizing noise rate.\n",
    "pmax: float = 0.50  # Maximum depolarizing noise rate.\n",
    "step: float = 0.10  # Step for depolarizing noise rates. Values are `np.arange(pmin, pmax + step, step)`.\n",
    "\n",
    "njobs: int = 2  # Number of parallel workers to use when sampling trajectories."
   ]
  },
  {
   "cell_type": "code",
   "execution_count": 4,
   "id": "269f49ba",
   "metadata": {},
   "outputs": [],
   "source": [
    "pvalues = np.arange(pmin, pmax + step, step)\n",
    "N: int = 5\n",
    "D: int = 2**N + 1"
   ]
  },
  {
   "cell_type": "markdown",
   "id": "572b23d8-9c08-4b58-8e85-eb2d9896059c",
   "metadata": {},
   "source": [
    "## Collect shadows"
   ]
  },
  {
   "cell_type": "markdown",
   "id": "ea441abb",
   "metadata": {},
   "source": [
    "### Quantum trajectory simulator"
   ]
  },
  {
   "cell_type": "code",
   "execution_count": 5,
   "id": "6d20e504",
   "metadata": {},
   "outputs": [],
   "source": [
    "def sample_trajectory(p: float) -> \"StabilizerState\":\n",
    "    # Start in the logical subspace.\n",
    "    state = stabilizer_state(\"ZZZZZ\", \"XZZXI\", \"IXZZX\", \"XIXZZ\", \"ZXIXZ\")\n",
    "\n",
    "    # Apply single-qubit depolarizing noise.\n",
    "    state = stoc_depolarize_map(state, p)\n",
    "\n",
    "    # Apply a random clifford.\n",
    "    state.measure(random_clifford_state(N))\n",
    "    return state"
   ]
  },
  {
   "cell_type": "markdown",
   "id": "47b1a3d7",
   "metadata": {},
   "source": [
    "### Density matrix simulator"
   ]
  },
  {
   "cell_type": "code",
   "execution_count": 6,
   "id": "61dd9f88",
   "metadata": {},
   "outputs": [],
   "source": [
    "from ncon import ncon\n",
    "\n",
    "def generate_loc_mixer(px: float, py: float, pz: float) -> np.ndarray:\n",
    "    # Tensor network calculation of depolarization channel\n",
    "    p = px+py+pz\n",
    "    I = np.array([[1, 0],[0, 1]]);\n",
    "    X = np.array([[0, 1],[1, 0]]);    s1 = X;\n",
    "    Z = np.array([[1, 0],[0, -1]]);   s3 = Z;\n",
    "    Y = np.array([[0, -1j],[1j, 0]]); s2 = Y;\n",
    "\n",
    "    USA=np.zeros((2,2,4,4));\n",
    "\n",
    "    E00 = np.zeros((4,4));\n",
    "    E10 = np.zeros((4,4));\n",
    "    E20 = np.zeros((4,4));\n",
    "    E30 = np.zeros((4,4));\n",
    "    E00[0,0] = 1;\n",
    "    E10[1,0] = 1;\n",
    "    E20[2,0] = 1;\n",
    "    E30[3,0] = 1;\n",
    "\n",
    "    USA = USA + np.sqrt(1.0-p)*ncon((I,E00),([-1,-2],[-3,-4]))\n",
    "    USA = USA + np.sqrt(px)*ncon((s1,E10),([-1,-2],[-3,-4]))\n",
    "    USA = USA + np.sqrt(py)*ncon((s2,E20),([-1,-2],[-3,-4]))\n",
    "    USA = USA + np.sqrt(pz)*ncon((s3,E30),([-1,-2],[-3,-4]))\n",
    "\n",
    "    E0=np.zeros((4));\n",
    "    E0[0] = 1;\n",
    "    loc_mixer = ncon( ( USA,E0, np.conj(USA), E0 ),([-1,-2,1,3],[3],[-4,-3,1,2],[2]));\n",
    "    return loc_mixer"
   ]
  },
  {
   "cell_type": "code",
   "execution_count": 7,
   "id": "c911cf43",
   "metadata": {},
   "outputs": [],
   "source": [
    "def DensityMatrix_Measure(rho_ori: qutip.Qobj, ops, N) -> \"StabilizerState\":\n",
    "    rho = rho_ori.copy()\n",
    "    gs = ops.gs.copy()\n",
    "    ps = ops.ps.copy()\n",
    "    ID = qutip.tensor([qutip.qeye(2) for i in range(N)])\n",
    "\n",
    "    pauli_list = state2paulis(ops)\n",
    "    for i in range(len(pauli_list)):\n",
    "        tmp_mean = np.trace(rho*pauli_list[i])\n",
    "        readout = sample_from_mean(tmp_mean.real)#+/- 1\n",
    "        readout_p = 1-readout\n",
    "        ps[i] = (ps[i]+readout_p)%4\n",
    "        proj = (ID+readout*pauli_list[i])/2\n",
    "        rho = (proj*rho*proj).unit()\n",
    "    return StabilizerState(gs, ps)"
   ]
  },
  {
   "cell_type": "code",
   "execution_count": 8,
   "id": "571c96bd",
   "metadata": {},
   "outputs": [],
   "source": [
    "def get_noisy_state(p: float) -> qutip.Qobj:\n",
    "    rho0 = stabilizer_state_to_qutip_qobj(stabilizer_state('XZZXI','IXZZX','XIXZZ','ZXIXZ','ZZZZZ'))\n",
    "    rho_tensor = rho0.full().reshape([2 for i in range(10)])\n",
    "\n",
    "    px = py = pz = p / 3.0\n",
    "    locMixer = generate_loc_mixer(px,py,pz)\n",
    "\n",
    "    index = []\n",
    "    index.append([i for i in range(1,11)])\n",
    "    for i in range(5):\n",
    "        index.append([i+1,-(i+1),-(i+1+5),i+1+5])\n",
    "    eps_rho = ncon([rho_tensor]+[locMixer for i in range(5)],index)\n",
    "    eps_rho=eps_rho.reshape(2**N, 2**N)\n",
    "\n",
    "    return qutip.Qobj(eps_rho,dims=[[2 for i in range(N)],[2 for i in range(N)]])"
   ]
  },
  {
   "cell_type": "code",
   "execution_count": 9,
   "id": "4e49e8ac",
   "metadata": {},
   "outputs": [],
   "source": [
    "def sample_density_matrix(rho: qutip.Qobj) -> \"StabilizerState\":\n",
    "    return DensityMatrix_Measure(rho, random_clifford_state(N), N)"
   ]
  },
  {
   "cell_type": "code",
   "execution_count": 10,
   "id": "7520c9a5",
   "metadata": {},
   "outputs": [
    {
     "name": "stdout",
     "output_type": "stream",
     "text": [
      "8.63 ms ± 1.15 ms per loop (mean ± std. dev. of 7 runs, 1 loop each)\n"
     ]
    }
   ],
   "source": [
    "%timeit get_noisy_state(0.1)"
   ]
  },
  {
   "cell_type": "code",
   "execution_count": 11,
   "id": "733891b6",
   "metadata": {},
   "outputs": [],
   "source": [
    "rho = get_noisy_state(0.1)"
   ]
  },
  {
   "cell_type": "code",
   "execution_count": 12,
   "id": "6831a790",
   "metadata": {},
   "outputs": [
    {
     "name": "stdout",
     "output_type": "stream",
     "text": [
      "14.5 ms ± 4 ms per loop (mean ± std. dev. of 7 runs, 1 loop each)\n"
     ]
    }
   ],
   "source": [
    "%timeit sample_density_matrix(rho)"
   ]
  },
  {
   "cell_type": "code",
   "execution_count": 13,
   "id": "082aaf1f",
   "metadata": {},
   "outputs": [
    {
     "name": "stdout",
     "output_type": "stream",
     "text": [
      "507 µs ± 174 µs per loop (mean ± std. dev. of 7 runs, 1 loop each)\n"
     ]
    }
   ],
   "source": [
    "%timeit sample_trajectory(0.1)"
   ]
  },
  {
   "cell_type": "markdown",
   "id": "8c2130fd",
   "metadata": {},
   "source": [
    "### Run simulator"
   ]
  },
  {
   "cell_type": "code",
   "execution_count": 14,
   "id": "d06032b0",
   "metadata": {},
   "outputs": [],
   "source": [
    "simulators = (\"density_matrix\", \"trajectory\")\n",
    "\n",
    "if simulator not in simulators:\n",
    "    raise ValueError(f\"Unknown simulator option. Expected one of {simulators} but got {simulator}.\")\n",
    "\n",
    "sampler = sample_density_matrix if simulator == \"density_matrix\" else sample_trajectory"
   ]
  },
  {
   "cell_type": "code",
   "execution_count": 15,
   "id": "1c66920f-9645-41ec-b7c6-043ecee36513",
   "metadata": {
    "scrolled": true
   },
   "outputs": [
    {
     "data": {
      "application/vnd.jupyter.widget-view+json": {
       "model_id": "c65b5c4d80504be68246966970b7919a",
       "version_major": 2,
       "version_minor": 0
      },
      "text/plain": [
       "Sampling 40000 shadows from 6 noise levels:   0%|          | 0/6 [00:00<?, ?it/s]"
      ]
     },
     "metadata": {},
     "output_type": "display_data"
    }
   ],
   "source": [
    "all_shadows = []\n",
    "for i in tnrange(len(pvalues), desc=f\"Sampling {num_trajectories} shadows from {len(pvalues)} noise levels\"):\n",
    "    if simulator == \"density_matrix\":\n",
    "        \n",
    "        rho = get_noisy_state(pvalues[i])\n",
    "        shadows = Parallel(n_jobs=njobs)(\n",
    "            delayed(sample_density_matrix)(rho) for _ in range(num_trajectories)\n",
    "        )\n",
    "    else:\n",
    "        \n",
    "        shadows = Parallel(n_jobs=njobs)(\n",
    "            delayed(sample_trajectory)(pvalues[i]) for _ in range(num_trajectories)\n",
    "        )\n",
    "    all_shadows.append(shadows)"
   ]
  },
  {
   "cell_type": "markdown",
   "id": "cc1ddb1a",
   "metadata": {},
   "source": [
    "## Postprocess"
   ]
  },
  {
   "cell_type": "markdown",
   "id": "569d0a11",
   "metadata": {},
   "source": [
    "### Convert all shadows to density matrices"
   ]
  },
  {
   "cell_type": "code",
   "execution_count": 16,
   "id": "ef34d156",
   "metadata": {},
   "outputs": [],
   "source": [
    "def inverse_map(sigma: np.array) -> np.array:\n",
    "    d = len(sigma)\n",
    "    return (d + 1) * sigma - np.identity(d)"
   ]
  },
  {
   "cell_type": "code",
   "execution_count": 17,
   "id": "f654e126",
   "metadata": {
    "scrolled": true
   },
   "outputs": [
    {
     "data": {
      "application/vnd.jupyter.widget-view+json": {
       "model_id": "5ec626d502bd4af7b41a97a3f9c80bca",
       "version_major": 2,
       "version_minor": 0
      },
      "text/plain": [
       "Converting all shadows to density matrices:   0%|          | 0/6 [00:00<?, ?it/s]"
      ]
     },
     "metadata": {},
     "output_type": "display_data"
    },
    {
     "data": {
      "application/vnd.jupyter.widget-view+json": {
       "model_id": "",
       "version_major": 2,
       "version_minor": 0
      },
      "text/plain": [
       "Converting shadows to density matrices for noise level p = 0.000:   0%|          | 0/40000 [00:00<?, ?it/s]"
      ]
     },
     "metadata": {},
     "output_type": "display_data"
    },
    {
     "data": {
      "application/vnd.jupyter.widget-view+json": {
       "model_id": "",
       "version_major": 2,
       "version_minor": 0
      },
      "text/plain": [
       "Converting shadows to density matrices for noise level p = 0.100:   0%|          | 0/40000 [00:00<?, ?it/s]"
      ]
     },
     "metadata": {},
     "output_type": "display_data"
    },
    {
     "data": {
      "application/vnd.jupyter.widget-view+json": {
       "model_id": "",
       "version_major": 2,
       "version_minor": 0
      },
      "text/plain": [
       "Converting shadows to density matrices for noise level p = 0.200:   0%|          | 0/40000 [00:00<?, ?it/s]"
      ]
     },
     "metadata": {},
     "output_type": "display_data"
    },
    {
     "data": {
      "application/vnd.jupyter.widget-view+json": {
       "model_id": "",
       "version_major": 2,
       "version_minor": 0
      },
      "text/plain": [
       "Converting shadows to density matrices for noise level p = 0.300:   0%|          | 0/40000 [00:00<?, ?it/s]"
      ]
     },
     "metadata": {},
     "output_type": "display_data"
    },
    {
     "data": {
      "application/vnd.jupyter.widget-view+json": {
       "model_id": "",
       "version_major": 2,
       "version_minor": 0
      },
      "text/plain": [
       "Converting shadows to density matrices for noise level p = 0.400:   0%|          | 0/40000 [00:00<?, ?it/s]"
      ]
     },
     "metadata": {},
     "output_type": "display_data"
    },
    {
     "data": {
      "application/vnd.jupyter.widget-view+json": {
       "model_id": "",
       "version_major": 2,
       "version_minor": 0
      },
      "text/plain": [
       "Converting shadows to density matrices for noise level p = 0.500:   0%|          | 0/40000 [00:00<?, ?it/s]"
      ]
     },
     "metadata": {},
     "output_type": "display_data"
    }
   ],
   "source": [
    "all_sigmas = []\n",
    "\n",
    "for i in tnrange(len(all_shadows), desc=\"Converting all shadows to density matrices\"):\n",
    "    shadows = all_shadows[i]\n",
    "    sigmas = []\n",
    "    for j in tnrange(len(shadows), desc=f\"Converting shadows to density matrices for noise level p = {pvalues[i]:.3f}\", leave=False):\n",
    "        sigmas.append(inverse_map(stabilizer_state_to_qutip_qobj(shadows[j]).full()))\n",
    "    all_sigmas.append(sigmas)"
   ]
  },
  {
   "cell_type": "code",
   "execution_count": 18,
   "id": "47b63435",
   "metadata": {},
   "outputs": [],
   "source": [
    "\"\"\"Projector P.\"\"\"\n",
    "state = stabilizer_state(\"XZZXI\", \"IXZZX\", \"XIXZZ\", \"ZXIXZ\", \"ZZZZZ\")\n",
    "state.r = 1\n",
    "projector = functools.reduce(lambda a, b: a * b, state2projector(state))\n",
    "projector = projector.full()"
   ]
  },
  {
   "cell_type": "code",
   "execution_count": 19,
   "id": "82b58fb4",
   "metadata": {},
   "outputs": [],
   "source": [
    "\"\"\"Tests.\"\"\"\n",
    "assert np.allclose(projector @ projector, projector)\n",
    "assert np.allclose(projector.conj().T, projector)"
   ]
  },
  {
   "cell_type": "code",
   "execution_count": 20,
   "id": "0f403c90",
   "metadata": {},
   "outputs": [],
   "source": [
    "\"\"\"Observable O.\"\"\"\n",
    "obs = stabilizer_state_to_qutip_qobj(\n",
    "    stabilizer_state(\"ZZZZZ\", \"XZZXI\", \"IXZZX\", \"XIXZZ\", \"ZXIXZ\")\n",
    ")\n",
    "\n",
    "# Tests.\n",
    "evals = np.zeros(2 ** N)\n",
    "evals[-1] = 1\n",
    "assert np.allclose(obs.eigenenergies(), evals)\n",
    "\n",
    "obs = obs.full()"
   ]
  },
  {
   "cell_type": "markdown",
   "id": "cae30301",
   "metadata": {},
   "source": [
    "### LST with $\\rho$"
   ]
  },
  {
   "cell_type": "code",
   "execution_count": 21,
   "id": "73b39a2c",
   "metadata": {},
   "outputs": [],
   "source": [
    "def sigma_to_numerator_and_denominator(sigma: \"StabilizerState\") -> Tuple[float, float]:\n",
    "    \"\"\"Returns Tr[M^-1 (shadow) P O], Tr[M^-1 (shadow) P].\"\"\"\n",
    "    projected = sigma @ projector\n",
    "    return np.trace(projected @ obs), np.trace(projected)"
   ]
  },
  {
   "cell_type": "code",
   "execution_count": 22,
   "id": "fe51be1b",
   "metadata": {},
   "outputs": [
    {
     "data": {
      "application/vnd.jupyter.widget-view+json": {
       "model_id": "f3b37e43868e451b8c03809b48185ef2",
       "version_major": 2,
       "version_minor": 0
      },
      "text/plain": [
       "Estimating all fidelities with ρ:   0%|          | 0/6 [00:00<?, ?it/s]"
      ]
     },
     "metadata": {},
     "output_type": "display_data"
    },
    {
     "data": {
      "application/vnd.jupyter.widget-view+json": {
       "model_id": "",
       "version_major": 2,
       "version_minor": 0
      },
      "text/plain": [
       "Estimating fidelity with 40000 shadows for noise level p = 0.000:   0%|          | 0/40000 [00:00<?, ?it/s]"
      ]
     },
     "metadata": {},
     "output_type": "display_data"
    },
    {
     "data": {
      "application/vnd.jupyter.widget-view+json": {
       "model_id": "",
       "version_major": 2,
       "version_minor": 0
      },
      "text/plain": [
       "Estimating fidelity with 40000 shadows for noise level p = 0.100:   0%|          | 0/40000 [00:00<?, ?it/s]"
      ]
     },
     "metadata": {},
     "output_type": "display_data"
    },
    {
     "data": {
      "application/vnd.jupyter.widget-view+json": {
       "model_id": "",
       "version_major": 2,
       "version_minor": 0
      },
      "text/plain": [
       "Estimating fidelity with 40000 shadows for noise level p = 0.200:   0%|          | 0/40000 [00:00<?, ?it/s]"
      ]
     },
     "metadata": {},
     "output_type": "display_data"
    },
    {
     "data": {
      "application/vnd.jupyter.widget-view+json": {
       "model_id": "",
       "version_major": 2,
       "version_minor": 0
      },
      "text/plain": [
       "Estimating fidelity with 40000 shadows for noise level p = 0.300:   0%|          | 0/40000 [00:00<?, ?it/s]"
      ]
     },
     "metadata": {},
     "output_type": "display_data"
    },
    {
     "data": {
      "application/vnd.jupyter.widget-view+json": {
       "model_id": "",
       "version_major": 2,
       "version_minor": 0
      },
      "text/plain": [
       "Estimating fidelity with 40000 shadows for noise level p = 0.400:   0%|          | 0/40000 [00:00<?, ?it/s]"
      ]
     },
     "metadata": {},
     "output_type": "display_data"
    },
    {
     "data": {
      "application/vnd.jupyter.widget-view+json": {
       "model_id": "",
       "version_major": 2,
       "version_minor": 0
      },
      "text/plain": [
       "Estimating fidelity with 40000 shadows for noise level p = 0.500:   0%|          | 0/40000 [00:00<?, ?it/s]"
      ]
     },
     "metadata": {},
     "output_type": "display_data"
    }
   ],
   "source": [
    "if use_rho:\n",
    "    lst_fidelities = []\n",
    "    for i in tnrange(len(all_sigmas), desc=\"Estimating all fidelities with ρ\"):\n",
    "        sigmas = all_sigmas[i]\n",
    "        numerator = 0.0\n",
    "        denominator = 0.0\n",
    "        for j in tnrange(len(sigmas), desc=f\"Estimating fidelity with {len(sigmas)} shadows for noise level p = {pvalues[i]:.3f}\", leave=False):\n",
    "            num, denom = sigma_to_numerator_and_denominator(sigmas[j])\n",
    "            numerator += num\n",
    "            denominator += denom\n",
    "\n",
    "        lst_fidelities.append(numerator / denominator)\n",
    "    \n",
    "    lst_fidelities = np.array(lst_fidelities)"
   ]
  },
  {
   "cell_type": "markdown",
   "id": "20705cd0",
   "metadata": {},
   "source": [
    "### LST with $\\rho^2$"
   ]
  },
  {
   "cell_type": "code",
   "execution_count": 23,
   "id": "2b6f2dd6",
   "metadata": {},
   "outputs": [],
   "source": [
    "def sigmas_to_numerator_and_denominator(\n",
    "    sigma1: np.ndarray, sigma2: np.ndarray\n",
    ") -> Tuple[float, float]:\n",
    "    \"\"\"Returns Tr[M^-1 (shadow1) M^-1(shadow2) P O], Tr[M^-1 (shadow1) M^-1(shadow2) P].\n",
    "    \"\"\"\n",
    "    projected = sigma1 @ sigma2 @ projector\n",
    "    return np.trace(projected @ obs), np.trace(projected)"
   ]
  },
  {
   "cell_type": "code",
   "execution_count": 24,
   "id": "8ce42e64",
   "metadata": {},
   "outputs": [],
   "source": [
    "if use_rho_squared:\n",
    "    lst_vd_fidelities = []\n",
    "    for i in tnrange(len(all_sigmas), desc=\"Estimating all fidelities with ρ^2\"):\n",
    "        sigmas = all_sigmas[i]\n",
    "        numerator = 0.0\n",
    "        denominator = 0.0\n",
    "        for j in tnrange(len(sigmas), desc=f\"Estimating fidelity with {len(sigmas)} shadows for noise level p = {pvalues[i]:.3f}\", leave=False):\n",
    "            for k in range(len(sigmas)):\n",
    "                if k == j:\n",
    "                    continue\n",
    "                num, denom = sigmas_to_numerator_and_denominator(sigmas[j], sigmas[k])\n",
    "                numerator += num\n",
    "                denominator += denom\n",
    "\n",
    "        lst_vd_fidelities.append(num / denom)\n",
    "    \n",
    "    lst_vd_fidelities = np.array(lst_vd_fidelities)"
   ]
  },
  {
   "cell_type": "code",
   "execution_count": 25,
   "id": "f01a632f",
   "metadata": {},
   "outputs": [],
   "source": [
    "def analytic_fidelity(p):\n",
    "    N = (8 * p ** 2 - 9 * p + 3) * (2 * p - 3) ** 3\n",
    "    D = 240 * p ** 4 - 720 * p ** 3 + 810 * p ** 2 - 405 * p + 81\n",
    "    return -N / D"
   ]
  },
  {
   "cell_type": "code",
   "execution_count": 26,
   "id": "c29cdb22-fe1d-4ee5-af51-c1308103b866",
   "metadata": {
    "scrolled": false
   },
   "outputs": [
    {
     "data": {
      "image/png": "[encoded data removed]",
      "text/plain": [
       "<Figure size 432x288 with 1 Axes>"
      ]
     },
     "metadata": {
      "needs_background": "light"
     },
     "output_type": "display_data"
    }
   ],
   "source": [
    "if use_rho:\n",
    "    plt.plot(pvalues, 1.0 - lst_fidelities.real, \"^\", markersize=8, label=r\"LST with $\\rho$\")\n",
    "\n",
    "if use_rho_squared:\n",
    "    plt.plot(pvalues, 1 - lst_vd_fidelities.real, \"*\", markersize=8, label=r\"LST with $\\rho^2$\")\n",
    "\n",
    "\n",
    "plt.plot(pvalues, 2 * pvalues / 3, \"-.\", c=\"k\", label=\"Physical\")\n",
    "plt.plot(\n",
    "    np.linspace(0, 0.5, 50), 1 - analytic_fidelity(np.linspace(0, 0.5, 50)), c=\"C3\", label=\"Analytic\"\n",
    ")\n",
    "\n",
    "# Plot options.\n",
    "plt.xlabel(\"$p$\")\n",
    "plt.ylabel(\"$1 - F$\")\n",
    "plt.legend(bbox_to_anchor=(1, 1));"
   ]
  },
  {
   "cell_type": "markdown",
   "id": "21bc22f7",
   "metadata": {},
   "source": []
  }
 ],
 "metadata": {
  "kernelspec": {
   "display_name": "envlst",
   "language": "python",
   "name": "envlst"
  },
  "language_info": {
   "codemirror_mode": {
    "name": "ipython",
    "version": 3
   },
   "file_extension": ".py",
   "mimetype": "text/x-python",
   "name": "python",
   "nbconvert_exporter": "python",
   "pygments_lexer": "ipython3",
   "version": "3.7.8"
  }
 },
 "nbformat": 4,
 "nbformat_minor": 5
}
