{
 "cells": [
  {
   "cell_type": "markdown",
   "id": "8d8d2169",
   "metadata": {},
   "source": [
    "# Logical shadow tomography: $[[5, 1, 3]]$ code example"
   ]
  },
  {
   "cell_type": "markdown",
   "id": "9848c954",
   "metadata": {},
   "source": [
    "## Setup"
   ]
  },
  {
   "cell_type": "code",
   "execution_count": 1,
   "id": "b6d83891-7801-4737-ae8c-bbc3a46df087",
   "metadata": {},
   "outputs": [],
   "source": [
    "import functools\n",
    "from joblib import Parallel, delayed\n",
    "from typing import List, Tuple\n",
    "\n",
    "import matplotlib.pyplot as plt\n",
    "import numpy as np\n",
    "from numba import njit\n",
    "\n",
    "import qutip\n",
    "\n",
    "from base.stabilizer import random_clifford_state, stabilizer_state, stoc_depolarize_map\n",
    "from base.utils import stabilizer_projection_full\n",
    "from convert import state2state as stabilizer_state_to_qutip_qobj, state2projector"
   ]
  },
  {
   "cell_type": "code",
   "execution_count": 2,
   "id": "46b46a06",
   "metadata": {},
   "outputs": [],
   "source": [
    "plt.rcParams.update({\"font.family\": \"serif\", \"font.size\": 16})"
   ]
  },
  {
   "cell_type": "markdown",
   "id": "572b23d8-9c08-4b58-8e85-eb2d9896059c",
   "metadata": {},
   "source": [
    "## Experiment"
   ]
  },
  {
   "cell_type": "code",
   "execution_count": 3,
   "id": "cedd19ce",
   "metadata": {
    "tags": [
     "parameters"
    ]
   },
   "outputs": [],
   "source": [
    "\"\"\"Set experimental parameters.\"\"\"\n",
    "num_trajectories: int = 200_000  # Number of trajectories to sample from.\n",
    "\n",
    "pmin: float = 0.0  # Minimum depolarizing noise rate.\n",
    "pmax: float = 0.5  # Maximum depolarizing noise rate.\n",
    "step: float = 0.05  # Step for depolarizing noise rates. Values are `np.arange(pmin, pmax + step, step)`.\n",
    "\n",
    "njobs: int = 4  # Number of parallel workers to use when sampling trajectories."
   ]
  },
  {
   "cell_type": "code",
   "execution_count": 4,
   "id": "269f49ba",
   "metadata": {},
   "outputs": [],
   "source": [
    "pvalues = np.arange(pmin, pmax + step, step)\n",
    "N: int = 5\n",
    "D: int = 2**N + 1"
   ]
  },
  {
   "cell_type": "code",
   "execution_count": 5,
   "id": "31fc46fe",
   "metadata": {},
   "outputs": [],
   "source": [
    "def sample_trajectory(p: float):\n",
    "    # Initial stabilizer state.\n",
    "    state = stabilizer_state(\"ZZZZZ\", \"XZZXI\", \"IXZZX\", \"XIXZZ\", \"ZXIXZ\")\n",
    "    gs0 = state.gs.copy()\n",
    "    ps0 = state.ps.copy()\n",
    "\n",
    "    # Apply single-qubit depolarizing noise.\n",
    "    state = stoc_depolarize_map(state, p)\n",
    "\n",
    "    # Do shadow tomography.\n",
    "    obs = random_clifford_state(N)\n",
    "    state.measure(obs)\n",
    "\n",
    "    gs, ps, _, tmp_PsigmaP = stabilizer_projection_full(\n",
    "        state.gs, state.ps, gs0[: N - 1].copy(), ps0[: N - 1].copy(), 0\n",
    "    )\n",
    "    _, _, _, tmp = stabilizer_projection_full(gs, ps, gs0[:N], ps0[:N], 0)\n",
    "    \n",
    "    return tmp_PsigmaP * tmp, tmp_PsigmaP"
   ]
  },
  {
   "cell_type": "markdown",
   "id": "4363ae4b",
   "metadata": {},
   "source": [
    "### The scalable approach with stabilizer states requires a tensor product of two stabilizer states function"
   ]
  },
  {
   "cell_type": "code",
   "execution_count": 6,
   "id": "ce16a55e",
   "metadata": {},
   "outputs": [],
   "source": [
    "def sample_trajectory_vd(p: float) -> List[Tuple[float, float]]:\n",
    "    sigmas = []\n",
    "    \n",
    "    for _ in range(2):\n",
    "        state = stabilizer_state(\"ZZZZZ\", \"XZZXI\", \"IXZZX\", \"XIXZZ\", \"ZXIXZ\")\n",
    "        gs0 = state.gs.copy()\n",
    "        ps0 = state.ps.copy()\n",
    "\n",
    "        # Apply single-qubit depolarizing noise.\n",
    "        state = stoc_depolarize_map(state, p)\n",
    "\n",
    "        # Do shadow tomography.\n",
    "        obs = random_clifford_state(N)\n",
    "        state.measure(obs)\n",
    "        sigmas.append(state)\n",
    "    \n",
    "    state1, state2 = sigmas\n",
    "    \n",
    "    # Answer = N / D\n",
    "    # where \n",
    "    # N = Tr[M^-1 (state1) M^-1(state2) P O]\n",
    "    # M^-1 (state) = D state - I where D = 2^n + 1\n",
    "    # N = D^2 Tr[state1 state2 P O] - D Tr[state1 P O] - D Tr[state2 P O] + 1\n",
    "    # D = D^2 Tr[state1 state2 P] - D Tr[state1 P] - D Tr[state2 P ] + 2\n",
    "    \n",
    "    \n",
    "    # Need four terms to do \\rho^2.\n",
    "    # (1) Tr[sigma1 sigma2 P].\n",
    "    # (2) Tr[sigma1 identity P].\n",
    "    # (3) Tr[identity sigma2 P].\n",
    "    # (4) Tr[identity identity P] = 2 (for one logical qubit). (TODO: Double check this.)\n",
    "    out = []\n",
    "    \n",
    "    # This is for term (1).\n",
    "    gs, ps, _, a = stabilizer_projection_full(\n",
    "        state1.gs.copy(), state1.ps.copy(), state2.gs.copy(), state2.ps.copy(), 0  # state1 state2 inside the Tr[...]\n",
    "    )\n",
    "    # a = Tr[state1 state2 state1*] = Tr[state1 state2]\n",
    "    gs, ps, _, b = stabilizer_projection_full(\n",
    "        gs, ps, gs0[: N - 1].copy(), ps0[: N - 1].copy(), 0  # state1 state2 P inside the Tr[...]\n",
    "    )\n",
    "    # b = Tr[(state1 state2) P (state1 state2)*]\n",
    "    tr_sigma1_sigma2_P = a * b\n",
    "    _, _, _, tmp = stabilizer_projection_full(gs, ps, gs0[:N].copy(), ps0[:N].copy(), 0)  # [:N] is to not include the destabilizers\n",
    "    \n",
    "    out.append((D**2 * tr_sigma1_sigma2_P * tmp, D**2 * tr_sigma1_sigma2_P))\n",
    "    \n",
    "    # This is for terms (2) and (3).\n",
    "    for state in sigmas:\n",
    "        gs, ps, _, tmp_PsigmaP = stabilizer_projection_full(\n",
    "            state.gs, state.ps, gs0[: N - 1].copy(), ps0[: N - 1].copy(), 0\n",
    "        )\n",
    "        _, _, _, tmp = stabilizer_projection_full(gs, ps, gs0[:N].copy(), ps0[:N].copy(), 0)\n",
    "        \n",
    "        out.append((-D * tmp_PsigmaP * tmp, -D * tmp_PsigmaP))\n",
    "    \n",
    "    # This is for term (4).\n",
    "    out.append((1.0, 2.0))  # Tr[ P O] / Tr[P] = 1 / 2 where O = \\rho is the observable for computing fidelity.\n",
    "    \n",
    "    return out"
   ]
  },
  {
   "cell_type": "markdown",
   "id": "400ef2cd",
   "metadata": {},
   "source": [
    "### Instead let's work with density matrices for now"
   ]
  },
  {
   "cell_type": "code",
   "execution_count": 7,
   "id": "fcb01ff6",
   "metadata": {},
   "outputs": [],
   "source": [
    "def sample_trajectory_vd(p: float) -> \"StabilizerState\":   \n",
    "    state = stabilizer_state(\"ZZZZZ\", \"XZZXI\", \"IXZZX\", \"XIXZZ\", \"ZXIXZ\")\n",
    "\n",
    "    # Apply single-qubit depolarizing noise.\n",
    "    state = stoc_depolarize_map(state, p)\n",
    "\n",
    "    # Do shadow tomography.\n",
    "    state.measure(random_clifford_state(N))\n",
    "    return state"
   ]
  },
  {
   "cell_type": "code",
   "execution_count": 8,
   "id": "1c66920f-9645-41ec-b7c6-043ecee36513",
   "metadata": {
    "scrolled": true
   },
   "outputs": [
    {
     "name": "stdout",
     "output_type": "stream",
     "text": [
      "Status: On noise rate p = 0.500\r"
     ]
    }
   ],
   "source": [
    "\"\"\"Run the experiment.\"\"\"\n",
    "fid_list = np.ones_like(pvalues)\n",
    "fid_vd_list = np.ones_like(pvalues)\n",
    "all_shadows = []\n",
    "\n",
    "for (i, p) in enumerate(pvalues):\n",
    "    # Status update.\n",
    "    print(f\"Status: On noise rate p = {p:.3f}\", end=\"\\r\")\n",
    "    \n",
    "    # Experiment with \\rho.\n",
    "#     values = Parallel(n_jobs=njobs)(\n",
    "#         delayed(sample_trajectory)(p) for _ in range(num_trajectories)\n",
    "#     )\n",
    "#     num, denom = np.sum(values, axis=0)\n",
    "#     fid = ((2 ** N + 1) * (num / num_trajectories) - 1) / ((denom / num_trajectories) * (2 ** N + 1) - 2)\n",
    "#     fid_list[i] = fid\n",
    "    \n",
    "    # Experiment with \\rho^2.\n",
    "    shadows = Parallel(n_jobs=njobs)(\n",
    "        delayed(sample_trajectory_vd)(p) for _ in range(num_trajectories)\n",
    "    )\n",
    "    all_shadows.append(shadows)"
   ]
  },
  {
   "cell_type": "markdown",
   "id": "f8599a79",
   "metadata": {},
   "source": [
    "### LST with VD post-processing"
   ]
  },
  {
   "cell_type": "code",
   "execution_count": 9,
   "id": "72a28e0e",
   "metadata": {},
   "outputs": [],
   "source": [
    "\"\"\"Projector P.\"\"\"\n",
    "state = stabilizer_state(\"XZZXI\", \"IXZZX\", \"XIXZZ\", \"ZXIXZ\", \"ZZZZZ\")\n",
    "state.r = 1\n",
    "projector = functools.reduce(lambda a, b: a * b, state2projector(state))"
   ]
  },
  {
   "cell_type": "code",
   "execution_count": 10,
   "id": "9a03b2cb",
   "metadata": {},
   "outputs": [],
   "source": [
    "\"\"\"Tests.\"\"\"\n",
    "assert projector ** 2 == projector\n",
    "assert projector.isherm"
   ]
  },
  {
   "cell_type": "code",
   "execution_count": 11,
   "id": "9225e28b",
   "metadata": {},
   "outputs": [],
   "source": [
    "\"\"\"Observable O.\"\"\"\n",
    "obs = stabilizer_state_to_qutip_qobj(\n",
    "    stabilizer_state(\"ZZZZZ\", \"XZZXI\", \"IXZZX\", \"XIXZZ\", \"ZXIXZ\")\n",
    ")"
   ]
  },
  {
   "cell_type": "code",
   "execution_count": 12,
   "id": "e65179b3",
   "metadata": {},
   "outputs": [],
   "source": [
    "\"\"\"Tests.\"\"\"\n",
    "evals = np.zeros(2 ** N)\n",
    "evals[-1] = 1\n",
    "assert np.allclose(obs.eigenenergies(), evals)"
   ]
  },
  {
   "cell_type": "code",
   "execution_count": 13,
   "id": "8dce1c93",
   "metadata": {},
   "outputs": [],
   "source": [
    "def inverse_map(sigma: qutip.Qobj) -> qutip.Qobj:\n",
    "    n = len(sigma.dims[0])\n",
    "    return (2 ** n + 1) * sigma - qutip.tensor([qutip.qeye(2) for i in range(N)])"
   ]
  },
  {
   "cell_type": "code",
   "execution_count": 14,
   "id": "b864c627",
   "metadata": {},
   "outputs": [],
   "source": [
    "def shadows_to_numerator_and_denominator(\n",
    "    shadow1: \"StabilizerState\", shadow2: \"StabilizerState\"\n",
    ") -> float:\n",
    "    \"\"\"Returns Tr[M^-1 (shadow1) M^-1(shadow2) P O] / Tr[M^-1 (shadow1) M^-1(shadow2) P].\n",
    "    \"\"\"\n",
    "    # Shadows to density matrices.\n",
    "    sigma1 = stabilizer_state_to_qutip_qobj(shadow1)\n",
    "    sigma2 = stabilizer_state_to_qutip_qobj(shadow2)\n",
    "    \n",
    "    # M^-1 (state1) and M^-1 (state2).\n",
    "    rho1 = inverse_map(sigma1)\n",
    "    rho2 = inverse_map(sigma2)\n",
    "    \n",
    "    projected = rho1 * rho2 * projector\n",
    "    return (projected * obs).tr(), projected.tr()"
   ]
  },
  {
   "cell_type": "code",
   "execution_count": 15,
   "id": "46a9b843",
   "metadata": {},
   "outputs": [],
   "source": [
    "lst_vd_fids = []\n",
    "\n",
    "for shadows in all_shadows:\n",
    "\n",
    "    numerators = []\n",
    "    denominators = []\n",
    "    for i in range(0, len(shadows), 2):\n",
    "        num, denom = shadows_to_numerator_and_denominator(shadows[i], shadows[i + 1])\n",
    "        numerators.append(num)\n",
    "        denominators.append(denom)\n",
    "    \n",
    "    lst_vd_fids.append(np.mean(numerators) / np.mean(denominators))"
   ]
  },
  {
   "cell_type": "code",
   "execution_count": 16,
   "id": "a934660b",
   "metadata": {},
   "outputs": [],
   "source": [
    "lst_vd_fids = np.array(lst_vd_fids)"
   ]
  },
  {
   "cell_type": "code",
   "execution_count": 17,
   "id": "894cc796",
   "metadata": {},
   "outputs": [
    {
     "data": {
      "text/plain": [
       "array([1.00532624-0.00239998j, 1.03909337-0.00233842j,\n",
       "       1.0270829 -0.01775596j, 0.95915725-0.02708571j,\n",
       "       1.21269177-0.16394026j, 1.16736008-0.18632272j,\n",
       "       0.57692346-0.15425962j, 0.96300793-0.50595538j,\n",
       "       0.83453826-0.01568473j, 0.16305664+0.28145703j,\n",
       "       0.5298392 -0.0897527j ])"
      ]
     },
     "execution_count": 17,
     "metadata": {},
     "output_type": "execute_result"
    }
   ],
   "source": [
    "lst_vd_fids"
   ]
  },
  {
   "cell_type": "code",
   "execution_count": 18,
   "id": "f01a632f",
   "metadata": {},
   "outputs": [],
   "source": [
    "def FL(p):\n",
    "    N = (8 * p ** 2 - 9 * p + 3) * (2 * p - 3) ** 3\n",
    "    D = 240 * p ** 4 - 720 * p ** 3 + 810 * p ** 2 - 405 * p + 81\n",
    "    return -N / D"
   ]
  },
  {
   "cell_type": "code",
   "execution_count": 19,
   "id": "c29cdb22-fe1d-4ee5-af51-c1308103b866",
   "metadata": {},
   "outputs": [
    {
     "data": {
      "image/png": "[encoded data removed]",
      "text/plain": [
       "<Figure size 432x288 with 1 Axes>"
      ]
     },
     "metadata": {
      "needs_background": "light"
     },
     "output_type": "display_data"
    }
   ],
   "source": [
    "plt.plot(pvalues, 1 - fid_list, \"^\", markersize=8, label=r\"LST with $\\rho$\")\n",
    "plt.plot(pvalues, 1 - lst_vd_fids.real, \"*\", markersize=8, label=r\"LST with $\\rho^2$\")\n",
    "plt.plot(pvalues, 2 * pvalues / 3, \"-.\", c=\"k\", label=\"Physical\")\n",
    "plt.plot(\n",
    "    np.linspace(0, 0.5, 50), 1 - FL(np.linspace(0, 0.5, 50)), c=\"C3\", label=\"Analytical\"\n",
    ")\n",
    "\n",
    "plt.xlabel(\"$p$\")\n",
    "plt.ylabel(\"$1 - F$\")\n",
    "plt.legend(bbox_to_anchor=(1,1));"
   ]
  },
  {
   "cell_type": "markdown",
   "id": "21bc22f7",
   "metadata": {},
   "source": []
  }
 ],
 "metadata": {
  "celltoolbar": "Tags",
  "kernelspec": {
   "display_name": "envlst",
   "language": "python",
   "name": "envlst"
  },
  "language_info": {
   "codemirror_mode": {
    "name": "ipython",
    "version": 3
   },
   "file_extension": ".py",
   "mimetype": "text/x-python",
   "name": "python",
   "nbconvert_exporter": "python",
   "pygments_lexer": "ipython3",
   "version": "3.7.8"
  }
 },
 "nbformat": 4,
 "nbformat_minor": 5
}
