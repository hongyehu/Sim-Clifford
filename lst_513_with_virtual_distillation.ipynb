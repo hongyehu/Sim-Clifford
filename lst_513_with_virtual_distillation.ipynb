{
 "cells": [
  {
   "cell_type": "markdown",
   "id": "8d8d2169",
   "metadata": {},
   "source": [
    "# Logical shadow tomography: $[[5, 1, 3]]$ code example"
   ]
  },
  {
   "cell_type": "markdown",
   "id": "9848c954",
   "metadata": {},
   "source": [
    "## Setup"
   ]
  },
  {
   "cell_type": "code",
   "execution_count": 1,
   "id": "b6d83891-7801-4737-ae8c-bbc3a46df087",
   "metadata": {},
   "outputs": [],
   "source": [
    "import functools\n",
    "from joblib import Parallel, delayed\n",
    "from typing import List, Tuple\n",
    "\n",
    "import matplotlib.pyplot as plt\n",
    "import numpy as np\n",
    "from tqdm.notebook import tnrange\n",
    "\n",
    "from base.stabilizer import random_clifford_state, stabilizer_state, stoc_depolarize_map\n",
    "from convert import state2state as stabilizer_state_to_qutip_qobj, state2paulis, state2projector"
   ]
  },
  {
   "cell_type": "code",
   "execution_count": 2,
   "id": "46b46a06",
   "metadata": {},
   "outputs": [],
   "source": [
    "plt.rcParams.update({\"font.family\": \"serif\", \"font.size\": 16})"
   ]
  },
  {
   "cell_type": "markdown",
   "id": "c25c6d4d",
   "metadata": {},
   "source": [
    "## Parameters"
   ]
  },
  {
   "cell_type": "code",
   "execution_count": 3,
   "id": "cedd19ce",
   "metadata": {
    "tags": [
     "parameters"
    ]
   },
   "outputs": [],
   "source": [
    "\"\"\"Set experimental parameters.\"\"\"\n",
    "num_shadows: int = 100_000  # Number of shadows to take from quantum computer (simulator).\n",
    "    \n",
    "use_rho: bool = True             # Do LST with rho.\n",
    "num_groups_rho: int = 4          # How many groups to split the shadows into for the median of means estimate with rho.\n",
    "use_rho_squared: bool = True     # Do LST with rho^2.\n",
    "num_groups_rho_squared: int = 20  # How many groups to split the shadows into for the median of means estimate with rho^2.\n",
    "\n",
    "pmin: float = 0.00  # Minimum depolarizing noise rate.\n",
    "pmax: float = 0.50  # Maximum depolarizing noise rate.\n",
    "step: float = 0.10  # Step for depolarizing noise rates. Values are `np.arange(pmin, pmax + step, step)`.\n",
    "\n",
    "njobs: int = 2  # Number of parallel workers to use when collecting shadows."
   ]
  },
  {
   "cell_type": "code",
   "execution_count": 4,
   "id": "269f49ba",
   "metadata": {},
   "outputs": [],
   "source": [
    "pvalues = np.arange(pmin, pmax + step, step)\n",
    "N: int = 5\n",
    "D: int = 2**N + 1\n",
    "    \n",
    "step_rho = num_shadows // num_groups_rho\n",
    "step_rho_squared = num_shadows // num_groups_rho_squared"
   ]
  },
  {
   "cell_type": "markdown",
   "id": "572b23d8-9c08-4b58-8e85-eb2d9896059c",
   "metadata": {},
   "source": [
    "## Collect shadows"
   ]
  },
  {
   "cell_type": "markdown",
   "id": "ad2dda34",
   "metadata": {},
   "source": [
    "### Quantum trajectory simulator"
   ]
  },
  {
   "cell_type": "code",
   "execution_count": 5,
   "id": "d6bd7464",
   "metadata": {},
   "outputs": [],
   "source": [
    "def sample_shadow(p: float) -> \"StabilizerState\":\n",
    "    # Start in the logical subspace.\n",
    "    state = stabilizer_state(\"ZZZZZ\", \"XZZXI\", \"IXZZX\", \"XIXZZ\", \"ZXIXZ\")\n",
    "\n",
    "    # Apply single-qubit depolarizing noise.\n",
    "    state = stoc_depolarize_map(state, p)\n",
    "\n",
    "    # Apply a random clifford.\n",
    "    state.measure(random_clifford_state(N))\n",
    "    return state"
   ]
  },
  {
   "cell_type": "markdown",
   "id": "fd3d1d9d",
   "metadata": {},
   "source": [
    "### Run simulator"
   ]
  },
  {
   "cell_type": "code",
   "execution_count": 6,
   "id": "1c66920f-9645-41ec-b7c6-043ecee36513",
   "metadata": {
    "scrolled": true
   },
   "outputs": [
    {
     "data": {
      "application/vnd.jupyter.widget-view+json": {
       "model_id": "05409eae3c9c4200a819e1b71ad20111",
       "version_major": 2,
       "version_minor": 0
      },
      "text/plain": [
       "Sampling 100000 shadows from 6 noise levels:   0%|          | 0/6 [00:00<?, ?it/s]"
      ]
     },
     "metadata": {},
     "output_type": "display_data"
    }
   ],
   "source": [
    "all_shadows = []\n",
    "for i in tnrange(len(pvalues), desc=f\"Sampling {num_shadows} shadows from {len(pvalues)} noise levels\"):\n",
    "    shadows = Parallel(n_jobs=njobs)(\n",
    "        delayed(sample_shadow)(pvalues[i]) for _ in range(num_shadows)\n",
    "    )\n",
    "    all_shadows.append(shadows)"
   ]
  },
  {
   "cell_type": "markdown",
   "id": "eddce520",
   "metadata": {},
   "source": [
    "## Postprocess"
   ]
  },
  {
   "cell_type": "markdown",
   "id": "b7210e7b",
   "metadata": {},
   "source": [
    "### Convert all shadows to density matrices"
   ]
  },
  {
   "cell_type": "code",
   "execution_count": 7,
   "id": "003e0e00",
   "metadata": {},
   "outputs": [],
   "source": [
    "def inverse_map(sigma: np.array) -> np.array:\n",
    "    d = len(sigma)\n",
    "    return (d + 1) * sigma - np.identity(d)"
   ]
  },
  {
   "cell_type": "code",
   "execution_count": 8,
   "id": "70ae55a7",
   "metadata": {
    "scrolled": true
   },
   "outputs": [
    {
     "data": {
      "application/vnd.jupyter.widget-view+json": {
       "model_id": "df10402119544cef8e4d2810b7e90668",
       "version_major": 2,
       "version_minor": 0
      },
      "text/plain": [
       "Converting all shadows to density matrices:   0%|          | 0/6 [00:00<?, ?it/s]"
      ]
     },
     "metadata": {},
     "output_type": "display_data"
    },
    {
     "data": {
      "application/vnd.jupyter.widget-view+json": {
       "model_id": "",
       "version_major": 2,
       "version_minor": 0
      },
      "text/plain": [
       "Converting shadows to density matrices for noise level p = 0.000:   0%|          | 0/100000 [00:00<?, ?it/s]"
      ]
     },
     "metadata": {},
     "output_type": "display_data"
    },
    {
     "data": {
      "application/vnd.jupyter.widget-view+json": {
       "model_id": "",
       "version_major": 2,
       "version_minor": 0
      },
      "text/plain": [
       "Converting shadows to density matrices for noise level p = 0.100:   0%|          | 0/100000 [00:00<?, ?it/s]"
      ]
     },
     "metadata": {},
     "output_type": "display_data"
    },
    {
     "data": {
      "application/vnd.jupyter.widget-view+json": {
       "model_id": "",
       "version_major": 2,
       "version_minor": 0
      },
      "text/plain": [
       "Converting shadows to density matrices for noise level p = 0.200:   0%|          | 0/100000 [00:00<?, ?it/s]"
      ]
     },
     "metadata": {},
     "output_type": "display_data"
    },
    {
     "data": {
      "application/vnd.jupyter.widget-view+json": {
       "model_id": "",
       "version_major": 2,
       "version_minor": 0
      },
      "text/plain": [
       "Converting shadows to density matrices for noise level p = 0.300:   0%|          | 0/100000 [00:00<?, ?it/s]"
      ]
     },
     "metadata": {},
     "output_type": "display_data"
    },
    {
     "data": {
      "application/vnd.jupyter.widget-view+json": {
       "model_id": "",
       "version_major": 2,
       "version_minor": 0
      },
      "text/plain": [
       "Converting shadows to density matrices for noise level p = 0.400:   0%|          | 0/100000 [00:00<?, ?it/s]"
      ]
     },
     "metadata": {},
     "output_type": "display_data"
    },
    {
     "data": {
      "application/vnd.jupyter.widget-view+json": {
       "model_id": "",
       "version_major": 2,
       "version_minor": 0
      },
      "text/plain": [
       "Converting shadows to density matrices for noise level p = 0.500:   0%|          | 0/100000 [00:00<?, ?it/s]"
      ]
     },
     "metadata": {},
     "output_type": "display_data"
    }
   ],
   "source": [
    "all_sigmas = []\n",
    "\n",
    "for i in tnrange(len(all_shadows), desc=\"Converting all shadows to density matrices\"):\n",
    "    shadows = all_shadows[i]\n",
    "    sigmas = []\n",
    "    for j in tnrange(len(shadows), desc=f\"Converting shadows to density matrices for noise level p = {pvalues[i]:.3f}\", leave=False):\n",
    "        sigmas.append(inverse_map(stabilizer_state_to_qutip_qobj(shadows[j]).full()))\n",
    "    all_sigmas.append(sigmas)"
   ]
  },
  {
   "cell_type": "code",
   "execution_count": 9,
   "id": "8c4de4fe",
   "metadata": {},
   "outputs": [],
   "source": [
    "\"\"\"Projector P.\"\"\"\n",
    "state = stabilizer_state(\"XZZXI\", \"IXZZX\", \"XIXZZ\", \"ZXIXZ\", \"ZZZZZ\")\n",
    "state.r = 1\n",
    "projector = functools.reduce(lambda a, b: a * b, state2projector(state))\n",
    "projector = projector.full()"
   ]
  },
  {
   "cell_type": "code",
   "execution_count": 10,
   "id": "c8d36fb5",
   "metadata": {},
   "outputs": [],
   "source": [
    "\"\"\"Tests.\"\"\"\n",
    "assert np.allclose(projector @ projector, projector)\n",
    "assert np.allclose(projector.conj().T, projector)"
   ]
  },
  {
   "cell_type": "code",
   "execution_count": 11,
   "id": "3fe65794",
   "metadata": {},
   "outputs": [],
   "source": [
    "\"\"\"Observable O.\"\"\"\n",
    "obs = stabilizer_state_to_qutip_qobj(\n",
    "    stabilizer_state(\"ZZZZZ\", \"XZZXI\", \"IXZZX\", \"XIXZZ\", \"ZXIXZ\")\n",
    ")\n",
    "\n",
    "# Tests.\n",
    "evals = np.zeros(2 ** N)\n",
    "evals[-1] = 1\n",
    "assert np.allclose(obs.eigenenergies(), evals)\n",
    "\n",
    "obs = obs.full()"
   ]
  },
  {
   "cell_type": "markdown",
   "id": "86336afa",
   "metadata": {},
   "source": [
    "### LST with $\\rho$"
   ]
  },
  {
   "cell_type": "code",
   "execution_count": 12,
   "id": "54e6ae04",
   "metadata": {},
   "outputs": [],
   "source": [
    "def sigma_to_numerator_and_denominator(sigma: \"StabilizerState\") -> Tuple[float, float]:\n",
    "    \"\"\"Returns Tr[M^-1 (shadow) P O], Tr[M^-1 (shadow) P].\"\"\"\n",
    "    projected = sigma @ projector\n",
    "    return np.trace(projected @ obs), np.trace(projected)"
   ]
  },
  {
   "cell_type": "code",
   "execution_count": 13,
   "id": "644ceef6",
   "metadata": {},
   "outputs": [],
   "source": [
    "def estimate_numerator_and_denominator_from_shadows_rho(sigmas: List[np.ndarray]) -> Tuple[float, float]:\n",
    "    numerator = 0.0\n",
    "    denominator = 0.0\n",
    "    for j in tnrange(len(sigmas), desc=f\"Estimating fidelity with ρ from group of {len(sigmas)} shadows\", leave=False):\n",
    "        num, denom = sigma_to_numerator_and_denominator(sigmas[j])\n",
    "        numerator += num\n",
    "        denominator += denom\n",
    "    return numerator, denominator"
   ]
  },
  {
   "cell_type": "code",
   "execution_count": 14,
   "id": "706dbc78",
   "metadata": {},
   "outputs": [
    {
     "data": {
      "application/vnd.jupyter.widget-view+json": {
       "model_id": "fed9ed798388442487fd7f21bd0f027c",
       "version_major": 2,
       "version_minor": 0
      },
      "text/plain": [
       "Noise levels:   0%|          | 0/6 [00:00<?, ?it/s]"
      ]
     },
     "metadata": {},
     "output_type": "display_data"
    },
    {
     "data": {
      "application/vnd.jupyter.widget-view+json": {
       "model_id": "309470c7a9ea4b5ab5423ada4008d751",
       "version_major": 2,
       "version_minor": 0
      },
      "text/plain": [
       "Post-processing with all 100000 shadows:   0%|          | 0/4 [00:00<?, ?it/s]"
      ]
     },
     "metadata": {},
     "output_type": "display_data"
    },
    {
     "data": {
      "application/vnd.jupyter.widget-view+json": {
       "model_id": "",
       "version_major": 2,
       "version_minor": 0
      },
      "text/plain": [
       "Estimating fidelity with ρ from group of 25000 shadows:   0%|          | 0/25000 [00:00<?, ?it/s]"
      ]
     },
     "metadata": {},
     "output_type": "display_data"
    },
    {
     "data": {
      "application/vnd.jupyter.widget-view+json": {
       "model_id": "",
       "version_major": 2,
       "version_minor": 0
      },
      "text/plain": [
       "Estimating fidelity with ρ from group of 25000 shadows:   0%|          | 0/25000 [00:00<?, ?it/s]"
      ]
     },
     "metadata": {},
     "output_type": "display_data"
    },
    {
     "data": {
      "application/vnd.jupyter.widget-view+json": {
       "model_id": "",
       "version_major": 2,
       "version_minor": 0
      },
      "text/plain": [
       "Estimating fidelity with ρ from group of 25000 shadows:   0%|          | 0/25000 [00:00<?, ?it/s]"
      ]
     },
     "metadata": {},
     "output_type": "display_data"
    },
    {
     "data": {
      "application/vnd.jupyter.widget-view+json": {
       "model_id": "",
       "version_major": 2,
       "version_minor": 0
      },
      "text/plain": [
       "Estimating fidelity with ρ from group of 25000 shadows:   0%|          | 0/25000 [00:00<?, ?it/s]"
      ]
     },
     "metadata": {},
     "output_type": "display_data"
    },
    {
     "data": {
      "application/vnd.jupyter.widget-view+json": {
       "model_id": "161756b7dee04a82874cc3b13f79b741",
       "version_major": 2,
       "version_minor": 0
      },
      "text/plain": [
       "Post-processing with all 100000 shadows:   0%|          | 0/4 [00:00<?, ?it/s]"
      ]
     },
     "metadata": {},
     "output_type": "display_data"
    },
    {
     "data": {
      "application/vnd.jupyter.widget-view+json": {
       "model_id": "",
       "version_major": 2,
       "version_minor": 0
      },
      "text/plain": [
       "Estimating fidelity with ρ from group of 25000 shadows:   0%|          | 0/25000 [00:00<?, ?it/s]"
      ]
     },
     "metadata": {},
     "output_type": "display_data"
    },
    {
     "data": {
      "application/vnd.jupyter.widget-view+json": {
       "model_id": "",
       "version_major": 2,
       "version_minor": 0
      },
      "text/plain": [
       "Estimating fidelity with ρ from group of 25000 shadows:   0%|          | 0/25000 [00:00<?, ?it/s]"
      ]
     },
     "metadata": {},
     "output_type": "display_data"
    },
    {
     "data": {
      "application/vnd.jupyter.widget-view+json": {
       "model_id": "",
       "version_major": 2,
       "version_minor": 0
      },
      "text/plain": [
       "Estimating fidelity with ρ from group of 25000 shadows:   0%|          | 0/25000 [00:00<?, ?it/s]"
      ]
     },
     "metadata": {},
     "output_type": "display_data"
    },
    {
     "data": {
      "application/vnd.jupyter.widget-view+json": {
       "model_id": "",
       "version_major": 2,
       "version_minor": 0
      },
      "text/plain": [
       "Estimating fidelity with ρ from group of 25000 shadows:   0%|          | 0/25000 [00:00<?, ?it/s]"
      ]
     },
     "metadata": {},
     "output_type": "display_data"
    },
    {
     "data": {
      "application/vnd.jupyter.widget-view+json": {
       "model_id": "4595cc76eb564b0882ac10a3467197f7",
       "version_major": 2,
       "version_minor": 0
      },
      "text/plain": [
       "Post-processing with all 100000 shadows:   0%|          | 0/4 [00:00<?, ?it/s]"
      ]
     },
     "metadata": {},
     "output_type": "display_data"
    },
    {
     "data": {
      "application/vnd.jupyter.widget-view+json": {
       "model_id": "",
       "version_major": 2,
       "version_minor": 0
      },
      "text/plain": [
       "Estimating fidelity with ρ from group of 25000 shadows:   0%|          | 0/25000 [00:00<?, ?it/s]"
      ]
     },
     "metadata": {},
     "output_type": "display_data"
    },
    {
     "data": {
      "application/vnd.jupyter.widget-view+json": {
       "model_id": "",
       "version_major": 2,
       "version_minor": 0
      },
      "text/plain": [
       "Estimating fidelity with ρ from group of 25000 shadows:   0%|          | 0/25000 [00:00<?, ?it/s]"
      ]
     },
     "metadata": {},
     "output_type": "display_data"
    },
    {
     "data": {
      "application/vnd.jupyter.widget-view+json": {
       "model_id": "",
       "version_major": 2,
       "version_minor": 0
      },
      "text/plain": [
       "Estimating fidelity with ρ from group of 25000 shadows:   0%|          | 0/25000 [00:00<?, ?it/s]"
      ]
     },
     "metadata": {},
     "output_type": "display_data"
    },
    {
     "data": {
      "application/vnd.jupyter.widget-view+json": {
       "model_id": "",
       "version_major": 2,
       "version_minor": 0
      },
      "text/plain": [
       "Estimating fidelity with ρ from group of 25000 shadows:   0%|          | 0/25000 [00:00<?, ?it/s]"
      ]
     },
     "metadata": {},
     "output_type": "display_data"
    },
    {
     "data": {
      "application/vnd.jupyter.widget-view+json": {
       "model_id": "1bf9e0ea636f4468a36a72ee6689f5e2",
       "version_major": 2,
       "version_minor": 0
      },
      "text/plain": [
       "Post-processing with all 100000 shadows:   0%|          | 0/4 [00:00<?, ?it/s]"
      ]
     },
     "metadata": {},
     "output_type": "display_data"
    },
    {
     "data": {
      "application/vnd.jupyter.widget-view+json": {
       "model_id": "",
       "version_major": 2,
       "version_minor": 0
      },
      "text/plain": [
       "Estimating fidelity with ρ from group of 25000 shadows:   0%|          | 0/25000 [00:00<?, ?it/s]"
      ]
     },
     "metadata": {},
     "output_type": "display_data"
    },
    {
     "data": {
      "application/vnd.jupyter.widget-view+json": {
       "model_id": "",
       "version_major": 2,
       "version_minor": 0
      },
      "text/plain": [
       "Estimating fidelity with ρ from group of 25000 shadows:   0%|          | 0/25000 [00:00<?, ?it/s]"
      ]
     },
     "metadata": {},
     "output_type": "display_data"
    },
    {
     "data": {
      "application/vnd.jupyter.widget-view+json": {
       "model_id": "",
       "version_major": 2,
       "version_minor": 0
      },
      "text/plain": [
       "Estimating fidelity with ρ from group of 25000 shadows:   0%|          | 0/25000 [00:00<?, ?it/s]"
      ]
     },
     "metadata": {},
     "output_type": "display_data"
    },
    {
     "data": {
      "application/vnd.jupyter.widget-view+json": {
       "model_id": "",
       "version_major": 2,
       "version_minor": 0
      },
      "text/plain": [
       "Estimating fidelity with ρ from group of 25000 shadows:   0%|          | 0/25000 [00:00<?, ?it/s]"
      ]
     },
     "metadata": {},
     "output_type": "display_data"
    },
    {
     "data": {
      "application/vnd.jupyter.widget-view+json": {
       "model_id": "fba165b90223451ba8d5d11cc7632efb",
       "version_major": 2,
       "version_minor": 0
      },
      "text/plain": [
       "Post-processing with all 100000 shadows:   0%|          | 0/4 [00:00<?, ?it/s]"
      ]
     },
     "metadata": {},
     "output_type": "display_data"
    },
    {
     "data": {
      "application/vnd.jupyter.widget-view+json": {
       "model_id": "",
       "version_major": 2,
       "version_minor": 0
      },
      "text/plain": [
       "Estimating fidelity with ρ from group of 25000 shadows:   0%|          | 0/25000 [00:00<?, ?it/s]"
      ]
     },
     "metadata": {},
     "output_type": "display_data"
    },
    {
     "data": {
      "application/vnd.jupyter.widget-view+json": {
       "model_id": "",
       "version_major": 2,
       "version_minor": 0
      },
      "text/plain": [
       "Estimating fidelity with ρ from group of 25000 shadows:   0%|          | 0/25000 [00:00<?, ?it/s]"
      ]
     },
     "metadata": {},
     "output_type": "display_data"
    },
    {
     "data": {
      "application/vnd.jupyter.widget-view+json": {
       "model_id": "",
       "version_major": 2,
       "version_minor": 0
      },
      "text/plain": [
       "Estimating fidelity with ρ from group of 25000 shadows:   0%|          | 0/25000 [00:00<?, ?it/s]"
      ]
     },
     "metadata": {},
     "output_type": "display_data"
    },
    {
     "data": {
      "application/vnd.jupyter.widget-view+json": {
       "model_id": "",
       "version_major": 2,
       "version_minor": 0
      },
      "text/plain": [
       "Estimating fidelity with ρ from group of 25000 shadows:   0%|          | 0/25000 [00:00<?, ?it/s]"
      ]
     },
     "metadata": {},
     "output_type": "display_data"
    },
    {
     "data": {
      "application/vnd.jupyter.widget-view+json": {
       "model_id": "0903cd7eb8a94686b02532e5e6d078b2",
       "version_major": 2,
       "version_minor": 0
      },
      "text/plain": [
       "Post-processing with all 100000 shadows:   0%|          | 0/4 [00:00<?, ?it/s]"
      ]
     },
     "metadata": {},
     "output_type": "display_data"
    },
    {
     "data": {
      "application/vnd.jupyter.widget-view+json": {
       "model_id": "",
       "version_major": 2,
       "version_minor": 0
      },
      "text/plain": [
       "Estimating fidelity with ρ from group of 25000 shadows:   0%|          | 0/25000 [00:00<?, ?it/s]"
      ]
     },
     "metadata": {},
     "output_type": "display_data"
    },
    {
     "data": {
      "application/vnd.jupyter.widget-view+json": {
       "model_id": "",
       "version_major": 2,
       "version_minor": 0
      },
      "text/plain": [
       "Estimating fidelity with ρ from group of 25000 shadows:   0%|          | 0/25000 [00:00<?, ?it/s]"
      ]
     },
     "metadata": {},
     "output_type": "display_data"
    },
    {
     "data": {
      "application/vnd.jupyter.widget-view+json": {
       "model_id": "",
       "version_major": 2,
       "version_minor": 0
      },
      "text/plain": [
       "Estimating fidelity with ρ from group of 25000 shadows:   0%|          | 0/25000 [00:00<?, ?it/s]"
      ]
     },
     "metadata": {},
     "output_type": "display_data"
    },
    {
     "data": {
      "application/vnd.jupyter.widget-view+json": {
       "model_id": "",
       "version_major": 2,
       "version_minor": 0
      },
      "text/plain": [
       "Estimating fidelity with ρ from group of 25000 shadows:   0%|          | 0/25000 [00:00<?, ?it/s]"
      ]
     },
     "metadata": {},
     "output_type": "display_data"
    }
   ],
   "source": [
    "if use_rho:\n",
    "    lst_fidelities = []\n",
    "    # Loop over all noise levels.\n",
    "    for k in tnrange(len(all_sigmas), desc=\"Noise levels\"):\n",
    "        sigmas = all_sigmas[k]\n",
    "\n",
    "        numerators = []\n",
    "        denominators = []\n",
    "        for i in tnrange(num_groups_rho, desc=f\"Post-processing with all {len(shadows)} shadows\"):\n",
    "            # Get mean estimate for this group.\n",
    "            group = sigmas[i * step_rho: (i + 1) * step_rho]\n",
    "            num, den = estimate_numerator_and_denominator_from_shadows_rho(group)\n",
    "            numerators.append(num)\n",
    "            denominators.append(den)\n",
    "        \n",
    "        # Final estimate is median of means.\n",
    "        fidelity = np.median(numerators) / np.median(denominators)\n",
    "        lst_fidelities.append(fidelity)\n",
    "    lst_fidelities = np.array(lst_fidelities)"
   ]
  },
  {
   "cell_type": "markdown",
   "id": "a55d0835",
   "metadata": {},
   "source": [
    "### LST with $\\rho^2$"
   ]
  },
  {
   "cell_type": "code",
   "execution_count": 15,
   "id": "a777295d",
   "metadata": {},
   "outputs": [],
   "source": [
    "def sigmas_to_numerator_and_denominator(\n",
    "    sigma1: np.ndarray, sigma2: np.ndarray\n",
    ") -> Tuple[float, float]:\n",
    "    \"\"\"Returns Tr[M^-1 (shadow1) M^-1(shadow2) P O], Tr[M^-1 (shadow1) M^-1(shadow2) P].\n",
    "    \"\"\"\n",
    "    projected = sigma1 @ sigma2 @ projector\n",
    "    return np.trace(projected @ obs), np.trace(projected)"
   ]
  },
  {
   "cell_type": "code",
   "execution_count": 16,
   "id": "33915823",
   "metadata": {},
   "outputs": [],
   "source": [
    "def estimate_numerator_and_denominator_from_shadows_rho_squared(sigmas: List[np.ndarray]) -> Tuple[float, float]:\n",
    "    numerator = 0.0\n",
    "    denominator = 0.0\n",
    "    for j in tnrange(len(sigmas), desc=f\"Estimating fidelity with ρ^2 from group of {len(sigmas)} shadows\", leave=False):\n",
    "        for k in range(len(sigmas)):\n",
    "            if k == j:\n",
    "                continue\n",
    "            num, denom = sigmas_to_numerator_and_denominator(sigmas[j], sigmas[k])\n",
    "            numerator += num\n",
    "            denominator += denom\n",
    "    return numerator, denominator"
   ]
  },
  {
   "cell_type": "code",
   "execution_count": 17,
   "id": "17d2a72a",
   "metadata": {
    "scrolled": false
   },
   "outputs": [
    {
     "data": {
      "application/vnd.jupyter.widget-view+json": {
       "model_id": "74fd1bbf40c94b798699108691dacca8",
       "version_major": 2,
       "version_minor": 0
      },
      "text/plain": [
       "Noise levels:   0%|          | 0/6 [00:00<?, ?it/s]"
      ]
     },
     "metadata": {},
     "output_type": "display_data"
    },
    {
     "data": {
      "application/vnd.jupyter.widget-view+json": {
       "model_id": "45764a68d89b459286b8290e9f8cc4fd",
       "version_major": 2,
       "version_minor": 0
      },
      "text/plain": [
       "Post-processing with all 100000 shadows:   0%|          | 0/20 [00:00<?, ?it/s]"
      ]
     },
     "metadata": {},
     "output_type": "display_data"
    },
    {
     "data": {
      "application/vnd.jupyter.widget-view+json": {
       "model_id": "",
       "version_major": 2,
       "version_minor": 0
      },
      "text/plain": [
       "Estimating fidelity with ρ^2 from group of 5000 shadows:   0%|          | 0/5000 [00:00<?, ?it/s]"
      ]
     },
     "metadata": {},
     "output_type": "display_data"
    },
    {
     "data": {
      "application/vnd.jupyter.widget-view+json": {
       "model_id": "",
       "version_major": 2,
       "version_minor": 0
      },
      "text/plain": [
       "Estimating fidelity with ρ^2 from group of 5000 shadows:   0%|          | 0/5000 [00:00<?, ?it/s]"
      ]
     },
     "metadata": {},
     "output_type": "display_data"
    },
    {
     "data": {
      "application/vnd.jupyter.widget-view+json": {
       "model_id": "",
       "version_major": 2,
       "version_minor": 0
      },
      "text/plain": [
       "Estimating fidelity with ρ^2 from group of 5000 shadows:   0%|          | 0/5000 [00:00<?, ?it/s]"
      ]
     },
     "metadata": {},
     "output_type": "display_data"
    },
    {
     "data": {
      "application/vnd.jupyter.widget-view+json": {
       "model_id": "",
       "version_major": 2,
       "version_minor": 0
      },
      "text/plain": [
       "Estimating fidelity with ρ^2 from group of 5000 shadows:   0%|          | 0/5000 [00:00<?, ?it/s]"
      ]
     },
     "metadata": {},
     "output_type": "display_data"
    },
    {
     "data": {
      "application/vnd.jupyter.widget-view+json": {
       "model_id": "",
       "version_major": 2,
       "version_minor": 0
      },
      "text/plain": [
       "Estimating fidelity with ρ^2 from group of 5000 shadows:   0%|          | 0/5000 [00:00<?, ?it/s]"
      ]
     },
     "metadata": {},
     "output_type": "display_data"
    },
    {
     "data": {
      "application/vnd.jupyter.widget-view+json": {
       "model_id": "",
       "version_major": 2,
       "version_minor": 0
      },
      "text/plain": [
       "Estimating fidelity with ρ^2 from group of 5000 shadows:   0%|          | 0/5000 [00:00<?, ?it/s]"
      ]
     },
     "metadata": {},
     "output_type": "display_data"
    },
    {
     "data": {
      "application/vnd.jupyter.widget-view+json": {
       "model_id": "",
       "version_major": 2,
       "version_minor": 0
      },
      "text/plain": [
       "Estimating fidelity with ρ^2 from group of 5000 shadows:   0%|          | 0/5000 [00:00<?, ?it/s]"
      ]
     },
     "metadata": {},
     "output_type": "display_data"
    },
    {
     "data": {
      "application/vnd.jupyter.widget-view+json": {
       "model_id": "",
       "version_major": 2,
       "version_minor": 0
      },
      "text/plain": [
       "Estimating fidelity with ρ^2 from group of 5000 shadows:   0%|          | 0/5000 [00:00<?, ?it/s]"
      ]
     },
     "metadata": {},
     "output_type": "display_data"
    },
    {
     "data": {
      "application/vnd.jupyter.widget-view+json": {
       "model_id": "",
       "version_major": 2,
       "version_minor": 0
      },
      "text/plain": [
       "Estimating fidelity with ρ^2 from group of 5000 shadows:   0%|          | 0/5000 [00:00<?, ?it/s]"
      ]
     },
     "metadata": {},
     "output_type": "display_data"
    },
    {
     "data": {
      "application/vnd.jupyter.widget-view+json": {
       "model_id": "",
       "version_major": 2,
       "version_minor": 0
      },
      "text/plain": [
       "Estimating fidelity with ρ^2 from group of 5000 shadows:   0%|          | 0/5000 [00:00<?, ?it/s]"
      ]
     },
     "metadata": {},
     "output_type": "display_data"
    },
    {
     "data": {
      "application/vnd.jupyter.widget-view+json": {
       "model_id": "",
       "version_major": 2,
       "version_minor": 0
      },
      "text/plain": [
       "Estimating fidelity with ρ^2 from group of 5000 shadows:   0%|          | 0/5000 [00:00<?, ?it/s]"
      ]
     },
     "metadata": {},
     "output_type": "display_data"
    },
    {
     "data": {
      "application/vnd.jupyter.widget-view+json": {
       "model_id": "",
       "version_major": 2,
       "version_minor": 0
      },
      "text/plain": [
       "Estimating fidelity with ρ^2 from group of 5000 shadows:   0%|          | 0/5000 [00:00<?, ?it/s]"
      ]
     },
     "metadata": {},
     "output_type": "display_data"
    },
    {
     "data": {
      "application/vnd.jupyter.widget-view+json": {
       "model_id": "",
       "version_major": 2,
       "version_minor": 0
      },
      "text/plain": [
       "Estimating fidelity with ρ^2 from group of 5000 shadows:   0%|          | 0/5000 [00:00<?, ?it/s]"
      ]
     },
     "metadata": {},
     "output_type": "display_data"
    },
    {
     "data": {
      "application/vnd.jupyter.widget-view+json": {
       "model_id": "",
       "version_major": 2,
       "version_minor": 0
      },
      "text/plain": [
       "Estimating fidelity with ρ^2 from group of 5000 shadows:   0%|          | 0/5000 [00:00<?, ?it/s]"
      ]
     },
     "metadata": {},
     "output_type": "display_data"
    },
    {
     "data": {
      "application/vnd.jupyter.widget-view+json": {
       "model_id": "",
       "version_major": 2,
       "version_minor": 0
      },
      "text/plain": [
       "Estimating fidelity with ρ^2 from group of 5000 shadows:   0%|          | 0/5000 [00:00<?, ?it/s]"
      ]
     },
     "metadata": {},
     "output_type": "display_data"
    },
    {
     "data": {
      "application/vnd.jupyter.widget-view+json": {
       "model_id": "",
       "version_major": 2,
       "version_minor": 0
      },
      "text/plain": [
       "Estimating fidelity with ρ^2 from group of 5000 shadows:   0%|          | 0/5000 [00:00<?, ?it/s]"
      ]
     },
     "metadata": {},
     "output_type": "display_data"
    },
    {
     "data": {
      "application/vnd.jupyter.widget-view+json": {
       "model_id": "",
       "version_major": 2,
       "version_minor": 0
      },
      "text/plain": [
       "Estimating fidelity with ρ^2 from group of 5000 shadows:   0%|          | 0/5000 [00:00<?, ?it/s]"
      ]
     },
     "metadata": {},
     "output_type": "display_data"
    },
    {
     "data": {
      "application/vnd.jupyter.widget-view+json": {
       "model_id": "",
       "version_major": 2,
       "version_minor": 0
      },
      "text/plain": [
       "Estimating fidelity with ρ^2 from group of 5000 shadows:   0%|          | 0/5000 [00:00<?, ?it/s]"
      ]
     },
     "metadata": {},
     "output_type": "display_data"
    },
    {
     "data": {
      "application/vnd.jupyter.widget-view+json": {
       "model_id": "",
       "version_major": 2,
       "version_minor": 0
      },
      "text/plain": [
       "Estimating fidelity with ρ^2 from group of 5000 shadows:   0%|          | 0/5000 [00:00<?, ?it/s]"
      ]
     },
     "metadata": {},
     "output_type": "display_data"
    },
    {
     "data": {
      "application/vnd.jupyter.widget-view+json": {
       "model_id": "",
       "version_major": 2,
       "version_minor": 0
      },
      "text/plain": [
       "Estimating fidelity with ρ^2 from group of 5000 shadows:   0%|          | 0/5000 [00:00<?, ?it/s]"
      ]
     },
     "metadata": {},
     "output_type": "display_data"
    },
    {
     "data": {
      "application/vnd.jupyter.widget-view+json": {
       "model_id": "e3784dc281ac4d289c06dff2bc862489",
       "version_major": 2,
       "version_minor": 0
      },
      "text/plain": [
       "Post-processing with all 100000 shadows:   0%|          | 0/20 [00:00<?, ?it/s]"
      ]
     },
     "metadata": {},
     "output_type": "display_data"
    },
    {
     "data": {
      "application/vnd.jupyter.widget-view+json": {
       "model_id": "",
       "version_major": 2,
       "version_minor": 0
      },
      "text/plain": [
       "Estimating fidelity with ρ^2 from group of 5000 shadows:   0%|          | 0/5000 [00:00<?, ?it/s]"
      ]
     },
     "metadata": {},
     "output_type": "display_data"
    },
    {
     "data": {
      "application/vnd.jupyter.widget-view+json": {
       "model_id": "",
       "version_major": 2,
       "version_minor": 0
      },
      "text/plain": [
       "Estimating fidelity with ρ^2 from group of 5000 shadows:   0%|          | 0/5000 [00:00<?, ?it/s]"
      ]
     },
     "metadata": {},
     "output_type": "display_data"
    },
    {
     "data": {
      "application/vnd.jupyter.widget-view+json": {
       "model_id": "",
       "version_major": 2,
       "version_minor": 0
      },
      "text/plain": [
       "Estimating fidelity with ρ^2 from group of 5000 shadows:   0%|          | 0/5000 [00:00<?, ?it/s]"
      ]
     },
     "metadata": {},
     "output_type": "display_data"
    },
    {
     "data": {
      "application/vnd.jupyter.widget-view+json": {
       "model_id": "",
       "version_major": 2,
       "version_minor": 0
      },
      "text/plain": [
       "Estimating fidelity with ρ^2 from group of 5000 shadows:   0%|          | 0/5000 [00:00<?, ?it/s]"
      ]
     },
     "metadata": {},
     "output_type": "display_data"
    },
    {
     "data": {
      "application/vnd.jupyter.widget-view+json": {
       "model_id": "",
       "version_major": 2,
       "version_minor": 0
      },
      "text/plain": [
       "Estimating fidelity with ρ^2 from group of 5000 shadows:   0%|          | 0/5000 [00:00<?, ?it/s]"
      ]
     },
     "metadata": {},
     "output_type": "display_data"
    },
    {
     "data": {
      "application/vnd.jupyter.widget-view+json": {
       "model_id": "",
       "version_major": 2,
       "version_minor": 0
      },
      "text/plain": [
       "Estimating fidelity with ρ^2 from group of 5000 shadows:   0%|          | 0/5000 [00:00<?, ?it/s]"
      ]
     },
     "metadata": {},
     "output_type": "display_data"
    },
    {
     "data": {
      "application/vnd.jupyter.widget-view+json": {
       "model_id": "",
       "version_major": 2,
       "version_minor": 0
      },
      "text/plain": [
       "Estimating fidelity with ρ^2 from group of 5000 shadows:   0%|          | 0/5000 [00:00<?, ?it/s]"
      ]
     },
     "metadata": {},
     "output_type": "display_data"
    },
    {
     "data": {
      "application/vnd.jupyter.widget-view+json": {
       "model_id": "",
       "version_major": 2,
       "version_minor": 0
      },
      "text/plain": [
       "Estimating fidelity with ρ^2 from group of 5000 shadows:   0%|          | 0/5000 [00:00<?, ?it/s]"
      ]
     },
     "metadata": {},
     "output_type": "display_data"
    },
    {
     "data": {
      "application/vnd.jupyter.widget-view+json": {
       "model_id": "",
       "version_major": 2,
       "version_minor": 0
      },
      "text/plain": [
       "Estimating fidelity with ρ^2 from group of 5000 shadows:   0%|          | 0/5000 [00:00<?, ?it/s]"
      ]
     },
     "metadata": {},
     "output_type": "display_data"
    },
    {
     "data": {
      "application/vnd.jupyter.widget-view+json": {
       "model_id": "",
       "version_major": 2,
       "version_minor": 0
      },
      "text/plain": [
       "Estimating fidelity with ρ^2 from group of 5000 shadows:   0%|          | 0/5000 [00:00<?, ?it/s]"
      ]
     },
     "metadata": {},
     "output_type": "display_data"
    },
    {
     "data": {
      "application/vnd.jupyter.widget-view+json": {
       "model_id": "",
       "version_major": 2,
       "version_minor": 0
      },
      "text/plain": [
       "Estimating fidelity with ρ^2 from group of 5000 shadows:   0%|          | 0/5000 [00:00<?, ?it/s]"
      ]
     },
     "metadata": {},
     "output_type": "display_data"
    },
    {
     "data": {
      "application/vnd.jupyter.widget-view+json": {
       "model_id": "",
       "version_major": 2,
       "version_minor": 0
      },
      "text/plain": [
       "Estimating fidelity with ρ^2 from group of 5000 shadows:   0%|          | 0/5000 [00:00<?, ?it/s]"
      ]
     },
     "metadata": {},
     "output_type": "display_data"
    },
    {
     "data": {
      "application/vnd.jupyter.widget-view+json": {
       "model_id": "",
       "version_major": 2,
       "version_minor": 0
      },
      "text/plain": [
       "Estimating fidelity with ρ^2 from group of 5000 shadows:   0%|          | 0/5000 [00:00<?, ?it/s]"
      ]
     },
     "metadata": {},
     "output_type": "display_data"
    },
    {
     "data": {
      "application/vnd.jupyter.widget-view+json": {
       "model_id": "",
       "version_major": 2,
       "version_minor": 0
      },
      "text/plain": [
       "Estimating fidelity with ρ^2 from group of 5000 shadows:   0%|          | 0/5000 [00:00<?, ?it/s]"
      ]
     },
     "metadata": {},
     "output_type": "display_data"
    },
    {
     "data": {
      "application/vnd.jupyter.widget-view+json": {
       "model_id": "",
       "version_major": 2,
       "version_minor": 0
      },
      "text/plain": [
       "Estimating fidelity with ρ^2 from group of 5000 shadows:   0%|          | 0/5000 [00:00<?, ?it/s]"
      ]
     },
     "metadata": {},
     "output_type": "display_data"
    },
    {
     "data": {
      "application/vnd.jupyter.widget-view+json": {
       "model_id": "",
       "version_major": 2,
       "version_minor": 0
      },
      "text/plain": [
       "Estimating fidelity with ρ^2 from group of 5000 shadows:   0%|          | 0/5000 [00:00<?, ?it/s]"
      ]
     },
     "metadata": {},
     "output_type": "display_data"
    },
    {
     "data": {
      "application/vnd.jupyter.widget-view+json": {
       "model_id": "",
       "version_major": 2,
       "version_minor": 0
      },
      "text/plain": [
       "Estimating fidelity with ρ^2 from group of 5000 shadows:   0%|          | 0/5000 [00:00<?, ?it/s]"
      ]
     },
     "metadata": {},
     "output_type": "display_data"
    },
    {
     "data": {
      "application/vnd.jupyter.widget-view+json": {
       "model_id": "",
       "version_major": 2,
       "version_minor": 0
      },
      "text/plain": [
       "Estimating fidelity with ρ^2 from group of 5000 shadows:   0%|          | 0/5000 [00:00<?, ?it/s]"
      ]
     },
     "metadata": {},
     "output_type": "display_data"
    },
    {
     "data": {
      "application/vnd.jupyter.widget-view+json": {
       "model_id": "",
       "version_major": 2,
       "version_minor": 0
      },
      "text/plain": [
       "Estimating fidelity with ρ^2 from group of 5000 shadows:   0%|          | 0/5000 [00:00<?, ?it/s]"
      ]
     },
     "metadata": {},
     "output_type": "display_data"
    },
    {
     "data": {
      "application/vnd.jupyter.widget-view+json": {
       "model_id": "",
       "version_major": 2,
       "version_minor": 0
      },
      "text/plain": [
       "Estimating fidelity with ρ^2 from group of 5000 shadows:   0%|          | 0/5000 [00:00<?, ?it/s]"
      ]
     },
     "metadata": {},
     "output_type": "display_data"
    },
    {
     "data": {
      "application/vnd.jupyter.widget-view+json": {
       "model_id": "fa15c2bb2eb8430b8e752fe82e60b9fc",
       "version_major": 2,
       "version_minor": 0
      },
      "text/plain": [
       "Post-processing with all 100000 shadows:   0%|          | 0/20 [00:00<?, ?it/s]"
      ]
     },
     "metadata": {},
     "output_type": "display_data"
    },
    {
     "data": {
      "application/vnd.jupyter.widget-view+json": {
       "model_id": "",
       "version_major": 2,
       "version_minor": 0
      },
      "text/plain": [
       "Estimating fidelity with ρ^2 from group of 5000 shadows:   0%|          | 0/5000 [00:00<?, ?it/s]"
      ]
     },
     "metadata": {},
     "output_type": "display_data"
    },
    {
     "data": {
      "application/vnd.jupyter.widget-view+json": {
       "model_id": "",
       "version_major": 2,
       "version_minor": 0
      },
      "text/plain": [
       "Estimating fidelity with ρ^2 from group of 5000 shadows:   0%|          | 0/5000 [00:00<?, ?it/s]"
      ]
     },
     "metadata": {},
     "output_type": "display_data"
    },
    {
     "data": {
      "application/vnd.jupyter.widget-view+json": {
       "model_id": "",
       "version_major": 2,
       "version_minor": 0
      },
      "text/plain": [
       "Estimating fidelity with ρ^2 from group of 5000 shadows:   0%|          | 0/5000 [00:00<?, ?it/s]"
      ]
     },
     "metadata": {},
     "output_type": "display_data"
    },
    {
     "data": {
      "application/vnd.jupyter.widget-view+json": {
       "model_id": "",
       "version_major": 2,
       "version_minor": 0
      },
      "text/plain": [
       "Estimating fidelity with ρ^2 from group of 5000 shadows:   0%|          | 0/5000 [00:00<?, ?it/s]"
      ]
     },
     "metadata": {},
     "output_type": "display_data"
    },
    {
     "data": {
      "application/vnd.jupyter.widget-view+json": {
       "model_id": "",
       "version_major": 2,
       "version_minor": 0
      },
      "text/plain": [
       "Estimating fidelity with ρ^2 from group of 5000 shadows:   0%|          | 0/5000 [00:00<?, ?it/s]"
      ]
     },
     "metadata": {},
     "output_type": "display_data"
    },
    {
     "data": {
      "application/vnd.jupyter.widget-view+json": {
       "model_id": "",
       "version_major": 2,
       "version_minor": 0
      },
      "text/plain": [
       "Estimating fidelity with ρ^2 from group of 5000 shadows:   0%|          | 0/5000 [00:00<?, ?it/s]"
      ]
     },
     "metadata": {},
     "output_type": "display_data"
    },
    {
     "data": {
      "application/vnd.jupyter.widget-view+json": {
       "model_id": "",
       "version_major": 2,
       "version_minor": 0
      },
      "text/plain": [
       "Estimating fidelity with ρ^2 from group of 5000 shadows:   0%|          | 0/5000 [00:00<?, ?it/s]"
      ]
     },
     "metadata": {},
     "output_type": "display_data"
    },
    {
     "data": {
      "application/vnd.jupyter.widget-view+json": {
       "model_id": "",
       "version_major": 2,
       "version_minor": 0
      },
      "text/plain": [
       "Estimating fidelity with ρ^2 from group of 5000 shadows:   0%|          | 0/5000 [00:00<?, ?it/s]"
      ]
     },
     "metadata": {},
     "output_type": "display_data"
    },
    {
     "data": {
      "application/vnd.jupyter.widget-view+json": {
       "model_id": "",
       "version_major": 2,
       "version_minor": 0
      },
      "text/plain": [
       "Estimating fidelity with ρ^2 from group of 5000 shadows:   0%|          | 0/5000 [00:00<?, ?it/s]"
      ]
     },
     "metadata": {},
     "output_type": "display_data"
    },
    {
     "data": {
      "application/vnd.jupyter.widget-view+json": {
       "model_id": "",
       "version_major": 2,
       "version_minor": 0
      },
      "text/plain": [
       "Estimating fidelity with ρ^2 from group of 5000 shadows:   0%|          | 0/5000 [00:00<?, ?it/s]"
      ]
     },
     "metadata": {},
     "output_type": "display_data"
    },
    {
     "data": {
      "application/vnd.jupyter.widget-view+json": {
       "model_id": "",
       "version_major": 2,
       "version_minor": 0
      },
      "text/plain": [
       "Estimating fidelity with ρ^2 from group of 5000 shadows:   0%|          | 0/5000 [00:00<?, ?it/s]"
      ]
     },
     "metadata": {},
     "output_type": "display_data"
    },
    {
     "data": {
      "application/vnd.jupyter.widget-view+json": {
       "model_id": "",
       "version_major": 2,
       "version_minor": 0
      },
      "text/plain": [
       "Estimating fidelity with ρ^2 from group of 5000 shadows:   0%|          | 0/5000 [00:00<?, ?it/s]"
      ]
     },
     "metadata": {},
     "output_type": "display_data"
    },
    {
     "data": {
      "application/vnd.jupyter.widget-view+json": {
       "model_id": "",
       "version_major": 2,
       "version_minor": 0
      },
      "text/plain": [
       "Estimating fidelity with ρ^2 from group of 5000 shadows:   0%|          | 0/5000 [00:00<?, ?it/s]"
      ]
     },
     "metadata": {},
     "output_type": "display_data"
    },
    {
     "data": {
      "application/vnd.jupyter.widget-view+json": {
       "model_id": "",
       "version_major": 2,
       "version_minor": 0
      },
      "text/plain": [
       "Estimating fidelity with ρ^2 from group of 5000 shadows:   0%|          | 0/5000 [00:00<?, ?it/s]"
      ]
     },
     "metadata": {},
     "output_type": "display_data"
    },
    {
     "data": {
      "application/vnd.jupyter.widget-view+json": {
       "model_id": "",
       "version_major": 2,
       "version_minor": 0
      },
      "text/plain": [
       "Estimating fidelity with ρ^2 from group of 5000 shadows:   0%|          | 0/5000 [00:00<?, ?it/s]"
      ]
     },
     "metadata": {},
     "output_type": "display_data"
    },
    {
     "data": {
      "application/vnd.jupyter.widget-view+json": {
       "model_id": "",
       "version_major": 2,
       "version_minor": 0
      },
      "text/plain": [
       "Estimating fidelity with ρ^2 from group of 5000 shadows:   0%|          | 0/5000 [00:00<?, ?it/s]"
      ]
     },
     "metadata": {},
     "output_type": "display_data"
    },
    {
     "data": {
      "application/vnd.jupyter.widget-view+json": {
       "model_id": "",
       "version_major": 2,
       "version_minor": 0
      },
      "text/plain": [
       "Estimating fidelity with ρ^2 from group of 5000 shadows:   0%|          | 0/5000 [00:00<?, ?it/s]"
      ]
     },
     "metadata": {},
     "output_type": "display_data"
    },
    {
     "data": {
      "application/vnd.jupyter.widget-view+json": {
       "model_id": "",
       "version_major": 2,
       "version_minor": 0
      },
      "text/plain": [
       "Estimating fidelity with ρ^2 from group of 5000 shadows:   0%|          | 0/5000 [00:00<?, ?it/s]"
      ]
     },
     "metadata": {},
     "output_type": "display_data"
    },
    {
     "data": {
      "application/vnd.jupyter.widget-view+json": {
       "model_id": "",
       "version_major": 2,
       "version_minor": 0
      },
      "text/plain": [
       "Estimating fidelity with ρ^2 from group of 5000 shadows:   0%|          | 0/5000 [00:00<?, ?it/s]"
      ]
     },
     "metadata": {},
     "output_type": "display_data"
    },
    {
     "data": {
      "application/vnd.jupyter.widget-view+json": {
       "model_id": "",
       "version_major": 2,
       "version_minor": 0
      },
      "text/plain": [
       "Estimating fidelity with ρ^2 from group of 5000 shadows:   0%|          | 0/5000 [00:00<?, ?it/s]"
      ]
     },
     "metadata": {},
     "output_type": "display_data"
    },
    {
     "data": {
      "application/vnd.jupyter.widget-view+json": {
       "model_id": "d8b22c1ff2174a9ebc4599e1484402c5",
       "version_major": 2,
       "version_minor": 0
      },
      "text/plain": [
       "Post-processing with all 100000 shadows:   0%|          | 0/20 [00:00<?, ?it/s]"
      ]
     },
     "metadata": {},
     "output_type": "display_data"
    },
    {
     "data": {
      "application/vnd.jupyter.widget-view+json": {
       "model_id": "",
       "version_major": 2,
       "version_minor": 0
      },
      "text/plain": [
       "Estimating fidelity with ρ^2 from group of 5000 shadows:   0%|          | 0/5000 [00:00<?, ?it/s]"
      ]
     },
     "metadata": {},
     "output_type": "display_data"
    },
    {
     "data": {
      "application/vnd.jupyter.widget-view+json": {
       "model_id": "",
       "version_major": 2,
       "version_minor": 0
      },
      "text/plain": [
       "Estimating fidelity with ρ^2 from group of 5000 shadows:   0%|          | 0/5000 [00:00<?, ?it/s]"
      ]
     },
     "metadata": {},
     "output_type": "display_data"
    },
    {
     "data": {
      "application/vnd.jupyter.widget-view+json": {
       "model_id": "",
       "version_major": 2,
       "version_minor": 0
      },
      "text/plain": [
       "Estimating fidelity with ρ^2 from group of 5000 shadows:   0%|          | 0/5000 [00:00<?, ?it/s]"
      ]
     },
     "metadata": {},
     "output_type": "display_data"
    },
    {
     "data": {
      "application/vnd.jupyter.widget-view+json": {
       "model_id": "",
       "version_major": 2,
       "version_minor": 0
      },
      "text/plain": [
       "Estimating fidelity with ρ^2 from group of 5000 shadows:   0%|          | 0/5000 [00:00<?, ?it/s]"
      ]
     },
     "metadata": {},
     "output_type": "display_data"
    },
    {
     "data": {
      "application/vnd.jupyter.widget-view+json": {
       "model_id": "",
       "version_major": 2,
       "version_minor": 0
      },
      "text/plain": [
       "Estimating fidelity with ρ^2 from group of 5000 shadows:   0%|          | 0/5000 [00:00<?, ?it/s]"
      ]
     },
     "metadata": {},
     "output_type": "display_data"
    },
    {
     "data": {
      "application/vnd.jupyter.widget-view+json": {
       "model_id": "",
       "version_major": 2,
       "version_minor": 0
      },
      "text/plain": [
       "Estimating fidelity with ρ^2 from group of 5000 shadows:   0%|          | 0/5000 [00:00<?, ?it/s]"
      ]
     },
     "metadata": {},
     "output_type": "display_data"
    },
    {
     "data": {
      "application/vnd.jupyter.widget-view+json": {
       "model_id": "",
       "version_major": 2,
       "version_minor": 0
      },
      "text/plain": [
       "Estimating fidelity with ρ^2 from group of 5000 shadows:   0%|          | 0/5000 [00:00<?, ?it/s]"
      ]
     },
     "metadata": {},
     "output_type": "display_data"
    },
    {
     "data": {
      "application/vnd.jupyter.widget-view+json": {
       "model_id": "",
       "version_major": 2,
       "version_minor": 0
      },
      "text/plain": [
       "Estimating fidelity with ρ^2 from group of 5000 shadows:   0%|          | 0/5000 [00:00<?, ?it/s]"
      ]
     },
     "metadata": {},
     "output_type": "display_data"
    },
    {
     "data": {
      "application/vnd.jupyter.widget-view+json": {
       "model_id": "",
       "version_major": 2,
       "version_minor": 0
      },
      "text/plain": [
       "Estimating fidelity with ρ^2 from group of 5000 shadows:   0%|          | 0/5000 [00:00<?, ?it/s]"
      ]
     },
     "metadata": {},
     "output_type": "display_data"
    },
    {
     "data": {
      "application/vnd.jupyter.widget-view+json": {
       "model_id": "",
       "version_major": 2,
       "version_minor": 0
      },
      "text/plain": [
       "Estimating fidelity with ρ^2 from group of 5000 shadows:   0%|          | 0/5000 [00:00<?, ?it/s]"
      ]
     },
     "metadata": {},
     "output_type": "display_data"
    },
    {
     "data": {
      "application/vnd.jupyter.widget-view+json": {
       "model_id": "",
       "version_major": 2,
       "version_minor": 0
      },
      "text/plain": [
       "Estimating fidelity with ρ^2 from group of 5000 shadows:   0%|          | 0/5000 [00:00<?, ?it/s]"
      ]
     },
     "metadata": {},
     "output_type": "display_data"
    },
    {
     "data": {
      "application/vnd.jupyter.widget-view+json": {
       "model_id": "",
       "version_major": 2,
       "version_minor": 0
      },
      "text/plain": [
       "Estimating fidelity with ρ^2 from group of 5000 shadows:   0%|          | 0/5000 [00:00<?, ?it/s]"
      ]
     },
     "metadata": {},
     "output_type": "display_data"
    },
    {
     "data": {
      "application/vnd.jupyter.widget-view+json": {
       "model_id": "",
       "version_major": 2,
       "version_minor": 0
      },
      "text/plain": [
       "Estimating fidelity with ρ^2 from group of 5000 shadows:   0%|          | 0/5000 [00:00<?, ?it/s]"
      ]
     },
     "metadata": {},
     "output_type": "display_data"
    },
    {
     "data": {
      "application/vnd.jupyter.widget-view+json": {
       "model_id": "",
       "version_major": 2,
       "version_minor": 0
      },
      "text/plain": [
       "Estimating fidelity with ρ^2 from group of 5000 shadows:   0%|          | 0/5000 [00:00<?, ?it/s]"
      ]
     },
     "metadata": {},
     "output_type": "display_data"
    },
    {
     "data": {
      "application/vnd.jupyter.widget-view+json": {
       "model_id": "",
       "version_major": 2,
       "version_minor": 0
      },
      "text/plain": [
       "Estimating fidelity with ρ^2 from group of 5000 shadows:   0%|          | 0/5000 [00:00<?, ?it/s]"
      ]
     },
     "metadata": {},
     "output_type": "display_data"
    },
    {
     "data": {
      "application/vnd.jupyter.widget-view+json": {
       "model_id": "",
       "version_major": 2,
       "version_minor": 0
      },
      "text/plain": [
       "Estimating fidelity with ρ^2 from group of 5000 shadows:   0%|          | 0/5000 [00:00<?, ?it/s]"
      ]
     },
     "metadata": {},
     "output_type": "display_data"
    },
    {
     "data": {
      "application/vnd.jupyter.widget-view+json": {
       "model_id": "",
       "version_major": 2,
       "version_minor": 0
      },
      "text/plain": [
       "Estimating fidelity with ρ^2 from group of 5000 shadows:   0%|          | 0/5000 [00:00<?, ?it/s]"
      ]
     },
     "metadata": {},
     "output_type": "display_data"
    },
    {
     "data": {
      "application/vnd.jupyter.widget-view+json": {
       "model_id": "",
       "version_major": 2,
       "version_minor": 0
      },
      "text/plain": [
       "Estimating fidelity with ρ^2 from group of 5000 shadows:   0%|          | 0/5000 [00:00<?, ?it/s]"
      ]
     },
     "metadata": {},
     "output_type": "display_data"
    },
    {
     "data": {
      "application/vnd.jupyter.widget-view+json": {
       "model_id": "",
       "version_major": 2,
       "version_minor": 0
      },
      "text/plain": [
       "Estimating fidelity with ρ^2 from group of 5000 shadows:   0%|          | 0/5000 [00:00<?, ?it/s]"
      ]
     },
     "metadata": {},
     "output_type": "display_data"
    },
    {
     "data": {
      "application/vnd.jupyter.widget-view+json": {
       "model_id": "",
       "version_major": 2,
       "version_minor": 0
      },
      "text/plain": [
       "Estimating fidelity with ρ^2 from group of 5000 shadows:   0%|          | 0/5000 [00:00<?, ?it/s]"
      ]
     },
     "metadata": {},
     "output_type": "display_data"
    },
    {
     "data": {
      "application/vnd.jupyter.widget-view+json": {
       "model_id": "0da2bf6c31af4d7a81a49da969ecab4b",
       "version_major": 2,
       "version_minor": 0
      },
      "text/plain": [
       "Post-processing with all 100000 shadows:   0%|          | 0/20 [00:00<?, ?it/s]"
      ]
     },
     "metadata": {},
     "output_type": "display_data"
    },
    {
     "data": {
      "application/vnd.jupyter.widget-view+json": {
       "model_id": "",
       "version_major": 2,
       "version_minor": 0
      },
      "text/plain": [
       "Estimating fidelity with ρ^2 from group of 5000 shadows:   0%|          | 0/5000 [00:00<?, ?it/s]"
      ]
     },
     "metadata": {},
     "output_type": "display_data"
    },
    {
     "data": {
      "application/vnd.jupyter.widget-view+json": {
       "model_id": "",
       "version_major": 2,
       "version_minor": 0
      },
      "text/plain": [
       "Estimating fidelity with ρ^2 from group of 5000 shadows:   0%|          | 0/5000 [00:00<?, ?it/s]"
      ]
     },
     "metadata": {},
     "output_type": "display_data"
    },
    {
     "data": {
      "application/vnd.jupyter.widget-view+json": {
       "model_id": "",
       "version_major": 2,
       "version_minor": 0
      },
      "text/plain": [
       "Estimating fidelity with ρ^2 from group of 5000 shadows:   0%|          | 0/5000 [00:00<?, ?it/s]"
      ]
     },
     "metadata": {},
     "output_type": "display_data"
    },
    {
     "data": {
      "application/vnd.jupyter.widget-view+json": {
       "model_id": "",
       "version_major": 2,
       "version_minor": 0
      },
      "text/plain": [
       "Estimating fidelity with ρ^2 from group of 5000 shadows:   0%|          | 0/5000 [00:00<?, ?it/s]"
      ]
     },
     "metadata": {},
     "output_type": "display_data"
    },
    {
     "data": {
      "application/vnd.jupyter.widget-view+json": {
       "model_id": "",
       "version_major": 2,
       "version_minor": 0
      },
      "text/plain": [
       "Estimating fidelity with ρ^2 from group of 5000 shadows:   0%|          | 0/5000 [00:00<?, ?it/s]"
      ]
     },
     "metadata": {},
     "output_type": "display_data"
    },
    {
     "data": {
      "application/vnd.jupyter.widget-view+json": {
       "model_id": "",
       "version_major": 2,
       "version_minor": 0
      },
      "text/plain": [
       "Estimating fidelity with ρ^2 from group of 5000 shadows:   0%|          | 0/5000 [00:00<?, ?it/s]"
      ]
     },
     "metadata": {},
     "output_type": "display_data"
    },
    {
     "data": {
      "application/vnd.jupyter.widget-view+json": {
       "model_id": "",
       "version_major": 2,
       "version_minor": 0
      },
      "text/plain": [
       "Estimating fidelity with ρ^2 from group of 5000 shadows:   0%|          | 0/5000 [00:00<?, ?it/s]"
      ]
     },
     "metadata": {},
     "output_type": "display_data"
    },
    {
     "data": {
      "application/vnd.jupyter.widget-view+json": {
       "model_id": "",
       "version_major": 2,
       "version_minor": 0
      },
      "text/plain": [
       "Estimating fidelity with ρ^2 from group of 5000 shadows:   0%|          | 0/5000 [00:00<?, ?it/s]"
      ]
     },
     "metadata": {},
     "output_type": "display_data"
    },
    {
     "data": {
      "application/vnd.jupyter.widget-view+json": {
       "model_id": "",
       "version_major": 2,
       "version_minor": 0
      },
      "text/plain": [
       "Estimating fidelity with ρ^2 from group of 5000 shadows:   0%|          | 0/5000 [00:00<?, ?it/s]"
      ]
     },
     "metadata": {},
     "output_type": "display_data"
    },
    {
     "data": {
      "application/vnd.jupyter.widget-view+json": {
       "model_id": "",
       "version_major": 2,
       "version_minor": 0
      },
      "text/plain": [
       "Estimating fidelity with ρ^2 from group of 5000 shadows:   0%|          | 0/5000 [00:00<?, ?it/s]"
      ]
     },
     "metadata": {},
     "output_type": "display_data"
    },
    {
     "data": {
      "application/vnd.jupyter.widget-view+json": {
       "model_id": "",
       "version_major": 2,
       "version_minor": 0
      },
      "text/plain": [
       "Estimating fidelity with ρ^2 from group of 5000 shadows:   0%|          | 0/5000 [00:00<?, ?it/s]"
      ]
     },
     "metadata": {},
     "output_type": "display_data"
    },
    {
     "data": {
      "application/vnd.jupyter.widget-view+json": {
       "model_id": "",
       "version_major": 2,
       "version_minor": 0
      },
      "text/plain": [
       "Estimating fidelity with ρ^2 from group of 5000 shadows:   0%|          | 0/5000 [00:00<?, ?it/s]"
      ]
     },
     "metadata": {},
     "output_type": "display_data"
    },
    {
     "data": {
      "application/vnd.jupyter.widget-view+json": {
       "model_id": "",
       "version_major": 2,
       "version_minor": 0
      },
      "text/plain": [
       "Estimating fidelity with ρ^2 from group of 5000 shadows:   0%|          | 0/5000 [00:00<?, ?it/s]"
      ]
     },
     "metadata": {},
     "output_type": "display_data"
    },
    {
     "data": {
      "application/vnd.jupyter.widget-view+json": {
       "model_id": "",
       "version_major": 2,
       "version_minor": 0
      },
      "text/plain": [
       "Estimating fidelity with ρ^2 from group of 5000 shadows:   0%|          | 0/5000 [00:00<?, ?it/s]"
      ]
     },
     "metadata": {},
     "output_type": "display_data"
    },
    {
     "data": {
      "application/vnd.jupyter.widget-view+json": {
       "model_id": "",
       "version_major": 2,
       "version_minor": 0
      },
      "text/plain": [
       "Estimating fidelity with ρ^2 from group of 5000 shadows:   0%|          | 0/5000 [00:00<?, ?it/s]"
      ]
     },
     "metadata": {},
     "output_type": "display_data"
    },
    {
     "data": {
      "application/vnd.jupyter.widget-view+json": {
       "model_id": "",
       "version_major": 2,
       "version_minor": 0
      },
      "text/plain": [
       "Estimating fidelity with ρ^2 from group of 5000 shadows:   0%|          | 0/5000 [00:00<?, ?it/s]"
      ]
     },
     "metadata": {},
     "output_type": "display_data"
    },
    {
     "data": {
      "application/vnd.jupyter.widget-view+json": {
       "model_id": "",
       "version_major": 2,
       "version_minor": 0
      },
      "text/plain": [
       "Estimating fidelity with ρ^2 from group of 5000 shadows:   0%|          | 0/5000 [00:00<?, ?it/s]"
      ]
     },
     "metadata": {},
     "output_type": "display_data"
    },
    {
     "data": {
      "application/vnd.jupyter.widget-view+json": {
       "model_id": "",
       "version_major": 2,
       "version_minor": 0
      },
      "text/plain": [
       "Estimating fidelity with ρ^2 from group of 5000 shadows:   0%|          | 0/5000 [00:00<?, ?it/s]"
      ]
     },
     "metadata": {},
     "output_type": "display_data"
    },
    {
     "data": {
      "application/vnd.jupyter.widget-view+json": {
       "model_id": "",
       "version_major": 2,
       "version_minor": 0
      },
      "text/plain": [
       "Estimating fidelity with ρ^2 from group of 5000 shadows:   0%|          | 0/5000 [00:00<?, ?it/s]"
      ]
     },
     "metadata": {},
     "output_type": "display_data"
    },
    {
     "data": {
      "application/vnd.jupyter.widget-view+json": {
       "model_id": "",
       "version_major": 2,
       "version_minor": 0
      },
      "text/plain": [
       "Estimating fidelity with ρ^2 from group of 5000 shadows:   0%|          | 0/5000 [00:00<?, ?it/s]"
      ]
     },
     "metadata": {},
     "output_type": "display_data"
    },
    {
     "data": {
      "application/vnd.jupyter.widget-view+json": {
       "model_id": "5c138c37cd6e4823827c4a61451391bd",
       "version_major": 2,
       "version_minor": 0
      },
      "text/plain": [
       "Post-processing with all 100000 shadows:   0%|          | 0/20 [00:00<?, ?it/s]"
      ]
     },
     "metadata": {},
     "output_type": "display_data"
    },
    {
     "data": {
      "application/vnd.jupyter.widget-view+json": {
       "model_id": "",
       "version_major": 2,
       "version_minor": 0
      },
      "text/plain": [
       "Estimating fidelity with ρ^2 from group of 5000 shadows:   0%|          | 0/5000 [00:00<?, ?it/s]"
      ]
     },
     "metadata": {},
     "output_type": "display_data"
    },
    {
     "data": {
      "application/vnd.jupyter.widget-view+json": {
       "model_id": "",
       "version_major": 2,
       "version_minor": 0
      },
      "text/plain": [
       "Estimating fidelity with ρ^2 from group of 5000 shadows:   0%|          | 0/5000 [00:00<?, ?it/s]"
      ]
     },
     "metadata": {},
     "output_type": "display_data"
    },
    {
     "data": {
      "application/vnd.jupyter.widget-view+json": {
       "model_id": "",
       "version_major": 2,
       "version_minor": 0
      },
      "text/plain": [
       "Estimating fidelity with ρ^2 from group of 5000 shadows:   0%|          | 0/5000 [00:00<?, ?it/s]"
      ]
     },
     "metadata": {},
     "output_type": "display_data"
    },
    {
     "data": {
      "application/vnd.jupyter.widget-view+json": {
       "model_id": "",
       "version_major": 2,
       "version_minor": 0
      },
      "text/plain": [
       "Estimating fidelity with ρ^2 from group of 5000 shadows:   0%|          | 0/5000 [00:00<?, ?it/s]"
      ]
     },
     "metadata": {},
     "output_type": "display_data"
    },
    {
     "data": {
      "application/vnd.jupyter.widget-view+json": {
       "model_id": "",
       "version_major": 2,
       "version_minor": 0
      },
      "text/plain": [
       "Estimating fidelity with ρ^2 from group of 5000 shadows:   0%|          | 0/5000 [00:00<?, ?it/s]"
      ]
     },
     "metadata": {},
     "output_type": "display_data"
    },
    {
     "data": {
      "application/vnd.jupyter.widget-view+json": {
       "model_id": "",
       "version_major": 2,
       "version_minor": 0
      },
      "text/plain": [
       "Estimating fidelity with ρ^2 from group of 5000 shadows:   0%|          | 0/5000 [00:00<?, ?it/s]"
      ]
     },
     "metadata": {},
     "output_type": "display_data"
    },
    {
     "data": {
      "application/vnd.jupyter.widget-view+json": {
       "model_id": "",
       "version_major": 2,
       "version_minor": 0
      },
      "text/plain": [
       "Estimating fidelity with ρ^2 from group of 5000 shadows:   0%|          | 0/5000 [00:00<?, ?it/s]"
      ]
     },
     "metadata": {},
     "output_type": "display_data"
    },
    {
     "data": {
      "application/vnd.jupyter.widget-view+json": {
       "model_id": "",
       "version_major": 2,
       "version_minor": 0
      },
      "text/plain": [
       "Estimating fidelity with ρ^2 from group of 5000 shadows:   0%|          | 0/5000 [00:00<?, ?it/s]"
      ]
     },
     "metadata": {},
     "output_type": "display_data"
    },
    {
     "data": {
      "application/vnd.jupyter.widget-view+json": {
       "model_id": "",
       "version_major": 2,
       "version_minor": 0
      },
      "text/plain": [
       "Estimating fidelity with ρ^2 from group of 5000 shadows:   0%|          | 0/5000 [00:00<?, ?it/s]"
      ]
     },
     "metadata": {},
     "output_type": "display_data"
    },
    {
     "data": {
      "application/vnd.jupyter.widget-view+json": {
       "model_id": "",
       "version_major": 2,
       "version_minor": 0
      },
      "text/plain": [
       "Estimating fidelity with ρ^2 from group of 5000 shadows:   0%|          | 0/5000 [00:00<?, ?it/s]"
      ]
     },
     "metadata": {},
     "output_type": "display_data"
    },
    {
     "data": {
      "application/vnd.jupyter.widget-view+json": {
       "model_id": "",
       "version_major": 2,
       "version_minor": 0
      },
      "text/plain": [
       "Estimating fidelity with ρ^2 from group of 5000 shadows:   0%|          | 0/5000 [00:00<?, ?it/s]"
      ]
     },
     "metadata": {},
     "output_type": "display_data"
    },
    {
     "data": {
      "application/vnd.jupyter.widget-view+json": {
       "model_id": "",
       "version_major": 2,
       "version_minor": 0
      },
      "text/plain": [
       "Estimating fidelity with ρ^2 from group of 5000 shadows:   0%|          | 0/5000 [00:00<?, ?it/s]"
      ]
     },
     "metadata": {},
     "output_type": "display_data"
    },
    {
     "data": {
      "application/vnd.jupyter.widget-view+json": {
       "model_id": "",
       "version_major": 2,
       "version_minor": 0
      },
      "text/plain": [
       "Estimating fidelity with ρ^2 from group of 5000 shadows:   0%|          | 0/5000 [00:00<?, ?it/s]"
      ]
     },
     "metadata": {},
     "output_type": "display_data"
    },
    {
     "data": {
      "application/vnd.jupyter.widget-view+json": {
       "model_id": "",
       "version_major": 2,
       "version_minor": 0
      },
      "text/plain": [
       "Estimating fidelity with ρ^2 from group of 5000 shadows:   0%|          | 0/5000 [00:00<?, ?it/s]"
      ]
     },
     "metadata": {},
     "output_type": "display_data"
    },
    {
     "data": {
      "application/vnd.jupyter.widget-view+json": {
       "model_id": "",
       "version_major": 2,
       "version_minor": 0
      },
      "text/plain": [
       "Estimating fidelity with ρ^2 from group of 5000 shadows:   0%|          | 0/5000 [00:00<?, ?it/s]"
      ]
     },
     "metadata": {},
     "output_type": "display_data"
    },
    {
     "data": {
      "application/vnd.jupyter.widget-view+json": {
       "model_id": "",
       "version_major": 2,
       "version_minor": 0
      },
      "text/plain": [
       "Estimating fidelity with ρ^2 from group of 5000 shadows:   0%|          | 0/5000 [00:00<?, ?it/s]"
      ]
     },
     "metadata": {},
     "output_type": "display_data"
    },
    {
     "data": {
      "application/vnd.jupyter.widget-view+json": {
       "model_id": "",
       "version_major": 2,
       "version_minor": 0
      },
      "text/plain": [
       "Estimating fidelity with ρ^2 from group of 5000 shadows:   0%|          | 0/5000 [00:00<?, ?it/s]"
      ]
     },
     "metadata": {},
     "output_type": "display_data"
    },
    {
     "data": {
      "application/vnd.jupyter.widget-view+json": {
       "model_id": "",
       "version_major": 2,
       "version_minor": 0
      },
      "text/plain": [
       "Estimating fidelity with ρ^2 from group of 5000 shadows:   0%|          | 0/5000 [00:00<?, ?it/s]"
      ]
     },
     "metadata": {},
     "output_type": "display_data"
    },
    {
     "data": {
      "application/vnd.jupyter.widget-view+json": {
       "model_id": "",
       "version_major": 2,
       "version_minor": 0
      },
      "text/plain": [
       "Estimating fidelity with ρ^2 from group of 5000 shadows:   0%|          | 0/5000 [00:00<?, ?it/s]"
      ]
     },
     "metadata": {},
     "output_type": "display_data"
    },
    {
     "data": {
      "application/vnd.jupyter.widget-view+json": {
       "model_id": "",
       "version_major": 2,
       "version_minor": 0
      },
      "text/plain": [
       "Estimating fidelity with ρ^2 from group of 5000 shadows:   0%|          | 0/5000 [00:00<?, ?it/s]"
      ]
     },
     "metadata": {},
     "output_type": "display_data"
    }
   ],
   "source": [
    "if use_rho_squared:\n",
    "    lst_vd_fidelities = []\n",
    "    # Loop over all noise levels.\n",
    "    for k in tnrange(len(all_sigmas), desc=\"Noise levels\"):\n",
    "        sigmas = all_sigmas[k]\n",
    "\n",
    "        numerators = []\n",
    "        denominators = []\n",
    "        for i in tnrange(num_groups_rho_squared, desc=f\"Post-processing with all {len(shadows)} shadows\"):\n",
    "            # Get mean estimate for this group.\n",
    "            group = sigmas[i * step_rho_squared: (i + 1) * step_rho_squared]\n",
    "            num, den = estimate_numerator_and_denominator_from_shadows_rho_squared(group)\n",
    "            numerators.append(num)\n",
    "            denominators.append(den)\n",
    "        \n",
    "        # Final estimate is median of means.\n",
    "        fidelity = np.median(numerators) / np.median(denominators)\n",
    "        lst_vd_fidelities.append(fidelity)\n",
    "    lst_vd_fidelities = np.array(lst_vd_fidelities)"
   ]
  },
  {
   "cell_type": "markdown",
   "id": "0e66ddf4",
   "metadata": {},
   "source": [
    "## Plotting results"
   ]
  },
  {
   "cell_type": "markdown",
   "id": "7a486681",
   "metadata": {},
   "source": [
    "### Analytic with $\\rho$"
   ]
  },
  {
   "cell_type": "code",
   "execution_count": 18,
   "id": "f01a632f",
   "metadata": {},
   "outputs": [],
   "source": [
    "def analytic_fidelity(p):\n",
    "    N = (8 * p ** 2 - 9 * p + 3) * (2 * p - 3) ** 3\n",
    "    D = 240 * p ** 4 - 720 * p ** 3 + 810 * p ** 2 - 405 * p + 81\n",
    "    return -N / D"
   ]
  },
  {
   "cell_type": "markdown",
   "id": "9071212f",
   "metadata": {},
   "source": [
    "### Analytic with $\\rho^2$"
   ]
  },
  {
   "cell_type": "code",
   "execution_count": 19,
   "id": "eb0a3633",
   "metadata": {},
   "outputs": [],
   "source": [
    "from ncon import ncon\n",
    "import qutip\n",
    "\n",
    "\n",
    "def generate_loc_mixer(px: float, py: float, pz: float) -> np.ndarray:\n",
    "    # Tensor network calculation of depolarization channel\n",
    "    p = px+py+pz\n",
    "    I = np.array([[1, 0],[0, 1]]);\n",
    "    X = np.array([[0, 1],[1, 0]]);    s1 = X;\n",
    "    Z = np.array([[1, 0],[0, -1]]);   s3 = Z;\n",
    "    Y = np.array([[0, -1j],[1j, 0]]); s2 = Y;\n",
    "\n",
    "    USA=np.zeros((2,2,4,4));\n",
    "\n",
    "    E00 = np.zeros((4,4));\n",
    "    E10 = np.zeros((4,4));\n",
    "    E20 = np.zeros((4,4));\n",
    "    E30 = np.zeros((4,4));\n",
    "    E00[0,0] = 1;\n",
    "    E10[1,0] = 1;\n",
    "    E20[2,0] = 1;\n",
    "    E30[3,0] = 1;\n",
    "\n",
    "    USA = USA + np.sqrt(1.0-p)*ncon((I,E00),([-1,-2],[-3,-4]))\n",
    "    USA = USA + np.sqrt(px)*ncon((s1,E10),([-1,-2],[-3,-4]))\n",
    "    USA = USA + np.sqrt(py)*ncon((s2,E20),([-1,-2],[-3,-4]))\n",
    "    USA = USA + np.sqrt(pz)*ncon((s3,E30),([-1,-2],[-3,-4]))\n",
    "\n",
    "    E0=np.zeros((4));\n",
    "    E0[0] = 1;\n",
    "    loc_mixer = ncon( ( USA,E0, np.conj(USA), E0 ),([-1,-2,1,3],[3],[-4,-3,1,2],[2]));\n",
    "    return loc_mixer\n",
    "\n",
    "\n",
    "def get_noisy_state(p: float) -> qutip.Qobj:\n",
    "    rho0 = stabilizer_state_to_qutip_qobj(stabilizer_state('XZZXI','IXZZX','XIXZZ','ZXIXZ','ZZZZZ'))\n",
    "    rho_tensor = rho0.full().reshape([2 for i in range(10)])\n",
    "\n",
    "    px = py = pz = p / 3.0\n",
    "    locMixer = generate_loc_mixer(px,py,pz)\n",
    "\n",
    "    index = []\n",
    "    index.append([i for i in range(1,11)])\n",
    "    for i in range(5):\n",
    "        index.append([i+1,-(i+1),-(i+1+5),i+1+5])\n",
    "    eps_rho = ncon([rho_tensor]+[locMixer for i in range(5)],index)\n",
    "    eps_rho=eps_rho.reshape(2**N, 2**N)\n",
    "\n",
    "    return qutip.Qobj(eps_rho,dims=[[2 for i in range(N)],[2 for i in range(N)]]).full()"
   ]
  },
  {
   "cell_type": "code",
   "execution_count": 20,
   "id": "b79fcb2b",
   "metadata": {},
   "outputs": [],
   "source": [
    "pvals = np.linspace(pmin, pmax, 50)"
   ]
  },
  {
   "cell_type": "code",
   "execution_count": 21,
   "id": "2db5acad",
   "metadata": {},
   "outputs": [],
   "source": [
    "true_state = get_noisy_state(0.0)\n",
    "\n",
    "true_rho_squared_fidelities = []\n",
    "\n",
    "for p in pvals:\n",
    "    rho = get_noisy_state(p)\n",
    "\n",
    "    projected = rho @ rho @ projector\n",
    "    fidelity = np.trace(projected @ true_state) / np.trace(projected)\n",
    "    true_rho_squared_fidelities.append(fidelity)\n",
    "\n",
    "true_rho_squared_fidelities = np.array(true_rho_squared_fidelities)"
   ]
  },
  {
   "cell_type": "markdown",
   "id": "6b813069",
   "metadata": {},
   "source": [
    "### All curves"
   ]
  },
  {
   "cell_type": "code",
   "execution_count": 27,
   "id": "a1410943",
   "metadata": {},
   "outputs": [],
   "source": [
    "# np.savetxt(\"lst_fidelities.txt\", lst_fidelities)"
   ]
  },
  {
   "cell_type": "code",
   "execution_count": 28,
   "id": "49e54b0a",
   "metadata": {},
   "outputs": [],
   "source": [
    "# np.savetxt(\"lst_rho_squared_fidelities.txt\", lst_vd_fidelities)"
   ]
  },
  {
   "cell_type": "code",
   "execution_count": 35,
   "id": "c29cdb22-fe1d-4ee5-af51-c1308103b866",
   "metadata": {
    "scrolled": false
   },
   "outputs": [
    {
     "data": {
      "image/png": "[encoded data removed]",
      "text/plain": [
       "<Figure size 432x288 with 1 Axes>"
      ]
     },
     "metadata": {
      "needs_background": "light"
     },
     "output_type": "display_data"
    }
   ],
   "source": [
    "plt.plot(pvalues, 2 * pvalues / 3, \"-.\", c=\"k\", label=\"Physical\")\n",
    "\n",
    "if use_rho:\n",
    "    plt.plot(pvalues, 1.0 - np.real_if_close(lst_fidelities), \"^\", c=\"tab:green\", mec=\"black\", alpha=0.90, markersize=11, label=r\"LST, $\\rho$\")\n",
    "    plt.plot(pvals, 1 - analytic_fidelity(pvals), c=\"tab:green\", label=r\"Analytic, $\\rho$\")\n",
    "\n",
    "if use_rho_squared:\n",
    "    plt.plot(pvalues, 1.0 - np.real_if_close(lst_vd_fidelities), \"*\", c=\"tab:blue\", mec=\"black\", alpha=0.90, markersize=14, label=r\"LST, $\\rho^2$\")\n",
    "    plt.plot(pvals, 1.0 - np.real_if_close(true_rho_squared_fidelities), c=\"tab:blue\", label=r\"Analytic, $\\rho^2$\")\n",
    "\n",
    "# Plot options.\n",
    "# plt.ylim((-0.1, 0.35))\n",
    "plt.xlabel(\"$p$\")\n",
    "plt.ylabel(\"$1 - F$\")\n",
    "plt.legend(ncol=1);\n",
    "plt.tight_layout()\n",
    "\n",
    "# plt.savefig(\"lst_513_threshold_rho_and_rho_squared_final_black_edges.pdf\")"
   ]
  },
  {
   "cell_type": "markdown",
   "id": "21bc22f7",
   "metadata": {},
   "source": []
  }
 ],
 "metadata": {
  "kernelspec": {
   "display_name": "envlst",
   "language": "python",
   "name": "envlst"
  },
  "language_info": {
   "codemirror_mode": {
    "name": "ipython",
    "version": 3
   },
   "file_extension": ".py",
   "mimetype": "text/x-python",
   "name": "python",
   "nbconvert_exporter": "python",
   "pygments_lexer": "ipython3",
   "version": "3.7.8"
  }
 },
 "nbformat": 4,
 "nbformat_minor": 5
}
