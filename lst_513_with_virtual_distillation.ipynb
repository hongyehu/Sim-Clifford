{
 "cells": [
  {
   "cell_type": "markdown",
   "id": "8d8d2169",
   "metadata": {},
   "source": [
    "# Logical shadow tomography: $[[5, 1, 3]]$ code example"
   ]
  },
  {
   "cell_type": "markdown",
   "id": "9848c954",
   "metadata": {},
   "source": [
    "## Setup"
   ]
  },
  {
   "cell_type": "code",
   "execution_count": 1,
   "id": "b6d83891-7801-4737-ae8c-bbc3a46df087",
   "metadata": {},
   "outputs": [],
   "source": [
    "import functools\n",
    "from joblib import Parallel, delayed\n",
    "from typing import List, Tuple\n",
    "\n",
    "import matplotlib.pyplot as plt\n",
    "import numpy as np\n",
    "from numba import njit\n",
    "from tqdm.notebook import tnrange\n",
    "\n",
    "from base.stabilizer import random_clifford_state, stabilizer_state, stoc_depolarize_map\n",
    "from base.utils import stabilizer_projection_full\n",
    "from convert import state2state as stabilizer_state_to_qutip_qobj, state2projector"
   ]
  },
  {
   "cell_type": "code",
   "execution_count": 2,
   "id": "46b46a06",
   "metadata": {},
   "outputs": [],
   "source": [
    "plt.rcParams.update({\"font.family\": \"serif\", \"font.size\": 16})"
   ]
  },
  {
   "cell_type": "markdown",
   "id": "1409d5ae",
   "metadata": {},
   "source": [
    "## Parameters"
   ]
  },
  {
   "cell_type": "code",
   "execution_count": 3,
   "id": "cedd19ce",
   "metadata": {
    "tags": [
     "parameters"
    ]
   },
   "outputs": [],
   "source": [
    "\"\"\"Set experimental parameters.\"\"\"\n",
    "num_trajectories: int = 20_000  # Number of trajectories to sample from.\n",
    "    \n",
    "use_rho: bool = True           # Do LST with rho.\n",
    "use_rho_squared: bool = False  # Do LST with rho^2.\n",
    "\n",
    "pmin: float = 0.00  # Minimum depolarizing noise rate.\n",
    "pmax: float = 0.50  # Maximum depolarizing noise rate.\n",
    "step: float = 0.10  # Step for depolarizing noise rates. Values are `np.arange(pmin, pmax + step, step)`.\n",
    "\n",
    "njobs: int = 2  # Number of parallel workers to use when sampling trajectories."
   ]
  },
  {
   "cell_type": "code",
   "execution_count": 4,
   "id": "269f49ba",
   "metadata": {},
   "outputs": [],
   "source": [
    "pvalues = np.arange(pmin, pmax + step, step)\n",
    "N: int = 5\n",
    "D: int = 2**N + 1"
   ]
  },
  {
   "cell_type": "markdown",
   "id": "572b23d8-9c08-4b58-8e85-eb2d9896059c",
   "metadata": {},
   "source": [
    "## Collect shadows"
   ]
  },
  {
   "cell_type": "code",
   "execution_count": 5,
   "id": "11436128",
   "metadata": {},
   "outputs": [],
   "source": [
    "def sample_trajectory(p: float) -> \"StabilizerState\":\n",
    "    # Start in the logical subspace.\n",
    "    state = stabilizer_state(\"ZZZZZ\", \"XZZXI\", \"IXZZX\", \"XIXZZ\", \"ZXIXZ\")\n",
    "\n",
    "    # Apply single-qubit depolarizing noise.\n",
    "    state = stoc_depolarize_map(state, p)\n",
    "\n",
    "    # Apply a random clifford.\n",
    "    state.measure(random_clifford_state(N))\n",
    "    return state"
   ]
  },
  {
   "cell_type": "code",
   "execution_count": 6,
   "id": "1c66920f-9645-41ec-b7c6-043ecee36513",
   "metadata": {
    "scrolled": true
   },
   "outputs": [
    {
     "name": "stdout",
     "output_type": "stream",
     "text": [
      "Status: On noise rate p = 0.500\r"
     ]
    }
   ],
   "source": [
    "all_shadows = []\n",
    "for (i, p) in enumerate(pvalues):\n",
    "    # Status update.\n",
    "    print(f\"Status: On noise rate p = {p:.3f}\", end=\"\\r\")\n",
    "    \n",
    "    # Collect shadows.\n",
    "    shadows = Parallel(n_jobs=njobs)(\n",
    "        delayed(sample_trajectory)(p) for _ in range(num_trajectories)\n",
    "    )\n",
    "    all_shadows.append(shadows)"
   ]
  },
  {
   "cell_type": "markdown",
   "id": "fa4af07c",
   "metadata": {},
   "source": [
    "## Postprocess"
   ]
  },
  {
   "cell_type": "markdown",
   "id": "3d63eb70",
   "metadata": {},
   "source": [
    "### Convert all shadows to density matrices"
   ]
  },
  {
   "cell_type": "code",
   "execution_count": 7,
   "id": "db1290a4",
   "metadata": {},
   "outputs": [],
   "source": [
    "def inverse_map(sigma: np.array) -> np.array:\n",
    "    d = len(sigma)\n",
    "    return (d + 1) * sigma - np.identity(d)"
   ]
  },
  {
   "cell_type": "code",
   "execution_count": 8,
   "id": "db7f80fd",
   "metadata": {
    "scrolled": true
   },
   "outputs": [
    {
     "data": {
      "application/vnd.jupyter.widget-view+json": {
       "model_id": "ed5d260c220744d5a005c9e2a371abad",
       "version_major": 2,
       "version_minor": 0
      },
      "text/plain": [
       "Converting all shadows to density matrices:   0%|          | 0/6 [00:00<?, ?it/s]"
      ]
     },
     "metadata": {},
     "output_type": "display_data"
    },
    {
     "data": {
      "application/vnd.jupyter.widget-view+json": {
       "model_id": "",
       "version_major": 2,
       "version_minor": 0
      },
      "text/plain": [
       "Converting shadows to density matrices for noise level p = 0.000:   0%|          | 0/20000 [00:00<?, ?it/s]"
      ]
     },
     "metadata": {},
     "output_type": "display_data"
    },
    {
     "data": {
      "application/vnd.jupyter.widget-view+json": {
       "model_id": "",
       "version_major": 2,
       "version_minor": 0
      },
      "text/plain": [
       "Converting shadows to density matrices for noise level p = 0.100:   0%|          | 0/20000 [00:00<?, ?it/s]"
      ]
     },
     "metadata": {},
     "output_type": "display_data"
    },
    {
     "data": {
      "application/vnd.jupyter.widget-view+json": {
       "model_id": "",
       "version_major": 2,
       "version_minor": 0
      },
      "text/plain": [
       "Converting shadows to density matrices for noise level p = 0.200:   0%|          | 0/20000 [00:00<?, ?it/s]"
      ]
     },
     "metadata": {},
     "output_type": "display_data"
    },
    {
     "data": {
      "application/vnd.jupyter.widget-view+json": {
       "model_id": "",
       "version_major": 2,
       "version_minor": 0
      },
      "text/plain": [
       "Converting shadows to density matrices for noise level p = 0.300:   0%|          | 0/20000 [00:00<?, ?it/s]"
      ]
     },
     "metadata": {},
     "output_type": "display_data"
    },
    {
     "data": {
      "application/vnd.jupyter.widget-view+json": {
       "model_id": "",
       "version_major": 2,
       "version_minor": 0
      },
      "text/plain": [
       "Converting shadows to density matrices for noise level p = 0.400:   0%|          | 0/20000 [00:00<?, ?it/s]"
      ]
     },
     "metadata": {},
     "output_type": "display_data"
    },
    {
     "data": {
      "application/vnd.jupyter.widget-view+json": {
       "model_id": "",
       "version_major": 2,
       "version_minor": 0
      },
      "text/plain": [
       "Converting shadows to density matrices for noise level p = 0.500:   0%|          | 0/20000 [00:00<?, ?it/s]"
      ]
     },
     "metadata": {},
     "output_type": "display_data"
    }
   ],
   "source": [
    "all_sigmas = []\n",
    "\n",
    "for i in tnrange(len(all_shadows), desc=\"Converting all shadows to density matrices\"):\n",
    "    shadows = all_shadows[i]\n",
    "    sigmas = []\n",
    "    for j in tnrange(len(shadows), desc=f\"Converting shadows to density matrices for noise level p = {pvalues[i]:.3f}\", leave=False):\n",
    "        sigmas.append(inverse_map(stabilizer_state_to_qutip_qobj(shadows[j]).full()))\n",
    "    all_sigmas.append(sigmas)"
   ]
  },
  {
   "cell_type": "code",
   "execution_count": 9,
   "id": "ea74d7f4",
   "metadata": {},
   "outputs": [],
   "source": [
    "\"\"\"Projector P.\"\"\"\n",
    "state = stabilizer_state(\"XZZXI\", \"IXZZX\", \"XIXZZ\", \"ZXIXZ\", \"ZZZZZ\")\n",
    "state.r = 1\n",
    "projector = functools.reduce(lambda a, b: a * b, state2projector(state))\n",
    "projector = projector.full()"
   ]
  },
  {
   "cell_type": "code",
   "execution_count": 10,
   "id": "8efbfe9b",
   "metadata": {},
   "outputs": [],
   "source": [
    "\"\"\"Tests.\"\"\"\n",
    "assert np.allclose(projector @ projector, projector)\n",
    "assert np.allclose(projector.conj().T, projector)"
   ]
  },
  {
   "cell_type": "code",
   "execution_count": 11,
   "id": "f1d18179",
   "metadata": {},
   "outputs": [],
   "source": [
    "\"\"\"Observable O.\"\"\"\n",
    "obs = stabilizer_state_to_qutip_qobj(\n",
    "    stabilizer_state(\"ZZZZZ\", \"XZZXI\", \"IXZZX\", \"XIXZZ\", \"ZXIXZ\")\n",
    ")\n",
    "\n",
    "# Tests.\n",
    "evals = np.zeros(2 ** N)\n",
    "evals[-1] = 1\n",
    "assert np.allclose(obs.eigenenergies(), evals)\n",
    "\n",
    "obs = obs.full()"
   ]
  },
  {
   "cell_type": "markdown",
   "id": "b2b358fa",
   "metadata": {},
   "source": [
    "### LST with $\\rho$"
   ]
  },
  {
   "cell_type": "code",
   "execution_count": 12,
   "id": "d9d33cc7",
   "metadata": {},
   "outputs": [],
   "source": [
    "def sigma_to_numerator_and_denominator(sigma: \"StabilizerState\") -> Tuple[float, float]:\n",
    "    \"\"\"Returns Tr[M^-1 (shadow) P O], Tr[M^-1 (shadow) P].\"\"\"\n",
    "    projected = sigma @ projector\n",
    "    return np.trace(projected @ obs), np.trace(projected)"
   ]
  },
  {
   "cell_type": "code",
   "execution_count": 13,
   "id": "3bcb3469",
   "metadata": {},
   "outputs": [
    {
     "data": {
      "application/vnd.jupyter.widget-view+json": {
       "model_id": "6f6df22a60df4cfaaee8f105e4d25615",
       "version_major": 2,
       "version_minor": 0
      },
      "text/plain": [
       "Estimating all fidelities with ρ:   0%|          | 0/6 [00:00<?, ?it/s]"
      ]
     },
     "metadata": {},
     "output_type": "display_data"
    },
    {
     "data": {
      "application/vnd.jupyter.widget-view+json": {
       "model_id": "",
       "version_major": 2,
       "version_minor": 0
      },
      "text/plain": [
       "Estimating fidelity with 20000 shadows for noise level p = 0.000:   0%|          | 0/20000 [00:00<?, ?it/s]"
      ]
     },
     "metadata": {},
     "output_type": "display_data"
    },
    {
     "data": {
      "application/vnd.jupyter.widget-view+json": {
       "model_id": "",
       "version_major": 2,
       "version_minor": 0
      },
      "text/plain": [
       "Estimating fidelity with 20000 shadows for noise level p = 0.100:   0%|          | 0/20000 [00:00<?, ?it/s]"
      ]
     },
     "metadata": {},
     "output_type": "display_data"
    },
    {
     "data": {
      "application/vnd.jupyter.widget-view+json": {
       "model_id": "",
       "version_major": 2,
       "version_minor": 0
      },
      "text/plain": [
       "Estimating fidelity with 20000 shadows for noise level p = 0.200:   0%|          | 0/20000 [00:00<?, ?it/s]"
      ]
     },
     "metadata": {},
     "output_type": "display_data"
    },
    {
     "data": {
      "application/vnd.jupyter.widget-view+json": {
       "model_id": "",
       "version_major": 2,
       "version_minor": 0
      },
      "text/plain": [
       "Estimating fidelity with 20000 shadows for noise level p = 0.300:   0%|          | 0/20000 [00:00<?, ?it/s]"
      ]
     },
     "metadata": {},
     "output_type": "display_data"
    },
    {
     "data": {
      "application/vnd.jupyter.widget-view+json": {
       "model_id": "",
       "version_major": 2,
       "version_minor": 0
      },
      "text/plain": [
       "Estimating fidelity with 20000 shadows for noise level p = 0.400:   0%|          | 0/20000 [00:00<?, ?it/s]"
      ]
     },
     "metadata": {},
     "output_type": "display_data"
    },
    {
     "data": {
      "application/vnd.jupyter.widget-view+json": {
       "model_id": "",
       "version_major": 2,
       "version_minor": 0
      },
      "text/plain": [
       "Estimating fidelity with 20000 shadows for noise level p = 0.500:   0%|          | 0/20000 [00:00<?, ?it/s]"
      ]
     },
     "metadata": {},
     "output_type": "display_data"
    }
   ],
   "source": [
    "if use_rho:\n",
    "    lst_fidelities = []\n",
    "    for i in tnrange(len(all_sigmas), desc=\"Estimating all fidelities with ρ\"):\n",
    "        sigmas = all_sigmas[i]\n",
    "        numerator = 0.0\n",
    "        denominator = 0.0\n",
    "        for j in tnrange(len(sigmas), desc=f\"Estimating fidelity with {len(sigmas)} shadows for noise level p = {pvalues[i]:.3f}\", leave=False):\n",
    "            num, denom = sigma_to_numerator_and_denominator(sigmas[j])\n",
    "            numerator += num\n",
    "            denominator += denom\n",
    "\n",
    "        lst_fidelities.append(numerator / denominator)\n",
    "    \n",
    "    lst_fidelities = np.array(lst_fidelities)"
   ]
  },
  {
   "cell_type": "markdown",
   "id": "80c21f9f",
   "metadata": {},
   "source": [
    "### LST with $\\rho^2$"
   ]
  },
  {
   "cell_type": "code",
   "execution_count": 14,
   "id": "3bde705c",
   "metadata": {},
   "outputs": [],
   "source": [
    "def sigmas_to_numerator_and_denominator(\n",
    "    sigma1: np.ndarray, sigma2: np.ndarray\n",
    ") -> Tuple[float, float]:\n",
    "    \"\"\"Returns Tr[M^-1 (shadow1) M^-1(shadow2) P O], Tr[M^-1 (shadow1) M^-1(shadow2) P].\n",
    "    \"\"\"\n",
    "    projected = sigma1 @ sigma2 @ projector\n",
    "    return np.trace(projected @ obs), np.trace(projected)"
   ]
  },
  {
   "cell_type": "code",
   "execution_count": 15,
   "id": "8b4c1c78",
   "metadata": {},
   "outputs": [],
   "source": [
    "if use_rho_squared:\n",
    "    lst_vd_fidelities = []\n",
    "    for i in tnrange(len(all_sigmas), desc=\"Estimating all fidelities with ρ^2\"):\n",
    "        sigmas = all_sigmas[i]\n",
    "        numerator = 0.0\n",
    "        denominator = 0.0\n",
    "        for j in tnrange(len(sigmas), desc=f\"Estimating fidelity with {len(sigmas)} shadows for noise level p = {pvalues[i]:.3f}\", leave=False):\n",
    "            for k in range(len(sigmas)):\n",
    "                if k == j:\n",
    "                    continue\n",
    "                num, denom = sigmas_to_numerator_and_denominator(sigmas[j], sigmas[k])\n",
    "                numerator += num\n",
    "                denominator += denom\n",
    "\n",
    "        lst_vd_fidelities.append(num / denom)\n",
    "    \n",
    "    lst_vd_fidelities = np.array(lst_vd_fidelities)"
   ]
  },
  {
   "cell_type": "code",
   "execution_count": 16,
   "id": "f01a632f",
   "metadata": {},
   "outputs": [],
   "source": [
    "def analytic_fidelity(p):\n",
    "    N = (8 * p ** 2 - 9 * p + 3) * (2 * p - 3) ** 3\n",
    "    D = 240 * p ** 4 - 720 * p ** 3 + 810 * p ** 2 - 405 * p + 81\n",
    "    return -N / D"
   ]
  },
  {
   "cell_type": "code",
   "execution_count": 17,
   "id": "c29cdb22-fe1d-4ee5-af51-c1308103b866",
   "metadata": {
    "scrolled": true
   },
   "outputs": [
    {
     "data": {
      "image/png": "[encoded data removed]",
      "text/plain": [
       "<Figure size 432x288 with 1 Axes>"
      ]
     },
     "metadata": {
      "needs_background": "light"
     },
     "output_type": "display_data"
    }
   ],
   "source": [
    "if use_rho:\n",
    "    plt.plot(pvalues, 1.0 - lst_fidelities.real, \"^\", markersize=8, label=r\"LST with $\\rho$\")\n",
    "\n",
    "if use_rho_squared:\n",
    "    plt.plot(pvalues, 1 - lst_vd_fidelities.real, \"*\", markersize=8, label=r\"LST with $\\rho^2$\")\n",
    "\n",
    "\n",
    "plt.plot(pvalues, 2 * pvalues / 3, \"-.\", c=\"k\", label=\"Physical\")\n",
    "plt.plot(\n",
    "    np.linspace(0, 0.5, 50), 1 - analytic_fidelity(np.linspace(0, 0.5, 50)), c=\"C3\", label=\"Analytic\"\n",
    ")\n",
    "\n",
    "# Plot options.\n",
    "plt.xlabel(\"$p$\")\n",
    "plt.ylabel(\"$1 - F$\")\n",
    "plt.legend(bbox_to_anchor=(1, 1));"
   ]
  },
  {
   "cell_type": "markdown",
   "id": "21bc22f7",
   "metadata": {},
   "source": []
  }
 ],
 "metadata": {
  "kernelspec": {
   "display_name": "envlst",
   "language": "python",
   "name": "envlst"
  },
  "language_info": {
   "codemirror_mode": {
    "name": "ipython",
    "version": 3
   },
   "file_extension": ".py",
   "mimetype": "text/x-python",
   "name": "python",
   "nbconvert_exporter": "python",
   "pygments_lexer": "ipython3",
   "version": "3.7.8"
  }
 },
 "nbformat": 4,
 "nbformat_minor": 5
}
