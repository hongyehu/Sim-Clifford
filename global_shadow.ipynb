{
 "cells": [
  {
   "cell_type": "code",
   "execution_count": 1,
   "id": "7eca279a-0b0e-4a89-8853-20e9213e97ed",
   "metadata": {},
   "outputs": [],
   "source": [
    "%matplotlib inline\n",
    "import matplotlib.pyplot as plt\n",
    "import qutip as qt\n",
    "import numpy as np\n",
    "from context import *\n",
    "from numba import njit"
   ]
  },
  {
   "cell_type": "code",
   "execution_count": 39,
   "id": "20d38e03-2a99-4490-9418-6848ff8691c9",
   "metadata": {},
   "outputs": [],
   "source": [
    "state = ghz_state(2)"
   ]
  },
  {
   "cell_type": "code",
   "execution_count": 41,
   "id": "cb695be9-c17f-4cf9-a5cf-e000bf6c3dbc",
   "metadata": {},
   "outputs": [
    {
     "data": {
      "text/plain": [
       "array([[1, 0, 1, 0],\n",
       "       [0, 1, 0, 1],\n",
       "       [0, 0, 0, 1],\n",
       "       [1, 0, 0, 0]])"
      ]
     },
     "execution_count": 41,
     "metadata": {},
     "output_type": "execute_result"
    }
   ],
   "source": [
    "state.gs"
   ]
  },
  {
   "cell_type": "code",
   "execution_count": 42,
   "id": "aa8a7df1-6762-46c7-9b48-c8473e42e0a1",
   "metadata": {},
   "outputs": [],
   "source": [
    "random_map = random_clifford_map(2)"
   ]
  },
  {
   "cell_type": "code",
   "execution_count": 43,
   "id": "133edc9f-67f5-4c9e-868c-bfb721c739d6",
   "metadata": {},
   "outputs": [
    {
     "data": {
      "text/plain": [
       "(array([[1, 1, 1, 1],\n",
       "        [0, 1, 0, 1],\n",
       "        [1, 1, 1, 0],\n",
       "        [1, 1, 0, 0]]),\n",
       " array([2, 0, 0, 0]),\n",
       " 0,\n",
       " array([0, 0, 1, 0]),\n",
       " -4.0)"
      ]
     },
     "execution_count": 43,
     "metadata": {},
     "output_type": "execute_result"
    }
   ],
   "source": [
    "utils.stabilizer_measure(state.gs, state.ps, random_map.gs,random_map.ps,state.r)"
   ]
  },
  {
   "cell_type": "code",
   "execution_count": 44,
   "id": "11a9d6ed-87de-4fee-aafc-2076f06c6e1c",
   "metadata": {},
   "outputs": [
    {
     "data": {
      "text/plain": [
       "array([[1, 1, 1, 1],\n",
       "       [0, 1, 0, 1],\n",
       "       [1, 1, 1, 0],\n",
       "       [1, 1, 0, 0]])"
      ]
     },
     "execution_count": 44,
     "metadata": {},
     "output_type": "execute_result"
    }
   ],
   "source": [
    "state.gs"
   ]
  },
  {
   "cell_type": "code",
   "execution_count": 28,
   "id": "a9f86c66-a9a2-48d7-a516-0cf889d89031",
   "metadata": {},
   "outputs": [],
   "source": [
    "def pauli2pauli(g,p):\n",
    "    '''\n",
    "    g: int (2*N) - an array of pauli string\n",
    "    p: int - phase indicator\n",
    "    '''\n",
    "    tmp = [qt.qeye(2), qt.sigmax(), qt.sigmay(), qt.sigmaz()]\n",
    "    N = np.shape(g)[0]//2\n",
    "    tmp_list=[]\n",
    "    for i in range(N):\n",
    "        if g[2*i]==1&g[2*i+1]==1:\n",
    "            tmp_list.append(tmp[2])\n",
    "        elif g[2*i]==1&g[2*i+1]==0:\n",
    "            tmp_list.append(tmp[1])\n",
    "        elif g[2*i]==0&g[2*i+1]==1:\n",
    "            tmp_list.append(tmp[3])\n",
    "        else:\n",
    "            tmp_list.append(tmp[0])\n",
    "    return (1j)**(p)*qt.tensor(tmp_list)"
   ]
  },
  {
   "cell_type": "code",
   "execution_count": 47,
   "id": "47e23d9c-c279-40b5-b116-aebeea62eb5e",
   "metadata": {},
   "outputs": [
    {
     "data": {
      "text/plain": [
       "<matplotlib.image.AxesImage at 0x7fa5914b4e20>"
      ]
     },
     "execution_count": 47,
     "metadata": {},
     "output_type": "execute_result"
    },
    {
     "data": {
      "image/png": "[encoded data removed]",
      "text/plain": [
       "<Figure size 432x288 with 1 Axes>"
      ]
     },
     "metadata": {
      "needs_background": "light"
     },
     "output_type": "display_data"
    }
   ],
   "source": [
    "pauli2pauli(np.array())"
   ]
  },
  {
   "cell_type": "code",
   "execution_count": 49,
   "id": "7f75485d-bb76-4dc7-85b0-eaee72521572",
   "metadata": {},
   "outputs": [],
   "source": [
    "random_state = qt.Qobj(np.random.randn(2)).unit()"
   ]
  },
  {
   "cell_type": "code",
   "execution_count": 55,
   "id": "c6fe32ad-49f0-4411-8195-d4f2962d0f6b",
   "metadata": {},
   "outputs": [
    {
     "data": {
      "text/latex": [
       "Quantum object: dims = [[2], [1]], shape = (2, 1), type = ket\\begin{equation*}\\left(\\begin{array}{*{11}c}(-0.625-0.330j)\\\\(-0.330+0.625j)\\\\\\end{array}\\right)\\end{equation*}"
      ],
      "text/plain": [
       "Quantum object: dims = [[2], [1]], shape = (2, 1), type = ket\n",
       "Qobj data =\n",
       "[[-0.62533579-0.33008354j]\n",
       " [-0.33008354+0.62533579j]]"
      ]
     },
     "execution_count": 55,
     "metadata": {},
     "output_type": "execute_result"
    }
   ],
   "source": [
    "((qt.qeye(2)-qt.sigmay())/2 * random_state).unit()"
   ]
  },
  {
   "cell_type": "code",
   "execution_count": null,
   "id": "0d5ab239-a2d5-4651-9f6a-69287669e552",
   "metadata": {},
   "outputs": [],
   "source": []
  }
 ],
 "metadata": {
  "kernelspec": {
   "display_name": "Python 3",
   "language": "python",
   "name": "python3"
  },
  "language_info": {
   "codemirror_mode": {
    "name": "ipython",
    "version": 3
   },
   "file_extension": ".py",
   "mimetype": "text/x-python",
   "name": "python",
   "nbconvert_exporter": "python",
   "pygments_lexer": "ipython3",
   "version": "3.9.2"
  }
 },
 "nbformat": 4,
 "nbformat_minor": 5
}
