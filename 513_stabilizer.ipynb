{
 "cells": [
  {
   "cell_type": "markdown",
   "id": "8d8d2169",
   "metadata": {},
   "source": [
    "# Logical shadow tomography: $[[5, 1, 3]]$ code example"
   ]
  },
  {
   "cell_type": "markdown",
   "id": "9848c954",
   "metadata": {},
   "source": [
    "## Setup"
   ]
  },
  {
   "cell_type": "code",
   "execution_count": 15,
   "id": "b6d83891-7801-4737-ae8c-bbc3a46df087",
   "metadata": {},
   "outputs": [],
   "source": [
    "import matplotlib.pyplot as plt\n",
    "import numpy as np\n",
    "from numba import njit\n",
    "\n",
    "from base.stabilizer import random_clifford_state, stabilizer_state, stoc_depolarize_map\n",
    "from base.utils import stabilizer_projection_full\n",
    "# from context import *\n",
    "# from convert import *"
   ]
  },
  {
   "cell_type": "code",
   "execution_count": 16,
   "id": "46b46a06",
   "metadata": {},
   "outputs": [],
   "source": [
    "plt.rcParams.update({\"font.family\": \"serif\", \"font.size\": 16})"
   ]
  },
  {
   "cell_type": "markdown",
   "id": "572b23d8-9c08-4b58-8e85-eb2d9896059c",
   "metadata": {},
   "source": [
    "## Experiment"
   ]
  },
  {
   "cell_type": "code",
   "execution_count": 21,
   "id": "cedd19ce",
   "metadata": {},
   "outputs": [],
   "source": [
    "\"\"\"Set experimental parameters.\"\"\"\n",
    "N = 5  # TODO: Get this from the stabilizer code.\n",
    "expr_num = 20\n",
    "channel_sample = 10_000\n",
    "\n",
    "# Depolarizing noise rates.\n",
    "pvalues = np.array([0, 0.05, 0.1, 0.15, 0.2, 0.25, 0.3, 0.35, 0.4, 0.45, 0.5])"
   ]
  },
  {
   "cell_type": "code",
   "execution_count": 22,
   "id": "1c66920f-9645-41ec-b7c6-043ecee36513",
   "metadata": {},
   "outputs": [
    {
     "name": "stdout",
     "output_type": "stream",
     "text": [
      "Status: On noise rate 0.55\r"
     ]
    }
   ],
   "source": [
    "\"\"\"Run the experiment.\"\"\"\n",
    "fid_list = np.ones_like(pvalues)\n",
    "\n",
    "for (i, p) in enumerate(pvalues):\n",
    "    # Status update.\n",
    "    print(\"Status: On noise rate\", p, end=\"\\r\")\n",
    "\n",
    "    # TODO: These loops are embarrassingly parallel.\n",
    "    Tr_P_sigma_P_rho = []\n",
    "    Tr_P_sigma_P = []\n",
    "    for _ in range(expr_num):\n",
    "        for _ in range(channel_sample):\n",
    "            # Initial stabilizer state.\n",
    "            state = stabilizer_state(\"ZZZZZ\", \"XZZXI\", \"IXZZX\", \"XIXZZ\", \"ZXIXZ\")\n",
    "            gs0 = state.gs.copy()\n",
    "            ps0 = state.ps.copy()\n",
    "\n",
    "            # Apply single-qubit depolarizing noise.\n",
    "            state = stoc_depolarize_map(state, p)\n",
    "\n",
    "            # Do shadow tomography.\n",
    "            obs = random_clifford_state(5)\n",
    "            state.measure(obs)\n",
    "\n",
    "            gs, ps, _, tmp_PsigmaP = stabilizer_projection_full(\n",
    "                state.gs, state.ps, gs0[: N - 1].copy(), ps0[: N - 1].copy(), 0\n",
    "            )\n",
    "            _, _, _, tmp = stabilizer_projection_full(gs, ps, gs0[:N], ps0[:N], 0)\n",
    "            Tr_P_sigma_P_rho.append(tmp_PsigmaP * tmp)\n",
    "            Tr_P_sigma_P.append(tmp_PsigmaP)\n",
    "\n",
    "    # Compute final fidelity.\n",
    "    fid = ((2 ** N + 1) * np.mean(Tr_P_sigma_P_rho) - 1) / (\n",
    "        np.mean(Tr_P_sigma_P) * (2 ** N + 1) - 2\n",
    "    )\n",
    "    fid_list[i] = fid"
   ]
  },
  {
   "cell_type": "code",
   "execution_count": 23,
   "id": "f01a632f",
   "metadata": {},
   "outputs": [],
   "source": [
    "def FL(p):\n",
    "    N = (8 * p ** 2 - 9 * p + 3) * (2 * p - 3) ** 3\n",
    "    D = 240 * p ** 4 - 720 * p ** 3 + 810 * p ** 2 - 405 * p + 81\n",
    "    return -N / D"
   ]
  },
  {
   "cell_type": "code",
   "execution_count": 24,
   "id": "c29cdb22-fe1d-4ee5-af51-c1308103b866",
   "metadata": {},
   "outputs": [
    {
     "data": {
      "image/png": "[encoded data removed]",
      "text/plain": [
       "<Figure size 432x288 with 1 Axes>"
      ]
     },
     "metadata": {
      "needs_background": "light"
     },
     "output_type": "display_data"
    }
   ],
   "source": [
    "plt.plot(pvalues, 1 - fid_list, \"^\", markersize=8, label=\"LST\")\n",
    "plt.plot(pvalues, 2 * pvalues / 3, \"-.\", c=\"k\", label=\"Physical\")\n",
    "plt.plot(\n",
    "    np.linspace(0, 0.5, 50), 1 - FL(np.linspace(0, 0.5, 50)), c=\"C3\", label=\"Analytical\"\n",
    ")\n",
    "\n",
    "plt.xlabel(\"$p$\")\n",
    "plt.ylabel(\"$1 - F$\")\n",
    "plt.legend();"
   ]
  },
  {
   "cell_type": "markdown",
   "id": "21bc22f7",
   "metadata": {},
   "source": []
  }
 ],
 "metadata": {
  "kernelspec": {
   "display_name": "envlst",
   "language": "python",
   "name": "envlst"
  },
  "language_info": {
   "codemirror_mode": {
    "name": "ipython",
    "version": 3
   },
   "file_extension": ".py",
   "mimetype": "text/x-python",
   "name": "python",
   "nbconvert_exporter": "python",
   "pygments_lexer": "ipython3",
   "version": "3.7.8"
  }
 },
 "nbformat": 4,
 "nbformat_minor": 5
}
