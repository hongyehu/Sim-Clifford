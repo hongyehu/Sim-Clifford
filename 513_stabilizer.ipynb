{
 "cells": [
  {
   "cell_type": "markdown",
   "id": "8d8d2169",
   "metadata": {},
   "source": [
    "# Logical shadow tomography: $[[5, 1, 3]]$ code example"
   ]
  },
  {
   "cell_type": "markdown",
   "id": "9848c954",
   "metadata": {},
   "source": [
    "## Setup"
   ]
  },
  {
   "cell_type": "code",
   "execution_count": null,
   "id": "b6d83891-7801-4737-ae8c-bbc3a46df087",
   "metadata": {},
   "outputs": [],
   "source": [
    "import matplotlib.pyplot as plt\n",
    "import numpy as np\n",
    "from numba import njit\n",
    "\n",
    "from context import *\n",
    "from convert import *"
   ]
  },
  {
   "cell_type": "code",
   "execution_count": null,
   "id": "46b46a06",
   "metadata": {},
   "outputs": [],
   "source": [
    "plt.rcParams.update({\"font.family\": \"serif\", \"font.size\": 16})"
   ]
  },
  {
   "cell_type": "markdown",
   "id": "dcb852a2",
   "metadata": {},
   "source": [
    "### Helper functions"
   ]
  },
  {
   "cell_type": "code",
   "execution_count": null,
   "id": "2a7033f6-947f-43b0-a63b-9988a9eeaa96",
   "metadata": {},
   "outputs": [],
   "source": [
    "from typing import List, Union\n",
    "\n",
    "\n",
    "@njit\n",
    "def pauli_operation(gs_stb, ps_stb, gs_obs, r):\n",
    "    \"\"\"Apply a Pauli gate(gs_obs) to stabilizer state.\n",
    "\n",
    "    Parameters:\n",
    "    gs_stb: int (2*N, 2*N) - Pauli strings in original stabilizer tableau.\n",
    "    ps_stb: int (N) - phase indicators of (de)stabilizers.\n",
    "    gs_obs: int (L, 2*N) - strings of Pauli gates to apply from 0 to L-1.\n",
    "    r: int - log2 rank of density matrix (num of standby stablizers).\n",
    "\n",
    "    Returns:\n",
    "    gs_stb: int (2*N, 2*N) - Pauli strings in updated stabilizer tableau.\n",
    "    ps_stb: int (N) - phase indicators of (de)stabilizers.\n",
    "    r: int - updated log2 rank of density matrix.\n",
    "    \"\"\"\n",
    "    (L, Ng) = gs_obs.shape\n",
    "    N = Ng // 2\n",
    "    assert 0 <= r <= N\n",
    "    for k in range(L):  # for each observable gs_obs[k]\n",
    "        for j in range(2 * N):\n",
    "            if utils.acq(\n",
    "                gs_stb[j], gs_obs[k]\n",
    "            ):  # find gs_stb[j] anticommute with gs_obs[k]\n",
    "                if (\n",
    "                    r <= j < N\n",
    "                ):  # gs_stb[j] anti-commute with gs_obs[k] gate, flip the sign\n",
    "                    ps_stb[j] = (ps_stb[j] + 2) % 4\n",
    "\n",
    "    return gs_stb, ps_stb, r\n",
    "\n",
    "\n",
    "def stoc_depolarize_map(stab_state, pvalues: Union[float, List[float]]):\n",
    "    if not isinstance(pvalues, list):\n",
    "        pvalues = [pvalues]\n",
    "    if len(pvalues) == 1:\n",
    "        px = py = pz = pvalues[0] / 3\n",
    "    elif len(pvalues) == 3:\n",
    "        px, py, pz = pvalues\n",
    "    else:\n",
    "        raise ValueError(\n",
    "            f\"Arg `pvalues` should have 1 element (for depolarizing noise: p) or \"\n",
    "            f\"3 elements (for asymmetric depolarizing noise: px, py, pz), but \"\n",
    "            f\"`len(pvalues)` was {len(pvalues)}.\"\n",
    "        )\n",
    "\n",
    "    gs_stb = stab_state.gs\n",
    "    ps_stb = stab_state.ps\n",
    "    N = (gs_stb.shape[1]) // 2\n",
    "    r = stab_state.r\n",
    "    # sample uncorrelated X,Y,Z gate\n",
    "    tmp = {0: [0, 0], 1: [1, 0], 2: [1, 1], 3: [0, 1]}\n",
    "    elements = [0, 1, 2, 3]\n",
    "    probabilities = [1 - (px + py + pz), px, py, pz]\n",
    "    sam = np.random.choice(elements, N, p=probabilities)\n",
    "    gs_obs = (np.array([tmp[i] for i in sam]).flatten()).reshape((1, -1))\n",
    "    new_gs, new_ps, new_r = pauli_operation(gs_stb, ps_stb, gs_obs, r)\n",
    "    new_state = stabilizer.StabilizerState(new_gs, new_ps)\n",
    "    new_state.set_r(new_r)\n",
    "    return new_state"
   ]
  },
  {
   "cell_type": "markdown",
   "id": "572b23d8-9c08-4b58-8e85-eb2d9896059c",
   "metadata": {},
   "source": [
    "## Experiment"
   ]
  },
  {
   "cell_type": "code",
   "execution_count": null,
   "id": "cedd19ce",
   "metadata": {},
   "outputs": [],
   "source": [
    "\"\"\"Set experimental parameters.\"\"\"\n",
    "N = 5  # TODO: Get this from the stabilizer code.\n",
    "expr_num = 20\n",
    "channel_sample = 1_000\n",
    "\n",
    "# Depolarizing noise rates.\n",
    "pvalues = np.array([0, 0.05, 0.1, 0.15, 0.2, 0.25, 0.3, 0.35, 0.4, 0.45, 0.5])"
   ]
  },
  {
   "cell_type": "code",
   "execution_count": null,
   "id": "1c66920f-9645-41ec-b7c6-043ecee36513",
   "metadata": {},
   "outputs": [],
   "source": [
    "\"\"\"Run the experiment.\"\"\"\n",
    "fid_list = np.ones_like(pvalues)\n",
    "\n",
    "for (i, p) in enumerate(pvalues):\n",
    "    # Status update.\n",
    "    print(\"Status: On noise rate\", p, end=\"\\r\")\n",
    "\n",
    "    Tr_P_sigma_P_rho = []\n",
    "    Tr_P_sigma_P = []\n",
    "    for _ in range(expr_num):\n",
    "        for _ in range(channel_sample):\n",
    "            # Initial stabilizer state.\n",
    "            state = stabilizer_state(\"ZZZZZ\", \"XZZXI\", \"IXZZX\", \"XIXZZ\", \"ZXIXZ\")\n",
    "            gs0 = state.gs.copy()\n",
    "            ps0 = state.ps.copy()\n",
    "\n",
    "            # Apply single-qubit depolarizing noise.\n",
    "            state = stoc_depolarize_map(state, p)\n",
    "\n",
    "            # Do shadow tomography.\n",
    "            obs = random_clifford_state(5)\n",
    "            state.measure(obs)\n",
    "\n",
    "            gs, ps, _, tmp_PsigmaP = utils.stabilizer_projection_full(\n",
    "                state.gs, state.ps, gs0[: N - 1].copy(), ps0[: N - 1].copy(), 0\n",
    "            )\n",
    "            _, _, _, tmp = utils.stabilizer_projection_full(gs, ps, gs0[:N], ps0[:N], 0)\n",
    "            Tr_P_sigma_P_rho.append(tmp_PsigmaP * tmp)\n",
    "            Tr_P_sigma_P.append(tmp_PsigmaP)\n",
    "\n",
    "    # Compute final fidelity.\n",
    "    fid = ((2 ** N + 1) * np.mean(Tr_P_sigma_P_rho) - 1) / (\n",
    "        np.mean(Tr_P_sigma_P) * (2 ** N + 1) - 2\n",
    "    )\n",
    "    fid_list[i] = fid"
   ]
  },
  {
   "cell_type": "code",
   "execution_count": null,
   "id": "4c13f39f",
   "metadata": {},
   "outputs": [],
   "source": [
    "def FL(p):\n",
    "    N = (8 * p ** 2 - 9 * p + 3) * (2 * p - 3) ** 3\n",
    "    D = 240 * p ** 4 - 720 * p ** 3 + 810 * p ** 2 - 405 * p + 81\n",
    "    return -N / D"
   ]
  },
  {
   "cell_type": "code",
   "execution_count": null,
   "id": "c29cdb22-fe1d-4ee5-af51-c1308103b866",
   "metadata": {},
   "outputs": [],
   "source": [
    "plt.plot(pvalues, 1 - fid_list, \"^\", markersize=8, label=\"LST\")\n",
    "plt.plot(pvalues, 2 * pvalues / 3, \"-.\", c=\"k\", label=\"Physical\")\n",
    "plt.plot(\n",
    "    np.linspace(0, 0.5, 50), 1 - FL(np.linspace(0, 0.5, 50)), c=\"C3\", label=\"Analytical\"\n",
    ")\n",
    "\n",
    "plt.xlabel(\"$p$\")\n",
    "plt.ylabel(\"$1 - F$\")\n",
    "plt.legend();"
   ]
  },
  {
   "cell_type": "markdown",
   "id": "21bc22f7",
   "metadata": {},
   "source": []
  }
 ],
 "metadata": {
  "kernelspec": {
   "display_name": "envlst",
   "language": "python",
   "name": "envlst"
  },
  "language_info": {
   "codemirror_mode": {
    "name": "ipython",
    "version": 3
   },
   "file_extension": ".py",
   "mimetype": "text/x-python",
   "name": "python",
   "nbconvert_exporter": "python",
   "pygments_lexer": "ipython3",
   "version": "3.7.8"
  }
 },
 "nbformat": 4,
 "nbformat_minor": 5
}
